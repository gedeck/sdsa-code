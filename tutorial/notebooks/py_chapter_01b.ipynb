{
 "cells": [
  {
   "cell_type": "markdown",
   "id": "2e333ec7",
   "metadata": {},
   "source": [
    "# Chapter py_01b \n",
    " Statistics for Data Science and Analytics<br>\n",
    "by Peter C. Bruce, Peter Gedeck, Janet F. Dobbins\n",
    "\n",
    "Publisher: Wiley; 1st edition (2024) <br>\n",
    "<!-- ISBN-13: 978-3031075650 -->\n",
    "\n",
    "(c) 2024 Peter C. Bruce, Peter Gedeck, Janet F. Dobbins\n",
    "\n",
    "The code needs to be executed in sequence.\n",
    "\n",
    "Python packages and Python itself change over time. This can cause warnings or errors. We\n",
    "\"Warnings\" are for information only and can usually be ignored. \n",
    "\"Errors\" will stop execution and need to be fixed in order to get results. \n",
    "\n",
    "If you come across an issue with the code, please follow these steps\n",
    "\n",
    "- Check the repository (https://gedeck.github.io/sdsa-code-solutions/) to see if the code has been upgraded. This might solve the problem.\n",
    "- Report the problem using the issue tracker at https://github.com/gedeck/sdsa-code-solutions/issues\n",
    "- Paste the error message into Google and see if someone else already found a solution"
   ]
  },
  {
   "cell_type": "markdown",
   "id": "ba11b5c9",
   "metadata": {},
   "source": [
    "# Python: Data structures and operations"
   ]
  },
  {
   "cell_type": "markdown",
   "id": "0c4cffbc",
   "metadata": {},
   "source": [
    " Checking the data type of a value"
   ]
  },
  {
   "cell_type": "code",
   "execution_count": 1,
   "id": "7be58dd2",
   "metadata": {
    "execution": {
     "iopub.execute_input": "2023-08-05T14:30:37.694263Z",
     "iopub.status.busy": "2023-08-05T14:30:37.693530Z",
     "iopub.status.idle": "2023-08-05T14:30:37.697156Z",
     "shell.execute_reply": "2023-08-05T14:30:37.697636Z"
    }
   },
   "outputs": [
    {
     "name": "stdout",
     "output_type": "stream",
     "text": [
      "<class 'float'>\n",
      "<class 'str'>\n",
      "<class 'bool'>\n"
     ]
    }
   ],
   "source": [
    "print(type(3.14))     # <class 'float'>\n",
    "\n",
    "print(type(\"Python\")) # <class 'str'>\n",
    "\n",
    "print(type(True))     # <class 'bool'>\n"
   ]
  },
  {
   "cell_type": "code",
   "execution_count": 2,
   "id": "b974996d",
   "metadata": {
    "execution": {
     "iopub.execute_input": "2023-08-05T14:30:37.701828Z",
     "iopub.status.busy": "2023-08-05T14:30:37.701091Z",
     "iopub.status.idle": "2023-08-05T14:30:37.703506Z",
     "shell.execute_reply": "2023-08-05T14:30:37.703983Z"
    }
   },
   "outputs": [],
   "source": [
    "pi_value = 3.14\n",
    "\n",
    "message = \"Python\"\n",
    "\n",
    "is_raining = True\n"
   ]
  },
  {
   "cell_type": "code",
   "execution_count": 3,
   "id": "37b13218",
   "metadata": {
    "execution": {
     "iopub.execute_input": "2023-08-05T14:30:37.708132Z",
     "iopub.status.busy": "2023-08-05T14:30:37.707370Z",
     "iopub.status.idle": "2023-08-05T14:30:37.709910Z",
     "shell.execute_reply": "2023-08-05T14:30:37.710386Z"
    }
   },
   "outputs": [
    {
     "name": "stdout",
     "output_type": "stream",
     "text": [
      "3.14\n"
     ]
    }
   ],
   "source": [
    "print(pi_value)     # output: 3.14\n"
   ]
  },
  {
   "cell_type": "code",
   "execution_count": 4,
   "id": "389c342b",
   "metadata": {
    "execution": {
     "iopub.execute_input": "2023-08-05T14:30:37.714535Z",
     "iopub.status.busy": "2023-08-05T14:30:37.713864Z",
     "iopub.status.idle": "2023-08-05T14:30:37.716082Z",
     "shell.execute_reply": "2023-08-05T14:30:37.716569Z"
    }
   },
   "outputs": [],
   "source": [
    "pi_value = 3.14        # value is 3.14\n",
    "\n",
    "pi_value = 3.14159     # value is now 3.14159\n",
    "\n",
    "two_pi = 2 * pi_value  # value of two_pi is now 6.28318\n"
   ]
  },
  {
   "cell_type": "code",
   "execution_count": 5,
   "id": "faa63145",
   "metadata": {
    "execution": {
     "iopub.execute_input": "2023-08-05T14:30:37.721356Z",
     "iopub.status.busy": "2023-08-05T14:30:37.720775Z",
     "iopub.status.idle": "2023-08-05T14:30:37.722777Z",
     "shell.execute_reply": "2023-08-05T14:30:37.723209Z"
    }
   },
   "outputs": [
    {
     "name": "stdout",
     "output_type": "stream",
     "text": [
      "5\n",
      "-1.0\n",
      "9.0\n",
      "8\n",
      "3.0\n",
      "2\n",
      "2.0\n"
     ]
    }
   ],
   "source": [
    "print(2 + 3)             # output: 5\n",
    "\n",
    "print(2.0 - 3)           # output: -1.0\n",
    "\n",
    "print(10 * 3 / 6 + 4)    # output: 9.0\n",
    "\n",
    "print(2 ** 3)            # output: 8 (2 to the power of 3)\n",
    "\n",
    "print(10 * 3 / (6 + 4))  # output: 3.0\n",
    "\n",
    "\n",
    "\n",
    "# Modulus operator returns the remainder of the division\n",
    "\n",
    "print(2 % 3)             # output: 2\n",
    "\n",
    "print(2.0 % 3)           # output: 2.0\n"
   ]
  },
  {
   "cell_type": "code",
   "execution_count": 6,
   "id": "77549246",
   "metadata": {
    "execution": {
     "iopub.execute_input": "2023-08-05T14:30:37.726625Z",
     "iopub.status.busy": "2023-08-05T14:30:37.726065Z",
     "iopub.status.idle": "2023-08-05T14:30:37.728582Z",
     "shell.execute_reply": "2023-08-05T14:30:37.728151Z"
    }
   },
   "outputs": [
    {
     "name": "stdout",
     "output_type": "stream",
     "text": [
      "Hello, World!\n",
      "Python Python Python \n"
     ]
    }
   ],
   "source": [
    "print(\"Hello, \" + \"World!\")  # output: Hello, World!\n",
    "\n",
    "print(\"Python \" * 3)         # output: Python Python Python\n"
   ]
  },
  {
   "cell_type": "code",
   "execution_count": 7,
   "id": "e81897aa",
   "metadata": {
    "execution": {
     "iopub.execute_input": "2023-08-05T14:30:37.732136Z",
     "iopub.status.busy": "2023-08-05T14:30:37.731556Z",
     "iopub.status.idle": "2023-08-05T14:30:37.733508Z",
     "shell.execute_reply": "2023-08-05T14:30:37.733976Z"
    }
   },
   "outputs": [
    {
     "name": "stdout",
     "output_type": "stream",
     "text": [
      "P\n",
      "Py\n",
      "thon\n"
     ]
    }
   ],
   "source": [
    "message = \"Python\"\n",
    "\n",
    "print(message[0])     # output: P\n",
    "\n",
    "print(message[0:2])   # output: Py\n",
    "\n",
    "print(message[2:])    # output: thon\n"
   ]
  },
  {
   "cell_type": "code",
   "execution_count": 8,
   "id": "158c738f",
   "metadata": {
    "execution": {
     "iopub.execute_input": "2023-08-05T14:30:37.737813Z",
     "iopub.status.busy": "2023-08-05T14:30:37.737184Z",
     "iopub.status.idle": "2023-08-05T14:30:37.739221Z",
     "shell.execute_reply": "2023-08-05T14:30:37.739695Z"
    }
   },
   "outputs": [
    {
     "name": "stdout",
     "output_type": "stream",
     "text": [
      "Hello, Python!\n",
      "HELLO, WORLD!\n",
      "hello, world!\n",
      "['Hello', ' World!']\n"
     ]
    }
   ],
   "source": [
    "message = \"Hello, World!\"\n",
    "\n",
    "print(message.replace(\"World\", \"Python\"))  # output: Hello, Python!\n",
    "\n",
    "print(message.upper())                     # output: HELLO, WORLD!\n",
    "\n",
    "print(message.lower())                     # output: hello, world!\n",
    "\n",
    "print(message.split(\",\"))                  # output: ['Hello', ' World!']\n"
   ]
  },
  {
   "cell_type": "code",
   "execution_count": 9,
   "id": "7313d632",
   "metadata": {
    "execution": {
     "iopub.execute_input": "2023-08-05T14:30:37.743827Z",
     "iopub.status.busy": "2023-08-05T14:30:37.743182Z",
     "iopub.status.idle": "2023-08-05T14:30:37.745307Z",
     "shell.execute_reply": "2023-08-05T14:30:37.745699Z"
    }
   },
   "outputs": [
    {
     "name": "stdout",
     "output_type": "stream",
     "text": [
      "7\n",
      "0\n"
     ]
    }
   ],
   "source": [
    "list1 = [0, 1, 2, 3, 4, 5, 6]\n",
    "\n",
    "list2 = []\n",
    "\n",
    "print(len(list1))  # output: 7\n",
    "\n",
    "print(len(list2))  # output: 0\n"
   ]
  },
  {
   "cell_type": "code",
   "execution_count": 10,
   "id": "beaf3960",
   "metadata": {
    "execution": {
     "iopub.execute_input": "2023-08-05T14:30:37.749367Z",
     "iopub.status.busy": "2023-08-05T14:30:37.748807Z",
     "iopub.status.idle": "2023-08-05T14:30:37.751144Z",
     "shell.execute_reply": "2023-08-05T14:30:37.750776Z"
    }
   },
   "outputs": [
    {
     "name": "stdout",
     "output_type": "stream",
     "text": [
      "0\n",
      "1\n",
      "6\n",
      "5\n"
     ]
    }
   ],
   "source": [
    "print(list1[0]) # output: 0\n",
    "\n",
    "print(list1[1]) # output: 1\n",
    "\n",
    "print(list1[-1]) # output: 6\n",
    "\n",
    "print(list1[-2]) # output: 5\n"
   ]
  },
  {
   "cell_type": "code",
   "execution_count": 11,
   "id": "68a596db",
   "metadata": {
    "execution": {
     "iopub.execute_input": "2023-08-05T14:30:37.754565Z",
     "iopub.status.busy": "2023-08-05T14:30:37.754018Z",
     "iopub.status.idle": "2023-08-05T14:30:37.756080Z",
     "shell.execute_reply": "2023-08-05T14:30:37.756463Z"
    }
   },
   "outputs": [
    {
     "name": "stdout",
     "output_type": "stream",
     "text": [
      "[1, 2]\n",
      "[2, 3, 4, 5, 6]\n",
      "[0, 1, 2]\n"
     ]
    }
   ],
   "source": [
    "print(list1[1:3]) # output: [1, 2]\n",
    "\n",
    "print(list1[2:])  # output: [2, 3, 4, 5, 6]\n",
    "\n",
    "print(list1[:3])  # output: [0, 1, 2]\n"
   ]
  },
  {
   "cell_type": "code",
   "execution_count": 12,
   "id": "97e3e226",
   "metadata": {
    "execution": {
     "iopub.execute_input": "2023-08-05T14:30:37.760532Z",
     "iopub.status.busy": "2023-08-05T14:30:37.759948Z",
     "iopub.status.idle": "2023-08-05T14:30:37.761943Z",
     "shell.execute_reply": "2023-08-05T14:30:37.762333Z"
    }
   },
   "outputs": [
    {
     "name": "stdout",
     "output_type": "stream",
     "text": [
      "[10, 1, 2, 3, 4, 5, 6]\n",
      "[10, 1, 2, 3, 4, 5, 6, 7]\n",
      "[10, 1, 2, 11, 3, 4, 5, 6, 7]\n",
      "[1, 2, 11, 3, 4, 5, 6, 7]\n",
      "[1, 2, 3, 4, 5, 6, 7]\n"
     ]
    }
   ],
   "source": [
    "list1[0] = 10\n",
    "\n",
    "print(list1)        # output: [10, 1, 2, 3, 4, 5, 6]\n",
    "\n",
    "list1.append(7)\n",
    "\n",
    "print(list1)        # output: [10, 1, 2, 3, 4, 5, 6, 7]\n",
    "\n",
    "list1.insert(3, 11) # insert 11 at index 3\n",
    "\n",
    "print(list1)        # output: [10, 1, 2, 11, 3, 4, 5, 6, 7]\n",
    "\n",
    "list1.remove(10)    # remove first occurence of 10 from the list\n",
    "\n",
    "print(list1)        # output: [1, 2, 11, 3, 4, 5, 6, 7]\n",
    "\n",
    "list1.pop(2)        # remove element at index 2\n",
    "\n",
    "print(list1)        # output: [1, 2, 3, 4, 5, 6, 7]\n"
   ]
  }
 ],
 "metadata": {
  "language_info": {
   "codemirror_mode": {
    "name": "ipython",
    "version": 3
   },
   "file_extension": ".py",
   "mimetype": "text/x-python",
   "name": "python",
   "nbconvert_exporter": "python",
   "pygments_lexer": "ipython3",
   "version": "3.8.2"
  }
 },
 "nbformat": 4,
 "nbformat_minor": 5
}
