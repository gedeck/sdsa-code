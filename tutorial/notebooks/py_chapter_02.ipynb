{
 "cells": [
  {
   "cell_type": "markdown",
   "id": "73bdc56d",
   "metadata": {},
   "source": [
    "# Chapter py_02 \n",
    " Statistics for Data Science and Analytics<br>\n",
    "by Peter C. Bruce, Peter Gedeck, Janet F. Dobbins\n",
    "\n",
    "Publisher: Wiley; 1st edition (2024) <br>\n",
    "<!-- ISBN-13: 978-3031075650 -->\n",
    "\n",
    "(c) 2024 Peter C. Bruce, Peter Gedeck, Janet F. Dobbins\n",
    "\n",
    "The code needs to be executed in sequence.\n",
    "\n",
    "Python packages and Python itself change over time. This can cause warnings or errors. We\n",
    "\"Warnings\" are for information only and can usually be ignored. \n",
    "\"Errors\" will stop execution and need to be fixed in order to get results. \n",
    "\n",
    "If you come across an issue with the code, please follow these steps\n",
    "\n",
    "- Check the repository (https://gedeck.github.io/sdsa-code-solutions/) to see if the code has been upgraded. This might solve the problem.\n",
    "- Report the problem using the issue tracker at https://github.com/gedeck/sdsa-code-solutions/issues\n",
    "- Paste the error message into Google and see if someone else already found a solution"
   ]
  },
  {
   "cell_type": "code",
   "execution_count": 2,
   "id": "fe57972b",
   "metadata": {
    "execution": {
     "iopub.execute_input": "2023-09-02T18:27:12.824138Z",
     "iopub.status.busy": "2023-09-02T18:27:12.823379Z",
     "iopub.status.idle": "2023-09-02T18:27:12.826036Z",
     "shell.execute_reply": "2023-09-02T18:27:12.826355Z"
    }
   },
   "outputs": [
    {
     "name": "stdout",
     "output_type": "stream",
     "text": [
      "x is positive\n"
     ]
    }
   ],
   "source": [
    "x = 123\n",
    "if x < 0:\n",
    "    print('x is negative')\n",
    "elif x == 0:\n",
    "    print('x is zero')\n",
    "else:\n",
    "    print('x is positive')"
   ]
  },
  {
   "cell_type": "code",
   "execution_count": 3,
   "id": "910860eb",
   "metadata": {
    "execution": {
     "iopub.execute_input": "2023-09-02T18:27:12.829927Z",
     "iopub.status.busy": "2023-09-02T18:27:12.829397Z",
     "iopub.status.idle": "2023-09-02T18:27:12.831758Z",
     "shell.execute_reply": "2023-09-02T18:27:12.832083Z"
    }
   },
   "outputs": [
    {
     "name": "stdout",
     "output_type": "stream",
     "text": [
      "1\n",
      "2\n",
      "3\n",
      "4\n",
      "5\n"
     ]
    }
   ],
   "source": [
    "for x in [1, 2, 3, 4, 5]:\n",
    "    print(x)"
   ]
  },
  {
   "cell_type": "code",
   "execution_count": 4,
   "id": "e8fd0e61",
   "metadata": {
    "execution": {
     "iopub.execute_input": "2023-09-02T18:27:12.835209Z",
     "iopub.status.busy": "2023-09-02T18:27:12.834701Z",
     "iopub.status.idle": "2023-09-02T18:27:12.836755Z",
     "shell.execute_reply": "2023-09-02T18:27:12.837122Z"
    }
   },
   "outputs": [
    {
     "name": "stdout",
     "output_type": "stream",
     "text": [
      "1\n",
      "2\n",
      "3\n",
      "4\n",
      "5\n"
     ]
    }
   ],
   "source": [
    "x = 1\n",
    "while x <= 5:\n",
    "    print(x)\n",
    "    x += 1"
   ]
  },
  {
   "cell_type": "code",
   "execution_count": 5,
   "id": "a7d691bd",
   "metadata": {
    "execution": {
     "iopub.execute_input": "2023-09-02T18:27:12.840343Z",
     "iopub.status.busy": "2023-09-02T18:27:12.839832Z",
     "iopub.status.idle": "2023-09-02T18:27:12.841980Z",
     "shell.execute_reply": "2023-09-02T18:27:12.842310Z"
    }
   },
   "outputs": [
    {
     "name": "stdout",
     "output_type": "stream",
     "text": [
      "1\n",
      "2\n"
     ]
    }
   ],
   "source": [
    "for x in [1, 2, 3, 4, 5]:\n",
    "    if x == 3:\n",
    "        break\n",
    "    print(x)"
   ]
  },
  {
   "cell_type": "code",
   "execution_count": 6,
   "id": "45396c07",
   "metadata": {
    "execution": {
     "iopub.execute_input": "2023-09-02T18:27:12.845388Z",
     "iopub.status.busy": "2023-09-02T18:27:12.844915Z",
     "iopub.status.idle": "2023-09-02T18:27:12.846823Z",
     "shell.execute_reply": "2023-09-02T18:27:12.847149Z"
    }
   },
   "outputs": [
    {
     "name": "stdout",
     "output_type": "stream",
     "text": [
      "1\n",
      "3\n",
      "5\n",
      "7\n",
      "9\n"
     ]
    }
   ],
   "source": [
    "for x in range(1, 11):\n",
    "    if x % 2 == 0:\n",
    "        continue\n",
    "    print(x)"
   ]
  },
  {
   "cell_type": "code",
   "execution_count": 7,
   "id": "c412bff6",
   "metadata": {
    "execution": {
     "iopub.execute_input": "2023-09-02T18:27:12.850371Z",
     "iopub.status.busy": "2023-09-02T18:27:12.849892Z",
     "iopub.status.idle": "2023-09-02T18:27:12.851652Z",
     "shell.execute_reply": "2023-09-02T18:27:12.852043Z"
    }
   },
   "outputs": [
    {
     "name": "stdout",
     "output_type": "stream",
     "text": [
      "Mean: 10.5\n"
     ]
    }
   ],
   "source": [
    "numbers = [12, 8, 9, 10, 11, 13, 9, 11, 10, 12]\n",
    "sum_of_numbers = 0\n",
    "for x in numbers:\n",
    "    sum_of_numbers += x\n",
    "mean = sum_of_numbers / len(numbers)\n",
    "print(f'Mean: {mean}')"
   ]
  },
  {
   "cell_type": "code",
   "execution_count": 8,
   "id": "36f7706e",
   "metadata": {
    "execution": {
     "iopub.execute_input": "2023-09-02T18:27:12.855249Z",
     "iopub.status.busy": "2023-09-02T18:27:12.854771Z",
     "iopub.status.idle": "2023-09-02T18:27:12.856515Z",
     "shell.execute_reply": "2023-09-02T18:27:12.856985Z"
    }
   },
   "outputs": [
    {
     "name": "stdout",
     "output_type": "stream",
     "text": [
      "Variance: 2.25\n",
      "Standard deviation: 1.5\n"
     ]
    }
   ],
   "source": [
    "variance = 0\n",
    "for x in numbers:\n",
    "    variance += (x - mean) ** 2\n",
    "variance /= len(numbers)\n",
    "sd = variance ** 0.5\n",
    "print(f'Variance: {variance}')\n",
    "print(f'Standard deviation: {sd}')"
   ]
  },
  {
   "cell_type": "code",
   "execution_count": 9,
   "id": "cef5f0e0",
   "metadata": {
    "execution": {
     "iopub.execute_input": "2023-09-02T18:27:12.859958Z",
     "iopub.status.busy": "2023-09-02T18:27:12.859468Z",
     "iopub.status.idle": "2023-09-02T18:27:12.861296Z",
     "shell.execute_reply": "2023-09-02T18:27:12.861688Z"
    }
   },
   "outputs": [
    {
     "name": "stdout",
     "output_type": "stream",
     "text": [
      "Numbers greater than mean: [12, 11, 13, 11, 12]\n"
     ]
    }
   ],
   "source": [
    "greater_than_mean = []\n",
    "for x in numbers:\n",
    "    if x > mean:\n",
    "        greater_than_mean.append(x)\n",
    "print(f'Numbers greater than mean: {greater_than_mean}')"
   ]
  },
  {
   "cell_type": "code",
   "execution_count": 10,
   "id": "f38a8d99",
   "metadata": {
    "execution": {
     "iopub.execute_input": "2023-09-02T18:27:12.864804Z",
     "iopub.status.busy": "2023-09-02T18:27:12.864330Z",
     "iopub.status.idle": "2023-09-02T18:27:12.866142Z",
     "shell.execute_reply": "2023-09-02T18:27:12.866637Z"
    }
   },
   "outputs": [
    {
     "name": "stdout",
     "output_type": "stream",
     "text": [
      "Variance: 2.25, standard deviation: 1.5\n"
     ]
    }
   ],
   "source": [
    "squared_differences = [(x - mean) ** 2 for x in numbers]\n",
    "variance = sum(squared_differences) / len(numbers)\n",
    "print(f'Variance: {variance}, standard deviation: {variance ** 0.5}')"
   ]
  },
  {
   "cell_type": "code",
   "execution_count": 11,
   "id": "a6c39b5f",
   "metadata": {
    "execution": {
     "iopub.execute_input": "2023-09-02T18:27:12.869459Z",
     "iopub.status.busy": "2023-09-02T18:27:12.868988Z",
     "iopub.status.idle": "2023-09-02T18:27:12.871109Z",
     "shell.execute_reply": "2023-09-02T18:27:12.871585Z"
    }
   },
   "outputs": [],
   "source": [
    "variance = sum((x - mean) ** 2 for x in numbers) / len(numbers)"
   ]
  },
  {
   "cell_type": "code",
   "execution_count": 12,
   "id": "675e374a",
   "metadata": {
    "execution": {
     "iopub.execute_input": "2023-09-02T18:27:12.874553Z",
     "iopub.status.busy": "2023-09-02T18:27:12.874073Z",
     "iopub.status.idle": "2023-09-02T18:27:12.875652Z",
     "shell.execute_reply": "2023-09-02T18:27:12.876122Z"
    }
   },
   "outputs": [],
   "source": [
    "greater_than_mean = [x for x in numbers if x > mean]"
   ]
  }
 ],
 "metadata": {
  "language_info": {
   "codemirror_mode": {
    "name": "ipython",
    "version": 3
   },
   "file_extension": ".py",
   "mimetype": "text/x-python",
   "name": "python",
   "nbconvert_exporter": "python",
   "pygments_lexer": "ipython3",
   "version": "3.8.2"
  }
 },
 "nbformat": 4,
 "nbformat_minor": 5
}
