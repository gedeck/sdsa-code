{
 "cells": [
  {
   "cell_type": "markdown",
   "id": "8f72173f",
   "metadata": {},
   "source": [
    "# Chapter py_01 \n",
    " Statistics for Data Science and Analytics<br>\n",
    "by Peter C. Bruce, Peter Gedeck, Janet F. Dobbins\n",
    "\n",
    "Publisher: Wiley; 1st edition (2024) <br>\n",
    "<!-- ISBN-13: 978-3031075650 -->\n",
    "\n",
    "(c) 2024 Peter C. Bruce, Peter Gedeck, Janet F. Dobbins\n",
    "\n",
    "The code needs to be executed in sequence.\n",
    "\n",
    "Python packages and Python itself change over time. This can cause warnings or errors. We\n",
    "\"Warnings\" are for information only and can usually be ignored. \n",
    "\"Errors\" will stop execution and need to be fixed in order to get results. \n",
    "\n",
    "If you come across an issue with the code, please follow these steps\n",
    "\n",
    "- Check the repository (https://gedeck.github.io/sdsa-code-solutions/) to see if the code has been upgraded. This might solve the problem.\n",
    "- Report the problem using the issue tracker at https://github.com/gedeck/sdsa-code-solutions/issues\n",
    "- Paste the error message into Google and see if someone else already found a solution"
   ]
  },
  {
   "cell_type": "markdown",
   "id": "36624db1",
   "metadata": {},
   "source": [
    "# Python: Data structures and operations"
   ]
  },
  {
   "cell_type": "markdown",
   "id": "208bf3df",
   "metadata": {},
   "source": [
    " Checking the data type of a value"
   ]
  },
  {
   "cell_type": "code",
   "execution_count": 1,
   "id": "fd67d684",
   "metadata": {
    "execution": {
     "iopub.execute_input": "2023-07-24T14:03:22.288878Z",
     "iopub.status.busy": "2023-07-24T14:03:22.288135Z",
     "iopub.status.idle": "2023-07-24T14:03:22.292096Z",
     "shell.execute_reply": "2023-07-24T14:03:22.292592Z"
    }
   },
   "outputs": [
    {
     "name": "stdout",
     "output_type": "stream",
     "text": [
      "<class 'float'>\n",
      "<class 'str'>\n",
      "<class 'bool'>\n"
     ]
    }
   ],
   "source": [
    "print(type(3.14))     # <class 'float'>\n",
    "print(type(\"Python\")) # <class 'str'>\n",
    "print(type(True))     # <class 'bool'>"
   ]
  },
  {
   "cell_type": "code",
   "execution_count": 2,
   "id": "d627a8f7",
   "metadata": {
    "execution": {
     "iopub.execute_input": "2023-07-24T14:03:22.296639Z",
     "iopub.status.busy": "2023-07-24T14:03:22.295964Z",
     "iopub.status.idle": "2023-07-24T14:03:22.298307Z",
     "shell.execute_reply": "2023-07-24T14:03:22.298730Z"
    }
   },
   "outputs": [],
   "source": [
    "pi_value = 3.14\n",
    "message = \"Python\"\n",
    "is_raining = True"
   ]
  },
  {
   "cell_type": "code",
   "execution_count": 3,
   "id": "dc81194a",
   "metadata": {
    "execution": {
     "iopub.execute_input": "2023-07-24T14:03:22.302427Z",
     "iopub.status.busy": "2023-07-24T14:03:22.301777Z",
     "iopub.status.idle": "2023-07-24T14:03:22.303968Z",
     "shell.execute_reply": "2023-07-24T14:03:22.304430Z"
    }
   },
   "outputs": [
    {
     "name": "stdout",
     "output_type": "stream",
     "text": [
      "3.14\n"
     ]
    }
   ],
   "source": [
    "print(pi_value)     # output: 3.14"
   ]
  },
  {
   "cell_type": "code",
   "execution_count": 4,
   "id": "a4598134",
   "metadata": {
    "execution": {
     "iopub.execute_input": "2023-07-24T14:03:22.307762Z",
     "iopub.status.busy": "2023-07-24T14:03:22.307130Z",
     "iopub.status.idle": "2023-07-24T14:03:22.309042Z",
     "shell.execute_reply": "2023-07-24T14:03:22.309452Z"
    }
   },
   "outputs": [],
   "source": [
    "pi_value = 3.14        # value is 3.14\n",
    "pi_value = 3.14159     # value is now 3.14159\n",
    "two_pi = 2 * pi_value  # value of two_pi is now 6.28318"
   ]
  },
  {
   "cell_type": "code",
   "execution_count": 5,
   "id": "030ee0bb",
   "metadata": {
    "execution": {
     "iopub.execute_input": "2023-07-24T14:03:22.313460Z",
     "iopub.status.busy": "2023-07-24T14:03:22.312901Z",
     "iopub.status.idle": "2023-07-24T14:03:22.314912Z",
     "shell.execute_reply": "2023-07-24T14:03:22.315439Z"
    }
   },
   "outputs": [
    {
     "name": "stdout",
     "output_type": "stream",
     "text": [
      "5\n",
      "-1.0\n",
      "9.0\n",
      "8\n",
      "3.0\n",
      "2\n",
      "2.0\n"
     ]
    }
   ],
   "source": [
    "print(2 + 3)             # output: 5\n",
    "print(2.0 - 3)           # output: -1.0\n",
    "print(10 * 3 / 6 + 4)    # output: 9.0\n",
    "print(2 ** 3)            # output: 8 (2 to the power of 3)\n",
    "print(10 * 3 / (6 + 4))  # output: 3.0\n",
    "\n",
    "# Modulus operator returns the remainder of the division\n",
    "print(2 % 3)             # output: 2\n",
    "print(2.0 % 3)           # output: 2.0"
   ]
  },
  {
   "cell_type": "code",
   "execution_count": 6,
   "id": "fed00179",
   "metadata": {
    "execution": {
     "iopub.execute_input": "2023-07-24T14:03:22.318549Z",
     "iopub.status.busy": "2023-07-24T14:03:22.317928Z",
     "iopub.status.idle": "2023-07-24T14:03:22.320638Z",
     "shell.execute_reply": "2023-07-24T14:03:22.320224Z"
    }
   },
   "outputs": [
    {
     "name": "stdout",
     "output_type": "stream",
     "text": [
      "Hello, World!\n",
      "Python Python Python \n"
     ]
    }
   ],
   "source": [
    "print(\"Hello, \" + \"World!\")  # output: Hello, World!\n",
    "print(\"Python \" * 3)         # output: Python Python Python"
   ]
  },
  {
   "cell_type": "code",
   "execution_count": 7,
   "id": "cd809c12",
   "metadata": {
    "execution": {
     "iopub.execute_input": "2023-07-24T14:03:22.324256Z",
     "iopub.status.busy": "2023-07-24T14:03:22.323637Z",
     "iopub.status.idle": "2023-07-24T14:03:22.325834Z",
     "shell.execute_reply": "2023-07-24T14:03:22.326302Z"
    }
   },
   "outputs": [
    {
     "name": "stdout",
     "output_type": "stream",
     "text": [
      "P\n",
      "Py\n",
      "thon\n"
     ]
    }
   ],
   "source": [
    "message = \"Python\"\n",
    "print(message[0])     # output: P\n",
    "print(message[0:2])   # output: Py\n",
    "print(message[2:])    # output: thon"
   ]
  },
  {
   "cell_type": "code",
   "execution_count": 8,
   "id": "73d70ab1",
   "metadata": {
    "execution": {
     "iopub.execute_input": "2023-07-24T14:03:22.330031Z",
     "iopub.status.busy": "2023-07-24T14:03:22.329473Z",
     "iopub.status.idle": "2023-07-24T14:03:22.331660Z",
     "shell.execute_reply": "2023-07-24T14:03:22.332060Z"
    }
   },
   "outputs": [
    {
     "name": "stdout",
     "output_type": "stream",
     "text": [
      "Hello, Python!\n",
      "HELLO, WORLD!\n",
      "hello, world!\n",
      "['Hello', ' World!']\n"
     ]
    }
   ],
   "source": [
    "message = \"Hello, World!\"\n",
    "print(message.replace(\"World\", \"Python\"))  # output: Hello, Python!\n",
    "print(message.upper())                     # output: HELLO, WORLD!\n",
    "print(message.lower())                     # output: hello, world!\n",
    "print(message.split(\",\"))                  # output: ['Hello', ' World!']"
   ]
  }
 ],
 "metadata": {
  "language_info": {
   "codemirror_mode": {
    "name": "ipython",
    "version": 3
   },
   "file_extension": ".py",
   "mimetype": "text/x-python",
   "name": "python",
   "nbconvert_exporter": "python",
   "pygments_lexer": "ipython3",
   "version": "3.8.2"
  }
 },
 "nbformat": 4,
 "nbformat_minor": 5
}
