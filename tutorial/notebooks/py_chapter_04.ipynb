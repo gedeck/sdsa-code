{
 "cells": [
  {
   "cell_type": "markdown",
   "id": "6602fbef",
   "metadata": {},
   "source": [
    "# Chapter py_04 \n",
    " Statistics for Data Science and Analytics<br>\n",
    "by Peter C. Bruce, Peter Gedeck, Janet F. Dobbins\n",
    "\n",
    "Publisher: Wiley; 1st edition (2024) <br>\n",
    "<!-- ISBN-13: 978-3031075650 -->\n",
    "\n",
    "(c) 2024 Peter C. Bruce, Peter Gedeck, Janet F. Dobbins\n",
    "\n",
    "The code needs to be executed in sequence.\n",
    "\n",
    "Python packages and Python itself change over time. This can cause warnings or errors. We\n",
    "\"Warnings\" are for information only and can usually be ignored. \n",
    "\"Errors\" will stop execution and need to be fixed in order to get results. \n",
    "\n",
    "If you come across an issue with the code, please follow these steps\n",
    "\n",
    "- Check the repository (https://gedeck.github.io/sdsa-code-solutions/) to see if the code has been upgraded. This might solve the problem.\n",
    "- Report the problem using the issue tracker at https://github.com/gedeck/sdsa-code-solutions/issues\n",
    "- Paste the error message into Google and see if someone else already found a solution"
   ]
  },
  {
   "cell_type": "markdown",
   "id": "bf9e9f02",
   "metadata": {},
   "source": [
    "# Python: Random numbers"
   ]
  },
  {
   "cell_type": "code",
   "execution_count": 2,
   "id": "500e1f18",
   "metadata": {
    "execution": {
     "iopub.execute_input": "2023-07-26T14:34:09.147642Z",
     "iopub.status.busy": "2023-07-26T14:34:09.147154Z",
     "iopub.status.idle": "2023-07-26T14:34:09.148900Z",
     "shell.execute_reply": "2023-07-26T14:34:09.149307Z"
    }
   },
   "outputs": [],
   "source": [
    "# set the seed to ensure a different outcome\n",
    "import random\n",
    "random.seed()"
   ]
  },
  {
   "cell_type": "markdown",
   "id": "7e529bb1",
   "metadata": {},
   "source": [
    "## Generating random numbers using the `random` package"
   ]
  },
  {
   "cell_type": "markdown",
   "id": "824088fc",
   "metadata": {},
   "source": [
    " generate a random number between 0 and 1"
   ]
  },
  {
   "cell_type": "code",
   "execution_count": 3,
   "id": "54495858",
   "metadata": {
    "execution": {
     "iopub.execute_input": "2023-07-26T14:34:09.152479Z",
     "iopub.status.busy": "2023-07-26T14:34:09.151934Z",
     "iopub.status.idle": "2023-07-26T14:34:09.154391Z",
     "shell.execute_reply": "2023-07-26T14:34:09.154725Z"
    }
   },
   "outputs": [
    {
     "name": "stdout",
     "output_type": "stream",
     "text": [
      "0.11998033830197785 0.23967005420940946\n"
     ]
    }
   ],
   "source": [
    "import random\n",
    "print(random.random(), random.random())"
   ]
  },
  {
   "cell_type": "markdown",
   "id": "b6849020",
   "metadata": {},
   "source": [
    " set a random seed to ensure that the same sequence is generated each time"
   ]
  },
  {
   "cell_type": "code",
   "execution_count": 4,
   "id": "9f0181cf",
   "metadata": {
    "execution": {
     "iopub.execute_input": "2023-07-26T14:34:09.158272Z",
     "iopub.status.busy": "2023-07-26T14:34:09.157659Z",
     "iopub.status.idle": "2023-07-26T14:34:09.159495Z",
     "shell.execute_reply": "2023-07-26T14:34:09.159817Z"
    }
   },
   "outputs": [
    {
     "name": "stdout",
     "output_type": "stream",
     "text": [
      "0.052363598850944326 0.08718667752263232\n",
      "0.052363598850944326 0.08718667752263232\n"
     ]
    }
   ],
   "source": [
    "random.seed(123)\n",
    "print(random.random(), random.random())\n",
    "random.seed(123)\n",
    "print(random.random(), random.random())"
   ]
  },
  {
   "cell_type": "code",
   "execution_count": 5,
   "id": "a012ea15",
   "metadata": {
    "execution": {
     "iopub.execute_input": "2023-07-26T14:34:09.163040Z",
     "iopub.status.busy": "2023-07-26T14:34:09.162565Z",
     "iopub.status.idle": "2023-07-26T14:34:09.164498Z",
     "shell.execute_reply": "2023-07-26T14:34:09.164818Z"
    }
   },
   "outputs": [
    {
     "name": "stdout",
     "output_type": "stream",
     "text": [
      "6\n",
      "4\n",
      "0\n"
     ]
    }
   ],
   "source": [
    "print(random.randrange(0, 10, 2)) # 6 - output from 2, 4, 6, or 8\n",
    "print(random.randint(0, 10))      # 4 - output from 0, 1, ..., 9, or 10\n",
    "print(random.choice([0, 1, 2]))   # 0 - output from 0, 1, or 2"
   ]
  },
  {
   "cell_type": "code",
   "execution_count": 6,
   "id": "e7e2ef57",
   "metadata": {
    "execution": {
     "iopub.execute_input": "2023-07-26T14:34:09.168671Z",
     "iopub.status.busy": "2023-07-26T14:34:09.167895Z",
     "iopub.status.idle": "2023-07-26T14:34:09.169888Z",
     "shell.execute_reply": "2023-07-26T14:34:09.170207Z"
    }
   },
   "outputs": [
    {
     "name": "stdout",
     "output_type": "stream",
     "text": [
      "[7, 8, 3, 4, 1, 9, 2, 5, 6, 0]\n",
      "[4, 3, 7]\n",
      "[0, 5, 6, 4, 7, 5]\n"
     ]
    }
   ],
   "source": [
    "x = [0, 1, 2, 3, 4, 5, 6, 7, 8, 9]\n",
    "random.shuffle(x)\n",
    "print(x) # [7, 8, 3, 4, 1, 9, 2, 5, 6, 0]\n",
    "print(random.sample(x, k=3)) # [4, 3, 7]\n",
    "print(random.choices(x, k=6)) # [0, 5, 6, 4, 7, 5]"
   ]
  },
  {
   "cell_type": "markdown",
   "id": "dec28260",
   "metadata": {},
   "source": [
    "## Generating random numbers using `numpy` and `scipy`"
   ]
  },
  {
   "cell_type": "markdown",
   "id": "87b3ebe7",
   "metadata": {},
   "source": [
    " Initalize a random number generator"
   ]
  },
  {
   "cell_type": "code",
   "execution_count": 7,
   "id": "629ff939",
   "metadata": {
    "execution": {
     "iopub.execute_input": "2023-07-26T14:34:09.173747Z",
     "iopub.status.busy": "2023-07-26T14:34:09.173181Z",
     "iopub.status.idle": "2023-07-26T14:34:09.175094Z",
     "shell.execute_reply": "2023-07-26T14:34:09.175569Z"
    }
   },
   "outputs": [
    {
     "name": "stdout",
     "output_type": "stream",
     "text": [
      "0.6587666953866232\n",
      "0.9083083579615744\n"
     ]
    }
   ],
   "source": [
    "import numpy as np\n",
    "rng = np.random.default_rng(seed=321)\n",
    "print(rng.random()) # 0.6587666953866232\n",
    "print(rng.random()) # 0.9083083579615744"
   ]
  },
  {
   "cell_type": "code",
   "execution_count": 8,
   "id": "ac788883",
   "metadata": {
    "execution": {
     "iopub.execute_input": "2023-07-26T14:34:09.178649Z",
     "iopub.status.busy": "2023-07-26T14:34:09.178133Z",
     "iopub.status.idle": "2023-07-26T14:34:09.180386Z",
     "shell.execute_reply": "2023-07-26T14:34:09.180852Z"
    }
   },
   "outputs": [
    {
     "name": "stdout",
     "output_type": "stream",
     "text": [
      "[6 4 3]\n",
      "[5.55856507 9.00575242 6.82980572]\n"
     ]
    }
   ],
   "source": [
    "print(rng.integers(low=0, high=10, size=3)) # [6 4 3]\n",
    "print(rng.uniform(low=0, high=10, size=3)) # [5.55856507 9.00575242 6.82980572]"
   ]
  },
  {
   "cell_type": "code",
   "execution_count": 9,
   "id": "2fb58179",
   "metadata": {
    "execution": {
     "iopub.execute_input": "2023-07-26T14:34:09.184256Z",
     "iopub.status.busy": "2023-07-26T14:34:09.183785Z",
     "iopub.status.idle": "2023-07-26T14:34:09.185658Z",
     "shell.execute_reply": "2023-07-26T14:34:09.185976Z"
    }
   },
   "outputs": [
    {
     "name": "stdout",
     "output_type": "stream",
     "text": [
      "[3 3 0]\n",
      "[2 1 0]\n"
     ]
    }
   ],
   "source": [
    "# sample with replacement\n",
    "print(rng.choice([0, 1, 2, 3, 4], size=3)) # [3 3 0]\n",
    "# sample without replacement\n",
    "print(rng.choice([0, 1, 2, 3, 4], size=3, replace=False)) # [2 1 0]"
   ]
  },
  {
   "cell_type": "code",
   "execution_count": 10,
   "id": "2914275d",
   "metadata": {
    "execution": {
     "iopub.execute_input": "2023-07-26T14:34:09.189726Z",
     "iopub.status.busy": "2023-07-26T14:34:09.189261Z",
     "iopub.status.idle": "2023-07-26T14:34:09.551908Z",
     "shell.execute_reply": "2023-07-26T14:34:09.552283Z"
    }
   },
   "outputs": [
    {
     "name": "stdout",
     "output_type": "stream",
     "text": [
      "[-0.98912135 -0.36778665  1.28792526]\n",
      "0.3989422804014327\n",
      "0.5\n"
     ]
    }
   ],
   "source": [
    "from scipy.stats import norm\n",
    "rng = np.random.default_rng(seed=123) # create a RNG with a fixed seed for reproducibility\n",
    "print(norm.rvs(loc=0.0, scale=1.0, size=3, random_state=rng)) \n",
    "# [-0.98912135 -0.36778665  1.28792526]\n",
    "print(norm.pdf(x=0.0, loc=0.0, scale=1.0)) \n",
    "# 0.3989422804014327\n",
    "print(norm.cdf(x=0.0, loc=0.0, scale=1.0)) \n",
    "# 0.5"
   ]
  },
  {
   "cell_type": "markdown",
   "id": "7e764dfa",
   "metadata": {},
   "source": [
    "## Using random numbers in other packages"
   ]
  },
  {
   "cell_type": "code",
   "execution_count": 11,
   "id": "d38636a0",
   "metadata": {
    "execution": {
     "iopub.execute_input": "2023-07-26T14:34:09.556180Z",
     "iopub.status.busy": "2023-07-26T14:34:09.555622Z",
     "iopub.status.idle": "2023-07-26T14:34:09.763403Z",
     "shell.execute_reply": "2023-07-26T14:34:09.763801Z"
    }
   },
   "outputs": [
    {
     "name": "stdout",
     "output_type": "stream",
     "text": [
      "   a   b\n",
      "1  2   7\n",
      "3  4   9\n",
      "4  5  10\n"
     ]
    }
   ],
   "source": [
    "import pandas as pd\n",
    "df = pd.DataFrame({'a': [1, 2, 3, 4, 5], 'b': [6, 7, 8, 9, 10]})\n",
    "print(df.sample(n=3, random_state=123))"
   ]
  },
  {
   "cell_type": "code",
   "execution_count": 12,
   "id": "65f4bce8",
   "metadata": {
    "execution": {
     "iopub.execute_input": "2023-07-26T14:34:09.767496Z",
     "iopub.status.busy": "2023-07-26T14:34:09.767030Z",
     "iopub.status.idle": "2023-07-26T14:34:09.771172Z",
     "shell.execute_reply": "2023-07-26T14:34:09.771498Z"
    }
   },
   "outputs": [
    {
     "name": "stdout",
     "output_type": "stream",
     "text": [
      "   Row  Hospital  Treatment  Reduction\n",
      "0    1       239          0          3\n",
      "1    2      1126          0          1\n",
      "2    3      1161          0          2\n",
      "3    4      1293          1          2\n",
      "4    5      1462          1          2\n"
     ]
    }
   ],
   "source": [
    "import pandas as pd\n",
    "df = pd.read_csv(\"hospitalerrors_2.csv\")\n",
    "print(df.head())"
   ]
  },
  {
   "cell_type": "code",
   "execution_count": 13,
   "id": "4b9fe134",
   "metadata": {
    "execution": {
     "iopub.execute_input": "2023-07-26T14:34:09.776729Z",
     "iopub.status.busy": "2023-07-26T14:34:09.776236Z",
     "iopub.status.idle": "2023-07-26T14:34:09.778280Z",
     "shell.execute_reply": "2023-07-26T14:34:09.778603Z"
    }
   },
   "outputs": [
    {
     "name": "stdout",
     "output_type": "stream",
     "text": [
      "           Reduction\n",
      "Treatment           \n",
      "0               1.88\n",
      "1               2.80\n"
     ]
    }
   ],
   "source": [
    "mean_reduction = df[['Treatment', 'Reduction']].groupby(\"Treatment\").mean()\n",
    "print(mean_reduction)"
   ]
  },
  {
   "cell_type": "code",
   "execution_count": 14,
   "id": "1020a182",
   "metadata": {
    "execution": {
     "iopub.execute_input": "2023-07-26T14:34:09.781870Z",
     "iopub.status.busy": "2023-07-26T14:34:09.781399Z",
     "iopub.status.idle": "2023-07-26T14:34:09.783282Z",
     "shell.execute_reply": "2023-07-26T14:34:09.783621Z"
    }
   },
   "outputs": [
    {
     "name": "stdout",
     "output_type": "stream",
     "text": [
      "Observed reduction 0.920\n"
     ]
    }
   ],
   "source": [
    "observed_difference = (mean_reduction.loc[1, 'Reduction'] - \n",
    "                       mean_reduction.loc[0, 'Reduction'])\n",
    "print(f'Observed reduction {observed_difference:.3f}')"
   ]
  },
  {
   "cell_type": "code",
   "execution_count": 15,
   "id": "7e962925",
   "metadata": {
    "execution": {
     "iopub.execute_input": "2023-07-26T14:34:09.786688Z",
     "iopub.status.busy": "2023-07-26T14:34:09.786013Z",
     "iopub.status.idle": "2023-07-26T14:34:09.787797Z",
     "shell.execute_reply": "2023-07-26T14:34:09.788120Z"
    }
   },
   "outputs": [],
   "source": [
    "observation = df['Reduction']\n",
    "treatment = df['Treatment']"
   ]
  },
  {
   "cell_type": "code",
   "execution_count": 16,
   "id": "f8f32022",
   "metadata": {
    "execution": {
     "iopub.execute_input": "2023-07-26T14:34:09.792516Z",
     "iopub.status.busy": "2023-07-26T14:34:09.792047Z",
     "iopub.status.idle": "2023-07-26T14:34:09.793907Z",
     "shell.execute_reply": "2023-07-26T14:34:09.794227Z"
    }
   },
   "outputs": [
    {
     "name": "stdout",
     "output_type": "stream",
     "text": [
      "Observed difference after shuffling: 0.200\n"
     ]
    }
   ],
   "source": [
    "import random\n",
    "random.seed(123)  # set the seed to ensure a different outcome\n",
    "shuffled = list(observation) # create a copy of the list\n",
    "random.shuffle(shuffled)\n",
    "\n",
    "# split the shuffled observations by treatment group\n",
    "observed_0 = []\n",
    "observed_1 = []\n",
    "for obs, treat in zip(shuffled, treatment):\n",
    "    if treat == 0:\n",
    "        observed_0.append(obs)\n",
    "    else:\n",
    "        observed_1.append(obs)\n",
    "\n",
    "# calculate the mean reduction for the treatment and control group\n",
    "obs_treatment_0 = sum(observed_0) / len(observed_0)\n",
    "obs_treatment_1 = sum(observed_1) / len(observed_1)\n",
    "\n",
    "# calculate the difference\n",
    "obs_difference = obs_treatment_1 - obs_treatment_0\n",
    "print(f'Observed difference after shuffling: {obs_difference:.3f}')"
   ]
  },
  {
   "cell_type": "code",
   "execution_count": 17,
   "id": "65573e48",
   "metadata": {
    "execution": {
     "iopub.execute_input": "2023-07-26T14:34:09.797978Z",
     "iopub.status.busy": "2023-07-26T14:34:09.797043Z",
     "iopub.status.idle": "2023-07-26T14:34:09.799169Z",
     "shell.execute_reply": "2023-07-26T14:34:09.799499Z"
    }
   },
   "outputs": [],
   "source": [
    "observed_0 = [obs for obs, treat in zip(shuffled, treatment) if treat == 0]\n",
    "observed_1 = [obs for obs, treat in zip(shuffled, treatment) if treat == 1]"
   ]
  },
  {
   "cell_type": "code",
   "execution_count": 18,
   "id": "c68826b9",
   "metadata": {
    "execution": {
     "iopub.execute_input": "2023-07-26T14:34:09.802541Z",
     "iopub.status.busy": "2023-07-26T14:34:09.802090Z",
     "iopub.status.idle": "2023-07-26T14:34:09.803814Z",
     "shell.execute_reply": "2023-07-26T14:34:09.804288Z"
    }
   },
   "outputs": [],
   "source": [
    "import numpy as np\n",
    "obs_treatment_0 = np.mean(observed_0)\n",
    "obs_treatment_1 = np.mean(observed_1)"
   ]
  },
  {
   "cell_type": "code",
   "execution_count": 19,
   "id": "899fdb83",
   "metadata": {
    "execution": {
     "iopub.execute_input": "2023-07-26T14:34:09.810957Z",
     "iopub.status.busy": "2023-07-26T14:34:09.810374Z",
     "iopub.status.idle": "2023-07-26T14:34:09.812806Z",
     "shell.execute_reply": "2023-07-26T14:34:09.813217Z"
    }
   },
   "outputs": [
    {
     "data": {
      "text/plain": [
       "-0.1200000000000001"
      ]
     },
     "execution_count": 1,
     "metadata": {},
     "output_type": "execute_result"
    }
   ],
   "source": [
    "shuffled = observation.copy() # create a copy of the observations\n",
    "random.shuffle(shuffled)  # shuffle the copy\n",
    "means = shuffled.groupby(treatment).mean()\n",
    "means[1] - means[0]"
   ]
  },
  {
   "cell_type": "code",
   "execution_count": 20,
   "id": "d9effe4c",
   "metadata": {
    "execution": {
     "iopub.execute_input": "2023-07-26T14:34:10.097009Z",
     "iopub.status.busy": "2023-07-26T14:34:09.839714Z",
     "iopub.status.idle": "2023-07-26T14:34:10.779809Z",
     "shell.execute_reply": "2023-07-26T14:34:10.780208Z"
    }
   },
   "outputs": [
    {
     "name": "stdout",
     "output_type": "stream",
     "text": [
      "Mean difference after reshuffling -0.00\n",
      "Minimum difference -1.16\n",
      "Maximum difference 1.16\n"
     ]
    }
   ],
   "source": [
    "shuffled = observation.copy() # create a copy of the observations\n",
    "differences = []\n",
    "for _ in range(1000):\n",
    "    random.shuffle(shuffled)  # shuffle the copy\n",
    "    means = shuffled.groupby(treatment).mean()\n",
    "    differences.append(means[1] - means[0])\n",
    "\n",
    "print(f\"Mean difference after reshuffling {np.mean(differences):.2f}\")\n",
    "print(f\"Minimum difference {np.min(differences):.2f}\")\n",
    "print(f\"Maximum difference {np.max(differences):.2f}\")"
   ]
  },
  {
   "cell_type": "code",
   "execution_count": 21,
   "id": "7453dd61",
   "metadata": {
    "execution": {
     "iopub.execute_input": "2023-07-26T14:34:10.784396Z",
     "iopub.status.busy": "2023-07-26T14:34:10.783814Z",
     "iopub.status.idle": "2023-07-26T14:34:11.245256Z",
     "shell.execute_reply": "2023-07-26T14:34:11.245611Z"
    }
   },
   "outputs": [
    {
     "data": {
      "image/png": "[encoded data removed]",
      "text/plain": [
       "<Figure size 640x480 with 1 Axes>"
      ]
     },
     "metadata": {},
     "output_type": "display_data"
    }
   ],
   "source": [
    "ax = pd.Series(differences).plot.hist(bins=25)\n",
    "ax.axvline(x=observed_difference, color='grey')"
   ]
  },
  {
   "cell_type": "code",
   "execution_count": 22,
   "id": "a241868e",
   "metadata": {
    "execution": {
     "iopub.execute_input": "2023-07-26T14:34:11.250969Z",
     "iopub.status.busy": "2023-07-26T14:34:11.250412Z",
     "iopub.status.idle": "2023-07-26T14:34:11.252590Z",
     "shell.execute_reply": "2023-07-26T14:34:11.252937Z"
    }
   },
   "outputs": [
    {
     "name": "stdout",
     "output_type": "stream",
     "text": [
      "Probability of observing a difference of 0.92 or larger by chance: 1.1%\n"
     ]
    }
   ],
   "source": [
    "nr_greater_observed = sum(d >= observed_difference for d in differences)\n",
    "prob_observed =  nr_greater_observed / len(differences)\n",
    "print(\"Probability of observing a difference of 0.92 or larger by chance: \"\n",
    "      f\"{prob_observed:.1%}\")"
   ]
  },
  {
   "cell_type": "markdown",
   "id": "c7f40311",
   "metadata": {},
   "source": [
    "## Write functions for code reuse"
   ]
  },
  {
   "cell_type": "code",
   "execution_count": 23,
   "id": "1301db7b",
   "metadata": {
    "execution": {
     "iopub.execute_input": "2023-07-26T14:34:11.256969Z",
     "iopub.status.busy": "2023-07-26T14:34:11.256413Z",
     "iopub.status.idle": "2023-07-26T14:34:11.258101Z",
     "shell.execute_reply": "2023-07-26T14:34:11.258447Z"
    }
   },
   "outputs": [],
   "source": [
    "def resampling_difference_means(observations, treatments, nr_trials=1000):\n",
    "    \"\"\" Calculate differences in means between two treatment groups using resampling \"\"\"\n",
    "    # create an independent copy of the observations\n",
    "    shuffled = pd.Series(observations)\n",
    "    differences = []\n",
    "    for _ in range(nr_trials):\n",
    "        random.shuffle(shuffled)  # shuffle the copy\n",
    "        means = shuffled.groupby(treatments).mean()\n",
    "        differences.append(means[1] - means[0])\n",
    "    return differences"
   ]
  },
  {
   "cell_type": "code",
   "execution_count": 24,
   "id": "8a2a6e81",
   "metadata": {
    "execution": {
     "iopub.execute_input": "2023-07-26T14:34:12.070192Z",
     "iopub.status.busy": "2023-07-26T14:34:11.442929Z",
     "iopub.status.idle": "2023-07-26T14:34:13.569099Z",
     "shell.execute_reply": "2023-07-26T14:34:13.568497Z"
    }
   },
   "outputs": [
    {
     "name": "stdout",
     "output_type": "stream",
     "text": [
      "Mean difference after reshuffling -0.02\n",
      "Minimum difference -1.24\n",
      "Maximum difference 1.24\n"
     ]
    }
   ],
   "source": [
    "differences = resampling_difference_means(df['Reduction'], df['Treatment'], nr_trials=2000)\n",
    "print(f\"Mean difference after reshuffling {np.mean(differences):.2f}\")\n",
    "print(f\"Minimum difference {np.min(differences):.2f}\")\n",
    "print(f\"Maximum difference {np.max(differences):.2f}\")"
   ]
  }
 ],
 "metadata": {
  "language_info": {
   "codemirror_mode": {
    "name": "ipython",
    "version": 3
   },
   "file_extension": ".py",
   "mimetype": "text/x-python",
   "name": "python",
   "nbconvert_exporter": "python",
   "pygments_lexer": "ipython3",
   "version": "3.8.2"
  }
 },
 "nbformat": 4,
 "nbformat_minor": 5
}
