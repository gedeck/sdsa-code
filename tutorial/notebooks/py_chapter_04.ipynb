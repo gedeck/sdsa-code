{
 "cells": [
  {
   "cell_type": "markdown",
   "id": "8732ac4c",
   "metadata": {},
   "source": [
    "# Chapter py_04 \n",
    " Statistics for Data Science and Analytics<br>\n",
    "by Peter C. Bruce, Peter Gedeck, Janet F. Dobbins\n",
    "\n",
    "Publisher: Wiley; 1st edition (2024) <br>\n",
    "<!-- ISBN-13: 978-3031075650 -->\n",
    "\n",
    "(c) 2024 Peter C. Bruce, Peter Gedeck, Janet F. Dobbins\n",
    "\n",
    "The code needs to be executed in sequence.\n",
    "\n",
    "Python packages and Python itself change over time. This can cause warnings or errors. We\n",
    "\"Warnings\" are for information only and can usually be ignored. \n",
    "\"Errors\" will stop execution and need to be fixed in order to get results. \n",
    "\n",
    "If you come across an issue with the code, please follow these steps\n",
    "\n",
    "- Check the repository (https://gedeck.github.io/sdsa-code-solutions/) to see if the code has been upgraded. This might solve the problem.\n",
    "- Report the problem using the issue tracker at https://github.com/gedeck/sdsa-code-solutions/issues\n",
    "- Paste the error message into Google and see if someone else already found a solution"
   ]
  },
  {
   "cell_type": "markdown",
   "id": "e1da5804",
   "metadata": {},
   "source": [
    "# Python: Random numbers"
   ]
  },
  {
   "cell_type": "code",
   "execution_count": 2,
   "id": "14f8c053",
   "metadata": {
    "execution": {
     "iopub.execute_input": "2023-09-02T13:19:11.605680Z",
     "iopub.status.busy": "2023-09-02T13:19:11.605089Z",
     "iopub.status.idle": "2023-09-02T13:19:11.606627Z",
     "shell.execute_reply": "2023-09-02T13:19:11.607110Z"
    }
   },
   "outputs": [],
   "source": [
    "# set the seed to ensure a different outcome\n",
    "import random\n",
    "random.seed()"
   ]
  },
  {
   "cell_type": "markdown",
   "id": "b98ad7c2",
   "metadata": {},
   "source": [
    "## Generating random numbers using the `random` package"
   ]
  },
  {
   "cell_type": "markdown",
   "id": "1be0fa38",
   "metadata": {},
   "source": [
    " generate a random number between 0 and 1"
   ]
  },
  {
   "cell_type": "code",
   "execution_count": 3,
   "id": "2551387d",
   "metadata": {
    "execution": {
     "iopub.execute_input": "2023-09-02T13:19:11.610172Z",
     "iopub.status.busy": "2023-09-02T13:19:11.609665Z",
     "iopub.status.idle": "2023-09-02T13:19:11.611796Z",
     "shell.execute_reply": "2023-09-02T13:19:11.612242Z"
    }
   },
   "outputs": [
    {
     "name": "stdout",
     "output_type": "stream",
     "text": [
      "0.07409736469083394 0.17010322577933645\n"
     ]
    }
   ],
   "source": [
    "import random\n",
    "print(random.random(), random.random())"
   ]
  },
  {
   "cell_type": "markdown",
   "id": "3604b4a1",
   "metadata": {},
   "source": [
    " set a random seed to ensure that the same sequence is generated each time"
   ]
  },
  {
   "cell_type": "code",
   "execution_count": 4,
   "id": "b9838c96",
   "metadata": {
    "execution": {
     "iopub.execute_input": "2023-09-02T13:19:11.615682Z",
     "iopub.status.busy": "2023-09-02T13:19:11.615155Z",
     "iopub.status.idle": "2023-09-02T13:19:11.616948Z",
     "shell.execute_reply": "2023-09-02T13:19:11.617421Z"
    }
   },
   "outputs": [
    {
     "name": "stdout",
     "output_type": "stream",
     "text": [
      "0.052363598850944326 0.08718667752263232\n",
      "0.052363598850944326 0.08718667752263232\n"
     ]
    }
   ],
   "source": [
    "random.seed(123)\n",
    "print(random.random(), random.random())\n",
    "random.seed(123)\n",
    "print(random.random(), random.random())"
   ]
  },
  {
   "cell_type": "code",
   "execution_count": 5,
   "id": "c454e064",
   "metadata": {
    "execution": {
     "iopub.execute_input": "2023-09-02T13:19:11.620547Z",
     "iopub.status.busy": "2023-09-02T13:19:11.620074Z",
     "iopub.status.idle": "2023-09-02T13:19:11.621795Z",
     "shell.execute_reply": "2023-09-02T13:19:11.622263Z"
    }
   },
   "outputs": [
    {
     "name": "stdout",
     "output_type": "stream",
     "text": [
      "6\n",
      "4\n",
      "0\n"
     ]
    }
   ],
   "source": [
    "print(random.randrange(0, 10, 2)) # 6 - output from 2, 4, 6, or 8\n",
    "print(random.randint(0, 10))      # 4 - output from 0, 1, ..., 9, or 10\n",
    "print(random.choice([0, 1, 2]))   # 0 - output from 0, 1, or 2"
   ]
  },
  {
   "cell_type": "code",
   "execution_count": 6,
   "id": "0da44313",
   "metadata": {
    "execution": {
     "iopub.execute_input": "2023-09-02T13:19:11.625668Z",
     "iopub.status.busy": "2023-09-02T13:19:11.625191Z",
     "iopub.status.idle": "2023-09-02T13:19:11.627014Z",
     "shell.execute_reply": "2023-09-02T13:19:11.627359Z"
    }
   },
   "outputs": [
    {
     "name": "stdout",
     "output_type": "stream",
     "text": [
      "[7, 8, 3, 4, 1, 9, 2, 5, 6, 0]\n",
      "[4, 3, 7]\n",
      "[0, 5, 6, 4, 7, 5]\n"
     ]
    }
   ],
   "source": [
    "x = [0, 1, 2, 3, 4, 5, 6, 7, 8, 9]\n",
    "random.shuffle(x)\n",
    "print(x) # [7, 8, 3, 4, 1, 9, 2, 5, 6, 0]\n",
    "print(random.sample(x, k=3)) # [4, 3, 7]\n",
    "print(random.choices(x, k=6)) # [0, 5, 6, 4, 7, 5]"
   ]
  },
  {
   "cell_type": "markdown",
   "id": "5d9a00be",
   "metadata": {},
   "source": [
    "## Generating random numbers using `numpy` and `scipy`"
   ]
  },
  {
   "cell_type": "markdown",
   "id": "19e3f91b",
   "metadata": {},
   "source": [
    " Initalize a random number generator"
   ]
  },
  {
   "cell_type": "code",
   "execution_count": 7,
   "id": "cefd5d71",
   "metadata": {
    "execution": {
     "iopub.execute_input": "2023-09-02T13:19:11.632296Z",
     "iopub.status.busy": "2023-09-02T13:19:11.631663Z",
     "iopub.status.idle": "2023-09-02T13:19:11.633606Z",
     "shell.execute_reply": "2023-09-02T13:19:11.633938Z"
    }
   },
   "outputs": [
    {
     "name": "stdout",
     "output_type": "stream",
     "text": [
      "0.6587666953866232\n",
      "0.9083083579615744\n"
     ]
    }
   ],
   "source": [
    "import numpy as np\n",
    "rng = np.random.default_rng(seed=321)\n",
    "print(rng.random()) # 0.6587666953866232\n",
    "print(rng.random()) # 0.9083083579615744"
   ]
  },
  {
   "cell_type": "code",
   "execution_count": 8,
   "id": "3a591cdb",
   "metadata": {
    "execution": {
     "iopub.execute_input": "2023-09-02T13:19:11.638166Z",
     "iopub.status.busy": "2023-09-02T13:19:11.637631Z",
     "iopub.status.idle": "2023-09-02T13:19:11.640882Z",
     "shell.execute_reply": "2023-09-02T13:19:11.641257Z"
    }
   },
   "outputs": [
    {
     "name": "stdout",
     "output_type": "stream",
     "text": [
      "[6 4 3]\n",
      "[5.55856507 9.00575242 6.82980572]\n"
     ]
    }
   ],
   "source": [
    "print(rng.integers(low=0, high=10, size=3)) # [6 4 3]\n",
    "print(rng.uniform(low=0, high=10, size=3)) # [5.55856507 9.00575242 6.82980572]"
   ]
  },
  {
   "cell_type": "code",
   "execution_count": 9,
   "id": "b777adf8",
   "metadata": {
    "execution": {
     "iopub.execute_input": "2023-09-02T13:19:11.645689Z",
     "iopub.status.busy": "2023-09-02T13:19:11.645094Z",
     "iopub.status.idle": "2023-09-02T13:19:11.647256Z",
     "shell.execute_reply": "2023-09-02T13:19:11.647642Z"
    }
   },
   "outputs": [
    {
     "name": "stdout",
     "output_type": "stream",
     "text": [
      "[3 3 0]\n",
      "[2 1 0]\n"
     ]
    }
   ],
   "source": [
    "# sample with replacement\n",
    "print(rng.choice([0, 1, 2, 3, 4], size=3)) # [3 3 0]\n",
    "# sample without replacement\n",
    "print(rng.choice([0, 1, 2, 3, 4], size=3, replace=False)) # [2 1 0]"
   ]
  },
  {
   "cell_type": "code",
   "execution_count": 10,
   "id": "053c9be9",
   "metadata": {
    "execution": {
     "iopub.execute_input": "2023-09-02T13:19:11.651659Z",
     "iopub.status.busy": "2023-09-02T13:19:11.651102Z",
     "iopub.status.idle": "2023-09-02T13:19:11.973742Z",
     "shell.execute_reply": "2023-09-02T13:19:11.974140Z"
    }
   },
   "outputs": [
    {
     "name": "stdout",
     "output_type": "stream",
     "text": [
      "[-0.98912135 -0.36778665  1.28792526]\n",
      "0.3989422804014327\n",
      "0.5\n"
     ]
    }
   ],
   "source": [
    "from scipy.stats import norm\n",
    "rng = np.random.default_rng(seed=123) # create a RNG with a fixed seed for reproducibility\n",
    "print(norm.rvs(loc=0.0, scale=1.0, size=3, random_state=rng))\n",
    "# [-0.98912135 -0.36778665  1.28792526]\n",
    "print(norm.pdf(x=0.0, loc=0.0, scale=1.0))\n",
    "# 0.3989422804014327\n",
    "print(norm.cdf(x=0.0, loc=0.0, scale=1.0))\n",
    "# 0.5"
   ]
  },
  {
   "cell_type": "markdown",
   "id": "d32a3577",
   "metadata": {},
   "source": [
    "## Using random numbers in other packages"
   ]
  },
  {
   "cell_type": "code",
   "execution_count": 11,
   "id": "f80fc335",
   "metadata": {
    "execution": {
     "iopub.execute_input": "2023-09-02T13:19:11.978610Z",
     "iopub.status.busy": "2023-09-02T13:19:11.978141Z",
     "iopub.status.idle": "2023-09-02T13:19:12.156251Z",
     "shell.execute_reply": "2023-09-02T13:19:12.156680Z"
    }
   },
   "outputs": [
    {
     "name": "stdout",
     "output_type": "stream",
     "text": [
      "   a   b\n",
      "1  2   7\n",
      "3  4   9\n",
      "4  5  10\n"
     ]
    }
   ],
   "source": [
    "import pandas as pd\n",
    "df = pd.DataFrame({'a': [1, 2, 3, 4, 5], 'b': [6, 7, 8, 9, 10]})\n",
    "print(df.sample(n=3, random_state=123))"
   ]
  },
  {
   "cell_type": "code",
   "execution_count": 12,
   "id": "743e7ad8",
   "metadata": {
    "execution": {
     "iopub.execute_input": "2023-09-02T13:19:12.160366Z",
     "iopub.status.busy": "2023-09-02T13:19:12.159747Z",
     "iopub.status.idle": "2023-09-02T13:19:12.165560Z",
     "shell.execute_reply": "2023-09-02T13:19:12.166023Z"
    }
   },
   "outputs": [
    {
     "name": "stdout",
     "output_type": "stream",
     "text": [
      "   Row  Hospital  Treatment  Reduction\n",
      "0    1       239          0          3\n",
      "1    2      1126          0          1\n",
      "2    3      1161          0          2\n",
      "3    4      1293          1          2\n",
      "4    5      1462          1          2\n"
     ]
    }
   ],
   "source": [
    "import pandas as pd\n",
    "df = pd.read_csv(\"hospitalerrors_2.csv\")\n",
    "print(df.head())"
   ]
  },
  {
   "cell_type": "code",
   "execution_count": 13,
   "id": "457ccdfa",
   "metadata": {
    "execution": {
     "iopub.execute_input": "2023-09-02T13:19:12.171523Z",
     "iopub.status.busy": "2023-09-02T13:19:12.171007Z",
     "iopub.status.idle": "2023-09-02T13:19:12.172888Z",
     "shell.execute_reply": "2023-09-02T13:19:12.173279Z"
    }
   },
   "outputs": [
    {
     "name": "stdout",
     "output_type": "stream",
     "text": [
      "           Reduction\n",
      "Treatment           \n",
      "0               1.88\n",
      "1               2.80\n"
     ]
    }
   ],
   "source": [
    "mean_reduction = df[['Treatment', 'Reduction']].groupby(\"Treatment\").mean()\n",
    "print(mean_reduction)"
   ]
  },
  {
   "cell_type": "code",
   "execution_count": 14,
   "id": "12f1f557",
   "metadata": {
    "execution": {
     "iopub.execute_input": "2023-09-02T13:19:12.176560Z",
     "iopub.status.busy": "2023-09-02T13:19:12.176059Z",
     "iopub.status.idle": "2023-09-02T13:19:12.177920Z",
     "shell.execute_reply": "2023-09-02T13:19:12.178271Z"
    }
   },
   "outputs": [
    {
     "name": "stdout",
     "output_type": "stream",
     "text": [
      "Observed reduction 0.920\n"
     ]
    }
   ],
   "source": [
    "observed_difference = (mean_reduction.loc[1, 'Reduction'] -\n",
    "                       mean_reduction.loc[0, 'Reduction'])\n",
    "print(f'Observed reduction {observed_difference:.3f}')"
   ]
  },
  {
   "cell_type": "code",
   "execution_count": 15,
   "id": "603e316f",
   "metadata": {
    "execution": {
     "iopub.execute_input": "2023-09-02T13:19:12.181077Z",
     "iopub.status.busy": "2023-09-02T13:19:12.180602Z",
     "iopub.status.idle": "2023-09-02T13:19:12.182195Z",
     "shell.execute_reply": "2023-09-02T13:19:12.182582Z"
    }
   },
   "outputs": [],
   "source": [
    "observation = df['Reduction']\n",
    "treatment = df['Treatment']"
   ]
  },
  {
   "cell_type": "code",
   "execution_count": 16,
   "id": "97fdc419",
   "metadata": {
    "execution": {
     "iopub.execute_input": "2023-09-02T13:19:12.186875Z",
     "iopub.status.busy": "2023-09-02T13:19:12.186356Z",
     "iopub.status.idle": "2023-09-02T13:19:12.188272Z",
     "shell.execute_reply": "2023-09-02T13:19:12.188666Z"
    }
   },
   "outputs": [
    {
     "name": "stdout",
     "output_type": "stream",
     "text": [
      "Observed difference after shuffling: 0.200\n"
     ]
    }
   ],
   "source": [
    "import random\n",
    "random.seed(123)\n",
    "shuffled = list(observation)\n",
    "random.shuffle(shuffled)\n",
    "\n",
    "# split the shuffled observations by treatment group\n",
    "observed_0 = []\n",
    "observed_1 = []\n",
    "for obs, treat in zip(shuffled, treatment):\n",
    "    if treat == 0:\n",
    "        observed_0.append(obs)\n",
    "    else:\n",
    "        observed_1.append(obs)\n",
    "\n",
    "# calculate the mean reduction for the treatment and control group\n",
    "obs_treatment_0 = sum(observed_0) / len(observed_0)\n",
    "obs_treatment_1 = sum(observed_1) / len(observed_1)\n",
    "\n",
    "# calculate the difference\n",
    "obs_difference = obs_treatment_1 - obs_treatment_0\n",
    "print(f'Observed difference after shuffling: {obs_difference:.3f}')"
   ]
  },
  {
   "cell_type": "code",
   "execution_count": 17,
   "id": "30d43dac",
   "metadata": {
    "execution": {
     "iopub.execute_input": "2023-09-02T13:19:12.191800Z",
     "iopub.status.busy": "2023-09-02T13:19:12.191328Z",
     "iopub.status.idle": "2023-09-02T13:19:12.192995Z",
     "shell.execute_reply": "2023-09-02T13:19:12.193389Z"
    }
   },
   "outputs": [],
   "source": [
    "observed_0 = [obs for obs, treat in zip(shuffled, treatment) if treat == 0]\n",
    "observed_1 = [obs for obs, treat in zip(shuffled, treatment) if treat == 1]"
   ]
  },
  {
   "cell_type": "code",
   "execution_count": 18,
   "id": "b0aae864",
   "metadata": {
    "execution": {
     "iopub.execute_input": "2023-09-02T13:19:12.196374Z",
     "iopub.status.busy": "2023-09-02T13:19:12.195872Z",
     "iopub.status.idle": "2023-09-02T13:19:12.197501Z",
     "shell.execute_reply": "2023-09-02T13:19:12.197887Z"
    }
   },
   "outputs": [],
   "source": [
    "import numpy as np\n",
    "obs_treatment_0 = np.mean(observed_0)\n",
    "obs_treatment_1 = np.mean(observed_1)"
   ]
  },
  {
   "cell_type": "code",
   "execution_count": 19,
   "id": "50f69a75",
   "metadata": {
    "execution": {
     "iopub.execute_input": "2023-09-02T13:19:12.203915Z",
     "iopub.status.busy": "2023-09-02T13:19:12.203360Z",
     "iopub.status.idle": "2023-09-02T13:19:12.206285Z",
     "shell.execute_reply": "2023-09-02T13:19:12.206760Z"
    }
   },
   "outputs": [
    {
     "data": {
      "text/plain": [
       "-0.1200000000000001"
      ]
     },
     "execution_count": 1,
     "metadata": {},
     "output_type": "execute_result"
    }
   ],
   "source": [
    "shuffled = observation.copy()\n",
    "random.shuffle(shuffled)\n",
    "means = shuffled.groupby(treatment).mean()\n",
    "means[1] - means[0]"
   ]
  },
  {
   "cell_type": "code",
   "execution_count": 20,
   "id": "b01d1d10",
   "metadata": {
    "execution": {
     "iopub.execute_input": "2023-09-02T13:19:12.630123Z",
     "iopub.status.busy": "2023-09-02T13:19:12.297043Z",
     "iopub.status.idle": "2023-09-02T13:19:13.209520Z",
     "shell.execute_reply": "2023-09-02T13:19:13.209907Z"
    }
   },
   "outputs": [
    {
     "name": "stdout",
     "output_type": "stream",
     "text": [
      "Mean difference after reshuffling -0.00\n",
      "Minimum difference -1.16\n",
      "Maximum difference 1.16\n"
     ]
    }
   ],
   "source": [
    "shuffled = observation.copy() # create a copy of the observations\n",
    "differences = []\n",
    "for _ in range(1000):\n",
    "    random.shuffle(shuffled)  # shuffle the copy\n",
    "    means = shuffled.groupby(treatment).mean()\n",
    "    differences.append(means[1] - means[0])\n",
    "\n",
    "print(f\"Mean difference after reshuffling {np.mean(differences):.2f}\")\n",
    "print(f\"Minimum difference {np.min(differences):.2f}\")\n",
    "print(f\"Maximum difference {np.max(differences):.2f}\")"
   ]
  },
  {
   "cell_type": "code",
   "execution_count": 21,
   "id": "fc884938",
   "metadata": {
    "execution": {
     "iopub.execute_input": "2023-09-02T13:19:13.214204Z",
     "iopub.status.busy": "2023-09-02T13:19:13.213741Z",
     "iopub.status.idle": "2023-09-02T13:19:13.649562Z",
     "shell.execute_reply": "2023-09-02T13:19:13.649912Z"
    }
   },
   "outputs": [
    {
     "data": {
      "image/png": "[encoded data removed]",
      "text/plain": [
       "<Figure size 640x480 with 1 Axes>"
      ]
     },
     "metadata": {},
     "output_type": "display_data"
    }
   ],
   "source": [
    "ax = pd.Series(differences).plot.hist(bins=25)\n",
    "ax.axvline(x=observed_difference, color='grey')\n",
    "plt.show()"
   ]
  },
  {
   "cell_type": "code",
   "execution_count": 22,
   "id": "c7048350",
   "metadata": {
    "execution": {
     "iopub.execute_input": "2023-09-02T13:19:13.655629Z",
     "iopub.status.busy": "2023-09-02T13:19:13.655080Z",
     "iopub.status.idle": "2023-09-02T13:19:13.656971Z",
     "shell.execute_reply": "2023-09-02T13:19:13.657319Z"
    }
   },
   "outputs": [
    {
     "name": "stdout",
     "output_type": "stream",
     "text": [
      "Probability of observing a difference of 0.92 or larger by chance: 1.1%\n"
     ]
    }
   ],
   "source": [
    "nr_greater_observed = sum(d >= observed_difference for d in differences)\n",
    "prob_observed =  nr_greater_observed / len(differences)\n",
    "print(\"Probability of observing a difference of 0.92 or larger by chance: \"\n",
    "      f\"{prob_observed:.1%}\")"
   ]
  },
  {
   "cell_type": "markdown",
   "id": "b9618c38",
   "metadata": {},
   "source": [
    "## Write functions for code reuse"
   ]
  },
  {
   "cell_type": "code",
   "execution_count": 23,
   "id": "9b1ccb2e",
   "metadata": {
    "execution": {
     "iopub.execute_input": "2023-09-02T13:19:13.661434Z",
     "iopub.status.busy": "2023-09-02T13:19:13.660934Z",
     "iopub.status.idle": "2023-09-02T13:19:13.662485Z",
     "shell.execute_reply": "2023-09-02T13:19:13.662985Z"
    }
   },
   "outputs": [],
   "source": [
    "def resampling_difference_means(observations, treatments, nr_trials=1000):\n",
    "    \"\"\" Calculate differences in means between two treatment groups using resampling \"\"\"\n",
    "    # create an independent copy of the observations\n",
    "    shuffled = pd.Series(observations)\n",
    "    differences = []\n",
    "    for _ in range(nr_trials):\n",
    "        random.shuffle(shuffled)  # shuffle the copy\n",
    "        means = shuffled.groupby(treatments).mean()\n",
    "        differences.append(means[1] - means[0])\n",
    "    return differences"
   ]
  },
  {
   "cell_type": "code",
   "execution_count": 24,
   "id": "ba25b1a8",
   "metadata": {
    "execution": {
     "iopub.execute_input": "2023-09-02T13:19:13.970507Z",
     "iopub.status.busy": "2023-09-02T13:19:13.715695Z",
     "iopub.status.idle": "2023-09-02T13:19:15.877439Z",
     "shell.execute_reply": "2023-09-02T13:19:15.877751Z"
    }
   },
   "outputs": [
    {
     "name": "stdout",
     "output_type": "stream",
     "text": [
      "Mean difference after reshuffling -0.02\n",
      "Minimum difference -1.24\n",
      "Maximum difference 1.24\n"
     ]
    }
   ],
   "source": [
    "differences = resampling_difference_means(df['Reduction'], df['Treatment'], nr_trials=2000)\n",
    "print(f\"Mean difference after reshuffling {np.mean(differences):.2f}\")\n",
    "print(f\"Minimum difference {np.min(differences):.2f}\")\n",
    "print(f\"Maximum difference {np.max(differences):.2f}\")"
   ]
  },
  {
   "cell_type": "code",
   "execution_count": 25,
   "id": "78c2e4be",
   "metadata": {
    "execution": {
     "iopub.execute_input": "2023-09-02T13:19:15.882342Z",
     "iopub.status.busy": "2023-09-02T13:19:15.881818Z",
     "iopub.status.idle": "2023-09-02T13:19:15.884463Z",
     "shell.execute_reply": "2023-09-02T13:19:15.884793Z"
    }
   },
   "outputs": [
    {
     "name": "stdout",
     "output_type": "stream",
     "text": [
      "Count : 19 (19.0%)\n"
     ]
    }
   ],
   "source": [
    "import random\n",
    "count = 0\n",
    "for _ in range(100):\n",
    "    if random.randint(1, 6) == 6:\n",
    "        count += 1\n",
    "print(f'Count : {count} ({count/100:.1%})')"
   ]
  },
  {
   "cell_type": "code",
   "execution_count": 26,
   "id": "1f3570c0",
   "metadata": {
    "execution": {
     "iopub.execute_input": "2023-09-02T13:19:15.888438Z",
     "iopub.status.busy": "2023-09-02T13:19:15.887921Z",
     "iopub.status.idle": "2023-09-02T13:19:15.889791Z",
     "shell.execute_reply": "2023-09-02T13:19:15.890121Z"
    }
   },
   "outputs": [
    {
     "name": "stdout",
     "output_type": "stream",
     "text": [
      "Count : 13 (13.0%)\n"
     ]
    }
   ],
   "source": [
    "import random\n",
    "count = 0\n",
    "for _ in range(100):\n",
    "    if random.randint(1, 6) + random.randint(1, 6) == 7:\n",
    "        count += 1\n",
    "print(f'Count : {count} ({count/100:.1%})')"
   ]
  },
  {
   "cell_type": "code",
   "execution_count": 27,
   "id": "6f9ab34f",
   "metadata": {
    "execution": {
     "iopub.execute_input": "2023-09-02T13:19:15.982182Z",
     "iopub.status.busy": "2023-09-02T13:19:15.941846Z",
     "iopub.status.idle": "2023-09-02T13:19:16.255052Z",
     "shell.execute_reply": "2023-09-02T13:19:16.255766Z"
    }
   },
   "outputs": [
    {
     "data": {
      "text/plain": [
       "<Axes: xlabel='number'>"
      ]
     },
     "execution_count": 1,
     "metadata": {},
     "output_type": "execute_result"
    },
    {
     "data": {
      "image/png": "[encoded data removed]",
      "text/plain": [
       "<Figure size 640x480 with 1 Axes>"
      ]
     },
     "metadata": {},
     "output_type": "display_data"
    }
   ],
   "source": [
    "import random\n",
    "from collections import defaultdict\n",
    "counts = defaultdict(int)\n",
    "for _ in range(1000):\n",
    "    count = 0\n",
    "    for _ in range(100):\n",
    "        if random.randint(1, 6) + random.randint(1, 6) == 7:\n",
    "            count += 1\n",
    "    counts[count] += 1\n",
    "df = pd.DataFrame({'number': number, 'count': count} for number, count in sorted(counts.items()))\n",
    "df.plot.bar(x='number', y='count', legend=False)"
   ]
  },
  {
   "cell_type": "code",
   "execution_count": 28,
   "id": "35d1d9a7",
   "metadata": {
    "execution": {
     "iopub.execute_input": "2023-09-02T13:19:16.273061Z",
     "iopub.status.busy": "2023-09-02T13:19:16.272448Z",
     "iopub.status.idle": "2023-09-02T13:19:16.274447Z",
     "shell.execute_reply": "2023-09-02T13:19:16.274804Z"
    }
   },
   "outputs": [
    {
     "name": "stdout",
     "output_type": "stream",
     "text": [
      "[2.531e-01 1.252e-01 5.840e-02 3.120e-02 1.700e-02 7.600e-03 4.500e-03\n",
      " 1.900e-03 8.000e-04 4.000e-04 5.000e-04 1.000e-04 1.000e-04]\n"
     ]
    }
   ],
   "source": [
    "import random\n",
    "import numpy as np\n",
    "random.seed(123)  # set the seed to ensure a different outcome\n",
    "nr_trials = 10_000\n",
    "nr_heads = 0\n",
    "runs = [0] * nr_trials\n",
    "previous = random.choice(['H', 'T'])\n",
    "run = 1\n",
    "max_run = 0\n",
    "for _ in range(nr_trials):\n",
    "    current = random.choice(['H', 'T'])\n",
    "    if current == previous:\n",
    "        run += 1\n",
    "    else:\n",
    "        runs[run] += 1\n",
    "        max_run = max(max_run, run)\n",
    "        run = 1\n",
    "print(np.array(runs[1:max_run + 1]) / nr_trials)"
   ]
  },
  {
   "cell_type": "code",
   "execution_count": 29,
   "id": "d03bc218",
   "metadata": {
    "execution": {
     "iopub.execute_input": "2023-09-02T13:19:16.299910Z",
     "iopub.status.busy": "2023-09-02T13:19:16.290424Z",
     "iopub.status.idle": "2023-09-02T13:19:16.463180Z",
     "shell.execute_reply": "2023-09-02T13:19:16.463681Z"
    }
   },
   "outputs": [
    {
     "data": {
      "text/plain": [
       "Text(0.5, 1.0, 'Distribution of run lengths')"
      ]
     },
     "execution_count": 1,
     "metadata": {},
     "output_type": "execute_result"
    },
    {
     "data": {
      "image/png": "[encoded data removed]",
      "text/plain": [
       "<Figure size 640x480 with 1 Axes>"
      ]
     },
     "metadata": {},
     "output_type": "display_data"
    }
   ],
   "source": [
    "import matplotlib.pyplot as plt\n",
    "fig, ax = plt.subplots()\n",
    "ax.bar(range(1, max_run + 1), runs[1:max_run + 1])\n",
    "ax.set_xlabel(\"Run length\")\n",
    "ax.set_ylabel(\"Frequency\")\n",
    "ax.set_title(\"Distribution of run lengths\")"
   ]
  },
  {
   "cell_type": "code",
   "execution_count": 30,
   "id": "19da0d79",
   "metadata": {
    "execution": {
     "iopub.execute_input": "2023-09-02T13:19:16.552119Z",
     "iopub.status.busy": "2023-09-02T13:19:16.509921Z",
     "iopub.status.idle": "2023-09-02T13:19:16.681524Z",
     "shell.execute_reply": "2023-09-02T13:19:16.681866Z"
    }
   },
   "outputs": [],
   "source": [
    "import random\n",
    "import numpy as np\n",
    "import pandas as pd\n",
    "random.seed(123)  # set the seed to ensure a different outcome\n",
    "\n",
    "import numpy as np\n",
    "rng = np.random.default_rng(seed=321)\n",
    "\n",
    "nr_trials = 10_000\n",
    "two_with_same_birthdays = [0] * 365\n",
    "for _ in range(nr_trials):\n",
    "    # create random birthdays until we see one for the second time\n",
    "    seen = set()\n",
    "    while True:\n",
    "        birthday = random.randint(1, 365)\n",
    "        if birthday in seen:\n",
    "            break\n",
    "        seen.add(birthday)\n",
    "    # store the number of birthdays we had to generate (+1 for the last one)\n",
    "    nr_birthdays = len(seen) + 1\n",
    "    two_with_same_birthdays[nr_birthdays] += 1"
   ]
  },
  {
   "cell_type": "code",
   "execution_count": 31,
   "id": "1360fe9e",
   "metadata": {
    "execution": {
     "iopub.execute_input": "2023-09-02T13:19:16.685873Z",
     "iopub.status.busy": "2023-09-02T13:19:16.685392Z",
     "iopub.status.idle": "2023-09-02T13:19:16.687150Z",
     "shell.execute_reply": "2023-09-02T13:19:16.687495Z"
    }
   },
   "outputs": [],
   "source": [
    "probabilities = np.array(two_with_same_birthdays) / nr_trials\n",
    "df = pd.DataFrame({\n",
    "    'Group size': range(1, 366),\n",
    "    'Frequency': two_with_same_birthdays,\n",
    "    'Probability': probabilities,\n",
    "    'Cumulative probability': probabilities.cumsum(),\n",
    "})"
   ]
  },
  {
   "cell_type": "code",
   "execution_count": 32,
   "id": "76e51677",
   "metadata": {
    "execution": {
     "iopub.execute_input": "2023-09-02T13:19:16.722610Z",
     "iopub.status.busy": "2023-09-02T13:19:16.697475Z",
     "iopub.status.idle": "2023-09-02T13:19:16.885448Z",
     "shell.execute_reply": "2023-09-02T13:19:16.885874Z"
    }
   },
   "outputs": [
    {
     "data": {
      "text/plain": [
       "<matplotlib.lines.Line2D at 0x7f91606edb50>"
      ]
     },
     "execution_count": 1,
     "metadata": {},
     "output_type": "execute_result"
    },
    {
     "data": {
      "image/png": "[encoded data removed]",
      "text/plain": [
       "<Figure size 640x480 with 1 Axes>"
      ]
     },
     "metadata": {},
     "output_type": "display_data"
    }
   ],
   "source": [
    "ax = df.plot(x='Group size', y='Probability')\n",
    "df.plot(x='Group size', y='Cumulative probability', ax=ax)\n",
    "ax.axhline(y=0.5, color='grey')\n",
    "ax.axhline(y=0.99, color='grey')"
   ]
  },
  {
   "cell_type": "code",
   "execution_count": 33,
   "id": "18c52057",
   "metadata": {
    "execution": {
     "iopub.execute_input": "2023-09-02T13:19:16.891218Z",
     "iopub.status.busy": "2023-09-02T13:19:16.890701Z",
     "iopub.status.idle": "2023-09-02T13:19:16.892596Z",
     "shell.execute_reply": "2023-09-02T13:19:16.892933Z"
    }
   },
   "outputs": [
    {
     "name": "stdout",
     "output_type": "stream",
     "text": [
      "Size of group so that the chance is greater 50%\n",
      "Group size                 24.0000\n",
      "Frequency                 306.0000\n",
      "Probability                 0.0306\n",
      "Cumulative probability      0.5136\n",
      "Name: 23, dtype: float64\n",
      "Size of group so that the chance is greater 99%\n",
      "Group size                58.0000\n",
      "Frequency                 17.0000\n",
      "Probability                0.0017\n",
      "Cumulative probability     0.9916\n",
      "Name: 57, dtype: float64\n"
     ]
    }
   ],
   "source": [
    "print('Size of group so that the chance is greater 50%')\n",
    "print(df[df['Cumulative probability'] >= 0.5].iloc[0])\n",
    "print('Size of group so that the chance is greater 99%')\n",
    "print(df[df['Cumulative probability'] >= 0.99].iloc[0])"
   ]
  },
  {
   "cell_type": "code",
   "execution_count": 34,
   "id": "58827f6b",
   "metadata": {
    "execution": {
     "iopub.execute_input": "2023-09-02T13:19:16.978893Z",
     "iopub.status.busy": "2023-09-02T13:19:16.935930Z",
     "iopub.status.idle": "2023-09-02T13:19:18.428199Z",
     "shell.execute_reply": "2023-09-02T13:19:18.428540Z"
    }
   },
   "outputs": [],
   "source": [
    "import random\n",
    "import numpy as np\n",
    "import matplotlib.pyplot as plt\n",
    "random.seed(123)  # set the seed to ensure a different outcome\n",
    "nr_trials = 100_000\n",
    "approximations = {nr_points: [] for nr_points in range(10_000, nr_trials + 1, 10_000)}\n",
    "approximations = []\n",
    "for nrepeat in range(20):\n",
    "    nr_points_in_circle = 0\n",
    "    for nr_points in range(1, nr_trials + 1):\n",
    "        x = random.uniform(-1, 1)\n",
    "        y = random.uniform(-1, 1)\n",
    "        if x**2 + y**2 <= 1:\n",
    "            nr_points_in_circle += 1\n",
    "        if nr_points % 10_000 == 0:\n",
    "            approximations.append({\n",
    "                'repeat': nrepeat,\n",
    "                'nr_points': nr_points,\n",
    "                'approximation': 4 * nr_points_in_circle / nr_points,\n",
    "            })\n",
    "approximations = pd.DataFrame(approximations)"
   ]
  },
  {
   "cell_type": "code",
   "execution_count": 35,
   "id": "6c6841a3",
   "metadata": {
    "execution": {
     "iopub.execute_input": "2023-09-02T13:19:18.436104Z",
     "iopub.status.busy": "2023-09-02T13:19:18.435557Z",
     "iopub.status.idle": "2023-09-02T13:19:18.707669Z",
     "shell.execute_reply": "2023-09-02T13:19:18.708090Z"
    }
   },
   "outputs": [
    {
     "data": {
      "image/png": "[encoded data removed]",
      "text/plain": [
       "<Figure size 640x480 with 1 Axes>"
      ]
     },
     "metadata": {},
     "output_type": "display_data"
    }
   ],
   "source": [
    "df = approximations.groupby('nr_points').agg({'approximation': ['mean', 'std']}).reset_index()\n",
    "df.columns = ['nr_points', 'mean', 'std']\n",
    "ax = df.plot(x='nr_points', y='mean', yerr='std', capsize=4)\n",
    "ax.axhline(y=np.pi, color='grey')"
   ]
  }
 ],
 "metadata": {
  "language_info": {
   "codemirror_mode": {
    "name": "ipython",
    "version": 3
   },
   "file_extension": ".py",
   "mimetype": "text/x-python",
   "name": "python",
   "nbconvert_exporter": "python",
   "pygments_lexer": "ipython3",
   "version": "3.8.2"
  }
 },
 "nbformat": 4,
 "nbformat_minor": 5
}
