{
 "cells": [
  {
   "cell_type": "markdown",
   "id": "0b9cae34",
   "metadata": {},
   "source": [
    "# Chapter 11 \n",
    " Statistics for Data Science and Analytics<br>\n",
    "by Peter C. Bruce, Peter Gedeck, Janet F. Dobbins\n",
    "\n",
    "Publisher: Wiley; 1st edition (2024) <br>\n",
    "<!-- ISBN-13: 978-3031075650 -->\n",
    "\n",
    "(c) 2024 Peter C. Bruce, Peter Gedeck, Janet F. Dobbin\n",
    "\n",
    "The code needs to be executed in sequence.\n",
    "\n",
    "Python packages and Python itself change over time. This can cause warnings or errors. We\n",
    "\"Warnings\" are for information only and can usually be ignored. \n",
    "\"Errors\" will stop execution and need to be fixed in order to get results. \n",
    "\n",
    "If you come across an issue with the code, please follow these steps\n",
    "\n",
    "- Check the repository (https://gedeck.github.io/sdsa-code-solutions/) to see if the code has been upgraded. This might solve the problem.\n",
    "- Report the problem using the issue tracker at https://github.com/gedeck/sdsa-code-solutions/issues\n",
    "- Paste the error message into Google and see if someone else already found a solution"
   ]
  },
  {
   "cell_type": "markdown",
   "id": "c0e1df7a",
   "metadata": {},
   "source": [
    " Load required packages"
   ]
  },
  {
   "cell_type": "code",
   "execution_count": 2,
   "id": "868a3dd1",
   "metadata": {
    "execution": {
     "iopub.execute_input": "2023-07-09T15:18:53.516675Z",
     "iopub.status.busy": "2023-07-09T15:18:53.516088Z",
     "iopub.status.idle": "2023-07-09T15:18:54.437610Z",
     "shell.execute_reply": "2023-07-09T15:18:54.437958Z"
    }
   },
   "outputs": [],
   "source": [
    "import random\n",
    "import numpy as np\n",
    "import pandas as pd\n",
    "import matplotlib.pyplot as plt\n",
    "from scipy import stats"
   ]
  },
  {
   "cell_type": "markdown",
   "id": "500bb172",
   "metadata": {},
   "source": [
    " Example: Delta Wire"
   ]
  },
  {
   "cell_type": "markdown",
   "id": "986d3f75",
   "metadata": {},
   "source": [
    " Prepare data"
   ]
  },
  {
   "cell_type": "code",
   "execution_count": 3,
   "id": "1f1467cf",
   "metadata": {
    "execution": {
     "iopub.execute_input": "2023-07-09T15:18:54.445407Z",
     "iopub.status.busy": "2023-07-09T15:18:54.444839Z",
     "iopub.status.idle": "2023-07-09T15:18:54.450201Z",
     "shell.execute_reply": "2023-07-09T15:18:54.450543Z"
    }
   },
   "outputs": [
    {
     "data": {
      "text/html": [
       "<div>\n",
       "<style scoped>\n",
       "    .dataframe tbody tr th:only-of-type {\n",
       "        vertical-align: middle;\n",
       "    }\n",
       "\n",
       "    .dataframe tbody tr th {\n",
       "        vertical-align: top;\n",
       "    }\n",
       "\n",
       "    .dataframe thead th {\n",
       "        text-align: right;\n",
       "    }\n",
       "</style>\n",
       "<table border=\"1\" class=\"dataframe\">\n",
       "  <thead>\n",
       "    <tr style=\"text-align: right;\">\n",
       "      <th></th>\n",
       "      <th>training</th>\n",
       "      <th>productivity</th>\n",
       "    </tr>\n",
       "  </thead>\n",
       "  <tbody>\n",
       "    <tr>\n",
       "      <th>0</th>\n",
       "      <td>0</td>\n",
       "      <td>70000</td>\n",
       "    </tr>\n",
       "    <tr>\n",
       "      <th>1</th>\n",
       "      <td>100</td>\n",
       "      <td>70350</td>\n",
       "    </tr>\n",
       "    <tr>\n",
       "      <th>2</th>\n",
       "      <td>250</td>\n",
       "      <td>70500</td>\n",
       "    </tr>\n",
       "    <tr>\n",
       "      <th>3</th>\n",
       "      <td>375</td>\n",
       "      <td>72600</td>\n",
       "    </tr>\n",
       "    <tr>\n",
       "      <th>4</th>\n",
       "      <td>525</td>\n",
       "      <td>74000</td>\n",
       "    </tr>\n",
       "    <tr>\n",
       "      <th>5</th>\n",
       "      <td>750</td>\n",
       "      <td>76500</td>\n",
       "    </tr>\n",
       "    <tr>\n",
       "      <th>6</th>\n",
       "      <td>875</td>\n",
       "      <td>77000</td>\n",
       "    </tr>\n",
       "    <tr>\n",
       "      <th>7</th>\n",
       "      <td>1100</td>\n",
       "      <td>77400</td>\n",
       "    </tr>\n",
       "    <tr>\n",
       "      <th>8</th>\n",
       "      <td>1300</td>\n",
       "      <td>77900</td>\n",
       "    </tr>\n",
       "    <tr>\n",
       "      <th>9</th>\n",
       "      <td>1450</td>\n",
       "      <td>77200</td>\n",
       "    </tr>\n",
       "    <tr>\n",
       "      <th>10</th>\n",
       "      <td>1660</td>\n",
       "      <td>78900</td>\n",
       "    </tr>\n",
       "    <tr>\n",
       "      <th>11</th>\n",
       "      <td>1900</td>\n",
       "      <td>81000</td>\n",
       "    </tr>\n",
       "    <tr>\n",
       "      <th>12</th>\n",
       "      <td>2300</td>\n",
       "      <td>82500</td>\n",
       "    </tr>\n",
       "    <tr>\n",
       "      <th>13</th>\n",
       "      <td>2600</td>\n",
       "      <td>84000</td>\n",
       "    </tr>\n",
       "    <tr>\n",
       "      <th>14</th>\n",
       "      <td>2850</td>\n",
       "      <td>86500</td>\n",
       "    </tr>\n",
       "    <tr>\n",
       "      <th>15</th>\n",
       "      <td>3150</td>\n",
       "      <td>87000</td>\n",
       "    </tr>\n",
       "    <tr>\n",
       "      <th>16</th>\n",
       "      <td>3500</td>\n",
       "      <td>88600</td>\n",
       "    </tr>\n",
       "    <tr>\n",
       "      <th>17</th>\n",
       "      <td>4000</td>\n",
       "      <td>90000</td>\n",
       "    </tr>\n",
       "  </tbody>\n",
       "</table>\n",
       "</div>"
      ],
      "text/plain": [
       "    training  productivity\n",
       "0          0         70000\n",
       "1        100         70350\n",
       "2        250         70500\n",
       "3        375         72600\n",
       "4        525         74000\n",
       "5        750         76500\n",
       "6        875         77000\n",
       "7       1100         77400\n",
       "8       1300         77900\n",
       "9       1450         77200\n",
       "10      1660         78900\n",
       "11      1900         81000\n",
       "12      2300         82500\n",
       "13      2600         84000\n",
       "14      2850         86500\n",
       "15      3150         87000\n",
       "16      3500         88600\n",
       "17      4000         90000"
      ]
     },
     "execution_count": 1,
     "metadata": {},
     "output_type": "execute_result"
    }
   ],
   "source": [
    "delta_wire = pd.DataFrame({\n",
    "    \"training\": [0, 100, 250, 375, 525, 750, 875, 1100, 1300, 1450, 1660, 1900, 2300, 2600,\n",
    "                 2850, 3150, 3500, 4000],\n",
    "    \"productivity\": [70_000, 70_350, 70_500, 72_600, 74_000, 76_500, 77_000, 77_400, 77_900,\n",
    "                     77_200, 78_900, 81_000, 82_500, 84_000, 86_500, 87_000, 88_600, 90_000],\n",
    "})\n",
    "delta_wire"
   ]
  },
  {
   "cell_type": "code",
   "execution_count": 4,
   "id": "888ad219",
   "metadata": {
    "execution": {
     "iopub.execute_input": "2023-07-09T15:18:54.454009Z",
     "iopub.status.busy": "2023-07-09T15:18:54.453525Z",
     "iopub.status.idle": "2023-07-09T15:18:54.943393Z",
     "shell.execute_reply": "2023-07-09T15:18:54.943973Z"
    }
   },
   "outputs": [
    {
     "name": "stderr",
     "output_type": "stream",
     "text": [
      "/Users/petergedeck/opt/miniconda3/envs/mlba-r/lib/python3.8/site-packages/pandas/plotting/_matplotlib/core.py:1114: UserWarning: No data for colormapping provided via 'c'. Parameters 'cmap' will be ignored\n",
      "  scatter = ax.scatter(\n"
     ]
    },
    {
     "data": {
      "text/plain": [
       "<function matplotlib.pyplot.show(close=None, block=None)>"
      ]
     },
     "execution_count": 1,
     "metadata": {},
     "output_type": "execute_result"
    },
    {
     "data": {
      "image/png": "[encoded data removed]",
      "text/plain": [
       "<Figure size 600x400 with 1 Axes>"
      ]
     },
     "metadata": {},
     "output_type": "display_data"
    }
   ],
   "source": [
    "fig, ax = plt.subplots(figsize=(6,4))\n",
    "delta_wire.plot.scatter(x=\"training\", y=\"productivity\", ax=ax)\n",
    "ax.set_xlabel(\"Training (hours)\")\n",
    "ax.set_ylabel(\"Productivity (pounds per week)\")\n",
    "plt.show"
   ]
  },
  {
   "cell_type": "markdown",
   "id": "e0ca1d21",
   "metadata": {},
   "source": [
    "# Example: PEFR vs cotton dust"
   ]
  },
  {
   "cell_type": "markdown",
   "id": "3c949367",
   "metadata": {},
   "source": [
    " Load data"
   ]
  },
  {
   "cell_type": "code",
   "execution_count": 5,
   "id": "5137dc4f",
   "metadata": {
    "execution": {
     "iopub.execute_input": "2023-07-09T15:18:54.947777Z",
     "iopub.status.busy": "2023-07-09T15:18:54.947172Z",
     "iopub.status.idle": "2023-07-09T15:18:54.954524Z",
     "shell.execute_reply": "2023-07-09T15:18:54.954914Z"
    }
   },
   "outputs": [
    {
     "data": {
      "text/html": [
       "<div>\n",
       "<style scoped>\n",
       "    .dataframe tbody tr th:only-of-type {\n",
       "        vertical-align: middle;\n",
       "    }\n",
       "\n",
       "    .dataframe tbody tr th {\n",
       "        vertical-align: top;\n",
       "    }\n",
       "\n",
       "    .dataframe thead th {\n",
       "        text-align: right;\n",
       "    }\n",
       "</style>\n",
       "<table border=\"1\" class=\"dataframe\">\n",
       "  <thead>\n",
       "    <tr style=\"text-align: right;\">\n",
       "      <th></th>\n",
       "      <th>exposure</th>\n",
       "      <th>pefr</th>\n",
       "    </tr>\n",
       "  </thead>\n",
       "  <tbody>\n",
       "    <tr>\n",
       "      <th>0</th>\n",
       "      <td>0</td>\n",
       "      <td>390</td>\n",
       "    </tr>\n",
       "    <tr>\n",
       "      <th>1</th>\n",
       "      <td>0</td>\n",
       "      <td>410</td>\n",
       "    </tr>\n",
       "    <tr>\n",
       "      <th>2</th>\n",
       "      <td>0</td>\n",
       "      <td>430</td>\n",
       "    </tr>\n",
       "    <tr>\n",
       "      <th>3</th>\n",
       "      <td>0</td>\n",
       "      <td>460</td>\n",
       "    </tr>\n",
       "    <tr>\n",
       "      <th>4</th>\n",
       "      <td>1</td>\n",
       "      <td>420</td>\n",
       "    </tr>\n",
       "    <tr>\n",
       "      <th>...</th>\n",
       "      <td>...</td>\n",
       "      <td>...</td>\n",
       "    </tr>\n",
       "    <tr>\n",
       "      <th>117</th>\n",
       "      <td>22</td>\n",
       "      <td>450</td>\n",
       "    </tr>\n",
       "    <tr>\n",
       "      <th>118</th>\n",
       "      <td>22</td>\n",
       "      <td>490</td>\n",
       "    </tr>\n",
       "    <tr>\n",
       "      <th>119</th>\n",
       "      <td>22</td>\n",
       "      <td>500</td>\n",
       "    </tr>\n",
       "    <tr>\n",
       "      <th>120</th>\n",
       "      <td>23</td>\n",
       "      <td>370</td>\n",
       "    </tr>\n",
       "    <tr>\n",
       "      <th>121</th>\n",
       "      <td>23</td>\n",
       "      <td>390</td>\n",
       "    </tr>\n",
       "  </tbody>\n",
       "</table>\n",
       "<p>122 rows × 2 columns</p>\n",
       "</div>"
      ],
      "text/plain": [
       "     exposure  pefr\n",
       "0           0   390\n",
       "1           0   410\n",
       "2           0   430\n",
       "3           0   460\n",
       "4           1   420\n",
       "..        ...   ...\n",
       "117        22   450\n",
       "118        22   490\n",
       "119        22   500\n",
       "120        23   370\n",
       "121        23   390\n",
       "\n",
       "[122 rows x 2 columns]"
      ]
     },
     "execution_count": 1,
     "metadata": {},
     "output_type": "execute_result"
    }
   ],
   "source": [
    "pefr = pd.read_csv(\"pefr.txt\", sep=\"\\t\")\n",
    "pefr"
   ]
  },
  {
   "cell_type": "code",
   "execution_count": 6,
   "id": "72cc9eb5",
   "metadata": {
    "execution": {
     "iopub.execute_input": "2023-07-09T15:18:54.982598Z",
     "iopub.status.busy": "2023-07-09T15:18:54.972948Z",
     "iopub.status.idle": "2023-07-09T15:18:55.211944Z",
     "shell.execute_reply": "2023-07-09T15:18:55.212310Z"
    }
   },
   "outputs": [
    {
     "name": "stderr",
     "output_type": "stream",
     "text": [
      "/Users/petergedeck/opt/miniconda3/envs/mlba-r/lib/python3.8/site-packages/pandas/plotting/_matplotlib/core.py:1114: UserWarning: No data for colormapping provided via 'c'. Parameters 'cmap' will be ignored\n",
      "  scatter = ax.scatter(\n"
     ]
    },
    {
     "data": {
      "text/plain": [
       "<function matplotlib.pyplot.show(close=None, block=None)>"
      ]
     },
     "execution_count": 1,
     "metadata": {},
     "output_type": "execute_result"
    },
    {
     "data": {
      "image/png": "[encoded data removed]",
      "text/plain": [
       "<Figure size 600x400 with 1 Axes>"
      ]
     },
     "metadata": {},
     "output_type": "display_data"
    }
   ],
   "source": [
    "fig, ax = plt.subplots(figsize=(6,4))\n",
    "pefr.plot.scatter(x=\"exposure\", y=\"pefr\", ax=ax)\n",
    "ax.set_xlabel(\"Exposure\")\n",
    "ax.set_ylabel(\"PEFR\")\n",
    "plt.show"
   ]
  },
  {
   "cell_type": "markdown",
   "id": "225bcbe2",
   "metadata": {},
   "source": [
    "# Example: Baseball payroll"
   ]
  },
  {
   "cell_type": "code",
   "execution_count": 7,
   "id": "31140e12",
   "metadata": {
    "execution": {
     "iopub.execute_input": "2023-07-09T15:18:55.215751Z",
     "iopub.status.busy": "2023-07-09T15:18:55.215167Z",
     "iopub.status.idle": "2023-07-09T15:18:55.221394Z",
     "shell.execute_reply": "2023-07-09T15:18:55.221778Z"
    }
   },
   "outputs": [
    {
     "data": {
      "text/html": [
       "<div>\n",
       "<style scoped>\n",
       "    .dataframe tbody tr th:only-of-type {\n",
       "        vertical-align: middle;\n",
       "    }\n",
       "\n",
       "    .dataframe tbody tr th {\n",
       "        vertical-align: top;\n",
       "    }\n",
       "\n",
       "    .dataframe thead th {\n",
       "        text-align: right;\n",
       "    }\n",
       "</style>\n",
       "<table border=\"1\" class=\"dataframe\">\n",
       "  <thead>\n",
       "    <tr style=\"text-align: right;\">\n",
       "      <th></th>\n",
       "      <th>Team Name</th>\n",
       "      <th>Average Payroll (Million)</th>\n",
       "      <th>Total Wins</th>\n",
       "    </tr>\n",
       "  </thead>\n",
       "  <tbody>\n",
       "    <tr>\n",
       "      <th>0</th>\n",
       "      <td>Yankees</td>\n",
       "      <td>216.10</td>\n",
       "      <td>279</td>\n",
       "    </tr>\n",
       "    <tr>\n",
       "      <th>1</th>\n",
       "      <td>Red Sox</td>\n",
       "      <td>146.66</td>\n",
       "      <td>276</td>\n",
       "    </tr>\n",
       "    <tr>\n",
       "      <th>2</th>\n",
       "      <td>Mets</td>\n",
       "      <td>127.40</td>\n",
       "      <td>273</td>\n",
       "    </tr>\n",
       "    <tr>\n",
       "      <th>3</th>\n",
       "      <td>Dodgers</td>\n",
       "      <td>119.57</td>\n",
       "      <td>254</td>\n",
       "    </tr>\n",
       "    <tr>\n",
       "      <th>4</th>\n",
       "      <td>Cubs</td>\n",
       "      <td>115.16</td>\n",
       "      <td>248</td>\n",
       "    </tr>\n",
       "  </tbody>\n",
       "</table>\n",
       "</div>"
      ],
      "text/plain": [
       "  Team Name  Average Payroll (Million)  Total Wins\n",
       "0   Yankees                     216.10         279\n",
       "1   Red Sox                     146.66         276\n",
       "2      Mets                     127.40         273\n",
       "3   Dodgers                     119.57         254\n",
       "4      Cubs                     115.16         248"
      ]
     },
     "execution_count": 1,
     "metadata": {},
     "output_type": "execute_result"
    }
   ],
   "source": [
    "baseball = pd.read_csv(\"baseball_payroll.csv\")\n",
    "baseball.head()"
   ]
  },
  {
   "cell_type": "markdown",
   "id": "627c6c27",
   "metadata": {},
   "source": [
    " Visualize using a scatterplot"
   ]
  },
  {
   "cell_type": "code",
   "execution_count": 8,
   "id": "7e3facb0",
   "metadata": {
    "execution": {
     "iopub.execute_input": "2023-07-09T15:18:55.261411Z",
     "iopub.status.busy": "2023-07-09T15:18:55.256087Z",
     "iopub.status.idle": "2023-07-09T15:18:55.598347Z",
     "shell.execute_reply": "2023-07-09T15:18:55.598743Z"
    }
   },
   "outputs": [
    {
     "name": "stderr",
     "output_type": "stream",
     "text": [
      "/Users/petergedeck/opt/miniconda3/envs/mlba-r/lib/python3.8/site-packages/pandas/plotting/_matplotlib/core.py:1114: UserWarning: No data for colormapping provided via 'c'. Parameters 'cmap' will be ignored\n",
      "  scatter = ax.scatter(\n"
     ]
    },
    {
     "data": {
      "image/png": "[encoded data removed]",
      "text/plain": [
       "<Figure size 600x400 with 1 Axes>"
      ]
     },
     "metadata": {},
     "output_type": "display_data"
    }
   ],
   "source": [
    "fig, ax = plt.subplots(figsize=(6, 4))\n",
    "baseball.plot.scatter(x=\"Average Payroll (Million)\", y=\"Total Wins\", ax=ax)\n",
    "ax.set_xlabel(\"Average Payroll (Million)\")\n",
    "ax.set_ylabel(\"Total Wins\")\n",
    "plt.show()"
   ]
  },
  {
   "cell_type": "markdown",
   "id": "47aa1ca4",
   "metadata": {},
   "source": [
    " Calculate the vector product sum"
   ]
  },
  {
   "cell_type": "code",
   "execution_count": 9,
   "id": "fc79df59",
   "metadata": {
    "execution": {
     "iopub.execute_input": "2023-07-09T15:18:55.603330Z",
     "iopub.status.busy": "2023-07-09T15:18:55.602687Z",
     "iopub.status.idle": "2023-07-09T15:18:55.604933Z",
     "shell.execute_reply": "2023-07-09T15:18:55.605328Z"
    }
   },
   "outputs": [
    {
     "name": "stdout",
     "output_type": "stream",
     "text": [
      "668620.0\n"
     ]
    }
   ],
   "source": [
    "product_sum = np.sum(baseball[\"Average Payroll (Million)\"] * baseball[\"Total Wins\"])\n",
    "print(product_sum.round(0))"
   ]
  },
  {
   "cell_type": "markdown",
   "id": "8e1be390",
   "metadata": {},
   "source": [
    " Implement resampling procedure"
   ]
  },
  {
   "cell_type": "code",
   "execution_count": 10,
   "id": "55b98926",
   "metadata": {
    "execution": {
     "iopub.execute_input": "2023-07-09T15:18:55.628129Z",
     "iopub.status.busy": "2023-07-09T15:18:55.627379Z",
     "iopub.status.idle": "2023-07-09T15:18:55.629903Z",
     "shell.execute_reply": "2023-07-09T15:18:55.630277Z"
    }
   },
   "outputs": [
    {
     "name": "stdout",
     "output_type": "stream",
     "text": [
      "count above = 0\n",
      "p-value = 0.0\n",
      "95% CI = [645987.156 662111.056]\n"
     ]
    }
   ],
   "source": [
    "rng = np.random.default_rng(seed=123)\n",
    "vector_1 = list(baseball[\"Average Payroll (Million)\"])\n",
    "vector_2 = list(baseball[\"Total Wins\"])\n",
    "product_sums = []\n",
    "for _ in range(1000):\n",
    "    rng.shuffle(vector_2)\n",
    "    product_sums.append(np.sum(np.array(vector_1) * np.array(vector_2)))\n",
    "product_sums = np.array(product_sums)\n",
    "count_above = np.sum(product_sums >= product_sum)\n",
    "p_value = count_above / len(product_sums)\n",
    "ci_interval = np.percentile(product_sums, [2.5, 97.5])\n",
    "print(\"count above =\", count_above)\n",
    "print(\"p-value =\", p_value)\n",
    "print(\"95% CI =\", ci_interval)"
   ]
  },
  {
   "cell_type": "markdown",
   "id": "a0b0a16f",
   "metadata": {},
   "source": [
    " Create histogram of shuffled product sums"
   ]
  },
  {
   "cell_type": "code",
   "execution_count": 11,
   "id": "8d813f7c",
   "metadata": {
    "execution": {
     "iopub.execute_input": "2023-07-09T15:18:55.652523Z",
     "iopub.status.busy": "2023-07-09T15:18:55.651814Z",
     "iopub.status.idle": "2023-07-09T15:18:55.943281Z",
     "shell.execute_reply": "2023-07-09T15:18:55.943778Z"
    }
   },
   "outputs": [
    {
     "data": {
      "image/png": "[encoded data removed]",
      "text/plain": [
       "<Figure size 800x400 with 1 Axes>"
      ]
     },
     "metadata": {},
     "output_type": "display_data"
    }
   ],
   "source": [
    "fig, ax = plt.subplots(figsize=(8, 4))\n",
    "ax.hist(product_sums / 1000, bins=20)\n",
    "ax.axvline(product_sum / 1000, color=\"grey\", linestyle=\"--\")\n",
    "ax.set_xlabel(\"Product sum (000)\")\n",
    "ax.set_ylabel(\"Frequency\")\n",
    "plt.show()"
   ]
  },
  {
   "cell_type": "markdown",
   "id": "2434fc0c",
   "metadata": {},
   "source": [
    "# Example: dating site"
   ]
  },
  {
   "cell_type": "markdown",
   "id": "fc7bd601",
   "metadata": {},
   "source": [
    " Prepare data"
   ]
  },
  {
   "cell_type": "code",
   "execution_count": 12,
   "id": "94d48174",
   "metadata": {
    "execution": {
     "iopub.execute_input": "2023-07-09T15:18:55.952105Z",
     "iopub.status.busy": "2023-07-09T15:18:55.951343Z",
     "iopub.status.idle": "2023-07-09T15:18:55.954214Z",
     "shell.execute_reply": "2023-07-09T15:18:55.954730Z"
    }
   },
   "outputs": [
    {
     "data": {
      "text/html": [
       "<div>\n",
       "<style scoped>\n",
       "    .dataframe tbody tr th:only-of-type {\n",
       "        vertical-align: middle;\n",
       "    }\n",
       "\n",
       "    .dataframe tbody tr th {\n",
       "        vertical-align: top;\n",
       "    }\n",
       "\n",
       "    .dataframe thead th {\n",
       "        text-align: right;\n",
       "    }\n",
       "</style>\n",
       "<table border=\"1\" class=\"dataframe\">\n",
       "  <thead>\n",
       "    <tr style=\"text-align: right;\">\n",
       "      <th></th>\n",
       "      <th>time spent</th>\n",
       "      <th>satisfaction</th>\n",
       "    </tr>\n",
       "  </thead>\n",
       "  <tbody>\n",
       "    <tr>\n",
       "      <th>0</th>\n",
       "      <td>10.1</td>\n",
       "      <td>2</td>\n",
       "    </tr>\n",
       "    <tr>\n",
       "      <th>1</th>\n",
       "      <td>67.3</td>\n",
       "      <td>7</td>\n",
       "    </tr>\n",
       "    <tr>\n",
       "      <th>2</th>\n",
       "      <td>34.0</td>\n",
       "      <td>2</td>\n",
       "    </tr>\n",
       "    <tr>\n",
       "      <th>3</th>\n",
       "      <td>2.9</td>\n",
       "      <td>1</td>\n",
       "    </tr>\n",
       "    <tr>\n",
       "      <th>4</th>\n",
       "      <td>126.3</td>\n",
       "      <td>9</td>\n",
       "    </tr>\n",
       "    <tr>\n",
       "      <th>5</th>\n",
       "      <td>39.0</td>\n",
       "      <td>8</td>\n",
       "    </tr>\n",
       "    <tr>\n",
       "      <th>6</th>\n",
       "      <td>4.6</td>\n",
       "      <td>1</td>\n",
       "    </tr>\n",
       "    <tr>\n",
       "      <th>7</th>\n",
       "      <td>211.3</td>\n",
       "      <td>6</td>\n",
       "    </tr>\n",
       "  </tbody>\n",
       "</table>\n",
       "</div>"
      ],
      "text/plain": [
       "   time spent  satisfaction\n",
       "0        10.1             2\n",
       "1        67.3             7\n",
       "2        34.0             2\n",
       "3         2.9             1\n",
       "4       126.3             9\n",
       "5        39.0             8\n",
       "6         4.6             1\n",
       "7       211.3             6"
      ]
     },
     "execution_count": 1,
     "metadata": {},
     "output_type": "execute_result"
    }
   ],
   "source": [
    "time_spent = [10.1, 67.3, 34.0, 2.9, 126.3, 39.0, 4.6, 211.3]\n",
    "satisfaction = [2, 7, 2, 1, 9, 8, 1, 6]\n",
    "data = pd.DataFrame({\n",
    "    \"time spent\": time_spent,\n",
    "    \"satisfaction\": satisfaction,\n",
    "})\n",
    "data"
   ]
  },
  {
   "cell_type": "markdown",
   "id": "7c92cbef",
   "metadata": {},
   "source": [
    " Resampling procedure for vector sums"
   ]
  },
  {
   "cell_type": "code",
   "execution_count": 13,
   "id": "3045930e",
   "metadata": {
    "execution": {
     "iopub.execute_input": "2023-07-09T15:18:55.979528Z",
     "iopub.status.busy": "2023-07-09T15:18:55.978805Z",
     "iopub.status.idle": "2023-07-09T15:18:55.981454Z",
     "shell.execute_reply": "2023-07-09T15:18:55.981918Z"
    }
   },
   "outputs": [
    {
     "name": "stdout",
     "output_type": "stream",
     "text": [
      "count above = 59\n",
      "p-value = 0.059\n",
      "95% CI = [1115.46 3399.8 ]\n"
     ]
    }
   ],
   "source": [
    "random.seed(123)\n",
    "\n",
    "def vector_sum(x, y):\n",
    "    return np.sum(np.array(x) * np.array(y))\n",
    "observed = vector_sum(time_spent, satisfaction)\n",
    "resampled = []\n",
    "for _ in range(1000):\n",
    "    random.shuffle(satisfaction)\n",
    "    resampled.append(vector_sum(time_spent, satisfaction))\n",
    "resampled = np.array(resampled)\n",
    "count_above = np.sum(resampled >= observed)\n",
    "p_value = count_above / len(resampled)\n",
    "ci_interval = np.percentile(resampled, [2.5, 97.5])\n",
    "print(\"count above =\", count_above)\n",
    "print(\"p-value =\", p_value)\n",
    "print(\"95% CI =\", ci_interval)"
   ]
  },
  {
   "cell_type": "markdown",
   "id": "163ddcb6",
   "metadata": {},
   "source": [
    " Create histogram of shuffled product sums"
   ]
  },
  {
   "cell_type": "code",
   "execution_count": 14,
   "id": "4ea02be5",
   "metadata": {
    "execution": {
     "iopub.execute_input": "2023-07-09T15:18:56.022829Z",
     "iopub.status.busy": "2023-07-09T15:18:56.021031Z",
     "iopub.status.idle": "2023-07-09T15:18:56.152032Z",
     "shell.execute_reply": "2023-07-09T15:18:56.152407Z"
    }
   },
   "outputs": [
    {
     "data": {
      "image/png": "[encoded data removed]",
      "text/plain": [
       "<Figure size 800x400 with 1 Axes>"
      ]
     },
     "metadata": {},
     "output_type": "display_data"
    }
   ],
   "source": [
    "fig, ax = plt.subplots(figsize=(8, 4))\n",
    "ax.hist(resampled, bins=20)\n",
    "ax.axvline(observed, color=\"grey\", linestyle=\"--\")\n",
    "ax.set_xlabel(\"Product sum\")\n",
    "ax.set_ylabel(\"Frequency\")\n",
    "plt.show()"
   ]
  },
  {
   "cell_type": "markdown",
   "id": "0942b932",
   "metadata": {},
   "source": [
    "# Correlation Coefficient"
   ]
  },
  {
   "cell_type": "markdown",
   "id": "19f9b719",
   "metadata": {},
   "source": [
    " Calculate correlation coefficient (custom function)"
   ]
  },
  {
   "cell_type": "code",
   "execution_count": 15,
   "id": "88ce42c2",
   "metadata": {
    "execution": {
     "iopub.execute_input": "2023-07-09T15:18:56.160129Z",
     "iopub.status.busy": "2023-07-09T15:18:56.159498Z",
     "iopub.status.idle": "2023-07-09T15:18:56.161556Z",
     "shell.execute_reply": "2023-07-09T15:18:56.161947Z"
    }
   },
   "outputs": [
    {
     "name": "stdout",
     "output_type": "stream",
     "text": [
      "0.6334573297712216\n",
      "-0.2770217010684071\n",
      "0.9881351391810904\n"
     ]
    }
   ],
   "source": [
    "def correlation_coefficient(x, y):\n",
    "    x_bar = np.mean(x)\n",
    "    y_bar = np.mean(y)\n",
    "    x_sd = np.std(x, ddof=1)\n",
    "    y_sd = np.std(y, ddof=1)\n",
    "    return np.sum((x - x_bar) * (y - y_bar)) / ((len(x) - 1) * x_sd * y_sd)\n",
    "print(correlation_coefficient(baseball[\"Average Payroll (Million)\"], baseball[\"Total Wins\"]))\n",
    "print(correlation_coefficient(pefr[\"pefr\"], pefr[\"exposure\"]))\n",
    "print(correlation_coefficient(delta_wire[\"training\"], delta_wire[\"productivity\"]))"
   ]
  },
  {
   "cell_type": "markdown",
   "id": "a1297b76",
   "metadata": {},
   "source": [
    " Calculate using pandas"
   ]
  },
  {
   "cell_type": "code",
   "execution_count": 16,
   "id": "628d1493",
   "metadata": {
    "execution": {
     "iopub.execute_input": "2023-07-09T15:18:56.167152Z",
     "iopub.status.busy": "2023-07-09T15:18:56.166572Z",
     "iopub.status.idle": "2023-07-09T15:18:56.168953Z",
     "shell.execute_reply": "2023-07-09T15:18:56.169500Z"
    }
   },
   "outputs": [
    {
     "name": "stdout",
     "output_type": "stream",
     "text": [
      "0.6334573297712215\n",
      "-0.2770217010684072\n",
      "0.9881351391810905\n"
     ]
    }
   ],
   "source": [
    "print(baseball[\"Average Payroll (Million)\"].corr(baseball[\"Total Wins\"]))\n",
    "print(pefr[\"pefr\"].corr(pefr[\"exposure\"]))\n",
    "print(delta_wire[\"training\"].corr(delta_wire[\"productivity\"]))"
   ]
  },
  {
   "cell_type": "markdown",
   "id": "a5d8645a",
   "metadata": {},
   "source": [
    " Calculate using numpy; numpy creates a matrix of correlation coefficients"
   ]
  },
  {
   "cell_type": "code",
   "execution_count": 17,
   "id": "3ab0bf50",
   "metadata": {
    "execution": {
     "iopub.execute_input": "2023-07-09T15:18:56.174692Z",
     "iopub.status.busy": "2023-07-09T15:18:56.173963Z",
     "iopub.status.idle": "2023-07-09T15:18:56.176876Z",
     "shell.execute_reply": "2023-07-09T15:18:56.177297Z"
    }
   },
   "outputs": [
    {
     "name": "stdout",
     "output_type": "stream",
     "text": [
      "0.6334573297712215\n",
      "-0.2770217010684072\n",
      "0.9881351391810905\n"
     ]
    }
   ],
   "source": [
    "print(np.corrcoef(baseball[\"Average Payroll (Million)\"], baseball[\"Total Wins\"])[0, 1])\n",
    "print(np.corrcoef(pefr[\"pefr\"], pefr[\"exposure\"])[0, 1])\n",
    "print(np.corrcoef(delta_wire[\"training\"], delta_wire[\"productivity\"])[0, 1])"
   ]
  },
  {
   "cell_type": "markdown",
   "id": "09b6f743",
   "metadata": {},
   "source": [
    " Calculate using scipy; scipy returns a tuple of correlation coefficient and p-value"
   ]
  },
  {
   "cell_type": "code",
   "execution_count": 18,
   "id": "be4212c0",
   "metadata": {
    "execution": {
     "iopub.execute_input": "2023-07-09T15:18:56.181980Z",
     "iopub.status.busy": "2023-07-09T15:18:56.181326Z",
     "iopub.status.idle": "2023-07-09T15:18:56.183881Z",
     "shell.execute_reply": "2023-07-09T15:18:56.184299Z"
    }
   },
   "outputs": [
    {
     "name": "stdout",
     "output_type": "stream",
     "text": [
      "0.6334573297712217\n",
      "-0.2770217010684072\n",
      "0.9881351391810905\n"
     ]
    }
   ],
   "source": [
    "print(stats.pearsonr(baseball[\"Average Payroll (Million)\"], baseball[\"Total Wins\"])[0])\n",
    "print(stats.pearsonr(pefr[\"pefr\"], pefr[\"exposure\"])[0])\n",
    "print(stats.pearsonr(delta_wire[\"training\"], delta_wire[\"productivity\"])[0])"
   ]
  },
  {
   "cell_type": "markdown",
   "id": "3786f361",
   "metadata": {},
   "source": [
    "# Resampling using correlation coefficient"
   ]
  },
  {
   "cell_type": "markdown",
   "id": "c838f672",
   "metadata": {},
   "source": [
    " Implement resampling procedure"
   ]
  },
  {
   "cell_type": "code",
   "execution_count": 19,
   "id": "58f956a2",
   "metadata": {
    "execution": {
     "iopub.execute_input": "2023-07-09T15:18:56.201298Z",
     "iopub.status.busy": "2023-07-09T15:18:56.190617Z",
     "iopub.status.idle": "2023-07-09T15:18:56.310456Z",
     "shell.execute_reply": "2023-07-09T15:18:56.310942Z"
    }
   },
   "outputs": [
    {
     "name": "stdout",
     "output_type": "stream",
     "text": [
      "Observed correlation coefficient: 0.63\n",
      "95% confidence interval: [-0.37  0.36]\n",
      "p-value: 0.000\n"
     ]
    }
   ],
   "source": [
    "random.seed(123)\n",
    "vector_1 = list(baseball[\"Average Payroll (Million)\"])\n",
    "vector_2 = list(baseball[\"Total Wins\"])\n",
    "observed = np.corrcoef(vector_1, vector_2)[0, 1]\n",
    "resamples = []\n",
    "for _ in range(1000):\n",
    "    random.shuffle(vector_1)\n",
    "    resamples.append(np.corrcoef(vector_1, vector_2)[0, 1])\n",
    "resamples = np.array(resamples)\n",
    "ci_interval = np.percentile(resamples, [2.5, 97.5])\n",
    "p_value = np.mean(resamples >= observed)\n",
    "print(f\"Observed correlation coefficient: {observed:.2f}\")\n",
    "print(f\"95% confidence interval: {ci_interval.round(2)}\")\n",
    "print(f\"p-value: {p_value:.3f}\")"
   ]
  },
  {
   "cell_type": "markdown",
   "id": "b5a66f1d",
   "metadata": {},
   "source": [
    " Visualize the resampling distribution"
   ]
  },
  {
   "cell_type": "code",
   "execution_count": 20,
   "id": "7ead99d0",
   "metadata": {
    "execution": {
     "iopub.execute_input": "2023-07-09T15:18:56.333077Z",
     "iopub.status.busy": "2023-07-09T15:18:56.332302Z",
     "iopub.status.idle": "2023-07-09T15:18:56.644288Z",
     "shell.execute_reply": "2023-07-09T15:18:56.644711Z"
    }
   },
   "outputs": [
    {
     "data": {
      "image/png": "[encoded data removed]",
      "text/plain": [
       "<Figure size 800x400 with 1 Axes>"
      ]
     },
     "metadata": {},
     "output_type": "display_data"
    }
   ],
   "source": [
    "fig, ax = plt.subplots(figsize=(8, 4))\n",
    "ax.hist(resamples, bins=20)\n",
    "ax.axvline(observed, color=\"black\", linestyle=\"dashed\")\n",
    "for ci in ci_interval:\n",
    "    ax.axvline(ci, color=\"black\")\n",
    "ax.plot(ci_interval, [130, 130], color=\"black\", linestyle=\"--\")\n",
    "ax.text(0, 120, \"90%-confidence interval\", ha=\"center\")\n",
    "ax.set_xlabel(\"Correlation coefficient\")\n",
    "ax.set_ylabel(\"Frequency\")\n",
    "plt.show()"
   ]
  },
  {
   "cell_type": "markdown",
   "id": "8c060165",
   "metadata": {},
   "source": [
    "# Example: Tax rates and revenue (hypothetical)"
   ]
  },
  {
   "cell_type": "markdown",
   "id": "2fd35ac7",
   "metadata": {},
   "source": [
    " Prepare and visualize data"
   ]
  },
  {
   "cell_type": "code",
   "execution_count": 21,
   "id": "e2982047",
   "metadata": {
    "execution": {
     "iopub.execute_input": "2023-07-09T15:18:56.686794Z",
     "iopub.status.busy": "2023-07-09T15:18:56.671452Z",
     "iopub.status.idle": "2023-07-09T15:18:56.998651Z",
     "shell.execute_reply": "2023-07-09T15:18:56.999227Z"
    }
   },
   "outputs": [
    {
     "name": "stderr",
     "output_type": "stream",
     "text": [
      "/Users/petergedeck/opt/miniconda3/envs/mlba-r/lib/python3.8/site-packages/pandas/plotting/_matplotlib/core.py:1114: UserWarning: No data for colormapping provided via 'c'. Parameters 'cmap' will be ignored\n",
      "  scatter = ax.scatter(\n"
     ]
    },
    {
     "data": {
      "image/png": "[encoded data removed]",
      "text/plain": [
       "<Figure size 600x400 with 1 Axes>"
      ]
     },
     "metadata": {},
     "output_type": "display_data"
    }
   ],
   "source": [
    "data = pd.DataFrame({\n",
    "    \"tax rate\": [0, 10, 20, 30, 40, 50, 60, 70, 80, 90, 100],\n",
    "    \"revenue\": [0, 1.5, 2.75, 3.9, 4, 3.5, 3.4, 3.3, 2.5, 1, 0.5],\n",
    "})\n",
    "fig, ax = plt.subplots(figsize=(6, 4))\n",
    "data.plot(x=\"tax rate\", y=\"revenue\", ax=ax, linestyle=\":\", color=\"grey\")\n",
    "data.plot.scatter(x=\"tax rate\", y=\"revenue\", ax=ax,\n",
    "                  s=40, color=\"black\", legend=False)\n",
    "ax.set_xlabel(\"Tax rate (%)\")\n",
    "ax.set_ylabel(\"Revenue (trillions of dollars)\")\n",
    "plt.show()"
   ]
  },
  {
   "cell_type": "markdown",
   "id": "81ed4d44",
   "metadata": {},
   "source": [
    "# Coincidence"
   ]
  },
  {
   "cell_type": "markdown",
   "id": "2052088a",
   "metadata": {},
   "source": [
    " Prepare the data for 2021; source of data: "
   ]
  },
  {
   "cell_type": "code",
   "execution_count": 22,
   "id": "fa2a6916",
   "metadata": {
    "execution": {
     "iopub.execute_input": "2023-07-09T15:18:57.003433Z",
     "iopub.status.busy": "2023-07-09T15:18:57.002929Z",
     "iopub.status.idle": "2023-07-09T15:18:57.008014Z",
     "shell.execute_reply": "2023-07-09T15:18:57.008393Z"
    }
   },
   "outputs": [],
   "source": [
    "data = pd.read_csv(\"state-murder-rate.csv\")\n",
    "subset = data[data[\"YEAR\"] == 2021]\n",
    "subset = subset.sort_values(\"STATE\", ignore_index=True)"
   ]
  },
  {
   "cell_type": "markdown",
   "id": "5d7a7ebf",
   "metadata": {},
   "source": [
    " Visualize using scatterplot adding trendline"
   ]
  },
  {
   "cell_type": "code",
   "execution_count": 23,
   "id": "331bc0c8",
   "metadata": {
    "execution": {
     "iopub.execute_input": "2023-07-09T15:18:57.030970Z",
     "iopub.status.busy": "2023-07-09T15:18:57.030390Z",
     "iopub.status.idle": "2023-07-09T15:18:57.266730Z",
     "shell.execute_reply": "2023-07-09T15:18:57.267249Z"
    }
   },
   "outputs": [
    {
     "data": {
      "image/png": "[encoded data removed]",
      "text/plain": [
       "<Figure size 600x400 with 1 Axes>"
      ]
     },
     "metadata": {},
     "output_type": "display_data"
    },
    {
     "name": "stdout",
     "output_type": "stream",
     "text": [
      "Correlation coefficient: -0.21\n"
     ]
    }
   ],
   "source": [
    "# use numpy to calculate a linear fit\n",
    "z = np.polyfit(subset.index, subset[\"RATE\"], 1)\n",
    "p = np.poly1d(z)\n",
    "corrcoef = np.corrcoef(subset.index, subset[\"RATE\"])[0][1]\n",
    "\n",
    "fig, ax = plt.subplots(figsize=(6, 4))\n",
    "ax.scatter(subset.index, subset[\"RATE\"])\n",
    "ax.plot(subset.index, p(subset.index), color=\"black\", linestyle=\"--\")\n",
    "ax.set_xlabel(\"State alphabetical rank\")\n",
    "ax.set_ylabel(\"State murder rate (per 100,000)\")\n",
    "plt.show()\n",
    "print(f\"Correlation coefficient: {corrcoef:.2f}\")"
   ]
  }
 ],
 "metadata": {
  "language_info": {
   "codemirror_mode": {
    "name": "ipython",
    "version": 3
   },
   "file_extension": ".py",
   "mimetype": "text/x-python",
   "name": "python",
   "nbconvert_exporter": "python",
   "pygments_lexer": "ipython3",
   "version": "3.8.2"
  }
 },
 "nbformat": 4,
 "nbformat_minor": 5
}
