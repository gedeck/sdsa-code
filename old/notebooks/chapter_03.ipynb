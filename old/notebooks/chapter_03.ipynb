{
 "cells": [
  {
   "cell_type": "markdown",
   "id": "8b1b4dee",
   "metadata": {},
   "source": [
    "# Chapter 03 \n",
    " Statistics for Data Science and Analytics<br>\n",
    "by Peter C. Bruce, Peter Gedeck, Janet F. Dobbins\n",
    "\n",
    "Publisher: Wiley; 1st edition (2024) <br>\n",
    "<!-- ISBN-13: 978-3031075650 -->\n",
    "\n",
    "(c) 2024 Peter C. Bruce, Peter Gedeck, Janet F. Dobbin\n",
    "\n",
    "The code needs to be executed in sequence.\n",
    "\n",
    "Python packages and Python itself change over time. This can cause warnings or errors. We\n",
    "\"Warnings\" are for information only and can usually be ignored. \n",
    "\"Errors\" will stop execution and need to be fixed in order to get results. \n",
    "\n",
    "If you come across an issue with the code, please follow these steps\n",
    "\n",
    "- Check the repository (https://gedeck.github.io/sdsa-code-solutions/) to see if the code has been upgraded. This might solve the problem.\n",
    "- Report the problem using the issue tracker at https://github.com/gedeck/sdsa-code-solutions/issues\n",
    "- Paste the error message into Google and see if someone else already found a solution"
   ]
  },
  {
   "cell_type": "markdown",
   "id": "599054d4",
   "metadata": {},
   "source": [
    " Load required packages"
   ]
  },
  {
   "cell_type": "code",
   "execution_count": 2,
   "id": "bedecacf",
   "metadata": {
    "execution": {
     "iopub.execute_input": "2023-07-10T17:07:09.206175Z",
     "iopub.status.busy": "2023-07-10T17:07:09.205689Z",
     "iopub.status.idle": "2023-07-10T17:07:10.069501Z",
     "shell.execute_reply": "2023-07-10T17:07:10.069834Z"
    }
   },
   "outputs": [],
   "source": [
    "import numpy as np\n",
    "import pandas as pd\n",
    "import matplotlib.pyplot as plt\n",
    "from scipy import stats"
   ]
  },
  {
   "cell_type": "markdown",
   "id": "0da8b737",
   "metadata": {},
   "source": [
    "# Example: College admissions data"
   ]
  },
  {
   "cell_type": "code",
   "execution_count": 3,
   "id": "bf512fb5",
   "metadata": {
    "execution": {
     "iopub.execute_input": "2023-07-10T17:07:10.074323Z",
     "iopub.status.busy": "2023-07-10T17:07:10.073850Z",
     "iopub.status.idle": "2023-07-10T17:07:10.306103Z",
     "shell.execute_reply": "2023-07-10T17:07:10.306423Z"
    }
   },
   "outputs": [
    {
     "name": "stderr",
     "output_type": "stream",
     "text": [
      "/var/folders/r1/xrnxjjpj5g992x3yhwtj4nvh0000gn/T/ipykernel_63804/1782620112.py:2: UserWarning: Boolean Series key will be reindexed to match DataFrame index.\n",
      "  subset = df[df[\"Major\"] != \"Other\"][df[\"Major\"] != \" \"][[\"Major\", \"Gender\"]]\n"
     ]
    },
    {
     "data": {
      "text/html": [
       "<div>\n",
       "<style scoped>\n",
       "    .dataframe tbody tr th:only-of-type {\n",
       "        vertical-align: middle;\n",
       "    }\n",
       "\n",
       "    .dataframe tbody tr th {\n",
       "        vertical-align: top;\n",
       "    }\n",
       "\n",
       "    .dataframe thead th {\n",
       "        text-align: right;\n",
       "    }\n",
       "</style>\n",
       "<table border=\"1\" class=\"dataframe\">\n",
       "  <thead>\n",
       "    <tr style=\"text-align: right;\">\n",
       "      <th>Major</th>\n",
       "      <th>A</th>\n",
       "      <th>B</th>\n",
       "      <th>C</th>\n",
       "      <th>D</th>\n",
       "      <th>E</th>\n",
       "      <th>F</th>\n",
       "      <th>All</th>\n",
       "    </tr>\n",
       "    <tr>\n",
       "      <th>Gender</th>\n",
       "      <th></th>\n",
       "      <th></th>\n",
       "      <th></th>\n",
       "      <th></th>\n",
       "      <th></th>\n",
       "      <th></th>\n",
       "      <th></th>\n",
       "    </tr>\n",
       "  </thead>\n",
       "  <tbody>\n",
       "    <tr>\n",
       "      <th>F</th>\n",
       "      <td>108</td>\n",
       "      <td>25</td>\n",
       "      <td>593</td>\n",
       "      <td>375</td>\n",
       "      <td>393</td>\n",
       "      <td>341</td>\n",
       "      <td>1835</td>\n",
       "    </tr>\n",
       "    <tr>\n",
       "      <th>M</th>\n",
       "      <td>1138</td>\n",
       "      <td>560</td>\n",
       "      <td>325</td>\n",
       "      <td>417</td>\n",
       "      <td>191</td>\n",
       "      <td>373</td>\n",
       "      <td>3004</td>\n",
       "    </tr>\n",
       "    <tr>\n",
       "      <th>All</th>\n",
       "      <td>1246</td>\n",
       "      <td>585</td>\n",
       "      <td>918</td>\n",
       "      <td>792</td>\n",
       "      <td>584</td>\n",
       "      <td>714</td>\n",
       "      <td>4839</td>\n",
       "    </tr>\n",
       "  </tbody>\n",
       "</table>\n",
       "</div>"
      ],
      "text/plain": [
       "Major      A    B    C    D    E    F   All\n",
       "Gender                                     \n",
       "F        108   25  593  375  393  341  1835\n",
       "M       1138  560  325  417  191  373  3004\n",
       "All     1246  585  918  792  584  714  4839"
      ]
     },
     "execution_count": 1,
     "metadata": {},
     "output_type": "execute_result"
    }
   ],
   "source": [
    "df = pd.read_csv(\"berkeley.csv\")\n",
    "subset = df[df[\"Major\"] != \"Other\"][df[\"Major\"] != \" \"][[\"Major\", \"Gender\"]]\n",
    "pd.crosstab(subset[\"Gender\"], subset[\"Major\"], margins=True)"
   ]
  },
  {
   "cell_type": "markdown",
   "id": "c5fca836",
   "metadata": {},
   "source": [
    "# Normal distribution $p > x$"
   ]
  },
  {
   "cell_type": "code",
   "execution_count": 4,
   "id": "408009cf",
   "metadata": {
    "execution": {
     "iopub.execute_input": "2023-07-10T17:07:10.311826Z",
     "iopub.status.busy": "2023-07-10T17:07:10.311363Z",
     "iopub.status.idle": "2023-07-10T17:07:10.819752Z",
     "shell.execute_reply": "2023-07-10T17:07:10.820092Z"
    }
   },
   "outputs": [
    {
     "data": {
      "image/png": "[encoded data removed]",
      "text/plain": [
       "<Figure size 600x400 with 1 Axes>"
      ]
     },
     "metadata": {},
     "output_type": "display_data"
    }
   ],
   "source": [
    "x = np.linspace(-3, 3, 401)\n",
    "y = stats.norm.pdf(x)\n",
    "\n",
    "fig, ax = plt.subplots(figsize=[6, 4])\n",
    "ax.plot(x, y, c=\"black\")\n",
    "\n",
    "ax.fill_between(x[x>1], y[x>1], color=\"lightgrey\")\n",
    "\n",
    "ax.text(2, 0.15, \"$P(x>1)$\", horizontalalignment=\"center\")\n",
    "\n",
    "ax.set_xlabel(\"x\")\n",
    "ax.set_ylabel(\"Density\")\n",
    "plt.show()"
   ]
  }
 ],
 "metadata": {
  "language_info": {
   "codemirror_mode": {
    "name": "ipython",
    "version": 3
   },
   "file_extension": ".py",
   "mimetype": "text/x-python",
   "name": "python",
   "nbconvert_exporter": "python",
   "pygments_lexer": "ipython3",
   "version": "3.8.2"
  }
 },
 "nbformat": 4,
 "nbformat_minor": 5
}
