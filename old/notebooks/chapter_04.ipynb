{
 "cells": [
  {
   "cell_type": "markdown",
   "id": "bba6adc9",
   "metadata": {},
   "source": [
    "# Chapter 04 \n",
    " Statistics for Data Science and Analytics<br>\n",
    "by Peter C. Bruce, Peter Gedeck, Janet F. Dobbins\n",
    "\n",
    "Publisher: Wiley; 1st edition (2024) <br>\n",
    "<!-- ISBN-13: 978-3031075650 -->\n",
    "\n",
    "(c) 2024 Peter C. Bruce, Peter Gedeck, Janet F. Dobbins\n",
    "\n",
    "The code needs to be executed in sequence.\n",
    "\n",
    "Python packages and Python itself change over time. This can cause warnings or errors. We\n",
    "\"Warnings\" are for information only and can usually be ignored. \n",
    "\"Errors\" will stop execution and need to be fixed in order to get results. \n",
    "\n",
    "If you come across an issue with the code, please follow these steps\n",
    "\n",
    "- Check the repository (https://gedeck.github.io/sdsa-code-solutions/) to see if the code has been upgraded. This might solve the problem.\n",
    "- Report the problem using the issue tracker at https://github.com/gedeck/sdsa-code-solutions/issues\n",
    "- Paste the error message into Google and see if someone else already found a solution"
   ]
  },
  {
   "cell_type": "markdown",
   "id": "bc3c1338",
   "metadata": {},
   "source": [
    " Load required packages"
   ]
  },
  {
   "cell_type": "code",
   "execution_count": 2,
   "id": "bfd7913d",
   "metadata": {
    "execution": {
     "iopub.execute_input": "2023-08-11T18:38:22.045005Z",
     "iopub.status.busy": "2023-08-11T18:38:22.044322Z",
     "iopub.status.idle": "2023-08-11T18:38:22.737472Z",
     "shell.execute_reply": "2023-08-11T18:38:22.738052Z"
    }
   },
   "outputs": [],
   "source": [
    "import random\n",
    "import numpy as np\n",
    "import pandas as pd\n",
    "import matplotlib.pyplot as plt"
   ]
  },
  {
   "cell_type": "code",
   "execution_count": 3,
   "id": "a0f8723e",
   "metadata": {
    "execution": {
     "iopub.execute_input": "2023-08-11T18:38:22.742406Z",
     "iopub.status.busy": "2023-08-11T18:38:22.741786Z",
     "iopub.status.idle": "2023-08-11T18:38:22.753733Z",
     "shell.execute_reply": "2023-08-11T18:38:22.754139Z"
    }
   },
   "outputs": [],
   "source": [
    "df = pd.read_csv(\"berkeley.csv\")\n",
    "df = df[df[\"Major\"] != \"Other\"]"
   ]
  },
  {
   "cell_type": "markdown",
   "id": "bdebee31",
   "metadata": {},
   "source": [
    " All applicants for department A"
   ]
  },
  {
   "cell_type": "code",
   "execution_count": 4,
   "id": "6af37644",
   "metadata": {
    "execution": {
     "iopub.execute_input": "2023-08-11T18:38:22.761302Z",
     "iopub.status.busy": "2023-08-11T18:38:22.758866Z",
     "iopub.status.idle": "2023-08-11T18:38:22.789044Z",
     "shell.execute_reply": "2023-08-11T18:38:22.789498Z"
    }
   },
   "outputs": [
    {
     "data": {
      "text/html": [
       "<div>\n",
       "<style scoped>\n",
       "    .dataframe tbody tr th:only-of-type {\n",
       "        vertical-align: middle;\n",
       "    }\n",
       "\n",
       "    .dataframe tbody tr th {\n",
       "        vertical-align: top;\n",
       "    }\n",
       "\n",
       "    .dataframe thead th {\n",
       "        text-align: right;\n",
       "    }\n",
       "</style>\n",
       "<table border=\"1\" class=\"dataframe\">\n",
       "  <thead>\n",
       "    <tr style=\"text-align: right;\">\n",
       "      <th>Gender</th>\n",
       "      <th>F</th>\n",
       "      <th>M</th>\n",
       "      <th>All</th>\n",
       "    </tr>\n",
       "    <tr>\n",
       "      <th>Admission</th>\n",
       "      <th></th>\n",
       "      <th></th>\n",
       "      <th></th>\n",
       "    </tr>\n",
       "  </thead>\n",
       "  <tbody>\n",
       "    <tr>\n",
       "      <th>Accepted</th>\n",
       "      <td>89</td>\n",
       "      <td>825</td>\n",
       "      <td>914</td>\n",
       "    </tr>\n",
       "    <tr>\n",
       "      <th>Rejected</th>\n",
       "      <td>19</td>\n",
       "      <td>313</td>\n",
       "      <td>332</td>\n",
       "    </tr>\n",
       "    <tr>\n",
       "      <th>All</th>\n",
       "      <td>108</td>\n",
       "      <td>1138</td>\n",
       "      <td>1246</td>\n",
       "    </tr>\n",
       "  </tbody>\n",
       "</table>\n",
       "</div>"
      ],
      "text/plain": [
       "Gender       F     M   All\n",
       "Admission                 \n",
       "Accepted    89   825   914\n",
       "Rejected    19   313   332\n",
       "All        108  1138  1246"
      ]
     },
     "execution_count": 1,
     "metadata": {},
     "output_type": "execute_result"
    }
   ],
   "source": [
    "subset = df[df[\"Major\"] == \"A\"]\n",
    "pd.crosstab(subset[\"Admission\"], subset[\"Gender\"], margins=True)"
   ]
  },
  {
   "cell_type": "markdown",
   "id": "4b0126e1",
   "metadata": {},
   "source": [
    " All applicants for department A (variation)"
   ]
  },
  {
   "cell_type": "code",
   "execution_count": 5,
   "id": "397b3244",
   "metadata": {
    "execution": {
     "iopub.execute_input": "2023-08-11T18:38:22.794040Z",
     "iopub.status.busy": "2023-08-11T18:38:22.793432Z",
     "iopub.status.idle": "2023-08-11T18:38:22.817833Z",
     "shell.execute_reply": "2023-08-11T18:38:22.818270Z"
    }
   },
   "outputs": [
    {
     "data": {
      "text/html": [
       "<div>\n",
       "<style scoped>\n",
       "    .dataframe tbody tr th:only-of-type {\n",
       "        vertical-align: middle;\n",
       "    }\n",
       "\n",
       "    .dataframe tbody tr th {\n",
       "        vertical-align: top;\n",
       "    }\n",
       "\n",
       "    .dataframe thead th {\n",
       "        text-align: right;\n",
       "    }\n",
       "</style>\n",
       "<table border=\"1\" class=\"dataframe\">\n",
       "  <thead>\n",
       "    <tr style=\"text-align: right;\">\n",
       "      <th>Admission</th>\n",
       "      <th>Accepted</th>\n",
       "      <th>Rejected</th>\n",
       "      <th>All</th>\n",
       "    </tr>\n",
       "    <tr>\n",
       "      <th>Gender</th>\n",
       "      <th></th>\n",
       "      <th></th>\n",
       "      <th></th>\n",
       "    </tr>\n",
       "  </thead>\n",
       "  <tbody>\n",
       "    <tr>\n",
       "      <th>F</th>\n",
       "      <td>89</td>\n",
       "      <td>19</td>\n",
       "      <td>108</td>\n",
       "    </tr>\n",
       "    <tr>\n",
       "      <th>M</th>\n",
       "      <td>825</td>\n",
       "      <td>313</td>\n",
       "      <td>1138</td>\n",
       "    </tr>\n",
       "    <tr>\n",
       "      <th>All</th>\n",
       "      <td>914</td>\n",
       "      <td>332</td>\n",
       "      <td>1246</td>\n",
       "    </tr>\n",
       "  </tbody>\n",
       "</table>\n",
       "</div>"
      ],
      "text/plain": [
       "Admission  Accepted  Rejected   All\n",
       "Gender                             \n",
       "F                89        19   108\n",
       "M               825       313  1138\n",
       "All             914       332  1246"
      ]
     },
     "execution_count": 1,
     "metadata": {},
     "output_type": "execute_result"
    }
   ],
   "source": [
    "subset = df[df[\"Major\"] == \"A\"]\n",
    "pd.crosstab(subset[\"Gender\"], subset[\"Admission\"], margins=True)"
   ]
  },
  {
   "cell_type": "markdown",
   "id": "bb28c01c",
   "metadata": {},
   "source": [
    " All applicants for department E"
   ]
  },
  {
   "cell_type": "code",
   "execution_count": 6,
   "id": "0e9f8aee",
   "metadata": {
    "execution": {
     "iopub.execute_input": "2023-08-11T18:38:22.823031Z",
     "iopub.status.busy": "2023-08-11T18:38:22.822336Z",
     "iopub.status.idle": "2023-08-11T18:38:22.846339Z",
     "shell.execute_reply": "2023-08-11T18:38:22.845874Z"
    }
   },
   "outputs": [
    {
     "data": {
      "text/html": [
       "<div>\n",
       "<style scoped>\n",
       "    .dataframe tbody tr th:only-of-type {\n",
       "        vertical-align: middle;\n",
       "    }\n",
       "\n",
       "    .dataframe tbody tr th {\n",
       "        vertical-align: top;\n",
       "    }\n",
       "\n",
       "    .dataframe thead th {\n",
       "        text-align: right;\n",
       "    }\n",
       "</style>\n",
       "<table border=\"1\" class=\"dataframe\">\n",
       "  <thead>\n",
       "    <tr style=\"text-align: right;\">\n",
       "      <th>Gender</th>\n",
       "      <th>F</th>\n",
       "      <th>M</th>\n",
       "      <th>All</th>\n",
       "    </tr>\n",
       "    <tr>\n",
       "      <th>Admission</th>\n",
       "      <th></th>\n",
       "      <th></th>\n",
       "      <th></th>\n",
       "    </tr>\n",
       "  </thead>\n",
       "  <tbody>\n",
       "    <tr>\n",
       "      <th>Accepted</th>\n",
       "      <td>94</td>\n",
       "      <td>53</td>\n",
       "      <td>147</td>\n",
       "    </tr>\n",
       "    <tr>\n",
       "      <th>Rejected</th>\n",
       "      <td>299</td>\n",
       "      <td>138</td>\n",
       "      <td>437</td>\n",
       "    </tr>\n",
       "    <tr>\n",
       "      <th>All</th>\n",
       "      <td>393</td>\n",
       "      <td>191</td>\n",
       "      <td>584</td>\n",
       "    </tr>\n",
       "  </tbody>\n",
       "</table>\n",
       "</div>"
      ],
      "text/plain": [
       "Gender       F    M  All\n",
       "Admission               \n",
       "Accepted    94   53  147\n",
       "Rejected   299  138  437\n",
       "All        393  191  584"
      ]
     },
     "execution_count": 1,
     "metadata": {},
     "output_type": "execute_result"
    }
   ],
   "source": [
    "subset = df[df[\"Major\"] == \"E\"]\n",
    "pd.crosstab(subset[\"Admission\"], subset[\"Gender\"], margins=True)"
   ]
  },
  {
   "cell_type": "markdown",
   "id": "40f05466",
   "metadata": {},
   "source": [
    " All applicants for department E (percent by column)"
   ]
  },
  {
   "cell_type": "code",
   "execution_count": 7,
   "id": "fa221485",
   "metadata": {
    "execution": {
     "iopub.execute_input": "2023-08-11T18:38:22.851945Z",
     "iopub.status.busy": "2023-08-11T18:38:22.851280Z",
     "iopub.status.idle": "2023-08-11T18:38:22.877528Z",
     "shell.execute_reply": "2023-08-11T18:38:22.877961Z"
    }
   },
   "outputs": [
    {
     "data": {
      "text/html": [
       "<div>\n",
       "<style scoped>\n",
       "    .dataframe tbody tr th:only-of-type {\n",
       "        vertical-align: middle;\n",
       "    }\n",
       "\n",
       "    .dataframe tbody tr th {\n",
       "        vertical-align: top;\n",
       "    }\n",
       "\n",
       "    .dataframe thead th {\n",
       "        text-align: right;\n",
       "    }\n",
       "</style>\n",
       "<table border=\"1\" class=\"dataframe\">\n",
       "  <thead>\n",
       "    <tr style=\"text-align: right;\">\n",
       "      <th>Gender</th>\n",
       "      <th>F</th>\n",
       "      <th>M</th>\n",
       "      <th>All</th>\n",
       "    </tr>\n",
       "    <tr>\n",
       "      <th>Admission</th>\n",
       "      <th></th>\n",
       "      <th></th>\n",
       "      <th></th>\n",
       "    </tr>\n",
       "  </thead>\n",
       "  <tbody>\n",
       "    <tr>\n",
       "      <th>Accepted</th>\n",
       "      <td>23.92</td>\n",
       "      <td>27.75</td>\n",
       "      <td>25.17</td>\n",
       "    </tr>\n",
       "    <tr>\n",
       "      <th>Rejected</th>\n",
       "      <td>76.08</td>\n",
       "      <td>72.25</td>\n",
       "      <td>74.83</td>\n",
       "    </tr>\n",
       "  </tbody>\n",
       "</table>\n",
       "</div>"
      ],
      "text/plain": [
       "Gender         F      M    All\n",
       "Admission                     \n",
       "Accepted   23.92  27.75  25.17\n",
       "Rejected   76.08  72.25  74.83"
      ]
     },
     "execution_count": 1,
     "metadata": {},
     "output_type": "execute_result"
    }
   ],
   "source": [
    "(pd.crosstab(subset[\"Admission\"], subset[\"Gender\"],\n",
    "             margins=True, normalize=\"columns\") * 100).round(2)"
   ]
  },
  {
   "cell_type": "markdown",
   "id": "c1f52f4b",
   "metadata": {},
   "source": [
    "## Resampling experiment"
   ]
  },
  {
   "cell_type": "code",
   "execution_count": 8,
   "id": "16104c1b",
   "metadata": {
    "execution": {
     "iopub.execute_input": "2023-08-11T18:38:22.958047Z",
     "iopub.status.busy": "2023-08-11T18:38:22.918325Z",
     "iopub.status.idle": "2023-08-11T18:38:23.395836Z",
     "shell.execute_reply": "2023-08-11T18:38:23.396286Z"
    }
   },
   "outputs": [
    {
     "name": "stdout",
     "output_type": "stream",
     "text": [
      "First trial difference -2.27\n",
      "Number of extreme trials = 354\n",
      "p_value = 0.1770\n"
     ]
    }
   ],
   "source": [
    "random.seed(123)\n",
    "hat = [1] * 147 + [0] * 437\n",
    "\n",
    "differences = []\n",
    "for _ in range(2_000):\n",
    "    random.shuffle(hat)\n",
    "    females = hat[:393]\n",
    "    males = hat[393:]\n",
    "    # calculate difference and admission rates for females and males\n",
    "    admit_females = 100 * sum(females) / len(females)\n",
    "    admit_males = 100 * sum(males) / len(males)\n",
    "    differences.append(admit_females - admit_males)\n",
    "\n",
    "observed = -3.83\n",
    "n_extreme = sum(np.array(differences) <= observed)\n",
    "p_value = n_extreme / len(differences)\n",
    "print(f\"First trial difference {differences[0]:.2f}\")\n",
    "print(f\"Number of extreme trials = {n_extreme}\")\n",
    "print(f\"p_value = {p_value:.4f}\")"
   ]
  },
  {
   "cell_type": "markdown",
   "id": "c0bddf94",
   "metadata": {},
   "source": [
    " Visualize the distribution of differences"
   ]
  },
  {
   "cell_type": "code",
   "execution_count": 9,
   "id": "aa1236f8",
   "metadata": {
    "execution": {
     "iopub.execute_input": "2023-08-11T18:38:23.400920Z",
     "iopub.status.busy": "2023-08-11T18:38:23.400300Z",
     "iopub.status.idle": "2023-08-11T18:38:23.885401Z",
     "shell.execute_reply": "2023-08-11T18:38:23.885835Z"
    }
   },
   "outputs": [
    {
     "data": {
      "image/png": "[encoded data removed]",
      "text/plain": [
       "<Figure size 800x400 with 1 Axes>"
      ]
     },
     "metadata": {},
     "output_type": "display_data"
    }
   ],
   "source": [
    "fig, ax = plt.subplots(figsize=(8, 4))\n",
    "ax.hist(differences, bins=30, color=\"C0\")\n",
    "ax.axvline(observed, color=\"black\", linestyle=\"--\")\n",
    "ax.set_xlabel(\"Difference in Admission Rates\")\n",
    "ax.set_ylabel(\"Frequency\")\n",
    "plt.show()"
   ]
  },
  {
   "cell_type": "markdown",
   "id": "aed9edc7",
   "metadata": {},
   "source": [
    "# Example: smoking and gender"
   ]
  },
  {
   "cell_type": "markdown",
   "id": "70035fb9",
   "metadata": {},
   "source": [
    " Load and process the data"
   ]
  },
  {
   "cell_type": "code",
   "execution_count": 10,
   "id": "ccca2a87",
   "metadata": {
    "execution": {
     "iopub.execute_input": "2023-08-11T18:38:23.889723Z",
     "iopub.status.busy": "2023-08-11T18:38:23.889116Z",
     "iopub.status.idle": "2023-08-11T18:38:23.899329Z",
     "shell.execute_reply": "2023-08-11T18:38:23.899866Z"
    }
   },
   "outputs": [
    {
     "data": {
      "text/html": [
       "<div>\n",
       "<style scoped>\n",
       "    .dataframe tbody tr th:only-of-type {\n",
       "        vertical-align: middle;\n",
       "    }\n",
       "\n",
       "    .dataframe tbody tr th {\n",
       "        vertical-align: top;\n",
       "    }\n",
       "\n",
       "    .dataframe thead th {\n",
       "        text-align: right;\n",
       "    }\n",
       "</style>\n",
       "<table border=\"1\" class=\"dataframe\">\n",
       "  <thead>\n",
       "    <tr style=\"text-align: right;\">\n",
       "      <th></th>\n",
       "      <th>PuBefore</th>\n",
       "      <th>PuAfter</th>\n",
       "      <th>Ran?</th>\n",
       "      <th>Smokes?</th>\n",
       "      <th>Sex</th>\n",
       "      <th>Height</th>\n",
       "      <th>Weight</th>\n",
       "      <th>ActivityL</th>\n",
       "    </tr>\n",
       "  </thead>\n",
       "  <tbody>\n",
       "    <tr>\n",
       "      <th>0</th>\n",
       "      <td>48</td>\n",
       "      <td>54</td>\n",
       "      <td>no</td>\n",
       "      <td>yes</td>\n",
       "      <td>male</td>\n",
       "      <td>68.0</td>\n",
       "      <td>150</td>\n",
       "      <td>1</td>\n",
       "    </tr>\n",
       "    <tr>\n",
       "      <th>1</th>\n",
       "      <td>54</td>\n",
       "      <td>56</td>\n",
       "      <td>no</td>\n",
       "      <td>yes</td>\n",
       "      <td>male</td>\n",
       "      <td>69.0</td>\n",
       "      <td>145</td>\n",
       "      <td>2</td>\n",
       "    </tr>\n",
       "    <tr>\n",
       "      <th>2</th>\n",
       "      <td>54</td>\n",
       "      <td>50</td>\n",
       "      <td>no</td>\n",
       "      <td>no</td>\n",
       "      <td>male</td>\n",
       "      <td>69.0</td>\n",
       "      <td>160</td>\n",
       "      <td>2</td>\n",
       "    </tr>\n",
       "    <tr>\n",
       "      <th>3</th>\n",
       "      <td>58</td>\n",
       "      <td>70</td>\n",
       "      <td>yes</td>\n",
       "      <td>no</td>\n",
       "      <td>male</td>\n",
       "      <td>72.0</td>\n",
       "      <td>145</td>\n",
       "      <td>2</td>\n",
       "    </tr>\n",
       "    <tr>\n",
       "      <th>4</th>\n",
       "      <td>58</td>\n",
       "      <td>58</td>\n",
       "      <td>no</td>\n",
       "      <td>no</td>\n",
       "      <td>male</td>\n",
       "      <td>66.0</td>\n",
       "      <td>135</td>\n",
       "      <td>3</td>\n",
       "    </tr>\n",
       "  </tbody>\n",
       "</table>\n",
       "</div>"
      ],
      "text/plain": [
       "   PuBefore  PuAfter Ran? Smokes?   Sex  Height  Weight  ActivityL\n",
       "0        48       54   no     yes  male    68.0     150          1\n",
       "1        54       56   no     yes  male    69.0     145          2\n",
       "2        54       50   no      no  male    69.0     160          2\n",
       "3        58       70  yes      no  male    72.0     145          2\n",
       "4        58       58   no      no  male    66.0     135          3"
      ]
     },
     "execution_count": 1,
     "metadata": {},
     "output_type": "execute_result"
    }
   ],
   "source": [
    "data = pd.read_csv(\"PulseNew.csv\")\n",
    "data.head()"
   ]
  },
  {
   "cell_type": "markdown",
   "id": "c20adee7",
   "metadata": {},
   "source": [
    " Create 2x2 table"
   ]
  },
  {
   "cell_type": "code",
   "execution_count": 11,
   "id": "187c0f0a",
   "metadata": {
    "execution": {
     "iopub.execute_input": "2023-08-11T18:38:23.930229Z",
     "iopub.status.busy": "2023-08-11T18:38:23.929474Z",
     "iopub.status.idle": "2023-08-11T18:38:23.931847Z",
     "shell.execute_reply": "2023-08-11T18:38:23.932406Z"
    }
   },
   "outputs": [
    {
     "data": {
      "text/html": [
       "<div>\n",
       "<style scoped>\n",
       "    .dataframe tbody tr th:only-of-type {\n",
       "        vertical-align: middle;\n",
       "    }\n",
       "\n",
       "    .dataframe tbody tr th {\n",
       "        vertical-align: top;\n",
       "    }\n",
       "\n",
       "    .dataframe thead th {\n",
       "        text-align: right;\n",
       "    }\n",
       "</style>\n",
       "<table border=\"1\" class=\"dataframe\">\n",
       "  <thead>\n",
       "    <tr style=\"text-align: right;\">\n",
       "      <th>Sex</th>\n",
       "      <th>female</th>\n",
       "      <th>male</th>\n",
       "      <th>All</th>\n",
       "    </tr>\n",
       "    <tr>\n",
       "      <th>Smokes?</th>\n",
       "      <th></th>\n",
       "      <th></th>\n",
       "      <th></th>\n",
       "    </tr>\n",
       "  </thead>\n",
       "  <tbody>\n",
       "    <tr>\n",
       "      <th>no</th>\n",
       "      <td>77.14</td>\n",
       "      <td>64.91</td>\n",
       "      <td>69.57</td>\n",
       "    </tr>\n",
       "    <tr>\n",
       "      <th>yes</th>\n",
       "      <td>22.86</td>\n",
       "      <td>35.09</td>\n",
       "      <td>30.43</td>\n",
       "    </tr>\n",
       "  </tbody>\n",
       "</table>\n",
       "</div>"
      ],
      "text/plain": [
       "Sex      female   male    All\n",
       "Smokes?                      \n",
       "no        77.14  64.91  69.57\n",
       "yes       22.86  35.09  30.43"
      ]
     },
     "execution_count": 1,
     "metadata": {},
     "output_type": "execute_result"
    }
   ],
   "source": [
    "ct = pd.crosstab(data[\"Smokes?\"], data[\"Sex\"], margins=True, normalize=\"columns\")\n",
    "100 * ct.round(4)"
   ]
  }
 ],
 "metadata": {
  "language_info": {
   "codemirror_mode": {
    "name": "ipython",
    "version": 3
   },
   "file_extension": ".py",
   "mimetype": "text/x-python",
   "name": "python",
   "nbconvert_exporter": "python",
   "pygments_lexer": "ipython3",
   "version": "3.8.2"
  }
 },
 "nbformat": 4,
 "nbformat_minor": 5
}
