{
 "cells": [
  {
   "cell_type": "markdown",
   "id": "6a4fa520",
   "metadata": {},
   "source": [
    "# Chapter 10 \n",
    " Statistics for Data Science and Analytics<br>\n",
    "by Peter C. Bruce, Peter Gedeck, Janet F. Dobbins\n",
    "\n",
    "Publisher: Wiley; 1st edition (2024) <br>\n",
    "<!-- ISBN-13: 978-3031075650 -->\n",
    "\n",
    "(c) 2024 Peter C. Bruce, Peter Gedeck, Janet F. Dobbins\n",
    "\n",
    "The code needs to be executed in sequence.\n",
    "\n",
    "Python packages and Python itself change over time. This can cause warnings or errors. We\n",
    "\"Warnings\" are for information only and can usually be ignored. \n",
    "\"Errors\" will stop execution and need to be fixed in order to get results. \n",
    "\n",
    "If you come across an issue with the code, please follow these steps\n",
    "\n",
    "- Check the repository (https://gedeck.github.io/sdsa-code-solutions/) to see if the code has been upgraded. This might solve the problem.\n",
    "- Report the problem using the issue tracker at https://github.com/gedeck/sdsa-code-solutions/issues\n",
    "- Paste the error message into Google and see if someone else already found a solution"
   ]
  },
  {
   "cell_type": "markdown",
   "id": "e37eb61d",
   "metadata": {},
   "source": [
    " Load required packages"
   ]
  },
  {
   "cell_type": "code",
   "execution_count": 2,
   "id": "d201c94b",
   "metadata": {
    "execution": {
     "iopub.execute_input": "2023-09-02T13:20:50.741958Z",
     "iopub.status.busy": "2023-09-02T13:20:50.741378Z",
     "iopub.status.idle": "2023-09-02T13:20:51.624662Z",
     "shell.execute_reply": "2023-09-02T13:20:51.625007Z"
    }
   },
   "outputs": [],
   "source": [
    "import random\n",
    "import numpy as np\n",
    "import pandas as pd\n",
    "import matplotlib.pyplot as plt\n",
    "from scipy import stats"
   ]
  },
  {
   "cell_type": "markdown",
   "id": "96733b8a",
   "metadata": {},
   "source": [
    "# Example: Gym trial conversions"
   ]
  },
  {
   "cell_type": "markdown",
   "id": "fa8eabe1",
   "metadata": {},
   "source": [
    " Implement the resampling procedure"
   ]
  },
  {
   "cell_type": "code",
   "execution_count": 3,
   "id": "ab60ed10",
   "metadata": {
    "execution": {
     "iopub.execute_input": "2023-09-02T13:20:51.660156Z",
     "iopub.status.busy": "2023-09-02T13:20:51.659147Z",
     "iopub.status.idle": "2023-09-02T13:20:51.661952Z",
     "shell.execute_reply": "2023-09-02T13:20:51.662316Z"
    }
   },
   "outputs": [
    {
     "name": "stdout",
     "output_type": "stream",
     "text": [
      "count above: 21\n",
      "p-value: 0.021\n"
     ]
    }
   ],
   "source": [
    "random.seed(123)\n",
    "box = [1, 0, 0, 0]\n",
    "n_ones = []\n",
    "for _ in range(1000):\n",
    "    # sample 165 times with replacement\n",
    "    n_ones.append(sum(random.choices(box, k=165)))\n",
    "n_ones = np.array(n_ones)\n",
    "count_above = sum(n_ones >= 53)\n",
    "p_value = count_above / len(n_ones)\n",
    "print(f\"count above: {count_above}\")\n",
    "print(f\"p-value: {p_value:.3f}\")"
   ]
  },
  {
   "cell_type": "markdown",
   "id": "dd3c0f5a",
   "metadata": {},
   "source": [
    " Plot the histogram"
   ]
  },
  {
   "cell_type": "code",
   "execution_count": 4,
   "id": "416f8bf7",
   "metadata": {
    "execution": {
     "iopub.execute_input": "2023-09-02T13:20:51.667054Z",
     "iopub.status.busy": "2023-09-02T13:20:51.666037Z",
     "iopub.status.idle": "2023-09-02T13:20:52.162587Z",
     "shell.execute_reply": "2023-09-02T13:20:52.162943Z"
    }
   },
   "outputs": [
    {
     "data": {
      "image/png": "[encoded data removed]",
      "text/plain": [
       "<Figure size 800x400 with 1 Axes>"
      ]
     },
     "metadata": {},
     "output_type": "display_data"
    }
   ],
   "source": [
    "fig, ax = plt.subplots(figsize=(8, 4))\n",
    "ax.hist(n_ones, bins=range(25, 61))\n",
    "ax.axvline(53, color=\"black\", linestyle=\"dashed\")\n",
    "ax.set_xlabel(\"Number of conversions\")\n",
    "ax.set_ylabel(\"Frequency\")\n",
    "plt.show()"
   ]
  },
  {
   "cell_type": "markdown",
   "id": "678e1371",
   "metadata": {},
   "source": [
    "# Example: Humidifier moisture output"
   ]
  },
  {
   "cell_type": "markdown",
   "id": "f5fee939",
   "metadata": {},
   "source": [
    " Load the dataset"
   ]
  },
  {
   "cell_type": "code",
   "execution_count": 5,
   "id": "57e5cfdc",
   "metadata": {
    "execution": {
     "iopub.execute_input": "2023-09-02T13:20:52.166634Z",
     "iopub.status.busy": "2023-09-02T13:20:52.166090Z",
     "iopub.status.idle": "2023-09-02T13:20:52.170995Z",
     "shell.execute_reply": "2023-09-02T13:20:52.171357Z"
    }
   },
   "outputs": [],
   "source": [
    "data = pd.read_csv(\"vendors.txt\", header=None)\n",
    "vendorA = data[0].to_numpy()[:12]\n",
    "vendorB = data[0].to_numpy()[12:]"
   ]
  },
  {
   "cell_type": "markdown",
   "id": "7f6bce7c",
   "metadata": {},
   "source": [
    "## Resampling procedure for the confidence interval"
   ]
  },
  {
   "cell_type": "code",
   "execution_count": 6,
   "id": "d95d797e",
   "metadata": {
    "execution": {
     "iopub.execute_input": "2023-09-02T13:20:52.183963Z",
     "iopub.status.busy": "2023-09-02T13:20:52.175629Z",
     "iopub.status.idle": "2023-09-02T13:20:52.212873Z",
     "shell.execute_reply": "2023-09-02T13:20:52.213213Z"
    }
   },
   "outputs": [
    {
     "name": "stdout",
     "output_type": "stream",
     "text": [
      "[13.51 14.18]\n"
     ]
    }
   ],
   "source": [
    "rng = np.random.default_rng(seed=123)\n",
    "box = list(vendorA)\n",
    "means = []\n",
    "for _ in range(1000):\n",
    "    resample = rng.choice(box, 12, replace=True)\n",
    "    means.append(np.mean(resample))\n",
    "ci_interval = np.percentile(means, [5, 95])\n",
    "print(ci_interval.round(2))"
   ]
  },
  {
   "cell_type": "markdown",
   "id": "262c5041",
   "metadata": {},
   "source": [
    " Plot the histogram"
   ]
  },
  {
   "cell_type": "code",
   "execution_count": 7,
   "id": "d190dd53",
   "metadata": {
    "execution": {
     "iopub.execute_input": "2023-09-02T13:20:52.232768Z",
     "iopub.status.busy": "2023-09-02T13:20:52.232187Z",
     "iopub.status.idle": "2023-09-02T13:20:52.530898Z",
     "shell.execute_reply": "2023-09-02T13:20:52.531378Z"
    }
   },
   "outputs": [
    {
     "data": {
      "image/png": "[encoded data removed]",
      "text/plain": [
       "<Figure size 800x400 with 1 Axes>"
      ]
     },
     "metadata": {},
     "output_type": "display_data"
    }
   ],
   "source": [
    "fig, ax = plt.subplots(figsize=(8, 4))\n",
    "ax.hist(means, bins=20)\n",
    "ax.axvline(14, color=\"darkgrey\")\n",
    "ax.set_xlabel(\"Mean moisture output (oz./hr)\")\n",
    "ax.set_ylabel(\"Frequency\")\n",
    "\n",
    "for ci in ci_interval:\n",
    "    ax.axvline(ci, color=\"black\")\n",
    "ax.plot(ci_interval, [180, 180], color=\"black\", linestyle=\"--\")\n",
    "ax.text(ci_interval.mean(), 170, \"90%-confidence interval\", ha=\"center\")\n",
    "plt.show()"
   ]
  },
  {
   "cell_type": "markdown",
   "id": "4fa17c25",
   "metadata": {},
   "source": [
    "## Formula approach for the confidence interval"
   ]
  },
  {
   "cell_type": "code",
   "execution_count": 8,
   "id": "e5244e67",
   "metadata": {
    "execution": {
     "iopub.execute_input": "2023-09-02T13:20:52.536530Z",
     "iopub.status.busy": "2023-09-02T13:20:52.535891Z",
     "iopub.status.idle": "2023-09-02T13:20:52.538063Z",
     "shell.execute_reply": "2023-09-02T13:20:52.538418Z"
    }
   },
   "outputs": [
    {
     "data": {
      "text/plain": [
       "array([13.48, 14.21])"
      ]
     },
     "execution_count": 1,
     "metadata": {},
     "output_type": "execute_result"
    }
   ],
   "source": [
    "ci_interval = stats.t.interval(0.9, 11, loc=vendorA.mean(), scale=vendorA.std(ddof=1)/np.sqrt(12))\n",
    "np.array(ci_interval).round(2)"
   ]
  },
  {
   "cell_type": "code",
   "execution_count": 9,
   "id": "e344d3ee",
   "metadata": {
    "execution": {
     "iopub.execute_input": "2023-09-02T13:20:52.543790Z",
     "iopub.status.busy": "2023-09-02T13:20:52.542699Z",
     "iopub.status.idle": "2023-09-02T13:20:52.546117Z",
     "shell.execute_reply": "2023-09-02T13:20:52.546472Z"
    }
   },
   "outputs": [
    {
     "name": "stdout",
     "output_type": "stream",
     "text": [
      "[[19.16949153  3.93220339  5.89830508]\n",
      " [19.83050847  4.06779661  6.10169492]]\n"
     ]
    },
    {
     "data": {
      "text/plain": [
       "20.40677966101695"
      ]
     },
     "execution_count": 1,
     "metadata": {},
     "output_type": "execute_result"
    }
   ],
   "source": [
    "observed = pd.DataFrame({\n",
    "    \"B\": {1: 15, 2: 3, 3: 11},\n",
    "    \"I\": {1: 24, 2: 5, 3: 1},\n",
    "}).transpose()\n",
    "\n",
    "# use scipy.stats.chi2_contingency to determine expected values\n",
    "_, _, _, expected = stats.chi2_contingency(observed)\n",
    "print(expected)\n",
    "# calculate sum of absolute differences\n",
    "np.abs(observed - expected).sum().sum()"
   ]
  },
  {
   "cell_type": "markdown",
   "id": "bb78c7db",
   "metadata": {},
   "source": [
    "# Chi Square Example"
   ]
  },
  {
   "cell_type": "code",
   "execution_count": 10,
   "id": "5a91fd66",
   "metadata": {
    "execution": {
     "iopub.execute_input": "2023-09-02T13:20:52.550939Z",
     "iopub.status.busy": "2023-09-02T13:20:52.550313Z",
     "iopub.status.idle": "2023-09-02T13:20:52.553378Z",
     "shell.execute_reply": "2023-09-02T13:20:52.553980Z"
    }
   },
   "outputs": [
    {
     "data": {
      "text/plain": [
       "(10.896437518420278,\n",
       " 0.004303964263659824,\n",
       " 2,\n",
       " array([[19.16949153,  3.93220339,  5.89830508],\n",
       "        [19.83050847,  4.06779661,  6.10169492]]))"
      ]
     },
     "execution_count": 1,
     "metadata": {},
     "output_type": "execute_result"
    }
   ],
   "source": [
    "chi2, p_value, dof, expected = stats.chi2_contingency(observed)\n",
    "stats.chi2_contingency(observed)"
   ]
  },
  {
   "cell_type": "markdown",
   "id": "412c7721",
   "metadata": {},
   "source": [
    "# Benford's law"
   ]
  },
  {
   "cell_type": "markdown",
   "id": "692ce379",
   "metadata": {},
   "source": [
    " Following the equation in the Wikipedia article, we can"
   ]
  },
  {
   "cell_type": "code",
   "execution_count": 11,
   "id": "dda6475f",
   "metadata": {
    "execution": {
     "iopub.execute_input": "2023-09-02T13:20:52.559611Z",
     "iopub.status.busy": "2023-09-02T13:20:52.559064Z",
     "iopub.status.idle": "2023-09-02T13:20:52.853645Z",
     "shell.execute_reply": "2023-09-02T13:20:52.854003Z"
    }
   },
   "outputs": [
    {
     "name": "stdout",
     "output_type": "stream",
     "text": [
      "   digit  expected\n",
      "0      1  0.301030\n",
      "1      2  0.176091\n",
      "2      3  0.124939\n",
      "3      4  0.096910\n",
      "4      5  0.079181\n",
      "5      6  0.066947\n",
      "6      7  0.057992\n",
      "7      8  0.051153\n",
      "8      9  0.045757\n"
     ]
    },
    {
     "data": {
      "image/png": "[encoded data removed]",
      "text/plain": [
       "<Figure size 800x500 with 1 Axes>"
      ]
     },
     "metadata": {},
     "output_type": "display_data"
    }
   ],
   "source": [
    "digits = np.arange(1, 10)\n",
    "benford = pd.DataFrame({\n",
    "    \"digit\": digits,\n",
    "    \"expected\": np.log10(1 + 1/digits),\n",
    "})\n",
    "print(benford)\n",
    "fig, ax = plt.subplots(figsize=(8, 5))\n",
    "ax.bar(benford[\"digit\"], benford[\"expected\"])\n",
    "ax.set_xticks(digits)\n",
    "ax.set_xlabel(\"Leading Digit\")\n",
    "ax.set_ylabel(\"Expected Probability\")\n",
    "plt.show()"
   ]
  },
  {
   "cell_type": "markdown",
   "id": "fdc8d599",
   "metadata": {},
   "source": [
    "# Resampling distributions of interior digits"
   ]
  },
  {
   "cell_type": "markdown",
   "id": "c605c02e",
   "metadata": {},
   "source": [
    " Look at an example of a resampling distribution of interior digits."
   ]
  },
  {
   "cell_type": "code",
   "execution_count": 12,
   "id": "2877d245",
   "metadata": {
    "execution": {
     "iopub.execute_input": "2023-09-02T13:20:52.882322Z",
     "iopub.status.busy": "2023-09-02T13:20:52.863666Z",
     "iopub.status.idle": "2023-09-02T13:20:53.170552Z",
     "shell.execute_reply": "2023-09-02T13:20:53.171026Z"
    }
   },
   "outputs": [
    {
     "data": {
      "image/png": "[encoded data removed]",
      "text/plain": [
       "<Figure size 800x500 with 1 Axes>"
      ]
     },
     "metadata": {},
     "output_type": "display_data"
    }
   ],
   "source": [
    "from collections import Counter\n",
    "\n",
    "random.seed(123)\n",
    "box = list(range(10))\n",
    "random.shuffle(box)\n",
    "resample = random.choices(box, k=315)\n",
    "counts = Counter(resample)\n",
    "df = pd.DataFrame({\n",
    "    \"count\": [counts[i] for i in range(10)],\n",
    "}, index=range(10))\n",
    "\n",
    "fig, ax = plt.subplots(figsize=(8, 5))\n",
    "ax.bar(df.index, df[\"count\"])\n",
    "ax.axhline(31.5, color=\"black\")\n",
    "ax.set_xlabel(\"Digit\")\n",
    "ax.set_ylabel(\"Count\")\n",
    "plt.show()"
   ]
  },
  {
   "cell_type": "markdown",
   "id": "c5dc74b9",
   "metadata": {},
   "source": [
    " Resampling experiment"
   ]
  },
  {
   "cell_type": "code",
   "execution_count": 13,
   "id": "c03ac920",
   "metadata": {
    "execution": {
     "iopub.execute_input": "2023-09-02T13:20:57.230275Z",
     "iopub.status.busy": "2023-09-02T13:20:57.229319Z",
     "iopub.status.idle": "2023-09-02T13:20:57.232722Z",
     "shell.execute_reply": "2023-09-02T13:20:57.233329Z"
    }
   },
   "outputs": [
    {
     "name": "stdout",
     "output_type": "stream",
     "text": [
      "Number of resamples with sum of absolute deviations >= 216: 0\n",
      "p-value = 0.0000\n"
     ]
    }
   ],
   "source": [
    "random.seed(123)\n",
    "box = list(range(10))\n",
    "differences = []\n",
    "for _ in range(10_000):\n",
    "    random.shuffle(box)\n",
    "    resample = random.choices(box, k=315)\n",
    "    counts = Counter(resample)\n",
    "    df = pd.DataFrame({\n",
    "        \"count\": [counts[i] for i in range(10)],\n",
    "    }, index=range(10))\n",
    "    differences.append(sum(abs(df[\"count\"] - 31.5)))\n",
    "differences = np.array(differences)\n",
    "above_216 = sum(differences >= 216)\n",
    "p_value = above_216 / len(differences)\n",
    "\n",
    "print(f\"Number of resamples with sum of absolute deviations >= 216: {above_216}\")\n",
    "print(f\"p-value = {p_value:.4f}\")"
   ]
  }
 ],
 "metadata": {
  "language_info": {
   "codemirror_mode": {
    "name": "ipython",
    "version": 3
   },
   "file_extension": ".py",
   "mimetype": "text/x-python",
   "name": "python",
   "nbconvert_exporter": "python",
   "pygments_lexer": "ipython3",
   "version": "3.8.2"
  }
 },
 "nbformat": 4,
 "nbformat_minor": 5
}
