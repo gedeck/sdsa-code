{
 "cells": [
  {
   "cell_type": "markdown",
   "id": "cf69ef49",
   "metadata": {},
   "source": [
    "# Chapter 01 \n",
    " Statistics for Data Science and Analytics<br>\n",
    "by Peter C. Bruce, Peter Gedeck, Janet F. Dobbins\n",
    "\n",
    "Publisher: Wiley; 1st edition (2024) <br>\n",
    "<!-- ISBN-13: 978-3031075650 -->\n",
    "\n",
    "(c) 2024 Peter C. Bruce, Peter Gedeck, Janet F. Dobbin\n",
    "\n",
    "The code needs to be executed in sequence.\n",
    "\n",
    "Python packages and Python itself change over time. This can cause warnings or errors. We\n",
    "\"Warnings\" are for information only and can usually be ignored. \n",
    "\"Errors\" will stop execution and need to be fixed in order to get results. \n",
    "\n",
    "If you come across an issue with the code, please follow these steps\n",
    "\n",
    "- Check the repository (https://gedeck.github.io/sdsa-code-solutions/) to see if the code has been upgraded. This might solve the problem.\n",
    "- Report the problem using the issue tracker at https://github.com/gedeck/sdsa-code-solutions/issues\n",
    "- Paste the error message into Google and see if someone else already found a solution"
   ]
  },
  {
   "cell_type": "markdown",
   "id": "c0a5c038",
   "metadata": {},
   "source": [
    "# Coint toss experiment"
   ]
  },
  {
   "cell_type": "code",
   "execution_count": 2,
   "id": "cfb12556",
   "metadata": {
    "execution": {
     "iopub.execute_input": "2023-07-10T17:14:48.294394Z",
     "iopub.status.busy": "2023-07-10T17:14:48.293660Z",
     "iopub.status.idle": "2023-07-10T17:14:48.296284Z",
     "shell.execute_reply": "2023-07-10T17:14:48.296757Z"
    }
   },
   "outputs": [
    {
     "name": "stdout",
     "output_type": "stream",
     "text": [
      "Counter({'H': 7, 'T': 3})\n"
     ]
    }
   ],
   "source": [
    "import random\n",
    "from collections import Counter\n",
    "\n",
    "# set random seed for reproducibility (you can use any number)\n",
    "random.seed(123)\n",
    "\n",
    "coin = [\"H\", \"T\"]\n",
    "\n",
    "# one trial: simulate 10 coin tosses and count number of heads and tails\n",
    "trial = random.choices(coin, k=10)\n",
    "counts = Counter(trial)\n",
    "print(counts)\n",
    "\n",
    "# keep track of numbers of heads\n",
    "nr_heads = [counts[\"H\"]]"
   ]
  },
  {
   "cell_type": "code",
   "execution_count": 3,
   "id": "1f830b75",
   "metadata": {
    "execution": {
     "iopub.execute_input": "2023-07-10T17:14:48.301467Z",
     "iopub.status.busy": "2023-07-10T17:14:48.300744Z",
     "iopub.status.idle": "2023-07-10T17:14:48.303043Z",
     "shell.execute_reply": "2023-07-10T17:14:48.303484Z"
    }
   },
   "outputs": [
    {
     "name": "stdout",
     "output_type": "stream",
     "text": [
      "Counter({'H': 9, 'T': 1})\n",
      "Counter({'T': 6, 'H': 4})\n",
      "Counter({'T': 6, 'H': 4})\n",
      "Counter({'T': 6, 'H': 4})\n",
      "Counter({'H': 6, 'T': 4})\n",
      "Counter({'H': 5, 'T': 5})\n",
      "Counter({'T': 5, 'H': 5})\n",
      "Counter({'H': 10})\n",
      "Counter({'H': 7, 'T': 3})\n",
      "Counter({'T': 6, 'H': 4})\n",
      "Counter({'T': 6, 'H': 4})\n"
     ]
    }
   ],
   "source": [
    "# repeat trial 11 more times\n",
    "for _ in range(11):\n",
    "    trial = random.choices(coin, k=10)\n",
    "    counts = Counter(trial)\n",
    "    print(counts)\n",
    "    nr_heads.append(counts[\"H\"])"
   ]
  },
  {
   "cell_type": "code",
   "execution_count": 4,
   "id": "9b110a95",
   "metadata": {
    "execution": {
     "iopub.execute_input": "2023-07-10T17:14:48.308157Z",
     "iopub.status.busy": "2023-07-10T17:14:48.307543Z",
     "iopub.status.idle": "2023-07-10T17:14:48.309614Z",
     "shell.execute_reply": "2023-07-10T17:14:48.310074Z"
    }
   },
   "outputs": [
    {
     "name": "stdout",
     "output_type": "stream",
     "text": [
      "Seven or more heads occurred in 24 trials\n"
     ]
    }
   ],
   "source": [
    "# repeat trial 100 more times\n",
    "for _ in range(100):\n",
    "    trial = random.choices(coin, k=10)\n",
    "    counts = Counter(trial)\n",
    "    nr_heads.append(counts[\"H\"])\n",
    "seven_or_more = sum(n >= 7 for n in nr_heads)\n",
    "print(f\"Seven or more heads occurred in {seven_or_more} trials\")"
   ]
  },
  {
   "cell_type": "markdown",
   "id": "21166e42",
   "metadata": {},
   "source": [
    "# Increase sample size for coin tosses"
   ]
  },
  {
   "cell_type": "code",
   "execution_count": 5,
   "id": "cd1083d6",
   "metadata": {
    "execution": {
     "iopub.execute_input": "2023-07-10T17:14:48.314296Z",
     "iopub.status.busy": "2023-07-10T17:14:48.313687Z",
     "iopub.status.idle": "2023-07-10T17:14:48.315796Z",
     "shell.execute_reply": "2023-07-10T17:14:48.316204Z"
    }
   },
   "outputs": [
    {
     "name": "stdout",
     "output_type": "stream",
     "text": [
      "Fourteen or more heads occurred in 0 trials\n"
     ]
    }
   ],
   "source": [
    "# we simulate 12 sets of 20 coin tosses\n",
    "nr_heads = []\n",
    "for _ in range(12):\n",
    "    trial = random.choices(coin, k=20)\n",
    "    counts = Counter(trial)\n",
    "    nr_heads.append(counts[\"H\"])\n",
    "fourteen_or_more = sum(n >= 14 for n in nr_heads)\n",
    "print(f\"Fourteen or more heads occurred in {fourteen_or_more} trials\")"
   ]
  },
  {
   "cell_type": "markdown",
   "id": "c9afec78",
   "metadata": {},
   "source": [
    "# Proportion of heads as a function of coin tosses"
   ]
  },
  {
   "cell_type": "code",
   "execution_count": 6,
   "id": "35c63b5d",
   "metadata": {
    "execution": {
     "iopub.execute_input": "2023-07-10T17:14:48.320833Z",
     "iopub.status.busy": "2023-07-10T17:14:48.320266Z",
     "iopub.status.idle": "2023-07-10T17:14:48.563954Z",
     "shell.execute_reply": "2023-07-10T17:14:48.564355Z"
    }
   },
   "outputs": [
    {
     "data": {
      "text/html": [
       "<div>\n",
       "<style scoped>\n",
       "    .dataframe tbody tr th:only-of-type {\n",
       "        vertical-align: middle;\n",
       "    }\n",
       "\n",
       "    .dataframe tbody tr th {\n",
       "        vertical-align: top;\n",
       "    }\n",
       "\n",
       "    .dataframe thead th {\n",
       "        text-align: right;\n",
       "    }\n",
       "</style>\n",
       "<table border=\"1\" class=\"dataframe\">\n",
       "  <thead>\n",
       "    <tr style=\"text-align: right;\">\n",
       "      <th></th>\n",
       "      <th>tosses</th>\n",
       "      <th>heads</th>\n",
       "      <th>proportion</th>\n",
       "    </tr>\n",
       "  </thead>\n",
       "  <tbody>\n",
       "    <tr>\n",
       "      <th>0</th>\n",
       "      <td>10</td>\n",
       "      <td>5</td>\n",
       "      <td>0.500000</td>\n",
       "    </tr>\n",
       "    <tr>\n",
       "      <th>1</th>\n",
       "      <td>20</td>\n",
       "      <td>12</td>\n",
       "      <td>0.600000</td>\n",
       "    </tr>\n",
       "    <tr>\n",
       "      <th>2</th>\n",
       "      <td>30</td>\n",
       "      <td>17</td>\n",
       "      <td>0.566667</td>\n",
       "    </tr>\n",
       "    <tr>\n",
       "      <th>3</th>\n",
       "      <td>40</td>\n",
       "      <td>20</td>\n",
       "      <td>0.500000</td>\n",
       "    </tr>\n",
       "    <tr>\n",
       "      <th>4</th>\n",
       "      <td>50</td>\n",
       "      <td>25</td>\n",
       "      <td>0.500000</td>\n",
       "    </tr>\n",
       "    <tr>\n",
       "      <th>5</th>\n",
       "      <td>60</td>\n",
       "      <td>29</td>\n",
       "      <td>0.483333</td>\n",
       "    </tr>\n",
       "    <tr>\n",
       "      <th>6</th>\n",
       "      <td>70</td>\n",
       "      <td>36</td>\n",
       "      <td>0.514286</td>\n",
       "    </tr>\n",
       "    <tr>\n",
       "      <th>7</th>\n",
       "      <td>80</td>\n",
       "      <td>39</td>\n",
       "      <td>0.487500</td>\n",
       "    </tr>\n",
       "    <tr>\n",
       "      <th>8</th>\n",
       "      <td>90</td>\n",
       "      <td>43</td>\n",
       "      <td>0.477778</td>\n",
       "    </tr>\n",
       "    <tr>\n",
       "      <th>9</th>\n",
       "      <td>100</td>\n",
       "      <td>50</td>\n",
       "      <td>0.500000</td>\n",
       "    </tr>\n",
       "    <tr>\n",
       "      <th>10</th>\n",
       "      <td>200</td>\n",
       "      <td>109</td>\n",
       "      <td>0.545000</td>\n",
       "    </tr>\n",
       "    <tr>\n",
       "      <th>11</th>\n",
       "      <td>300</td>\n",
       "      <td>158</td>\n",
       "      <td>0.526667</td>\n",
       "    </tr>\n",
       "    <tr>\n",
       "      <th>12</th>\n",
       "      <td>400</td>\n",
       "      <td>215</td>\n",
       "      <td>0.537500</td>\n",
       "    </tr>\n",
       "    <tr>\n",
       "      <th>13</th>\n",
       "      <td>500</td>\n",
       "      <td>273</td>\n",
       "      <td>0.546000</td>\n",
       "    </tr>\n",
       "    <tr>\n",
       "      <th>14</th>\n",
       "      <td>600</td>\n",
       "      <td>325</td>\n",
       "      <td>0.541667</td>\n",
       "    </tr>\n",
       "    <tr>\n",
       "      <th>15</th>\n",
       "      <td>700</td>\n",
       "      <td>367</td>\n",
       "      <td>0.524286</td>\n",
       "    </tr>\n",
       "    <tr>\n",
       "      <th>16</th>\n",
       "      <td>800</td>\n",
       "      <td>415</td>\n",
       "      <td>0.518750</td>\n",
       "    </tr>\n",
       "    <tr>\n",
       "      <th>17</th>\n",
       "      <td>900</td>\n",
       "      <td>467</td>\n",
       "      <td>0.518889</td>\n",
       "    </tr>\n",
       "    <tr>\n",
       "      <th>18</th>\n",
       "      <td>1000</td>\n",
       "      <td>520</td>\n",
       "      <td>0.520000</td>\n",
       "    </tr>\n",
       "    <tr>\n",
       "      <th>19</th>\n",
       "      <td>2000</td>\n",
       "      <td>1030</td>\n",
       "      <td>0.515000</td>\n",
       "    </tr>\n",
       "    <tr>\n",
       "      <th>20</th>\n",
       "      <td>3000</td>\n",
       "      <td>1499</td>\n",
       "      <td>0.499667</td>\n",
       "    </tr>\n",
       "    <tr>\n",
       "      <th>21</th>\n",
       "      <td>4000</td>\n",
       "      <td>1964</td>\n",
       "      <td>0.491000</td>\n",
       "    </tr>\n",
       "    <tr>\n",
       "      <th>22</th>\n",
       "      <td>5000</td>\n",
       "      <td>2465</td>\n",
       "      <td>0.493000</td>\n",
       "    </tr>\n",
       "    <tr>\n",
       "      <th>23</th>\n",
       "      <td>6000</td>\n",
       "      <td>2940</td>\n",
       "      <td>0.490000</td>\n",
       "    </tr>\n",
       "    <tr>\n",
       "      <th>24</th>\n",
       "      <td>7000</td>\n",
       "      <td>3440</td>\n",
       "      <td>0.491429</td>\n",
       "    </tr>\n",
       "    <tr>\n",
       "      <th>25</th>\n",
       "      <td>8000</td>\n",
       "      <td>3959</td>\n",
       "      <td>0.494875</td>\n",
       "    </tr>\n",
       "    <tr>\n",
       "      <th>26</th>\n",
       "      <td>9000</td>\n",
       "      <td>4466</td>\n",
       "      <td>0.496222</td>\n",
       "    </tr>\n",
       "    <tr>\n",
       "      <th>27</th>\n",
       "      <td>10000</td>\n",
       "      <td>4995</td>\n",
       "      <td>0.499500</td>\n",
       "    </tr>\n",
       "  </tbody>\n",
       "</table>\n",
       "</div>"
      ],
      "text/plain": [
       "    tosses  heads  proportion\n",
       "0       10      5    0.500000\n",
       "1       20     12    0.600000\n",
       "2       30     17    0.566667\n",
       "3       40     20    0.500000\n",
       "4       50     25    0.500000\n",
       "5       60     29    0.483333\n",
       "6       70     36    0.514286\n",
       "7       80     39    0.487500\n",
       "8       90     43    0.477778\n",
       "9      100     50    0.500000\n",
       "10     200    109    0.545000\n",
       "11     300    158    0.526667\n",
       "12     400    215    0.537500\n",
       "13     500    273    0.546000\n",
       "14     600    325    0.541667\n",
       "15     700    367    0.524286\n",
       "16     800    415    0.518750\n",
       "17     900    467    0.518889\n",
       "18    1000    520    0.520000\n",
       "19    2000   1030    0.515000\n",
       "20    3000   1499    0.499667\n",
       "21    4000   1964    0.491000\n",
       "22    5000   2465    0.493000\n",
       "23    6000   2940    0.490000\n",
       "24    7000   3440    0.491429\n",
       "25    8000   3959    0.494875\n",
       "26    9000   4466    0.496222\n",
       "27   10000   4995    0.499500"
      ]
     },
     "execution_count": 1,
     "metadata": {},
     "output_type": "execute_result"
    }
   ],
   "source": [
    "import pandas as pd\n",
    "nr_of_tosses = 0\n",
    "nr_of_heads = 0\n",
    "results = []\n",
    "for increment in [10, 100, 1000]:\n",
    "    for _ in range(10 if increment == 10 else 9):\n",
    "        tosses = random.choices(coin, k=increment)\n",
    "        nr_of_tosses += len(tosses)\n",
    "        nr_of_heads += sum(toss == \"H\" for toss in tosses)\n",
    "        results.append({\"tosses\": nr_of_tosses, \"heads\": nr_of_heads})\n",
    "df = pd.DataFrame(results)\n",
    "df[\"proportion\"] = df[\"heads\"] / df[\"tosses\"]\n",
    "df"
   ]
  },
  {
   "cell_type": "markdown",
   "id": "798c26a3",
   "metadata": {},
   "source": [
    " Visualize the results"
   ]
  },
  {
   "cell_type": "code",
   "execution_count": 7,
   "id": "077d0fc4",
   "metadata": {
    "execution": {
     "iopub.execute_input": "2023-07-10T17:14:48.568838Z",
     "iopub.status.busy": "2023-07-10T17:14:48.568301Z",
     "iopub.status.idle": "2023-07-10T17:14:49.486508Z",
     "shell.execute_reply": "2023-07-10T17:14:49.487004Z"
    }
   },
   "outputs": [
    {
     "data": {
      "image/png": "[encoded data removed]",
      "text/plain": [
       "<Figure size 640x480 with 1 Axes>"
      ]
     },
     "metadata": {},
     "output_type": "display_data"
    }
   ],
   "source": [
    "import matplotlib.pyplot as plt\n",
    "\n",
    "fig, ax = plt.subplots()\n",
    "df.plot(x=\"tosses\", y=\"proportion\", legend=False, ax=ax)\n",
    "ax.set_xscale(\"log\")\n",
    "ax.set_ylim(0.25, 0.75)\n",
    "ax.axhline(0.5, color=\"grey\")\n",
    "ax.axvline(100, linestyle=\":\")\n",
    "ax.axvline(1000, linestyle=\":\")\n",
    "ax.set_xlabel(\"Number of coin tosses\")\n",
    "ax.set_ylabel(\"Proportion of heads\")\n",
    "plt.show()"
   ]
  },
  {
   "cell_type": "markdown",
   "id": "9e69f6ad",
   "metadata": {},
   "source": [
    "# Example: Hospital error reduction"
   ]
  },
  {
   "cell_type": "markdown",
   "id": "7e5cefd3",
   "metadata": {},
   "source": [
    " Load the data"
   ]
  },
  {
   "cell_type": "code",
   "execution_count": 8,
   "id": "bc08f24e",
   "metadata": {
    "execution": {
     "iopub.execute_input": "2023-07-10T17:14:49.490800Z",
     "iopub.status.busy": "2023-07-10T17:14:49.490292Z",
     "iopub.status.idle": "2023-07-10T17:14:49.496019Z",
     "shell.execute_reply": "2023-07-10T17:14:49.496417Z"
    }
   },
   "outputs": [
    {
     "data": {
      "text/html": [
       "<div>\n",
       "<style scoped>\n",
       "    .dataframe tbody tr th:only-of-type {\n",
       "        vertical-align: middle;\n",
       "    }\n",
       "\n",
       "    .dataframe tbody tr th {\n",
       "        vertical-align: top;\n",
       "    }\n",
       "\n",
       "    .dataframe thead th {\n",
       "        text-align: right;\n",
       "    }\n",
       "</style>\n",
       "<table border=\"1\" class=\"dataframe\">\n",
       "  <thead>\n",
       "    <tr style=\"text-align: right;\">\n",
       "      <th></th>\n",
       "      <th>Control</th>\n",
       "      <th>Treatment</th>\n",
       "    </tr>\n",
       "  </thead>\n",
       "  <tbody>\n",
       "    <tr>\n",
       "      <th>0</th>\n",
       "      <td>1</td>\n",
       "      <td>2</td>\n",
       "    </tr>\n",
       "    <tr>\n",
       "      <th>1</th>\n",
       "      <td>1</td>\n",
       "      <td>2</td>\n",
       "    </tr>\n",
       "    <tr>\n",
       "      <th>2</th>\n",
       "      <td>1</td>\n",
       "      <td>2</td>\n",
       "    </tr>\n",
       "    <tr>\n",
       "      <th>3</th>\n",
       "      <td>1</td>\n",
       "      <td>2</td>\n",
       "    </tr>\n",
       "    <tr>\n",
       "      <th>4</th>\n",
       "      <td>1</td>\n",
       "      <td>2</td>\n",
       "    </tr>\n",
       "  </tbody>\n",
       "</table>\n",
       "</div>"
      ],
      "text/plain": [
       "   Control  Treatment\n",
       "0        1          2\n",
       "1        1          2\n",
       "2        1          2\n",
       "3        1          2\n",
       "4        1          2"
      ]
     },
     "execution_count": 1,
     "metadata": {},
     "output_type": "execute_result"
    }
   ],
   "source": [
    "data = pd.read_csv(\"hospitalerrors.csv\")\n",
    "data.head()"
   ]
  },
  {
   "cell_type": "markdown",
   "id": "c6b74525",
   "metadata": {},
   "source": [
    "## Central location"
   ]
  },
  {
   "cell_type": "markdown",
   "id": "588d47c9",
   "metadata": {},
   "source": [
    " Calculate the mean"
   ]
  },
  {
   "cell_type": "code",
   "execution_count": 9,
   "id": "3b4addde",
   "metadata": {
    "execution": {
     "iopub.execute_input": "2023-07-10T17:14:49.500956Z",
     "iopub.status.busy": "2023-07-10T17:14:49.500333Z",
     "iopub.status.idle": "2023-07-10T17:14:49.502694Z",
     "shell.execute_reply": "2023-07-10T17:14:49.503085Z"
    }
   },
   "outputs": [
    {
     "data": {
      "text/plain": [
       "Control      1.88\n",
       "Treatment    2.80\n",
       "dtype: float64"
      ]
     },
     "execution_count": 1,
     "metadata": {},
     "output_type": "execute_result"
    }
   ],
   "source": [
    "data.mean()"
   ]
  },
  {
   "cell_type": "markdown",
   "id": "bcdf7d2c",
   "metadata": {},
   "source": [
    " Calculate the median"
   ]
  },
  {
   "cell_type": "code",
   "execution_count": 10,
   "id": "d8e8b189",
   "metadata": {
    "execution": {
     "iopub.execute_input": "2023-07-10T17:14:49.507527Z",
     "iopub.status.busy": "2023-07-10T17:14:49.505984Z",
     "iopub.status.idle": "2023-07-10T17:14:49.509743Z",
     "shell.execute_reply": "2023-07-10T17:14:49.510123Z"
    }
   },
   "outputs": [
    {
     "data": {
      "text/plain": [
       "Control      2.0\n",
       "Treatment    2.0\n",
       "dtype: float64"
      ]
     },
     "execution_count": 1,
     "metadata": {},
     "output_type": "execute_result"
    }
   ],
   "source": [
    "data.median()"
   ]
  },
  {
   "cell_type": "markdown",
   "id": "1c4be765",
   "metadata": {},
   "source": [
    "## Variation"
   ]
  },
  {
   "cell_type": "markdown",
   "id": "cc1ba5de",
   "metadata": {},
   "source": [
    " Calculate the range"
   ]
  },
  {
   "cell_type": "code",
   "execution_count": 11,
   "id": "20c311c5",
   "metadata": {
    "execution": {
     "iopub.execute_input": "2023-07-10T17:14:49.514456Z",
     "iopub.status.busy": "2023-07-10T17:14:49.513916Z",
     "iopub.status.idle": "2023-07-10T17:14:49.515971Z",
     "shell.execute_reply": "2023-07-10T17:14:49.516384Z"
    }
   },
   "outputs": [
    {
     "data": {
      "text/plain": [
       "Control      4\n",
       "Treatment    7\n",
       "dtype: int64"
      ]
     },
     "execution_count": 1,
     "metadata": {},
     "output_type": "execute_result"
    }
   ],
   "source": [
    "data.max() - data.min()"
   ]
  },
  {
   "cell_type": "markdown",
   "id": "5822c33b",
   "metadata": {},
   "source": [
    " Calculate percentiles"
   ]
  },
  {
   "cell_type": "code",
   "execution_count": 12,
   "id": "349a085a",
   "metadata": {
    "execution": {
     "iopub.execute_input": "2023-07-10T17:14:49.519619Z",
     "iopub.status.busy": "2023-07-10T17:14:49.519117Z",
     "iopub.status.idle": "2023-07-10T17:14:49.524296Z",
     "shell.execute_reply": "2023-07-10T17:14:49.523834Z"
    }
   },
   "outputs": [
    {
     "data": {
      "text/html": [
       "<div>\n",
       "<style scoped>\n",
       "    .dataframe tbody tr th:only-of-type {\n",
       "        vertical-align: middle;\n",
       "    }\n",
       "\n",
       "    .dataframe tbody tr th {\n",
       "        vertical-align: top;\n",
       "    }\n",
       "\n",
       "    .dataframe thead th {\n",
       "        text-align: right;\n",
       "    }\n",
       "</style>\n",
       "<table border=\"1\" class=\"dataframe\">\n",
       "  <thead>\n",
       "    <tr style=\"text-align: right;\">\n",
       "      <th></th>\n",
       "      <th>Control</th>\n",
       "      <th>Treatment</th>\n",
       "    </tr>\n",
       "  </thead>\n",
       "  <tbody>\n",
       "    <tr>\n",
       "      <th>0.25</th>\n",
       "      <td>1.0</td>\n",
       "      <td>2.0</td>\n",
       "    </tr>\n",
       "    <tr>\n",
       "      <th>0.50</th>\n",
       "      <td>2.0</td>\n",
       "      <td>2.0</td>\n",
       "    </tr>\n",
       "    <tr>\n",
       "      <th>0.75</th>\n",
       "      <td>2.0</td>\n",
       "      <td>3.0</td>\n",
       "    </tr>\n",
       "  </tbody>\n",
       "</table>\n",
       "</div>"
      ],
      "text/plain": [
       "      Control  Treatment\n",
       "0.25      1.0        2.0\n",
       "0.50      2.0        2.0\n",
       "0.75      2.0        3.0"
      ]
     },
     "execution_count": 1,
     "metadata": {},
     "output_type": "execute_result"
    }
   ],
   "source": [
    "data.quantile([0.25, 0.5, 0.75])"
   ]
  },
  {
   "cell_type": "markdown",
   "id": "27f575bf",
   "metadata": {},
   "source": [
    " Calculate the interquartile range"
   ]
  },
  {
   "cell_type": "code",
   "execution_count": 13,
   "id": "48650e72",
   "metadata": {
    "execution": {
     "iopub.execute_input": "2023-07-10T17:14:49.528228Z",
     "iopub.status.busy": "2023-07-10T17:14:49.527157Z",
     "iopub.status.idle": "2023-07-10T17:14:49.530071Z",
     "shell.execute_reply": "2023-07-10T17:14:49.530552Z"
    }
   },
   "outputs": [
    {
     "data": {
      "text/plain": [
       "Control      1.0\n",
       "Treatment    1.0\n",
       "dtype: float64"
      ]
     },
     "execution_count": 1,
     "metadata": {},
     "output_type": "execute_result"
    }
   ],
   "source": [
    "data.quantile(0.75) - data.quantile(0.25)"
   ]
  },
  {
   "cell_type": "markdown",
   "id": "944af207",
   "metadata": {},
   "source": [
    " Calculate the mean absolute deviation"
   ]
  },
  {
   "cell_type": "code",
   "execution_count": 14,
   "id": "96e5f7eb",
   "metadata": {
    "execution": {
     "iopub.execute_input": "2023-07-10T17:14:49.534958Z",
     "iopub.status.busy": "2023-07-10T17:14:49.534408Z",
     "iopub.status.idle": "2023-07-10T17:14:49.536822Z",
     "shell.execute_reply": "2023-07-10T17:14:49.537164Z"
    }
   },
   "outputs": [
    {
     "data": {
      "text/plain": [
       "Control      0.8448\n",
       "Treatment    1.1520\n",
       "dtype: float64"
      ]
     },
     "execution_count": 1,
     "metadata": {},
     "output_type": "execute_result"
    }
   ],
   "source": [
    "data.mad()"
   ]
  },
  {
   "cell_type": "markdown",
   "id": "b1a126c4",
   "metadata": {},
   "source": [
    " Calculate the variance"
   ]
  },
  {
   "cell_type": "code",
   "execution_count": 15,
   "id": "5eb34bb6",
   "metadata": {
    "execution": {
     "iopub.execute_input": "2023-07-10T17:14:49.540905Z",
     "iopub.status.busy": "2023-07-10T17:14:49.540200Z",
     "iopub.status.idle": "2023-07-10T17:14:49.542313Z",
     "shell.execute_reply": "2023-07-10T17:14:49.542640Z"
    }
   },
   "outputs": [
    {
     "data": {
      "text/plain": [
       "Control      1.276667\n",
       "Treatment    2.833333\n",
       "dtype: float64"
      ]
     },
     "execution_count": 1,
     "metadata": {},
     "output_type": "execute_result"
    }
   ],
   "source": [
    "data.var()"
   ]
  },
  {
   "cell_type": "markdown",
   "id": "1255e5dd",
   "metadata": {},
   "source": [
    " Calculate the population variance; divide by $N-1$"
   ]
  },
  {
   "cell_type": "code",
   "execution_count": 16,
   "id": "e9cccba5",
   "metadata": {
    "execution": {
     "iopub.execute_input": "2023-07-10T17:14:49.546526Z",
     "iopub.status.busy": "2023-07-10T17:14:49.545871Z",
     "iopub.status.idle": "2023-07-10T17:14:49.548128Z",
     "shell.execute_reply": "2023-07-10T17:14:49.548457Z"
    }
   },
   "outputs": [
    {
     "data": {
      "text/plain": [
       "Control      1.2256\n",
       "Treatment    2.7200\n",
       "dtype: float64"
      ]
     },
     "execution_count": 1,
     "metadata": {},
     "output_type": "execute_result"
    }
   ],
   "source": [
    "data.var(ddof=0)"
   ]
  },
  {
   "cell_type": "markdown",
   "id": "21d8a3e1",
   "metadata": {},
   "source": [
    "# Example: Musical genre preferences"
   ]
  },
  {
   "cell_type": "markdown",
   "id": "f0ac1d3c",
   "metadata": {},
   "source": [
    " Create a data frame with the data"
   ]
  },
  {
   "cell_type": "code",
   "execution_count": 17,
   "id": "6f793c87",
   "metadata": {
    "execution": {
     "iopub.execute_input": "2023-07-10T17:14:49.554331Z",
     "iopub.status.busy": "2023-07-10T17:14:49.553767Z",
     "iopub.status.idle": "2023-07-10T17:14:49.555770Z",
     "shell.execute_reply": "2023-07-10T17:14:49.556096Z"
    }
   },
   "outputs": [
    {
     "data": {
      "text/html": [
       "<div>\n",
       "<style scoped>\n",
       "    .dataframe tbody tr th:only-of-type {\n",
       "        vertical-align: middle;\n",
       "    }\n",
       "\n",
       "    .dataframe tbody tr th {\n",
       "        vertical-align: top;\n",
       "    }\n",
       "\n",
       "    .dataframe thead th {\n",
       "        text-align: right;\n",
       "    }\n",
       "</style>\n",
       "<table border=\"1\" class=\"dataframe\">\n",
       "  <thead>\n",
       "    <tr style=\"text-align: right;\">\n",
       "      <th></th>\n",
       "      <th>Rock</th>\n",
       "      <th>Rap</th>\n",
       "      <th>Country</th>\n",
       "      <th>Jazz</th>\n",
       "      <th>New Age</th>\n",
       "    </tr>\n",
       "  </thead>\n",
       "  <tbody>\n",
       "    <tr>\n",
       "      <th>A</th>\n",
       "      <td>7</td>\n",
       "      <td>1</td>\n",
       "      <td>9</td>\n",
       "      <td>1</td>\n",
       "      <td>3</td>\n",
       "    </tr>\n",
       "    <tr>\n",
       "      <th>B</th>\n",
       "      <td>4</td>\n",
       "      <td>9</td>\n",
       "      <td>1</td>\n",
       "      <td>3</td>\n",
       "      <td>1</td>\n",
       "    </tr>\n",
       "    <tr>\n",
       "      <th>C</th>\n",
       "      <td>9</td>\n",
       "      <td>1</td>\n",
       "      <td>7</td>\n",
       "      <td>2</td>\n",
       "      <td>2</td>\n",
       "    </tr>\n",
       "  </tbody>\n",
       "</table>\n",
       "</div>"
      ],
      "text/plain": [
       "   Rock  Rap  Country  Jazz  New Age\n",
       "A     7    1        9     1        3\n",
       "B     4    9        1     3        1\n",
       "C     9    1        7     2        2"
      ]
     },
     "execution_count": 1,
     "metadata": {},
     "output_type": "execute_result"
    }
   ],
   "source": [
    "data = pd.DataFrame({\n",
    "    \"Rock\": [7, 4, 9],\n",
    "    \"Rap\": [1, 9, 1],\n",
    "    \"Country\": [9, 1, 7],\n",
    "    \"Jazz\": [1, 3, 2],\n",
    "    \"New Age\": [3, 1, 2],\n",
    "}, index=[\"A\", \"B\", \"C\"])\n",
    "data"
   ]
  },
  {
   "cell_type": "markdown",
   "id": "901e84b5",
   "metadata": {},
   "source": [
    " Calculate the Euclidean distance between A and C"
   ]
  },
  {
   "cell_type": "code",
   "execution_count": 18,
   "id": "1d02113a",
   "metadata": {
    "execution": {
     "iopub.execute_input": "2023-07-10T17:14:49.560035Z",
     "iopub.status.busy": "2023-07-10T17:14:49.559569Z",
     "iopub.status.idle": "2023-07-10T17:14:49.561457Z",
     "shell.execute_reply": "2023-07-10T17:14:49.561908Z"
    }
   },
   "outputs": [
    {
     "data": {
      "text/plain": [
       "3.1622776601683795"
      ]
     },
     "execution_count": 1,
     "metadata": {},
     "output_type": "execute_result"
    }
   ],
   "source": [
    "import numpy as np\n",
    "np.sqrt(np.sum((data.loc[\"A\"] - data.loc[\"C\"])**2))"
   ]
  },
  {
   "cell_type": "markdown",
   "id": "20cf82dc",
   "metadata": {},
   "source": [
    " and between B and C"
   ]
  },
  {
   "cell_type": "code",
   "execution_count": 19,
   "id": "06586427",
   "metadata": {
    "execution": {
     "iopub.execute_input": "2023-07-10T17:14:49.565327Z",
     "iopub.status.busy": "2023-07-10T17:14:49.564782Z",
     "iopub.status.idle": "2023-07-10T17:14:49.566861Z",
     "shell.execute_reply": "2023-07-10T17:14:49.567189Z"
    }
   },
   "outputs": [
    {
     "data": {
      "text/plain": [
       "11.269427669584644"
      ]
     },
     "execution_count": 1,
     "metadata": {},
     "output_type": "execute_result"
    }
   ],
   "source": [
    "np.sqrt(np.sum((data.loc[\"B\"] - data.loc[\"C\"])**2))"
   ]
  },
  {
   "cell_type": "markdown",
   "id": "509b28d8",
   "metadata": {},
   "source": [
    " The distance between A and C is less than the distance between B and C, so A and C are more similar."
   ]
  },
  {
   "cell_type": "markdown",
   "id": "5d6f212f",
   "metadata": {},
   "source": [
    "# Example: Reduction in major errors in hospitals (hypothetical extension of the earlier example)"
   ]
  },
  {
   "cell_type": "code",
   "execution_count": 20,
   "id": "53fe51f1",
   "metadata": {
    "execution": {
     "iopub.execute_input": "2023-07-10T17:14:49.570171Z",
     "iopub.status.busy": "2023-07-10T17:14:49.569706Z",
     "iopub.status.idle": "2023-07-10T17:14:49.572171Z",
     "shell.execute_reply": "2023-07-10T17:14:49.572660Z"
    }
   },
   "outputs": [],
   "source": [
    "data = pd.read_csv(\"hospitalerrors_2.csv\")"
   ]
  },
  {
   "cell_type": "markdown",
   "id": "a9b80266",
   "metadata": {},
   "source": [
    " Calculate the mean reduction in errors for the treatment and control groups"
   ]
  },
  {
   "cell_type": "code",
   "execution_count": 21,
   "id": "d5f02ddd",
   "metadata": {
    "execution": {
     "iopub.execute_input": "2023-07-10T17:14:49.576686Z",
     "iopub.status.busy": "2023-07-10T17:14:49.576162Z",
     "iopub.status.idle": "2023-07-10T17:14:49.578306Z",
     "shell.execute_reply": "2023-07-10T17:14:49.578645Z"
    }
   },
   "outputs": [
    {
     "data": {
      "text/plain": [
       "Treatment\n",
       "0    1.88\n",
       "1    2.80\n",
       "Name: Reduction, dtype: float64"
      ]
     },
     "execution_count": 1,
     "metadata": {},
     "output_type": "execute_result"
    }
   ],
   "source": [
    "mean_reduction = data.groupby(\"Treatment\")[\"Reduction\"].mean()\n",
    "mean_reduction"
   ]
  },
  {
   "cell_type": "markdown",
   "id": "7a25ce1e",
   "metadata": {},
   "source": [
    " The difference between the two means is the test statistic"
   ]
  },
  {
   "cell_type": "code",
   "execution_count": 22,
   "id": "b064ed84",
   "metadata": {
    "execution": {
     "iopub.execute_input": "2023-07-10T17:14:49.581644Z",
     "iopub.status.busy": "2023-07-10T17:14:49.581075Z",
     "iopub.status.idle": "2023-07-10T17:14:49.582824Z",
     "shell.execute_reply": "2023-07-10T17:14:49.583218Z"
    }
   },
   "outputs": [
    {
     "name": "stdout",
     "output_type": "stream",
     "text": [
      "Difference between the two means: 0.92\n"
     ]
    }
   ],
   "source": [
    "print(f\"Difference between the two means: {mean_reduction[1] - mean_reduction[0]:.2f}\")"
   ]
  },
  {
   "cell_type": "markdown",
   "id": "6e2aeb9f",
   "metadata": {},
   "source": [
    "## Frequency tables"
   ]
  },
  {
   "cell_type": "code",
   "execution_count": 23,
   "id": "700d3823",
   "metadata": {
    "execution": {
     "iopub.execute_input": "2023-07-10T17:14:49.594023Z",
     "iopub.status.busy": "2023-07-10T17:14:49.587303Z",
     "iopub.status.idle": "2023-07-10T17:14:49.596396Z",
     "shell.execute_reply": "2023-07-10T17:14:49.596791Z"
    }
   },
   "outputs": [
    {
     "data": {
      "text/html": [
       "<div>\n",
       "<style scoped>\n",
       "    .dataframe tbody tr th:only-of-type {\n",
       "        vertical-align: middle;\n",
       "    }\n",
       "\n",
       "    .dataframe tbody tr th {\n",
       "        vertical-align: top;\n",
       "    }\n",
       "\n",
       "    .dataframe thead th {\n",
       "        text-align: right;\n",
       "    }\n",
       "</style>\n",
       "<table border=\"1\" class=\"dataframe\">\n",
       "  <thead>\n",
       "    <tr style=\"text-align: right;\">\n",
       "      <th></th>\n",
       "      <th>Control</th>\n",
       "      <th>Treatment</th>\n",
       "      <th>Total</th>\n",
       "    </tr>\n",
       "    <tr>\n",
       "      <th>Reduction</th>\n",
       "      <th></th>\n",
       "      <th></th>\n",
       "      <th></th>\n",
       "    </tr>\n",
       "  </thead>\n",
       "  <tbody>\n",
       "    <tr>\n",
       "      <th>1</th>\n",
       "      <td>12.0</td>\n",
       "      <td>0.0</td>\n",
       "      <td>12.0</td>\n",
       "    </tr>\n",
       "    <tr>\n",
       "      <th>2</th>\n",
       "      <td>8.0</td>\n",
       "      <td>18.0</td>\n",
       "      <td>26.0</td>\n",
       "    </tr>\n",
       "    <tr>\n",
       "      <th>3</th>\n",
       "      <td>2.0</td>\n",
       "      <td>2.0</td>\n",
       "      <td>4.0</td>\n",
       "    </tr>\n",
       "    <tr>\n",
       "      <th>4</th>\n",
       "      <td>2.0</td>\n",
       "      <td>2.0</td>\n",
       "      <td>4.0</td>\n",
       "    </tr>\n",
       "    <tr>\n",
       "      <th>5</th>\n",
       "      <td>1.0</td>\n",
       "      <td>1.0</td>\n",
       "      <td>2.0</td>\n",
       "    </tr>\n",
       "    <tr>\n",
       "      <th>6</th>\n",
       "      <td>0.0</td>\n",
       "      <td>1.0</td>\n",
       "      <td>1.0</td>\n",
       "    </tr>\n",
       "    <tr>\n",
       "      <th>9</th>\n",
       "      <td>0.0</td>\n",
       "      <td>1.0</td>\n",
       "      <td>1.0</td>\n",
       "    </tr>\n",
       "    <tr>\n",
       "      <th>All</th>\n",
       "      <td>25.0</td>\n",
       "      <td>25.0</td>\n",
       "      <td>50.0</td>\n",
       "    </tr>\n",
       "  </tbody>\n",
       "</table>\n",
       "</div>"
      ],
      "text/plain": [
       "           Control  Treatment  Total\n",
       "Reduction                           \n",
       "1             12.0        0.0   12.0\n",
       "2              8.0       18.0   26.0\n",
       "3              2.0        2.0    4.0\n",
       "4              2.0        2.0    4.0\n",
       "5              1.0        1.0    2.0\n",
       "6              0.0        1.0    1.0\n",
       "9              0.0        1.0    1.0\n",
       "All           25.0       25.0   50.0"
      ]
     },
     "execution_count": 1,
     "metadata": {},
     "output_type": "execute_result"
    }
   ],
   "source": [
    "counts = data.groupby(\"Treatment\")[\"Reduction\"].value_counts()\n",
    "frequency = pd.DataFrame({\n",
    "    \"Control\": counts.loc[0],\n",
    "    \"Treatment\": counts.loc[1],\n",
    "}).fillna(0)\n",
    "frequency[\"Total\"] = frequency[\"Control\"] + frequency[\"Treatment\"]\n",
    "frequency.loc[\"All\"] = frequency.sum()\n",
    "frequency"
   ]
  },
  {
   "cell_type": "markdown",
   "id": "bea9bd8d",
   "metadata": {},
   "source": [
    "## Cumulative frequency table"
   ]
  },
  {
   "cell_type": "code",
   "execution_count": 24,
   "id": "3ceba4fe",
   "metadata": {
    "execution": {
     "iopub.execute_input": "2023-07-10T17:14:49.604297Z",
     "iopub.status.busy": "2023-07-10T17:14:49.603739Z",
     "iopub.status.idle": "2023-07-10T17:14:49.606212Z",
     "shell.execute_reply": "2023-07-10T17:14:49.606537Z"
    }
   },
   "outputs": [
    {
     "data": {
      "text/html": [
       "<div>\n",
       "<style scoped>\n",
       "    .dataframe tbody tr th:only-of-type {\n",
       "        vertical-align: middle;\n",
       "    }\n",
       "\n",
       "    .dataframe tbody tr th {\n",
       "        vertical-align: top;\n",
       "    }\n",
       "\n",
       "    .dataframe thead th {\n",
       "        text-align: right;\n",
       "    }\n",
       "</style>\n",
       "<table border=\"1\" class=\"dataframe\">\n",
       "  <thead>\n",
       "    <tr style=\"text-align: right;\">\n",
       "      <th></th>\n",
       "      <th>Frequency</th>\n",
       "      <th>Cumulative Frequency</th>\n",
       "      <th>Relative Frequency</th>\n",
       "    </tr>\n",
       "    <tr>\n",
       "      <th>Reduction</th>\n",
       "      <th></th>\n",
       "      <th></th>\n",
       "      <th></th>\n",
       "    </tr>\n",
       "  </thead>\n",
       "  <tbody>\n",
       "    <tr>\n",
       "      <th>1</th>\n",
       "      <td>12.0</td>\n",
       "      <td>12.0</td>\n",
       "      <td>0.48</td>\n",
       "    </tr>\n",
       "    <tr>\n",
       "      <th>2</th>\n",
       "      <td>8.0</td>\n",
       "      <td>20.0</td>\n",
       "      <td>0.32</td>\n",
       "    </tr>\n",
       "    <tr>\n",
       "      <th>3</th>\n",
       "      <td>2.0</td>\n",
       "      <td>22.0</td>\n",
       "      <td>0.08</td>\n",
       "    </tr>\n",
       "    <tr>\n",
       "      <th>4</th>\n",
       "      <td>2.0</td>\n",
       "      <td>24.0</td>\n",
       "      <td>0.08</td>\n",
       "    </tr>\n",
       "    <tr>\n",
       "      <th>5</th>\n",
       "      <td>1.0</td>\n",
       "      <td>25.0</td>\n",
       "      <td>0.04</td>\n",
       "    </tr>\n",
       "    <tr>\n",
       "      <th>6</th>\n",
       "      <td>0.0</td>\n",
       "      <td>25.0</td>\n",
       "      <td>0.00</td>\n",
       "    </tr>\n",
       "    <tr>\n",
       "      <th>9</th>\n",
       "      <td>0.0</td>\n",
       "      <td>25.0</td>\n",
       "      <td>0.00</td>\n",
       "    </tr>\n",
       "  </tbody>\n",
       "</table>\n",
       "</div>"
      ],
      "text/plain": [
       "           Frequency  Cumulative Frequency  Relative Frequency\n",
       "Reduction                                                     \n",
       "1               12.0                  12.0                0.48\n",
       "2                8.0                  20.0                0.32\n",
       "3                2.0                  22.0                0.08\n",
       "4                2.0                  24.0                0.08\n",
       "5                1.0                  25.0                0.04\n",
       "6                0.0                  25.0                0.00\n",
       "9                0.0                  25.0                0.00"
      ]
     },
     "execution_count": 1,
     "metadata": {},
     "output_type": "execute_result"
    }
   ],
   "source": [
    "cum_frequency = pd.DataFrame({\n",
    "    \"Frequency\": frequency.loc[1:9, \"Control\"],\n",
    "})\n",
    "cum_frequency[\"Cumulative Frequency\"] = cum_frequency[\"Frequency\"].cumsum()\n",
    "cum_frequency[\"Relative Frequency\"] = cum_frequency[\"Frequency\"] / cum_frequency[\"Frequency\"].sum()\n",
    "cum_frequency"
   ]
  },
  {
   "cell_type": "markdown",
   "id": "fb6bd695",
   "metadata": {},
   "source": [
    "# Data Visualization"
   ]
  },
  {
   "cell_type": "markdown",
   "id": "d023b146",
   "metadata": {},
   "source": [
    "## Histogram"
   ]
  },
  {
   "cell_type": "code",
   "execution_count": 25,
   "id": "3c3a0c73",
   "metadata": {
    "execution": {
     "iopub.execute_input": "2023-07-10T17:14:49.630776Z",
     "iopub.status.busy": "2023-07-10T17:14:49.629967Z",
     "iopub.status.idle": "2023-07-10T17:14:49.898726Z",
     "shell.execute_reply": "2023-07-10T17:14:49.898057Z"
    }
   },
   "outputs": [
    {
     "data": {
      "image/png": "[encoded data removed]",
      "text/plain": [
       "<Figure size 600x300 with 1 Axes>"
      ]
     },
     "metadata": {},
     "output_type": "display_data"
    }
   ],
   "source": [
    "# determine counts data\n",
    "counts = data[data[\"Treatment\"] == 1][\"Reduction\"].value_counts()\n",
    "# add zero values for error reductions of 7 and 8\n",
    "counts.loc[7] = 0\n",
    "counts.loc[8] = 0\n",
    "counts = counts.sort_index()\n",
    "\n",
    "fig, ax = plt.subplots(figsize=(6, 3))\n",
    "counts.plot.bar(ax=ax)\n",
    "ax.set_xlabel(\"Error reduction\")\n",
    "ax.set_ylabel(\"Number of hospitals\")\n",
    "plt.show()"
   ]
  },
  {
   "cell_type": "code",
   "execution_count": 26,
   "id": "dde4e1a9",
   "metadata": {
    "execution": {
     "iopub.execute_input": "2023-07-10T17:14:49.923715Z",
     "iopub.status.busy": "2023-07-10T17:14:49.905123Z",
     "iopub.status.idle": "2023-07-10T17:14:50.193491Z",
     "shell.execute_reply": "2023-07-10T17:14:50.193930Z"
    }
   },
   "outputs": [
    {
     "data": {
      "image/png": "[encoded data removed]",
      "text/plain": [
       "<Figure size 600x300 with 1 Axes>"
      ]
     },
     "metadata": {},
     "output_type": "display_data"
    }
   ],
   "source": [
    "fig, ax = plt.subplots(figsize=(6, 3))\n",
    "data[data[\"Treatment\"] == 1][\"Reduction\"].plot.hist(bins=20, ax=ax)\n",
    "ax.set_xlabel(\"Error reduction\")\n",
    "ax.set_ylabel(\"Number of hospitals\")\n",
    "plt.show()"
   ]
  },
  {
   "cell_type": "markdown",
   "id": "90eee3c7",
   "metadata": {},
   "source": [
    "## Boxplots"
   ]
  },
  {
   "cell_type": "code",
   "execution_count": 27,
   "id": "b2215d68",
   "metadata": {
    "execution": {
     "iopub.execute_input": "2023-07-10T17:14:50.225047Z",
     "iopub.status.busy": "2023-07-10T17:14:50.224524Z",
     "iopub.status.idle": "2023-07-10T17:14:50.435479Z",
     "shell.execute_reply": "2023-07-10T17:14:50.435916Z"
    }
   },
   "outputs": [
    {
     "data": {
      "image/png": "[encoded data removed]",
      "text/plain": [
       "<Figure size 500x500 with 1 Axes>"
      ]
     },
     "metadata": {},
     "output_type": "display_data"
    }
   ],
   "source": [
    "fig, ax = plt.subplots(figsize=(5, 5))\n",
    "data.groupby(\"Treatment\").boxplot(subplots=False, column=\"Reduction\", ax=ax)\n",
    "ax.set_xlabel(\"Treatment\")\n",
    "ax.set_ylabel(\"Error reduction\")\n",
    "plt.show()"
   ]
  }
 ],
 "metadata": {
  "language_info": {
   "codemirror_mode": {
    "name": "ipython",
    "version": 3
   },
   "file_extension": ".py",
   "mimetype": "text/x-python",
   "name": "python",
   "nbconvert_exporter": "python",
   "pygments_lexer": "ipython3",
   "version": "3.8.2"
  }
 },
 "nbformat": 4,
 "nbformat_minor": 5
}
