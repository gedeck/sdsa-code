{
 "cells": [
  {
   "cell_type": "markdown",
   "id": "8a1030e3",
   "metadata": {},
   "source": [
    "# Chapter 07 \n",
    " Statistics for Data Science and Analytics<br>\n",
    "by Peter C. Bruce, Peter Gedeck, Janet F. Dobbins\n",
    "\n",
    "Publisher: Wiley; 1st edition (2024) <br>\n",
    "<!-- ISBN-13: 978-3031075650 -->\n",
    "\n",
    "(c) 2024 Peter C. Bruce, Peter Gedeck, Janet F. Dobbin\n",
    "\n",
    "The code needs to be executed in sequence.\n",
    "\n",
    "Python packages and Python itself change over time. This can cause warnings or errors. We\n",
    "\"Warnings\" are for information only and can usually be ignored. \n",
    "\"Errors\" will stop execution and need to be fixed in order to get results. \n",
    "\n",
    "If you come across an issue with the code, please follow these steps\n",
    "\n",
    "- Check the repository (https://gedeck.github.io/sdsa-code-solutions/) to see if the code has been upgraded. This might solve the problem.\n",
    "- Report the problem using the issue tracker at https://github.com/gedeck/sdsa-code-solutions/issues\n",
    "- Paste the error message into Google and see if someone else already found a solution"
   ]
  },
  {
   "cell_type": "markdown",
   "id": "c09f659a",
   "metadata": {},
   "source": [
    " Load required packages"
   ]
  },
  {
   "cell_type": "code",
   "execution_count": 2,
   "id": "8d5865fe",
   "metadata": {
    "execution": {
     "iopub.execute_input": "2023-07-10T18:41:13.058484Z",
     "iopub.status.busy": "2023-07-10T18:41:13.057834Z",
     "iopub.status.idle": "2023-07-10T18:41:13.886069Z",
     "shell.execute_reply": "2023-07-10T18:41:13.886640Z"
    }
   },
   "outputs": [],
   "source": [
    "import random\n",
    "import numpy as np\n",
    "import pandas as pd\n",
    "import matplotlib.pyplot as plt\n",
    "from scipy import stats"
   ]
  },
  {
   "cell_type": "markdown",
   "id": "06b9a5ef",
   "metadata": {},
   "source": [
    "# Resampling Steps"
   ]
  },
  {
   "cell_type": "markdown",
   "id": "21bd75c9",
   "metadata": {},
   "source": [
    " Implement resampling steps"
   ]
  },
  {
   "cell_type": "code",
   "execution_count": 3,
   "id": "a50f607b",
   "metadata": {
    "execution": {
     "iopub.execute_input": "2023-07-10T18:41:13.895063Z",
     "iopub.status.busy": "2023-07-10T18:41:13.894495Z",
     "iopub.status.idle": "2023-07-10T18:41:13.896809Z",
     "shell.execute_reply": "2023-07-10T18:41:13.897137Z"
    }
   },
   "outputs": [
    {
     "name": "stdout",
     "output_type": "stream",
     "text": [
      "90% confidence interval: [ 5. 35.]\n"
     ]
    }
   ],
   "source": [
    "box = [1] * 4 + [0] * 16\n",
    "nr_ones = []\n",
    "for _ in range(1000):\n",
    "    resample = random.choices(box, k=20)\n",
    "    nr_ones.append(sum(resample))\n",
    "ci_interval = np.quantile(nr_ones, [0.05, 0.95]) / 20 * 100\n",
    "print(f\"90% confidence interval: {ci_interval}\")"
   ]
  },
  {
   "cell_type": "markdown",
   "id": "64b0369d",
   "metadata": {},
   "source": [
    "# Binomial Formula"
   ]
  },
  {
   "cell_type": "markdown",
   "id": "b326ea38",
   "metadata": {},
   "source": [
    " Implement binomial formula"
   ]
  },
  {
   "cell_type": "code",
   "execution_count": 4,
   "id": "a14348ae",
   "metadata": {
    "execution": {
     "iopub.execute_input": "2023-07-10T18:41:13.902018Z",
     "iopub.status.busy": "2023-07-10T18:41:13.901481Z",
     "iopub.status.idle": "2023-07-10T18:41:13.903719Z",
     "shell.execute_reply": "2023-07-10T18:41:13.904036Z"
    }
   },
   "outputs": [
    {
     "name": "stdout",
     "output_type": "stream",
     "text": [
      "Probability of 3 successes in 5 trials with probability 0.3 of success: 0.132\n"
     ]
    }
   ],
   "source": [
    "from scipy.special import comb\n",
    "n = 5\n",
    "p = 0.3\n",
    "x = 3\n",
    "prob = comb(n, x) * p**x * (1-p)**(n-x)\n",
    "print(f\"Probability of {x} successes in {n} trials with probability {p} of success: {prob:.3f}\")"
   ]
  },
  {
   "cell_type": "markdown",
   "id": "02339942",
   "metadata": {},
   "source": [
    " Use scipy to calculate probability"
   ]
  },
  {
   "cell_type": "code",
   "execution_count": 5,
   "id": "0d52c845",
   "metadata": {
    "execution": {
     "iopub.execute_input": "2023-07-10T18:41:13.907503Z",
     "iopub.status.busy": "2023-07-10T18:41:13.907049Z",
     "iopub.status.idle": "2023-07-10T18:41:13.908838Z",
     "shell.execute_reply": "2023-07-10T18:41:13.909166Z"
    }
   },
   "outputs": [
    {
     "name": "stdout",
     "output_type": "stream",
     "text": [
      "Probability of 3 successes in 5 trials with probability 0.3 of success: 0.132\n"
     ]
    }
   ],
   "source": [
    "from scipy.stats import binom\n",
    "prob = binom.pmf(x, n, p)\n",
    "print(f\"Probability of {x} successes in {n} trials with probability {p} of success: {prob:.3f}\")"
   ]
  },
  {
   "cell_type": "markdown",
   "id": "58434fd1",
   "metadata": {},
   "source": [
    " Use resampling to generate probabilities"
   ]
  },
  {
   "cell_type": "code",
   "execution_count": 6,
   "id": "7e34e795",
   "metadata": {
    "execution": {
     "iopub.execute_input": "2023-07-10T18:41:13.914752Z",
     "iopub.status.busy": "2023-07-10T18:41:13.914284Z",
     "iopub.status.idle": "2023-07-10T18:41:13.916025Z",
     "shell.execute_reply": "2023-07-10T18:41:13.916513Z"
    }
   },
   "outputs": [],
   "source": [
    "random.seed(123)\n",
    "box = [1] * 3 + [0] * 7\n",
    "success_counts = np.array([0] * 6)\n",
    "for _ in range(1000):\n",
    "    success = sum(random.choices(box, k=5))\n",
    "    success_counts[success] += 1\n",
    "resample_prob = success_counts / 1000"
   ]
  },
  {
   "cell_type": "markdown",
   "id": "e8887f62",
   "metadata": {},
   "source": [
    " Cumulative probabilities"
   ]
  },
  {
   "cell_type": "code",
   "execution_count": 7,
   "id": "c421d985",
   "metadata": {
    "execution": {
     "iopub.execute_input": "2023-07-10T18:41:13.923528Z",
     "iopub.status.busy": "2023-07-10T18:41:13.923039Z",
     "iopub.status.idle": "2023-07-10T18:41:13.927743Z",
     "shell.execute_reply": "2023-07-10T18:41:13.928126Z"
    }
   },
   "outputs": [
    {
     "name": "stdout",
     "output_type": "stream",
     "text": [
      "   successes  probability  cum. prob.  inv. cum. prob.  prob. resample\n",
      "0          0        0.168       0.168            0.832           0.158\n",
      "1          1        0.360       0.528            0.472           0.376\n",
      "2          2        0.309       0.837            0.163           0.301\n",
      "3          3        0.132       0.969            0.031           0.133\n",
      "4          4        0.028       0.998            0.002           0.029\n",
      "5          5        0.002       1.000            0.000           0.003\n"
     ]
    }
   ],
   "source": [
    "from scipy.stats import binom\n",
    "n = 5\n",
    "p = 0.3\n",
    "df = pd.DataFrame({\n",
    "    \"successes\": range(n+1),\n",
    "    \"probability\": binom.pmf(range(n+1), n, p),\n",
    "    \"cum. prob.\": binom.cdf(range(n+1), n, p),\n",
    "    \"inv. cum. prob.\": binom.sf(range(n+1), n, p),\n",
    "    \"prob. resample\": resample_prob,\n",
    "})\n",
    "print(df.round(3))"
   ]
  },
  {
   "cell_type": "markdown",
   "id": "b99c8ca5",
   "metadata": {},
   "source": [
    " Plot distribution"
   ]
  },
  {
   "cell_type": "code",
   "execution_count": 8,
   "id": "595b9a98",
   "metadata": {
    "execution": {
     "iopub.execute_input": "2023-07-10T18:41:13.932038Z",
     "iopub.status.busy": "2023-07-10T18:41:13.931326Z",
     "iopub.status.idle": "2023-07-10T18:41:14.334077Z",
     "shell.execute_reply": "2023-07-10T18:41:14.334427Z"
    }
   },
   "outputs": [
    {
     "data": {
      "image/png": "[encoded data removed]",
      "text/plain": [
       "<Figure size 640x480 with 1 Axes>"
      ]
     },
     "metadata": {},
     "output_type": "display_data"
    }
   ],
   "source": [
    "fig, ax = plt.subplots()\n",
    "df.plot.bar(x=\"successes\", y=\"probability\", ax=ax)\n",
    "ax.set_xlabel(\"successes\")\n",
    "ax.set_ylabel(\"probability\")\n",
    "plt.show()"
   ]
  },
  {
   "cell_type": "markdown",
   "id": "b332ee17",
   "metadata": {},
   "source": [
    " Example: vendor differences"
   ]
  },
  {
   "cell_type": "markdown",
   "id": "85744e17",
   "metadata": {},
   "source": [
    " Load and preprocess the data"
   ]
  },
  {
   "cell_type": "code",
   "execution_count": 9,
   "id": "83ca2261",
   "metadata": {
    "execution": {
     "iopub.execute_input": "2023-07-10T18:41:14.338363Z",
     "iopub.status.busy": "2023-07-10T18:41:14.337787Z",
     "iopub.status.idle": "2023-07-10T18:41:14.342335Z",
     "shell.execute_reply": "2023-07-10T18:41:14.342717Z"
    }
   },
   "outputs": [
    {
     "name": "stdout",
     "output_type": "stream",
     "text": [
      "[14.2 15.1 13.9 12.8 13.7 14.  13.5 14.3 14.9 13.1 13.4 13.2] [12.4 13.6 14.6 12.8 11.9 13.1 12.8 13.2 14.7 14.5]\n",
      "13.84 13.36\n"
     ]
    }
   ],
   "source": [
    "data = pd.read_csv(\"vendors.txt\", header=None)\n",
    "vendorA = data[0].to_numpy()[:12]\n",
    "vendorB = data[0].to_numpy()[12:]\n",
    "print(vendorA, vendorB)\n",
    "print(vendorA.mean().round(2), vendorB.mean().round(2))"
   ]
  },
  {
   "cell_type": "markdown",
   "id": "e4941dd1",
   "metadata": {},
   "source": [
    " Implement resampling procedure for vendor differences"
   ]
  },
  {
   "cell_type": "code",
   "execution_count": 10,
   "id": "bcd70940",
   "metadata": {
    "execution": {
     "iopub.execute_input": "2023-07-10T18:41:14.371559Z",
     "iopub.status.busy": "2023-07-10T18:41:14.371050Z",
     "iopub.status.idle": "2023-07-10T18:41:14.373071Z",
     "shell.execute_reply": "2023-07-10T18:41:14.373415Z"
    }
   },
   "outputs": [
    {
     "name": "stdout",
     "output_type": "stream",
     "text": [
      "90% confidence interval: [-0.1   1.08]\n"
     ]
    }
   ],
   "source": [
    "differences = []\n",
    "for _ in range(1000):\n",
    "    sampleA = random.choices(vendorA, k=len(vendorA))\n",
    "    sampleB = random.choices(vendorB, k=len(vendorB))\n",
    "    differences.append(np.mean(sampleA) - np.mean(sampleB))\n",
    "ci_interval = np.quantile(differences, [0.05, 0.95])\n",
    "print(f\"90% confidence interval: {ci_interval.round(2)}\")"
   ]
  },
  {
   "cell_type": "markdown",
   "id": "db237415",
   "metadata": {},
   "source": [
    " Visualize the distribution"
   ]
  },
  {
   "cell_type": "code",
   "execution_count": 11,
   "id": "5fe156d3",
   "metadata": {
    "execution": {
     "iopub.execute_input": "2023-07-10T18:41:14.390399Z",
     "iopub.status.busy": "2023-07-10T18:41:14.389561Z",
     "iopub.status.idle": "2023-07-10T18:41:14.658695Z",
     "shell.execute_reply": "2023-07-10T18:41:14.659043Z"
    }
   },
   "outputs": [
    {
     "data": {
      "image/png": "[encoded data removed]",
      "text/plain": [
       "<Figure size 800x400 with 1 Axes>"
      ]
     },
     "metadata": {},
     "output_type": "display_data"
    }
   ],
   "source": [
    "fig, ax = plt.subplots(figsize=(8, 4))\n",
    "pd.Series(differences).plot.hist(bins=20, ax=ax)\n",
    "ax.set_xlabel(\"Resampled differences\")\n",
    "ax.set_ylabel(\"Frequency\")\n",
    "for ci in ci_interval:\n",
    "    ax.axvline(ci, color=\"black\")\n",
    "ax.plot(ci_interval, [150, 150], color=\"black\", linestyle=\"--\")\n",
    "ax.text(ci_interval.mean(), 140, \"90%-confidence interval\", ha=\"center\")\n",
    "plt.show()"
   ]
  },
  {
   "cell_type": "markdown",
   "id": "01f8cba3",
   "metadata": {},
   "source": [
    " Calculate confidence interval using formula"
   ]
  },
  {
   "cell_type": "code",
   "execution_count": 12,
   "id": "b478a138",
   "metadata": {
    "execution": {
     "iopub.execute_input": "2023-07-10T18:41:14.665414Z",
     "iopub.status.busy": "2023-07-10T18:41:14.664881Z",
     "iopub.status.idle": "2023-07-10T18:41:14.666835Z",
     "shell.execute_reply": "2023-07-10T18:41:14.667244Z"
    }
   },
   "outputs": [
    {
     "name": "stdout",
     "output_type": "stream",
     "text": [
      "90% confidence interval: [-0.12  1.09]\n"
     ]
    }
   ],
   "source": [
    "nu = len(vendorA) + len(vendorB) - 2\n",
    "t = stats.t.ppf(0.95, nu)\n",
    "se = np.sqrt(vendorA.var() / len(vendorA) + vendorB.var() / len(vendorB))\n",
    "ci_interval_2 = (vendorA.mean() - vendorB.mean()) + np.array([-1, 1]) * t * se\n",
    "print(f\"90% confidence interval: {ci_interval_2.round(2)}\")"
   ]
  },
  {
   "cell_type": "markdown",
   "id": "0b90be2a",
   "metadata": {},
   "source": [
    "# Example: Cholesterol and Heart Attacks"
   ]
  },
  {
   "cell_type": "markdown",
   "id": "581decf1",
   "metadata": {},
   "source": [
    " Implement resampling approach"
   ]
  },
  {
   "cell_type": "code",
   "execution_count": 13,
   "id": "3fb36981",
   "metadata": {
    "execution": {
     "iopub.execute_input": "2023-07-10T18:41:14.722620Z",
     "iopub.status.busy": "2023-07-10T18:41:14.675176Z",
     "iopub.status.idle": "2023-07-10T18:41:14.809540Z",
     "shell.execute_reply": "2023-07-10T18:41:14.810133Z"
    }
   },
   "outputs": [
    {
     "name": "stdout",
     "output_type": "stream",
     "text": [
      "95% confidence interval: [-1.94  8.13]\n"
     ]
    }
   ],
   "source": [
    "random.seed(123)\n",
    "boxA = [1] * 10 + [0] * 125\n",
    "boxB = [1] * 21 + [0] * 449\n",
    "differences = []\n",
    "for _ in range(1000):\n",
    "    sampleA = random.choices(boxA, k=len(boxA))\n",
    "    sampleB = random.choices(boxB, k=len(boxB))\n",
    "    differences.append(np.mean(sampleA) - np.mean(sampleB))\n",
    "differences = 100 * np.array(differences)  # convert to %\n",
    "ci_interval = np.percentile(differences, [2.5, 97.5])\n",
    "print(f\"95% confidence interval: {ci_interval.round(2)}\")"
   ]
  },
  {
   "cell_type": "markdown",
   "id": "32dd0ed5",
   "metadata": {},
   "source": [
    " Plot histogram with confidence interval"
   ]
  },
  {
   "cell_type": "code",
   "execution_count": 14,
   "id": "fbe64ca2",
   "metadata": {
    "execution": {
     "iopub.execute_input": "2023-07-10T18:41:14.830479Z",
     "iopub.status.busy": "2023-07-10T18:41:14.829667Z",
     "iopub.status.idle": "2023-07-10T18:41:15.107349Z",
     "shell.execute_reply": "2023-07-10T18:41:15.107688Z"
    }
   },
   "outputs": [
    {
     "data": {
      "image/png": "[encoded data removed]",
      "text/plain": [
       "<Figure size 800x400 with 1 Axes>"
      ]
     },
     "metadata": {},
     "output_type": "display_data"
    }
   ],
   "source": [
    "fig, ax = plt.subplots(figsize=(8, 4))\n",
    "pd.Series(differences).plot.hist(bins=20, ax=ax)\n",
    "ax.set_xlabel(\"Resampled differences\")\n",
    "ax.set_ylabel(\"Frequency\")\n",
    "for ci in ci_interval:\n",
    "    ax.axvline(ci, color=\"black\")\n",
    "ax.plot(ci_interval, [150, 150], color=\"black\", linestyle=\"--\")\n",
    "ax.text(ci_interval.mean(), 140, \"95%-confidence interval\", ha=\"center\")\n",
    "plt.show()"
   ]
  },
  {
   "cell_type": "markdown",
   "id": "e42bc3d9",
   "metadata": {},
   "source": [
    "# resampling procedure - parametric bootstrap"
   ]
  },
  {
   "cell_type": "markdown",
   "id": "f1b006bc",
   "metadata": {},
   "source": [
    " Parametric bootstrap - version 1"
   ]
  },
  {
   "cell_type": "code",
   "execution_count": 15,
   "id": "8c25c603",
   "metadata": {
    "execution": {
     "iopub.execute_input": "2023-07-10T18:41:15.113767Z",
     "iopub.status.busy": "2023-07-10T18:41:15.113276Z",
     "iopub.status.idle": "2023-07-10T18:41:15.139511Z",
     "shell.execute_reply": "2023-07-10T18:41:15.139835Z"
    }
   },
   "outputs": [],
   "source": [
    "rng = np.random.default_rng(seed=123)\n",
    "random.seed(123)\n",
    "mean_A = 13.84\n",
    "std_A = 0.70\n",
    "mean_B = 13.36\n",
    "std_B = 0.97\n",
    "\n",
    "boxA = stats.norm.rvs(mean_A, std_A, size=10_000, random_state=rng)\n",
    "boxB = stats.norm.rvs(mean_B, std_B, size=10_000, random_state=rng)\n",
    "differences_1 = []\n",
    "for _ in range(1000):\n",
    "    sample_A = random.choices(boxA, k=12)\n",
    "    sample_B = random.choices(boxB, k=10)\n",
    "    diff = np.mean(sample_A) - np.mean(sample_B)\n",
    "    differences_1.append(diff)\n",
    "ci_interval_1 = np.quantile(differences_1, [0.05, 0.95])"
   ]
  },
  {
   "cell_type": "markdown",
   "id": "6ddeb992",
   "metadata": {},
   "source": [
    " Parametric bootstrap - version 2"
   ]
  },
  {
   "cell_type": "code",
   "execution_count": 16,
   "id": "bbf8c381",
   "metadata": {
    "execution": {
     "iopub.execute_input": "2023-07-10T18:41:15.252241Z",
     "iopub.status.busy": "2023-07-10T18:41:15.251761Z",
     "iopub.status.idle": "2023-07-10T18:41:15.253839Z",
     "shell.execute_reply": "2023-07-10T18:41:15.254184Z"
    }
   },
   "outputs": [],
   "source": [
    "differences_2 = []\n",
    "for _ in range(1000):\n",
    "    sample_A = stats.norm.rvs(mean_A, std_A, size=12, random_state=rng)\n",
    "    sample_B = stats.norm.rvs(mean_B, std_B, size=10, random_state=rng)\n",
    "    diff = np.mean(sample_A) - np.mean(sample_B)\n",
    "    differences_2.append(diff)\n",
    "ci_interval_2 = np.quantile(differences_2, [0.05, 0.95])"
   ]
  },
  {
   "cell_type": "markdown",
   "id": "97c8fb38",
   "metadata": {},
   "source": [
    " Compare the two versions. The confidence intervals are similar"
   ]
  },
  {
   "cell_type": "code",
   "execution_count": 17,
   "id": "0e356e68",
   "metadata": {
    "execution": {
     "iopub.execute_input": "2023-07-10T18:41:15.258805Z",
     "iopub.status.busy": "2023-07-10T18:41:15.258296Z",
     "iopub.status.idle": "2023-07-10T18:41:15.260214Z",
     "shell.execute_reply": "2023-07-10T18:41:15.260545Z"
    }
   },
   "outputs": [
    {
     "name": "stdout",
     "output_type": "stream",
     "text": [
      "       version 1  version 2\n",
      "lower  -0.176737  -0.142021\n",
      "upper   1.075523   1.045036\n"
     ]
    }
   ],
   "source": [
    "df = pd.DataFrame({\"version 1\": ci_interval_1, \"version 2\": ci_interval_2},\n",
    "                  index=[\"lower\", \"upper\"])\n",
    "print(df)"
   ]
  },
  {
   "cell_type": "markdown",
   "id": "cd437fb2",
   "metadata": {},
   "source": [
    " Histogram of version 2 results with 90 percent confidence interval"
   ]
  },
  {
   "cell_type": "code",
   "execution_count": 18,
   "id": "3ac9a4bd",
   "metadata": {
    "execution": {
     "iopub.execute_input": "2023-07-10T18:41:15.312103Z",
     "iopub.status.busy": "2023-07-10T18:41:15.268379Z",
     "iopub.status.idle": "2023-07-10T18:41:15.542494Z",
     "shell.execute_reply": "2023-07-10T18:41:15.542830Z"
    }
   },
   "outputs": [
    {
     "data": {
      "image/png": "[encoded data removed]",
      "text/plain": [
       "<Figure size 800x400 with 1 Axes>"
      ]
     },
     "metadata": {},
     "output_type": "display_data"
    }
   ],
   "source": [
    "fig, ax = plt.subplots(figsize=(8, 4))\n",
    "pd.Series(differences_2).plot.hist(bins=30, ax=ax)\n",
    "ax.set_xlabel(\"Resampled differences\")\n",
    "ax.set_ylabel(\"Frequency\")\n",
    "for ci in ci_interval_2:\n",
    "    ax.axvline(ci, color=\"black\")\n",
    "ax.plot(ci_interval_2, [120, 120], color=\"black\", linestyle=\"--\")\n",
    "ax.text(ci_interval_2.mean(), 110, \"90%-confidence interval\", ha=\"center\")\n",
    "plt.show()"
   ]
  }
 ],
 "metadata": {
  "language_info": {
   "codemirror_mode": {
    "name": "ipython",
    "version": 3
   },
   "file_extension": ".py",
   "mimetype": "text/x-python",
   "name": "python",
   "nbconvert_exporter": "python",
   "pygments_lexer": "ipython3",
   "version": "3.8.2"
  }
 },
 "nbformat": 4,
 "nbformat_minor": 5
}
