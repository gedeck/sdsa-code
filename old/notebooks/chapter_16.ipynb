{
 "cells": [
  {
   "cell_type": "markdown",
   "id": "b7225c49",
   "metadata": {},
   "source": [
    "# Chapter 16 \n",
    " Statistics for Data Science and Analytics<br>\n",
    "by Peter C. Bruce, Peter Gedeck, Janet F. Dobbins\n",
    "\n",
    "Publisher: Wiley; 1st edition (2024) <br>\n",
    "<!-- ISBN-13: 978-3031075650 -->\n",
    "\n",
    "(c) 2024 Peter C. Bruce, Peter Gedeck, Janet F. Dobbin\n",
    "\n",
    "The code needs to be executed in sequence.\n",
    "\n",
    "Python packages and Python itself change over time. This can cause warnings or errors. We\n",
    "\"Warnings\" are for information only and can usually be ignored. \n",
    "\"Errors\" will stop execution and need to be fixed in order to get results. \n",
    "\n",
    "If you come across an issue with the code, please follow these steps\n",
    "\n",
    "- Check the repository (https://gedeck.github.io/sdsa-code-solutions/) to see if the code has been upgraded. This might solve the problem.\n",
    "- Report the problem using the issue tracker at https://github.com/gedeck/sdsa-code-solutions/issues\n",
    "- Paste the error message into Google and see if someone else already found a solution"
   ]
  },
  {
   "cell_type": "markdown",
   "id": "fa73f7c4",
   "metadata": {},
   "source": [
    "# Riding lawnmower example"
   ]
  },
  {
   "cell_type": "markdown",
   "id": "274e3c00",
   "metadata": {},
   "source": [
    " Load the data. We can get the data from the dmba package."
   ]
  },
  {
   "cell_type": "code",
   "execution_count": 2,
   "id": "c8bfce65",
   "metadata": {
    "execution": {
     "iopub.execute_input": "2023-07-10T17:08:50.934098Z",
     "iopub.status.busy": "2023-07-10T17:08:50.933411Z",
     "iopub.status.idle": "2023-07-10T17:08:52.050359Z",
     "shell.execute_reply": "2023-07-10T17:08:52.050831Z"
    }
   },
   "outputs": [],
   "source": [
    "import dmba\n",
    "mower_df = dmba.load_data(\"RidingMowers.csv\")"
   ]
  },
  {
   "cell_type": "markdown",
   "id": "a6b617aa",
   "metadata": {},
   "source": [
    " Define new customer at (60, 20)"
   ]
  },
  {
   "cell_type": "code",
   "execution_count": 3,
   "id": "15450681",
   "metadata": {
    "execution": {
     "iopub.execute_input": "2023-07-10T17:08:52.057456Z",
     "iopub.status.busy": "2023-07-10T17:08:52.056834Z",
     "iopub.status.idle": "2023-07-10T17:08:52.062267Z",
     "shell.execute_reply": "2023-07-10T17:08:52.062671Z"
    }
   },
   "outputs": [
    {
     "data": {
      "text/html": [
       "<div>\n",
       "<style scoped>\n",
       "    .dataframe tbody tr th:only-of-type {\n",
       "        vertical-align: middle;\n",
       "    }\n",
       "\n",
       "    .dataframe tbody tr th {\n",
       "        vertical-align: top;\n",
       "    }\n",
       "\n",
       "    .dataframe thead th {\n",
       "        text-align: right;\n",
       "    }\n",
       "</style>\n",
       "<table border=\"1\" class=\"dataframe\">\n",
       "  <thead>\n",
       "    <tr style=\"text-align: right;\">\n",
       "      <th></th>\n",
       "      <th>Income</th>\n",
       "      <th>Lot_Size</th>\n",
       "    </tr>\n",
       "  </thead>\n",
       "  <tbody>\n",
       "    <tr>\n",
       "      <th>New customer</th>\n",
       "      <td>60</td>\n",
       "      <td>20</td>\n",
       "    </tr>\n",
       "  </tbody>\n",
       "</table>\n",
       "</div>"
      ],
      "text/plain": [
       "              Income  Lot_Size\n",
       "New customer      60        20"
      ]
     },
     "execution_count": 1,
     "metadata": {},
     "output_type": "execute_result"
    }
   ],
   "source": [
    "import pandas as pd\n",
    "new_customer = pd.DataFrame({\"Income\": 60, \"Lot_Size\": 20},\n",
    "                            index=[\"New customer\"])\n",
    "new_customer"
   ]
  },
  {
   "cell_type": "markdown",
   "id": "609ec4c8",
   "metadata": {},
   "source": [
    " Visualize dataset with new customer at (60, 20)"
   ]
  },
  {
   "cell_type": "code",
   "execution_count": 4,
   "id": "eac67a89",
   "metadata": {
    "execution": {
     "iopub.execute_input": "2023-07-10T17:08:52.068003Z",
     "iopub.status.busy": "2023-07-10T17:08:52.067444Z",
     "iopub.status.idle": "2023-07-10T17:08:52.714499Z",
     "shell.execute_reply": "2023-07-10T17:08:52.714860Z"
    }
   },
   "outputs": [
    {
     "name": "stderr",
     "output_type": "stream",
     "text": [
      "/Users/petergedeck/opt/miniconda3/envs/mlba-r/lib/python3.8/site-packages/pandas/plotting/_matplotlib/core.py:1114: UserWarning: No data for colormapping provided via 'c'. Parameters 'cmap' will be ignored\n",
      "  scatter = ax.scatter(\n"
     ]
    },
    {
     "data": {
      "image/png": "[encoded data removed]",
      "text/plain": [
       "<Figure size 600x400 with 1 Axes>"
      ]
     },
     "metadata": {},
     "output_type": "display_data"
    }
   ],
   "source": [
    "import matplotlib.pyplot as plt\n",
    "\n",
    "owners = mower_df[mower_df[\"Ownership\"] == \"Owner\"]\n",
    "non_owners = mower_df[mower_df[\"Ownership\"] == \"Nonowner\"]\n",
    "\n",
    "def basic_mower_plot():\n",
    "    fig, ax = plt.subplots(figsize=(6, 4))\n",
    "    owners.plot.scatter(x=\"Income\", y=\"Lot_Size\", c=\"C1\", s=30, ax=ax)\n",
    "    non_owners.plot.scatter(x=\"Income\", y=\"Lot_Size\", c=\"C0\", s=30, ax=ax)\n",
    "    new_customer.plot.scatter(x=\"Income\", y=\"Lot_Size\", c=\"C2\", marker=\"x\", s=50, ax=ax)\n",
    "    return ax\n",
    "basic_mower_plot()"
   ]
  },
  {
   "cell_type": "markdown",
   "id": "3db4e567",
   "metadata": {},
   "source": [
    " Calculate distances of new customer to dataset"
   ]
  },
  {
   "cell_type": "code",
   "execution_count": 5,
   "id": "bb9fa224",
   "metadata": {
    "execution": {
     "iopub.execute_input": "2023-07-10T17:08:52.722008Z",
     "iopub.status.busy": "2023-07-10T17:08:52.721503Z",
     "iopub.status.idle": "2023-07-10T17:08:52.723158Z",
     "shell.execute_reply": "2023-07-10T17:08:52.723509Z"
    }
   },
   "outputs": [],
   "source": [
    "import numpy as np\n",
    "predictors = [\"Income\", \"Lot_Size\"]\n",
    "distances = mower_df[predictors] - new_customer[predictors].to_numpy()\n",
    "mower_df[\"distance\"]= np.sqrt(((distances/mower_df[predictors].std())**2).sum(axis=1))\n",
    "neighbors_by_distance = mower_df.sort_values(by=\"distance\")"
   ]
  },
  {
   "cell_type": "markdown",
   "id": "2a55acb5",
   "metadata": {},
   "source": [
    " Identify closest neighbor $k=1$"
   ]
  },
  {
   "cell_type": "code",
   "execution_count": 6,
   "id": "46cbd106",
   "metadata": {
    "execution": {
     "iopub.execute_input": "2023-07-10T17:08:52.768579Z",
     "iopub.status.busy": "2023-07-10T17:08:52.728629Z",
     "iopub.status.idle": "2023-07-10T17:08:53.030956Z",
     "shell.execute_reply": "2023-07-10T17:08:53.031318Z"
    }
   },
   "outputs": [
    {
     "name": "stderr",
     "output_type": "stream",
     "text": [
      "/Users/petergedeck/opt/miniconda3/envs/mlba-r/lib/python3.8/site-packages/pandas/plotting/_matplotlib/core.py:1114: UserWarning: No data for colormapping provided via 'c'. Parameters 'cmap' will be ignored\n",
      "  scatter = ax.scatter(\n"
     ]
    },
    {
     "data": {
      "image/png": "[encoded data removed]",
      "text/plain": [
       "<Figure size 600x400 with 1 Axes>"
      ]
     },
     "metadata": {},
     "output_type": "display_data"
    }
   ],
   "source": [
    "ax = basic_mower_plot()\n",
    "new_c = new_customer.to_numpy().flatten()\n",
    "for k in range(1):\n",
    "    neighbor = neighbors_by_distance[predictors].iloc[k, :].to_numpy()\n",
    "    ax.plot([new_c[0], neighbor[0]], [new_c[1], neighbor[1]], color=\"grey\", zorder=0)\n",
    "    ax.scatter(neighbor[0], neighbor[1], color=\"lightgrey\", s=200, zorder=0)"
   ]
  },
  {
   "cell_type": "markdown",
   "id": "a4d448d0",
   "metadata": {},
   "source": [
    " Identify closest neighbors $k=5$"
   ]
  },
  {
   "cell_type": "code",
   "execution_count": 7,
   "id": "72fe596d",
   "metadata": {
    "execution": {
     "iopub.execute_input": "2023-07-10T17:08:53.050315Z",
     "iopub.status.busy": "2023-07-10T17:08:53.037403Z",
     "iopub.status.idle": "2023-07-10T17:08:53.401506Z",
     "shell.execute_reply": "2023-07-10T17:08:53.401850Z"
    }
   },
   "outputs": [
    {
     "name": "stderr",
     "output_type": "stream",
     "text": [
      "/Users/petergedeck/opt/miniconda3/envs/mlba-r/lib/python3.8/site-packages/pandas/plotting/_matplotlib/core.py:1114: UserWarning: No data for colormapping provided via 'c'. Parameters 'cmap' will be ignored\n",
      "  scatter = ax.scatter(\n"
     ]
    },
    {
     "data": {
      "image/png": "[encoded data removed]",
      "text/plain": [
       "<Figure size 600x400 with 1 Axes>"
      ]
     },
     "metadata": {},
     "output_type": "display_data"
    }
   ],
   "source": [
    "ax = basic_mower_plot()\n",
    "new_c = new_customer.to_numpy().flatten()\n",
    "for k in range(5):\n",
    "    neighbor = neighbors_by_distance[predictors].iloc[k, :].to_numpy()\n",
    "    ax.plot([new_c[0], neighbor[0]], [new_c[1], neighbor[1]], color=\"grey\", zorder=0)\n",
    "    ax.scatter(neighbor[0], neighbor[1], color=\"lightgrey\", s=200, zorder=0)"
   ]
  },
  {
   "cell_type": "markdown",
   "id": "f7737941",
   "metadata": {},
   "source": [
    "# Hypothetical example"
   ]
  },
  {
   "cell_type": "markdown",
   "id": "a68fa691",
   "metadata": {},
   "source": [
    " Create the data frame"
   ]
  },
  {
   "cell_type": "code",
   "execution_count": 8,
   "id": "cb2751aa",
   "metadata": {
    "execution": {
     "iopub.execute_input": "2023-07-10T17:08:53.407045Z",
     "iopub.status.busy": "2023-07-10T17:08:53.406562Z",
     "iopub.status.idle": "2023-07-10T17:08:53.408405Z",
     "shell.execute_reply": "2023-07-10T17:08:53.408801Z"
    }
   },
   "outputs": [],
   "source": [
    "import pandas as pd\n",
    "df = pd.DataFrame([\n",
    "    [1, 1, 1, 1, 0, 1, 0],\n",
    "    [1, 1, 1, 1, 0, 1, 0],\n",
    "    [1, 1, 0, 1, 0, 1, 0],\n",
    "    [0, 1, 1, 0, 1, 1, 0],\n",
    "    [1, 1, 0, 1, 1, 0, 1],\n",
    "    [0, 0, 1, 0, 1, 0, 1],\n",
    "],\n",
    "index=[\"1\", \"2\", \"3\", \"4\", \"5\", \"6\"],\n",
    "columns=[\"zinc10\", \"zinc90\", \"mag10\", \"mag90\",\n",
    "         \"cotton10\", \"cotton90\", \"Registry\"])"
   ]
  },
  {
   "cell_type": "markdown",
   "id": "39831970",
   "metadata": {},
   "source": [
    " Calculate Euclidean distance to new customer"
   ]
  },
  {
   "cell_type": "code",
   "execution_count": 9,
   "id": "78486260",
   "metadata": {
    "execution": {
     "iopub.execute_input": "2023-07-10T17:08:53.417183Z",
     "iopub.status.busy": "2023-07-10T17:08:53.416634Z",
     "iopub.status.idle": "2023-07-10T17:08:53.418774Z",
     "shell.execute_reply": "2023-07-10T17:08:53.419106Z"
    }
   },
   "outputs": [
    {
     "data": {
      "text/html": [
       "<div>\n",
       "<style scoped>\n",
       "    .dataframe tbody tr th:only-of-type {\n",
       "        vertical-align: middle;\n",
       "    }\n",
       "\n",
       "    .dataframe tbody tr th {\n",
       "        vertical-align: top;\n",
       "    }\n",
       "\n",
       "    .dataframe thead th {\n",
       "        text-align: right;\n",
       "    }\n",
       "</style>\n",
       "<table border=\"1\" class=\"dataframe\">\n",
       "  <thead>\n",
       "    <tr style=\"text-align: right;\">\n",
       "      <th></th>\n",
       "      <th>zinc10</th>\n",
       "      <th>zinc90</th>\n",
       "      <th>mag10</th>\n",
       "      <th>mag90</th>\n",
       "      <th>cotton10</th>\n",
       "      <th>cotton90</th>\n",
       "      <th>Registry</th>\n",
       "    </tr>\n",
       "  </thead>\n",
       "  <tbody>\n",
       "    <tr>\n",
       "      <th>1</th>\n",
       "      <td>1</td>\n",
       "      <td>1</td>\n",
       "      <td>1</td>\n",
       "      <td>1</td>\n",
       "      <td>0</td>\n",
       "      <td>1</td>\n",
       "      <td>0</td>\n",
       "    </tr>\n",
       "    <tr>\n",
       "      <th>2</th>\n",
       "      <td>1</td>\n",
       "      <td>1</td>\n",
       "      <td>1</td>\n",
       "      <td>1</td>\n",
       "      <td>0</td>\n",
       "      <td>1</td>\n",
       "      <td>0</td>\n",
       "    </tr>\n",
       "  </tbody>\n",
       "</table>\n",
       "</div>"
      ],
      "text/plain": [
       "   zinc10  zinc90  mag10  mag90  cotton10  cotton90  Registry\n",
       "1       1       1      1      1         0         1         0\n",
       "2       1       1      1      1         0         1         0"
      ]
     },
     "execution_count": 1,
     "metadata": {},
     "output_type": "execute_result"
    }
   ],
   "source": [
    "import numpy as np\n",
    "predictors = [ \"zinc10\", \"zinc90\", \"mag10\", \"mag90\",\n",
    "        \"cotton10\", \"cotton90\"]\n",
    "df[predictors]\n",
    "\n",
    "new_customer = np.array([1, 0, 1, 1, 0, 1])\n",
    "distances = np.sqrt(np.sum((df[predictors] - new_customer) ** 2, axis=1))\n",
    "min_distances = np.where(distances == distances.min())\n",
    "\n",
    "closest_customers = df.iloc[min_distances[0], :]\n",
    "closest_customers"
   ]
  }
 ],
 "metadata": {
  "language_info": {
   "codemirror_mode": {
    "name": "ipython",
    "version": 3
   },
   "file_extension": ".py",
   "mimetype": "text/x-python",
   "name": "python",
   "nbconvert_exporter": "python",
   "pygments_lexer": "ipython3",
   "version": "3.8.2"
  }
 },
 "nbformat": 4,
 "nbformat_minor": 5
}
