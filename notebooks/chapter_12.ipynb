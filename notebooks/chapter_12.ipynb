{
 "cells": [
  {
   "cell_type": "markdown",
   "id": "d599e4c9",
   "metadata": {},
   "source": [
    "# Chapter 12 \n",
    " Statistics for Data Science and Analytics<br>\n",
    "by Peter C. Bruce, Peter Gedeck, Janet F. Dobbins\n",
    "\n",
    "Publisher: Wiley; 1st edition (2024) <br>\n",
    "<!-- ISBN-13: 978-3031075650 -->\n",
    "\n",
    "(c) 2024 Peter C. Bruce, Peter Gedeck, Janet F. Dobbins\n",
    "\n",
    "The code needs to be executed in sequence.\n",
    "\n",
    "Python packages and Python itself change over time. This can cause warnings or errors. \n",
    "\"Warnings\" are for information only and can usually be ignored. \n",
    "\"Errors\" will stop execution and need to be fixed in order to get results. \n",
    "\n",
    "If you come across an issue with the code, please follow these steps\n",
    "\n",
    "- Check the repository (https://gedeck.github.io/sdsa-code-solutions/) to see if the code has been upgraded. This might solve the problem.\n",
    "- Report the problem using the issue tracker at https://github.com/gedeck/sdsa-code-solutions/issues\n",
    "- Paste the error message into Google and see if someone else already found a solution"
   ]
  },
  {
   "cell_type": "markdown",
   "id": "1b13f960",
   "metadata": {},
   "source": [
    " Load required packages"
   ]
  },
  {
   "cell_type": "code",
   "execution_count": 2,
   "id": "e3e047f7",
   "metadata": {
    "execution": {
     "iopub.execute_input": "2024-02-24T15:13:55.445437Z",
     "iopub.status.busy": "2024-02-24T15:13:55.445205Z",
     "iopub.status.idle": "2024-02-24T15:13:55.650602Z",
     "shell.execute_reply": "2024-02-24T15:13:55.650062Z"
    }
   },
   "outputs": [],
   "source": [
    "import matplotlib.pyplot as plt"
   ]
  },
  {
   "cell_type": "markdown",
   "id": "8c93c647",
   "metadata": {},
   "source": [
    "# Riding lawnmower example"
   ]
  },
  {
   "cell_type": "markdown",
   "id": "9d6a6ff6",
   "metadata": {},
   "source": [
    " Load the data."
   ]
  },
  {
   "cell_type": "code",
   "execution_count": 3,
   "id": "6aff04fc",
   "metadata": {
    "execution": {
     "iopub.execute_input": "2024-02-24T15:13:55.653478Z",
     "iopub.status.busy": "2024-02-24T15:13:55.653238Z",
     "iopub.status.idle": "2024-02-24T15:13:55.768799Z",
     "shell.execute_reply": "2024-02-24T15:13:55.768465Z"
    }
   },
   "outputs": [],
   "source": [
    "import pandas as pd\n",
    "mower_df = pd.read_csv(\"RidingMowers.csv\")"
   ]
  },
  {
   "cell_type": "markdown",
   "id": "1102c30d",
   "metadata": {},
   "source": [
    " Define new customer at (60, 20)"
   ]
  },
  {
   "cell_type": "code",
   "execution_count": 4,
   "id": "fc2627c5",
   "metadata": {
    "execution": {
     "iopub.execute_input": "2024-02-24T15:13:55.770251Z",
     "iopub.status.busy": "2024-02-24T15:13:55.770174Z",
     "iopub.status.idle": "2024-02-24T15:13:55.774467Z",
     "shell.execute_reply": "2024-02-24T15:13:55.774235Z"
    }
   },
   "outputs": [
    {
     "data": {
      "text/html": [
       "<div>\n",
       "<style scoped>\n",
       "    .dataframe tbody tr th:only-of-type {\n",
       "        vertical-align: middle;\n",
       "    }\n",
       "\n",
       "    .dataframe tbody tr th {\n",
       "        vertical-align: top;\n",
       "    }\n",
       "\n",
       "    .dataframe thead th {\n",
       "        text-align: right;\n",
       "    }\n",
       "</style>\n",
       "<table border=\"1\" class=\"dataframe\">\n",
       "  <thead>\n",
       "    <tr style=\"text-align: right;\">\n",
       "      <th></th>\n",
       "      <th>Income</th>\n",
       "      <th>Lot_Size</th>\n",
       "    </tr>\n",
       "  </thead>\n",
       "  <tbody>\n",
       "    <tr>\n",
       "      <th>New customer</th>\n",
       "      <td>60</td>\n",
       "      <td>20</td>\n",
       "    </tr>\n",
       "  </tbody>\n",
       "</table>\n",
       "</div>"
      ],
      "text/plain": [
       "              Income  Lot_Size\n",
       "New customer      60        20"
      ]
     },
     "execution_count": 4,
     "metadata": {},
     "output_type": "execute_result"
    }
   ],
   "source": [
    "import pandas as pd\n",
    "new_customer = pd.DataFrame({\"Income\": 60, \"Lot_Size\": 20},\n",
    "                            index=[\"New customer\"])\n",
    "new_customer"
   ]
  },
  {
   "cell_type": "markdown",
   "id": "69d72918",
   "metadata": {},
   "source": [
    " Visualize dataset with new customer at (60, 20)"
   ]
  },
  {
   "cell_type": "code",
   "execution_count": 5,
   "id": "f8a016f2",
   "metadata": {
    "execution": {
     "iopub.execute_input": "2024-02-24T15:13:55.775655Z",
     "iopub.status.busy": "2024-02-24T15:13:55.775587Z",
     "iopub.status.idle": "2024-02-24T15:13:55.920379Z",
     "shell.execute_reply": "2024-02-24T15:13:55.920153Z"
    }
   },
   "outputs": [
    {
     "data": {
      "image/png": "[encoded data removed]",
      "text/plain": [
       "<Figure size 600x400 with 1 Axes>"
      ]
     },
     "metadata": {},
     "output_type": "display_data"
    }
   ],
   "source": [
    "import matplotlib.pyplot as plt\n",
    "\n",
    "owners = mower_df[mower_df[\"Ownership\"] == \"Owner\"]\n",
    "non_owners = mower_df[mower_df[\"Ownership\"] == \"Nonowner\"]\n",
    "\n",
    "def basic_mower_plot():\n",
    "    fig, ax = plt.subplots(figsize=(6, 4))\n",
    "    owners.plot.scatter(x=\"Income\", y=\"Lot_Size\", c=\"C0\", s=30, ax=ax)\n",
    "    ax.plot(non_owners[\"Income\"], non_owners[\"Lot_Size\"], color=\"black\", marker=\"o\",\n",
    "            fillstyle=\"none\", linestyle=\"none\")\n",
    "    new_customer.plot.scatter(x=\"Income\", y=\"Lot_Size\", c=\"C2\", marker=\"x\", s=50, ax=ax)\n",
    "    return ax\n",
    "basic_mower_plot()\n",
    "plt.show()"
   ]
  },
  {
   "cell_type": "markdown",
   "id": "098489e6",
   "metadata": {},
   "source": [
    " Calculate distances of new customer to dataset"
   ]
  },
  {
   "cell_type": "code",
   "execution_count": 6,
   "id": "7de7ced1",
   "metadata": {
    "execution": {
     "iopub.execute_input": "2024-02-24T15:13:55.921754Z",
     "iopub.status.busy": "2024-02-24T15:13:55.921678Z",
     "iopub.status.idle": "2024-02-24T15:13:55.925159Z",
     "shell.execute_reply": "2024-02-24T15:13:55.924937Z"
    }
   },
   "outputs": [],
   "source": [
    "import numpy as np\n",
    "predictors = [\"Income\", \"Lot_Size\"]\n",
    "distances = mower_df[predictors] - new_customer[predictors].to_numpy()\n",
    "mower_df[\"distance\"]= np.sqrt(((distances/mower_df[predictors].std())**2).sum(axis=1))\n",
    "neighbors_by_distance = mower_df.sort_values(by=\"distance\")"
   ]
  },
  {
   "cell_type": "markdown",
   "id": "56e463ba",
   "metadata": {},
   "source": [
    " Identify closest neighbor $k=1$"
   ]
  },
  {
   "cell_type": "code",
   "execution_count": 7,
   "id": "679f6031",
   "metadata": {
    "execution": {
     "iopub.execute_input": "2024-02-24T15:13:55.926481Z",
     "iopub.status.busy": "2024-02-24T15:13:55.926405Z",
     "iopub.status.idle": "2024-02-24T15:13:56.014021Z",
     "shell.execute_reply": "2024-02-24T15:13:56.013792Z"
    }
   },
   "outputs": [
    {
     "data": {
      "image/png": "[encoded data removed]",
      "text/plain": [
       "<Figure size 600x400 with 1 Axes>"
      ]
     },
     "metadata": {},
     "output_type": "display_data"
    }
   ],
   "source": [
    "ax = basic_mower_plot()\n",
    "new_c = new_customer.to_numpy().flatten()\n",
    "for k in range(1):\n",
    "    neighbor = neighbors_by_distance[predictors].iloc[k, :].to_numpy()\n",
    "    ax.plot([new_c[0], neighbor[0]], [new_c[1], neighbor[1]], color=\"grey\", zorder=0)\n",
    "    ax.scatter(neighbor[0], neighbor[1], color=\"lightgrey\", s=200, zorder=0)\n",
    "plt.show()"
   ]
  },
  {
   "cell_type": "markdown",
   "id": "1c4559b2",
   "metadata": {},
   "source": [
    " Identify closest neighbors $k=5$"
   ]
  },
  {
   "cell_type": "code",
   "execution_count": 8,
   "id": "fe885945",
   "metadata": {
    "execution": {
     "iopub.execute_input": "2024-02-24T15:13:56.015303Z",
     "iopub.status.busy": "2024-02-24T15:13:56.015230Z",
     "iopub.status.idle": "2024-02-24T15:13:56.119215Z",
     "shell.execute_reply": "2024-02-24T15:13:56.118901Z"
    }
   },
   "outputs": [
    {
     "data": {
      "image/png": "[encoded data removed]",
      "text/plain": [
       "<Figure size 600x400 with 1 Axes>"
      ]
     },
     "metadata": {},
     "output_type": "display_data"
    }
   ],
   "source": [
    "ax = basic_mower_plot()\n",
    "new_c = new_customer.to_numpy().flatten()\n",
    "for k in range(5):\n",
    "    neighbor = neighbors_by_distance[predictors].iloc[k, :].to_numpy()\n",
    "    ax.plot([new_c[0], neighbor[0]], [new_c[1], neighbor[1]], color=\"grey\", zorder=0)\n",
    "    ax.scatter(neighbor[0], neighbor[1], color=\"lightgrey\", s=200, zorder=0)\n",
    "plt.show()"
   ]
  },
  {
   "cell_type": "markdown",
   "id": "2cf1d3a1",
   "metadata": {},
   "source": [
    "# Hypothetical example"
   ]
  },
  {
   "cell_type": "markdown",
   "id": "da6a9b3a",
   "metadata": {},
   "source": [
    " Create the data frame"
   ]
  },
  {
   "cell_type": "code",
   "execution_count": 9,
   "id": "c46cf37a",
   "metadata": {
    "execution": {
     "iopub.execute_input": "2024-02-24T15:13:56.120790Z",
     "iopub.status.busy": "2024-02-24T15:13:56.120688Z",
     "iopub.status.idle": "2024-02-24T15:13:56.123168Z",
     "shell.execute_reply": "2024-02-24T15:13:56.122944Z"
    }
   },
   "outputs": [],
   "source": [
    "import pandas as pd\n",
    "df = pd.DataFrame([\n",
    "    [1, 1, 1, 1, 0, 1, 0],\n",
    "    [1, 1, 1, 1, 0, 1, 0],\n",
    "    [1, 1, 0, 1, 0, 1, 0],\n",
    "    [0, 1, 1, 0, 1, 1, 0],\n",
    "    [1, 1, 0, 1, 1, 0, 1],\n",
    "    [0, 0, 1, 0, 1, 0, 1],\n",
    "],\n",
    "index=[\"1\", \"2\", \"3\", \"4\", \"5\", \"6\"],\n",
    "columns=[\"zinc10\", \"zinc90\", \"mag10\", \"mag90\",\n",
    "         \"cotton10\", \"cotton90\", \"Registry\"])"
   ]
  },
  {
   "cell_type": "markdown",
   "id": "93222527",
   "metadata": {},
   "source": [
    " Calculate Euclidean distance to new customer"
   ]
  },
  {
   "cell_type": "code",
   "execution_count": 10,
   "id": "3c7f5a7a",
   "metadata": {
    "execution": {
     "iopub.execute_input": "2024-02-24T15:13:56.124602Z",
     "iopub.status.busy": "2024-02-24T15:13:56.124505Z",
     "iopub.status.idle": "2024-02-24T15:13:56.129225Z",
     "shell.execute_reply": "2024-02-24T15:13:56.129030Z"
    }
   },
   "outputs": [
    {
     "data": {
      "text/html": [
       "<div>\n",
       "<style scoped>\n",
       "    .dataframe tbody tr th:only-of-type {\n",
       "        vertical-align: middle;\n",
       "    }\n",
       "\n",
       "    .dataframe tbody tr th {\n",
       "        vertical-align: top;\n",
       "    }\n",
       "\n",
       "    .dataframe thead th {\n",
       "        text-align: right;\n",
       "    }\n",
       "</style>\n",
       "<table border=\"1\" class=\"dataframe\">\n",
       "  <thead>\n",
       "    <tr style=\"text-align: right;\">\n",
       "      <th></th>\n",
       "      <th>zinc10</th>\n",
       "      <th>zinc90</th>\n",
       "      <th>mag10</th>\n",
       "      <th>mag90</th>\n",
       "      <th>cotton10</th>\n",
       "      <th>cotton90</th>\n",
       "      <th>Registry</th>\n",
       "    </tr>\n",
       "  </thead>\n",
       "  <tbody>\n",
       "    <tr>\n",
       "      <th>1</th>\n",
       "      <td>1</td>\n",
       "      <td>1</td>\n",
       "      <td>1</td>\n",
       "      <td>1</td>\n",
       "      <td>0</td>\n",
       "      <td>1</td>\n",
       "      <td>0</td>\n",
       "    </tr>\n",
       "    <tr>\n",
       "      <th>2</th>\n",
       "      <td>1</td>\n",
       "      <td>1</td>\n",
       "      <td>1</td>\n",
       "      <td>1</td>\n",
       "      <td>0</td>\n",
       "      <td>1</td>\n",
       "      <td>0</td>\n",
       "    </tr>\n",
       "  </tbody>\n",
       "</table>\n",
       "</div>"
      ],
      "text/plain": [
       "   zinc10  zinc90  mag10  mag90  cotton10  cotton90  Registry\n",
       "1       1       1      1      1         0         1         0\n",
       "2       1       1      1      1         0         1         0"
      ]
     },
     "execution_count": 10,
     "metadata": {},
     "output_type": "execute_result"
    }
   ],
   "source": [
    "import numpy as np\n",
    "predictors = [ \"zinc10\", \"zinc90\", \"mag10\", \"mag90\",\n",
    "        \"cotton10\", \"cotton90\"]\n",
    "df[predictors]\n",
    "\n",
    "new_customer = np.array([1, 0, 1, 1, 0, 1])\n",
    "distances = np.sqrt(np.sum((df[predictors] - new_customer) ** 2, axis=1))\n",
    "min_distances = np.where(distances == distances.min())\n",
    "\n",
    "closest_customers = df.iloc[min_distances[0], :]\n",
    "closest_customers"
   ]
  }
 ],
 "metadata": {
  "language_info": {
   "codemirror_mode": {
    "name": "ipython",
    "version": 3
   },
   "file_extension": ".py",
   "mimetype": "text/x-python",
   "name": "python",
   "nbconvert_exporter": "python",
   "pygments_lexer": "ipython3",
   "version": "3.11.8"
  }
 },
 "nbformat": 4,
 "nbformat_minor": 5
}
