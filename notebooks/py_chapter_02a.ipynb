{
 "cells": [
  {
   "cell_type": "markdown",
   "id": "fd061084",
   "metadata": {},
   "source": [
    "# Chapter py_02a \n",
    " Statistics for Data Science and Analytics<br>\n",
    "by Peter C. Bruce, Peter Gedeck, Janet F. Dobbins\n",
    "\n",
    "Publisher: Wiley; 1st edition (2024) <br>\n",
    "<!-- ISBN-13: 978-3031075650 -->\n",
    "\n",
    "(c) 2024 Peter C. Bruce, Peter Gedeck, Janet F. Dobbins\n",
    "\n",
    "The code needs to be executed in sequence.\n",
    "\n",
    "Python packages and Python itself change over time. This can cause warnings or errors. \n",
    "\"Warnings\" are for information only and can usually be ignored. \n",
    "\"Errors\" will stop execution and need to be fixed in order to get results. \n",
    "\n",
    "If you come across an issue with the code, please follow these steps\n",
    "\n",
    "- Check the repository (https://gedeck.github.io/sdsa-code-solutions/) to see if the code has been upgraded. This might solve the problem.\n",
    "- Report the problem using the issue tracker at https://github.com/gedeck/sdsa-code-solutions/issues\n",
    "- Paste the error message into Google and see if someone else already found a solution"
   ]
  },
  {
   "cell_type": "markdown",
   "id": "7c3dd03a",
   "metadata": {},
   "source": [
    "# Python: Data structures and operations"
   ]
  },
  {
   "cell_type": "markdown",
   "id": "9e7e48b3",
   "metadata": {},
   "source": [
    " Checking the data type of a value"
   ]
  },
  {
   "cell_type": "code",
   "execution_count": 1,
   "id": "b259aa69",
   "metadata": {
    "execution": {
     "iopub.execute_input": "2024-02-24T15:13:56.824654Z",
     "iopub.status.busy": "2024-02-24T15:13:56.824537Z",
     "iopub.status.idle": "2024-02-24T15:13:56.828852Z",
     "shell.execute_reply": "2024-02-24T15:13:56.828567Z"
    }
   },
   "outputs": [
    {
     "name": "stdout",
     "output_type": "stream",
     "text": [
      "<class 'float'>\n",
      "<class 'str'>\n",
      "<class 'bool'>\n"
     ]
    }
   ],
   "source": [
    "print(type(3.14))     # <class 'float'>\n",
    "print(type(\"Python\")) # <class 'str'>\n",
    "print(type(True))     # <class 'bool'>"
   ]
  },
  {
   "cell_type": "code",
   "execution_count": 2,
   "id": "ab871ede",
   "metadata": {
    "execution": {
     "iopub.execute_input": "2024-02-24T15:13:56.830246Z",
     "iopub.status.busy": "2024-02-24T15:13:56.830137Z",
     "iopub.status.idle": "2024-02-24T15:13:56.832119Z",
     "shell.execute_reply": "2024-02-24T15:13:56.831858Z"
    }
   },
   "outputs": [
    {
     "name": "stdout",
     "output_type": "stream",
     "text": [
      "Hello, World!\n",
      "Inside a string # this is not a comment\n"
     ]
    }
   ],
   "source": [
    "# This is a comment\n",
    "print(\"Hello, World!\")  # This is also a comment\n",
    "print(\"Inside a string # this is not a comment\")"
   ]
  },
  {
   "cell_type": "code",
   "execution_count": 3,
   "id": "da27bd91",
   "metadata": {
    "execution": {
     "iopub.execute_input": "2024-02-24T15:13:56.833533Z",
     "iopub.status.busy": "2024-02-24T15:13:56.833455Z",
     "iopub.status.idle": "2024-02-24T15:13:56.835153Z",
     "shell.execute_reply": "2024-02-24T15:13:56.834936Z"
    }
   },
   "outputs": [],
   "source": [
    "pi_value = 3.14\n",
    "message = \"Python\"\n",
    "is_raining = True\n",
    "_formula_1 = \"H2O\""
   ]
  },
  {
   "cell_type": "code",
   "execution_count": 4,
   "id": "19004aef",
   "metadata": {
    "execution": {
     "iopub.execute_input": "2024-02-24T15:13:56.836410Z",
     "iopub.status.busy": "2024-02-24T15:13:56.836337Z",
     "iopub.status.idle": "2024-02-24T15:13:56.837983Z",
     "shell.execute_reply": "2024-02-24T15:13:56.837778Z"
    }
   },
   "outputs": [
    {
     "name": "stdout",
     "output_type": "stream",
     "text": [
      "3.14\n"
     ]
    }
   ],
   "source": [
    "print(pi_value)     # output: 3.14"
   ]
  },
  {
   "cell_type": "code",
   "execution_count": 5,
   "id": "6c21b051",
   "metadata": {
    "execution": {
     "iopub.execute_input": "2024-02-24T15:13:56.839337Z",
     "iopub.status.busy": "2024-02-24T15:13:56.839253Z",
     "iopub.status.idle": "2024-02-24T15:13:56.840912Z",
     "shell.execute_reply": "2024-02-24T15:13:56.840691Z"
    }
   },
   "outputs": [],
   "source": [
    "pi_value = 3.14        # value is 3.14\n",
    "pi_value = 3.14159     # value is now 3.14159\n",
    "two_pi = 2 * pi_value  # value of two_pi is now 6.28318"
   ]
  },
  {
   "cell_type": "code",
   "execution_count": 6,
   "id": "d46902db",
   "metadata": {
    "execution": {
     "iopub.execute_input": "2024-02-24T15:13:56.842203Z",
     "iopub.status.busy": "2024-02-24T15:13:56.842125Z",
     "iopub.status.idle": "2024-02-24T15:13:56.844159Z",
     "shell.execute_reply": "2024-02-24T15:13:56.843894Z"
    }
   },
   "outputs": [
    {
     "name": "stdout",
     "output_type": "stream",
     "text": [
      "5\n",
      "-1.0\n",
      "9.0\n",
      "8\n",
      "3.0\n",
      "2\n",
      "2.0\n"
     ]
    }
   ],
   "source": [
    "print(2 + 3)             # output: 5\n",
    "print(2.0 - 3)           # output: -1.0\n",
    "print(10 * 3 / 6 + 4)    # output: 9.0\n",
    "print(2 ** 3)            # output: 8 (2 to the power of 3)\n",
    "print(10 * 3 / (6 + 4))  # output: 3.0\n",
    "\n",
    "# Modulus operator returns the remainder of the division\n",
    "print(2 % 3)             # output: 2\n",
    "print(2.0 % 3)           # output: 2.0"
   ]
  },
  {
   "cell_type": "code",
   "execution_count": 7,
   "id": "a11c348d",
   "metadata": {
    "execution": {
     "iopub.execute_input": "2024-02-24T15:13:56.845347Z",
     "iopub.status.busy": "2024-02-24T15:13:56.845283Z",
     "iopub.status.idle": "2024-02-24T15:13:56.846842Z",
     "shell.execute_reply": "2024-02-24T15:13:56.846630Z"
    }
   },
   "outputs": [
    {
     "name": "stdout",
     "output_type": "stream",
     "text": [
      "Hello, World!\n",
      "Python Python Python \n"
     ]
    }
   ],
   "source": [
    "print(\"Hello, \" + \"World!\")  # output: Hello, World!\n",
    "print(\"Python \" * 3)         # output: Python Python Python"
   ]
  },
  {
   "cell_type": "code",
   "execution_count": 8,
   "id": "30950138",
   "metadata": {
    "execution": {
     "iopub.execute_input": "2024-02-24T15:13:56.847999Z",
     "iopub.status.busy": "2024-02-24T15:13:56.847918Z",
     "iopub.status.idle": "2024-02-24T15:13:56.849486Z",
     "shell.execute_reply": "2024-02-24T15:13:56.849290Z"
    }
   },
   "outputs": [
    {
     "name": "stdout",
     "output_type": "stream",
     "text": [
      "P\n",
      "Py\n",
      "thon\n"
     ]
    }
   ],
   "source": [
    "message = \"Python\"\n",
    "print(message[0])     # output: P\n",
    "print(message[0:2])   # output: Py\n",
    "print(message[2:])    # output: thon"
   ]
  },
  {
   "cell_type": "code",
   "execution_count": 9,
   "id": "7b0e3677",
   "metadata": {
    "execution": {
     "iopub.execute_input": "2024-02-24T15:13:56.850628Z",
     "iopub.status.busy": "2024-02-24T15:13:56.850566Z",
     "iopub.status.idle": "2024-02-24T15:13:56.852384Z",
     "shell.execute_reply": "2024-02-24T15:13:56.852180Z"
    }
   },
   "outputs": [
    {
     "name": "stdout",
     "output_type": "stream",
     "text": [
      "Hello, Python!\n",
      "HELLO, WORLD!\n",
      "hello, world!\n",
      "['Hello', ' World!']\n"
     ]
    }
   ],
   "source": [
    "message = \"Hello, World!\"\n",
    "print(message.replace(\"World\", \"Python\"))  # output: Hello, Python!\n",
    "print(message.upper())                     # output: HELLO, WORLD!\n",
    "print(message.lower())                     # output: hello, world!\n",
    "print(message.split(\",\"))                  # output: ['Hello', ' World!']"
   ]
  },
  {
   "cell_type": "code",
   "execution_count": 10,
   "id": "e42aad1b",
   "metadata": {
    "execution": {
     "iopub.execute_input": "2024-02-24T15:13:56.853461Z",
     "iopub.status.busy": "2024-02-24T15:13:56.853402Z",
     "iopub.status.idle": "2024-02-24T15:13:56.854981Z",
     "shell.execute_reply": "2024-02-24T15:13:56.854778Z"
    }
   },
   "outputs": [
    {
     "name": "stdout",
     "output_type": "stream",
     "text": [
      "4213\n",
      "3.1415\n"
     ]
    }
   ],
   "source": [
    "text = \"4213\"\n",
    "print(int(text))  # output: 4213\n",
    "text = \"3.1415\"\n",
    "print(float(text))  # output: 3.1415"
   ]
  },
  {
   "cell_type": "code",
   "execution_count": 11,
   "id": "9c8b8770",
   "metadata": {
    "execution": {
     "iopub.execute_input": "2024-02-24T15:13:56.856107Z",
     "iopub.status.busy": "2024-02-24T15:13:56.856043Z",
     "iopub.status.idle": "2024-02-24T15:13:56.857487Z",
     "shell.execute_reply": "2024-02-24T15:13:56.857291Z"
    }
   },
   "outputs": [
    {
     "name": "stdout",
     "output_type": "stream",
     "text": [
      "3.141592653589793\n"
     ]
    }
   ],
   "source": [
    "import math\n",
    "print(math.pi)  # output: 3.141592653589793"
   ]
  },
  {
   "cell_type": "code",
   "execution_count": 12,
   "id": "8e170f09",
   "metadata": {
    "execution": {
     "iopub.execute_input": "2024-02-24T15:13:56.858673Z",
     "iopub.status.busy": "2024-02-24T15:13:56.858585Z",
     "iopub.status.idle": "2024-02-24T15:13:56.859989Z",
     "shell.execute_reply": "2024-02-24T15:13:56.859792Z"
    }
   },
   "outputs": [
    {
     "name": "stdout",
     "output_type": "stream",
     "text": [
      "PI = 3.1416\n"
     ]
    }
   ],
   "source": [
    "print(f\"PI = {math.pi:.4f}\")  # output: 3.1416"
   ]
  },
  {
   "cell_type": "code",
   "execution_count": 13,
   "id": "80d1d49c",
   "metadata": {
    "execution": {
     "iopub.execute_input": "2024-02-24T15:13:56.861108Z",
     "iopub.status.busy": "2024-02-24T15:13:56.861045Z",
     "iopub.status.idle": "2024-02-24T15:13:56.862719Z",
     "shell.execute_reply": "2024-02-24T15:13:56.862517Z"
    }
   },
   "outputs": [
    {
     "name": "stdout",
     "output_type": "stream",
     "text": [
      "7\n",
      "0\n"
     ]
    }
   ],
   "source": [
    "list1 = [0, 1, 2, 3, 4, 5, 6]\n",
    "list2 = []\n",
    "print(len(list1))  # output: 7\n",
    "print(len(list2))  # output: 0"
   ]
  },
  {
   "cell_type": "code",
   "execution_count": 14,
   "id": "c403cd45",
   "metadata": {
    "execution": {
     "iopub.execute_input": "2024-02-24T15:13:56.863758Z",
     "iopub.status.busy": "2024-02-24T15:13:56.863682Z",
     "iopub.status.idle": "2024-02-24T15:13:56.865301Z",
     "shell.execute_reply": "2024-02-24T15:13:56.865104Z"
    }
   },
   "outputs": [
    {
     "name": "stdout",
     "output_type": "stream",
     "text": [
      "0\n",
      "1\n",
      "6\n",
      "5\n"
     ]
    }
   ],
   "source": [
    "print(list1[0]) # output: 0\n",
    "print(list1[1]) # output: 1\n",
    "print(list1[-1]) # output: 6\n",
    "print(list1[-2]) # output: 5"
   ]
  },
  {
   "cell_type": "code",
   "execution_count": 15,
   "id": "3045818c",
   "metadata": {
    "execution": {
     "iopub.execute_input": "2024-02-24T15:13:56.866417Z",
     "iopub.status.busy": "2024-02-24T15:13:56.866359Z",
     "iopub.status.idle": "2024-02-24T15:13:56.867932Z",
     "shell.execute_reply": "2024-02-24T15:13:56.867747Z"
    }
   },
   "outputs": [
    {
     "name": "stdout",
     "output_type": "stream",
     "text": [
      "[1, 2]\n",
      "[2, 3, 4, 5, 6]\n",
      "[0, 1, 2]\n"
     ]
    }
   ],
   "source": [
    "print(list1[1:3]) # output: [1, 2]\n",
    "print(list1[2:])  # output: [2, 3, 4, 5, 6]\n",
    "print(list1[:3])  # output: [0, 1, 2]"
   ]
  },
  {
   "cell_type": "code",
   "execution_count": 16,
   "id": "72c68f14",
   "metadata": {
    "execution": {
     "iopub.execute_input": "2024-02-24T15:13:56.868956Z",
     "iopub.status.busy": "2024-02-24T15:13:56.868883Z",
     "iopub.status.idle": "2024-02-24T15:13:56.870643Z",
     "shell.execute_reply": "2024-02-24T15:13:56.870461Z"
    }
   },
   "outputs": [
    {
     "name": "stdout",
     "output_type": "stream",
     "text": [
      "[10, 1, 2, 3, 4, 5, 6]\n",
      "[10, 1, 2, 3, 4, 5, 6, 7]\n",
      "[10, 1, 2, 11, 3, 4, 5, 6, 7]\n",
      "[1, 2, 11, 3, 4, 5, 6, 7]\n",
      "[1, 2, 3, 4, 5, 6, 7]\n"
     ]
    }
   ],
   "source": [
    "list1[0] = 10\n",
    "print(list1)        # output: [10, 1, 2, 3, 4, 5, 6]\n",
    "list1.append(7)\n",
    "print(list1)        # output: [10, 1, 2, 3, 4, 5, 6, 7]\n",
    "list1.insert(3, 11) # insert 11 at index 3\n",
    "print(list1)        # output: [10, 1, 2, 11, 3, 4, 5, 6, 7]\n",
    "list1.remove(10)    # remove first occurence of 10 from the list\n",
    "print(list1)        # output: [1, 2, 11, 3, 4, 5, 6, 7]\n",
    "list1.pop(2)        # remove element at index 2\n",
    "print(list1)        # output: [1, 2, 3, 4, 5, 6, 7]"
   ]
  },
  {
   "cell_type": "code",
   "execution_count": 17,
   "id": "54658cd7",
   "metadata": {
    "execution": {
     "iopub.execute_input": "2024-02-24T15:13:56.871681Z",
     "iopub.status.busy": "2024-02-24T15:13:56.871619Z",
     "iopub.status.idle": "2024-02-24T15:13:56.873391Z",
     "shell.execute_reply": "2024-02-24T15:13:56.873201Z"
    }
   },
   "outputs": [
    {
     "name": "stdout",
     "output_type": "stream",
     "text": [
      "6\n",
      "0\n",
      "1\n",
      "(2, 3)\n"
     ]
    }
   ],
   "source": [
    "tuple1 = (1, 2, 3, 4, 5, 6)\n",
    "tuple2 = ()\n",
    "print(len(tuple1))  # output: 6\n",
    "print(len(tuple2))  # output: 0\n",
    "print(tuple1[0])    # output: 1\n",
    "print(tuple1[1:3])  # output: (2, 3)"
   ]
  },
  {
   "cell_type": "code",
   "execution_count": 18,
   "id": "62ce9451",
   "metadata": {
    "execution": {
     "iopub.execute_input": "2024-02-24T15:13:56.874420Z",
     "iopub.status.busy": "2024-02-24T15:13:56.874363Z",
     "iopub.status.idle": "2024-02-24T15:13:56.876038Z",
     "shell.execute_reply": "2024-02-24T15:13:56.875826Z"
    }
   },
   "outputs": [
    {
     "name": "stdout",
     "output_type": "stream",
     "text": [
      "1\n",
      "2\n"
     ]
    }
   ],
   "source": [
    "from collections import namedtuple\n",
    "Point = namedtuple('Point', ['x', 'y'])\n",
    "p = Point(1, 2)\n",
    "print(p.x)  # output: 1\n",
    "print(p.y)  # output: 2"
   ]
  },
  {
   "cell_type": "code",
   "execution_count": 19,
   "id": "a3da3117",
   "metadata": {
    "execution": {
     "iopub.execute_input": "2024-02-24T15:13:56.877047Z",
     "iopub.status.busy": "2024-02-24T15:13:56.876991Z",
     "iopub.status.idle": "2024-02-24T15:13:56.878457Z",
     "shell.execute_reply": "2024-02-24T15:13:56.878261Z"
    }
   },
   "outputs": [],
   "source": [
    "from typing import NamedTuple\n",
    "class Point(NamedTuple):\n",
    "    x: int\n",
    "    y: int"
   ]
  },
  {
   "cell_type": "code",
   "execution_count": 20,
   "id": "a3ad22aa",
   "metadata": {
    "execution": {
     "iopub.execute_input": "2024-02-24T15:13:56.879529Z",
     "iopub.status.busy": "2024-02-24T15:13:56.879455Z",
     "iopub.status.idle": "2024-02-24T15:13:56.881025Z",
     "shell.execute_reply": "2024-02-24T15:13:56.880831Z"
    }
   },
   "outputs": [
    {
     "name": "stdout",
     "output_type": "stream",
     "text": [
      "6\n",
      "0\n"
     ]
    }
   ],
   "source": [
    "set1 = {1, 2, 3, 4, 5, 6}\n",
    "set2 = set()\n",
    "print(len(set1))  # output: 6\n",
    "print(len(set2))  # output: 0"
   ]
  },
  {
   "cell_type": "code",
   "execution_count": 21,
   "id": "f7643859",
   "metadata": {
    "execution": {
     "iopub.execute_input": "2024-02-24T15:13:56.882131Z",
     "iopub.status.busy": "2024-02-24T15:13:56.882067Z",
     "iopub.status.idle": "2024-02-24T15:13:56.883630Z",
     "shell.execute_reply": "2024-02-24T15:13:56.883456Z"
    }
   },
   "outputs": [
    {
     "name": "stdout",
     "output_type": "stream",
     "text": [
      "{1, 2, 3, 4, 5, 6, 7}\n",
      "{1, 2, 3, 4, 5, 6}\n"
     ]
    }
   ],
   "source": [
    "set1.add(7)\n",
    "print(set1)  # output: {1, 2, 3, 4, 5, 6, 7}\n",
    "set1.remove(7)\n",
    "print(set1)  # output: {1, 2, 3, 4, 5, 6}"
   ]
  },
  {
   "cell_type": "code",
   "execution_count": 22,
   "id": "554ab5a4",
   "metadata": {
    "execution": {
     "iopub.execute_input": "2024-02-24T15:13:56.884668Z",
     "iopub.status.busy": "2024-02-24T15:13:56.884596Z",
     "iopub.status.idle": "2024-02-24T15:13:56.886265Z",
     "shell.execute_reply": "2024-02-24T15:13:56.886070Z"
    }
   },
   "outputs": [
    {
     "name": "stdout",
     "output_type": "stream",
     "text": [
      "{1, 2, 3, 4, 5, 6, 7, 8, 9}\n",
      "{4, 5, 6}\n",
      "{1, 2, 3}\n"
     ]
    }
   ],
   "source": [
    "set1 = {1, 2, 3, 4, 5, 6}\n",
    "set2 = {4, 5, 6, 7, 8, 9}\n",
    "print(set1.union(set2))        # output: {1, 2, 3, 4, 5, 6, 7, 8, 9}\n",
    "print(set1.intersection(set2)) # output: {4, 5, 6}\n",
    "print(set1.difference(set2))   # output: {1, 2, 3}"
   ]
  },
  {
   "cell_type": "code",
   "execution_count": 23,
   "id": "451b9f96",
   "metadata": {
    "execution": {
     "iopub.execute_input": "2024-02-24T15:13:56.887274Z",
     "iopub.status.busy": "2024-02-24T15:13:56.887218Z",
     "iopub.status.idle": "2024-02-24T15:13:56.888767Z",
     "shell.execute_reply": "2024-02-24T15:13:56.888588Z"
    }
   },
   "outputs": [
    {
     "name": "stdout",
     "output_type": "stream",
     "text": [
      "[1, 2, 3, 4, 5, 6, 1, 2, 3]\n",
      "[1, 2, 3, 4, 5, 6]\n"
     ]
    }
   ],
   "source": [
    "list1 = [1, 2, 3, 4, 5, 6, 1, 2, 3]\n",
    "print(list1)  # output: [1, 2, 3, 4, 5, 6, 1, 2, 3]\n",
    "list1 = list(set(list1))\n",
    "print(list1)  # output: [1, 2, 3, 4, 5, 6]"
   ]
  },
  {
   "cell_type": "code",
   "execution_count": 24,
   "id": "944533fd",
   "metadata": {
    "execution": {
     "iopub.execute_input": "2024-02-24T15:13:56.889799Z",
     "iopub.status.busy": "2024-02-24T15:13:56.889725Z",
     "iopub.status.idle": "2024-02-24T15:13:56.891284Z",
     "shell.execute_reply": "2024-02-24T15:13:56.891081Z"
    }
   },
   "outputs": [
    {
     "name": "stdout",
     "output_type": "stream",
     "text": [
      "Virginia\n",
      "Maryland\n"
     ]
    }
   ],
   "source": [
    "states = {\"VA\": \"Virginia\", \"MD\": \"Maryland\", \"DC\": \"District of Columbia\"}\n",
    "print(states[\"VA\"])  # output: Virginia\n",
    "print(states[\"MD\"])  # output: Maryland"
   ]
  },
  {
   "cell_type": "code",
   "execution_count": 25,
   "id": "497e8931",
   "metadata": {
    "execution": {
     "iopub.execute_input": "2024-02-24T15:13:56.892328Z",
     "iopub.status.busy": "2024-02-24T15:13:56.892270Z",
     "iopub.status.idle": "2024-02-24T15:13:56.893875Z",
     "shell.execute_reply": "2024-02-24T15:13:56.893685Z"
    }
   },
   "outputs": [
    {
     "name": "stdout",
     "output_type": "stream",
     "text": [
      "{'VA': 'Virginia', 'MD': 'Maryland', 'DC': 'District of Columbia', 'NY': 'New York'}\n",
      "{'VA': 'Virginia', 'MD': 'Maryland', 'DC': 'District of Columbia'}\n"
     ]
    }
   ],
   "source": [
    "states[\"NY\"] = \"New York\"\n",
    "print(states)  # output: {\"VA\": \"Virginia\", \"MD\": \"Maryland\",\n",
    "              #          \"DC\": \"District of Columbia\", \"NY\": \"New York\"}\n",
    "del states[\"NY\"]\n",
    "print(states)  # output: {\"VA\": \"Virginia\", \"MD\": \"Maryland\",\n",
    "              #          \"DC\": \"District of Columbia\"}"
   ]
  },
  {
   "cell_type": "code",
   "execution_count": 26,
   "id": "e2af0c21",
   "metadata": {
    "execution": {
     "iopub.execute_input": "2024-02-24T15:13:56.894865Z",
     "iopub.status.busy": "2024-02-24T15:13:56.894810Z",
     "iopub.status.idle": "2024-02-24T15:13:56.896426Z",
     "shell.execute_reply": "2024-02-24T15:13:56.896221Z"
    }
   },
   "outputs": [
    {
     "name": "stdout",
     "output_type": "stream",
     "text": [
      "defaultdict(<class 'int'>, {'apple': 3, 'banana': 2})\n"
     ]
    }
   ],
   "source": [
    "from collections import defaultdict\n",
    "word_counts = defaultdict(int)\n",
    "for word in [\"apple\", \"banana\", \"apple\", \"banana\", \"apple\"]:\n",
    "    word_counts[word] += 1\n",
    "print(word_counts)  # output: defaultdict(<class 'int'>, {'apple': 3, 'banana': 2})"
   ]
  },
  {
   "cell_type": "code",
   "execution_count": 27,
   "id": "c3833bdf",
   "metadata": {
    "execution": {
     "iopub.execute_input": "2024-02-24T15:13:56.897458Z",
     "iopub.status.busy": "2024-02-24T15:13:56.897399Z",
     "iopub.status.idle": "2024-02-24T15:13:56.899102Z",
     "shell.execute_reply": "2024-02-24T15:13:56.898906Z"
    }
   },
   "outputs": [],
   "source": [
    "class Person:\n",
    "    def __init__(self, first_name, family_name, birth_date):\n",
    "        self.first_name = first_name\n",
    "        self.family_name = family_name\n",
    "        self.birth_date = birth_date\n",
    "\n",
    "    def full_name(self):\n",
    "        return f\"{self.first_name} {self.family_name}\""
   ]
  },
  {
   "cell_type": "code",
   "execution_count": 28,
   "id": "3819919e",
   "metadata": {
    "execution": {
     "iopub.execute_input": "2024-02-24T15:13:56.900102Z",
     "iopub.status.busy": "2024-02-24T15:13:56.900024Z",
     "iopub.status.idle": "2024-02-24T15:13:56.901538Z",
     "shell.execute_reply": "2024-02-24T15:13:56.901344Z"
    }
   },
   "outputs": [
    {
     "name": "stdout",
     "output_type": "stream",
     "text": [
      "John\n",
      "John Doe\n"
     ]
    }
   ],
   "source": [
    "person = Person(\"John\", \"Doe\", \"1970-01-01\")\n",
    "print(person.first_name)  # output: John\n",
    "print(person.full_name())  # output: John Doe"
   ]
  },
  {
   "cell_type": "code",
   "execution_count": 29,
   "id": "6ac4b869",
   "metadata": {
    "execution": {
     "iopub.execute_input": "2024-02-24T15:13:56.902559Z",
     "iopub.status.busy": "2024-02-24T15:13:56.902505Z",
     "iopub.status.idle": "2024-02-24T15:13:56.903918Z",
     "shell.execute_reply": "2024-02-24T15:13:56.903724Z"
    }
   },
   "outputs": [],
   "source": [
    "pi_value: float = 3.14\n",
    "message: str = \"Python\"\n",
    "is_raining: bool = True\n",
    "numbers: list[int] = []"
   ]
  },
  {
   "cell_type": "code",
   "execution_count": 30,
   "id": "14dfd5c5",
   "metadata": {
    "execution": {
     "iopub.execute_input": "2024-02-24T15:13:56.904966Z",
     "iopub.status.busy": "2024-02-24T15:13:56.904909Z",
     "iopub.status.idle": "2024-02-24T15:13:56.906226Z",
     "shell.execute_reply": "2024-02-24T15:13:56.906037Z"
    }
   },
   "outputs": [],
   "source": [
    "pi_value = \"3.14\"  # no error"
   ]
  }
 ],
 "metadata": {
  "language_info": {
   "codemirror_mode": {
    "name": "ipython",
    "version": 3
   },
   "file_extension": ".py",
   "mimetype": "text/x-python",
   "name": "python",
   "nbconvert_exporter": "python",
   "pygments_lexer": "ipython3",
   "version": "3.11.8"
  }
 },
 "nbformat": 4,
 "nbformat_minor": 5
}
