{
 "cells": [
  {
   "cell_type": "markdown",
   "id": "a4d01871",
   "metadata": {},
   "source": [
    "# Chapter py_02b \n",
    " Statistics for Data Science and Analytics<br>\n",
    "by Peter C. Bruce, Peter Gedeck, Janet F. Dobbins\n",
    "\n",
    "Publisher: Wiley; 1st edition (2024) <br>\n",
    "<!-- ISBN-13: 978-3031075650 -->\n",
    "\n",
    "(c) 2024 Peter C. Bruce, Peter Gedeck, Janet F. Dobbins\n",
    "\n",
    "The code needs to be executed in sequence.\n",
    "\n",
    "Python packages and Python itself change over time. This can cause warnings or errors. \n",
    "\"Warnings\" are for information only and can usually be ignored. \n",
    "\"Errors\" will stop execution and need to be fixed in order to get results. \n",
    "\n",
    "If you come across an issue with the code, please follow these steps\n",
    "\n",
    "- Check the repository (https://gedeck.github.io/sdsa-code-solutions/) to see if the code has been upgraded. This might solve the problem.\n",
    "- Report the problem using the issue tracker at https://github.com/gedeck/sdsa-code-solutions/issues\n",
    "- Paste the error message into Google and see if someone else already found a solution"
   ]
  },
  {
   "cell_type": "code",
   "execution_count": 2,
   "id": "7d78374f",
   "metadata": {
    "execution": {
     "iopub.execute_input": "2024-02-24T15:13:57.941370Z",
     "iopub.status.busy": "2024-02-24T15:13:57.940889Z",
     "iopub.status.idle": "2024-02-24T15:13:57.945542Z",
     "shell.execute_reply": "2024-02-24T15:13:57.944530Z"
    }
   },
   "outputs": [
    {
     "name": "stdout",
     "output_type": "stream",
     "text": [
      "x is positive\n"
     ]
    }
   ],
   "source": [
    "x = 123\n",
    "if x < 0:\n",
    "    print('x is negative')\n",
    "elif x == 0:\n",
    "    print('x is zero')\n",
    "else:\n",
    "    print('x is positive')"
   ]
  },
  {
   "cell_type": "code",
   "execution_count": 3,
   "id": "f6a193a9",
   "metadata": {
    "execution": {
     "iopub.execute_input": "2024-02-24T15:13:57.948092Z",
     "iopub.status.busy": "2024-02-24T15:13:57.947851Z",
     "iopub.status.idle": "2024-02-24T15:13:57.951217Z",
     "shell.execute_reply": "2024-02-24T15:13:57.950619Z"
    }
   },
   "outputs": [
    {
     "name": "stdout",
     "output_type": "stream",
     "text": [
      "Absolute value of x: 123\n"
     ]
    }
   ],
   "source": [
    "x = -123\n",
    "if x < 0:\n",
    "    x = -x\n",
    "print(f'Absolute value of x: {x}')"
   ]
  },
  {
   "cell_type": "code",
   "execution_count": 4,
   "id": "59fc83bc",
   "metadata": {
    "execution": {
     "iopub.execute_input": "2024-02-24T15:13:57.954221Z",
     "iopub.status.busy": "2024-02-24T15:13:57.954012Z",
     "iopub.status.idle": "2024-02-24T15:13:57.958395Z",
     "shell.execute_reply": "2024-02-24T15:13:57.957436Z"
    }
   },
   "outputs": [
    {
     "name": "stdout",
     "output_type": "stream",
     "text": [
      "x is positive\n"
     ]
    }
   ],
   "source": [
    "x = 123\n",
    "if x < 0:\n",
    "    print('x is negative')\n",
    "else:\n",
    "    if x == 0:\n",
    "        print('x is zero')\n",
    "    else:\n",
    "        print('x is positive')"
   ]
  },
  {
   "cell_type": "code",
   "execution_count": 5,
   "id": "74057f07",
   "metadata": {
    "execution": {
     "iopub.execute_input": "2024-02-24T15:13:57.960865Z",
     "iopub.status.busy": "2024-02-24T15:13:57.960694Z",
     "iopub.status.idle": "2024-02-24T15:13:57.963743Z",
     "shell.execute_reply": "2024-02-24T15:13:57.963127Z"
    }
   },
   "outputs": [
    {
     "name": "stdout",
     "output_type": "stream",
     "text": [
      "1\n",
      "2\n",
      "3\n",
      "4\n",
      "5\n"
     ]
    }
   ],
   "source": [
    "for x in [1, 2, 3, 4, 5]:\n",
    "    print(x)"
   ]
  },
  {
   "cell_type": "code",
   "execution_count": 6,
   "id": "78fd5909",
   "metadata": {
    "execution": {
     "iopub.execute_input": "2024-02-24T15:13:57.966468Z",
     "iopub.status.busy": "2024-02-24T15:13:57.966280Z",
     "iopub.status.idle": "2024-02-24T15:13:57.969464Z",
     "shell.execute_reply": "2024-02-24T15:13:57.968649Z"
    }
   },
   "outputs": [
    {
     "name": "stdout",
     "output_type": "stream",
     "text": [
      "1\n",
      "2\n",
      "3\n",
      "4\n",
      "5\n"
     ]
    }
   ],
   "source": [
    "x = 1\n",
    "while x <= 5:\n",
    "    print(x)\n",
    "    x += 1"
   ]
  },
  {
   "cell_type": "code",
   "execution_count": 7,
   "id": "a73e7587",
   "metadata": {
    "execution": {
     "iopub.execute_input": "2024-02-24T15:13:57.971497Z",
     "iopub.status.busy": "2024-02-24T15:13:57.971324Z",
     "iopub.status.idle": "2024-02-24T15:13:57.975874Z",
     "shell.execute_reply": "2024-02-24T15:13:57.975389Z"
    }
   },
   "outputs": [
    {
     "name": "stdout",
     "output_type": "stream",
     "text": [
      "1\n",
      "3\n",
      "5\n",
      "7\n",
      "9\n"
     ]
    }
   ],
   "source": [
    "for x in range(1, 11):\n",
    "    if x % 2 == 0:\n",
    "        continue\n",
    "    print(x)"
   ]
  },
  {
   "cell_type": "code",
   "execution_count": 8,
   "id": "9510de10",
   "metadata": {
    "execution": {
     "iopub.execute_input": "2024-02-24T15:13:57.978039Z",
     "iopub.status.busy": "2024-02-24T15:13:57.977846Z",
     "iopub.status.idle": "2024-02-24T15:13:57.980899Z",
     "shell.execute_reply": "2024-02-24T15:13:57.980496Z"
    }
   },
   "outputs": [
    {
     "name": "stdout",
     "output_type": "stream",
     "text": [
      "1\n",
      "2\n"
     ]
    }
   ],
   "source": [
    "for x in [1, 2, 3, 4, 5]:\n",
    "    if x == 3:\n",
    "        break\n",
    "    print(x)"
   ]
  },
  {
   "cell_type": "code",
   "execution_count": 9,
   "id": "e49a631f",
   "metadata": {
    "execution": {
     "iopub.execute_input": "2024-02-24T15:13:57.983417Z",
     "iopub.status.busy": "2024-02-24T15:13:57.983234Z",
     "iopub.status.idle": "2024-02-24T15:13:57.986217Z",
     "shell.execute_reply": "2024-02-24T15:13:57.985777Z"
    }
   },
   "outputs": [
    {
     "name": "stdout",
     "output_type": "stream",
     "text": [
      "Mean: 10.5\n"
     ]
    }
   ],
   "source": [
    "numbers = [12, 8, 9, 10, 11, 13, 9, 11, 10, 12]\n",
    "sum_of_numbers = 0\n",
    "for x in numbers:\n",
    "    sum_of_numbers += x\n",
    "mean = sum_of_numbers / len(numbers)\n",
    "print(f'Mean: {mean}')"
   ]
  },
  {
   "cell_type": "code",
   "execution_count": 10,
   "id": "d439bc4c",
   "metadata": {
    "execution": {
     "iopub.execute_input": "2024-02-24T15:13:57.988325Z",
     "iopub.status.busy": "2024-02-24T15:13:57.988153Z",
     "iopub.status.idle": "2024-02-24T15:13:57.991968Z",
     "shell.execute_reply": "2024-02-24T15:13:57.991557Z"
    }
   },
   "outputs": [
    {
     "name": "stdout",
     "output_type": "stream",
     "text": [
      "Variance: 2.25\n",
      "Standard deviation: 1.5\n"
     ]
    }
   ],
   "source": [
    "variance = 0\n",
    "for x in numbers:\n",
    "    variance += (x - mean) ** 2\n",
    "variance /= len(numbers)\n",
    "sd = variance ** 0.5\n",
    "print(f'Variance: {variance}')\n",
    "print(f'Standard deviation: {sd}')"
   ]
  },
  {
   "cell_type": "code",
   "execution_count": 11,
   "id": "4c350418",
   "metadata": {
    "execution": {
     "iopub.execute_input": "2024-02-24T15:13:57.994069Z",
     "iopub.status.busy": "2024-02-24T15:13:57.993928Z",
     "iopub.status.idle": "2024-02-24T15:13:57.996726Z",
     "shell.execute_reply": "2024-02-24T15:13:57.996338Z"
    }
   },
   "outputs": [
    {
     "name": "stdout",
     "output_type": "stream",
     "text": [
      "Numbers greater than mean: [12, 11, 13, 11, 12]\n"
     ]
    }
   ],
   "source": [
    "greater_than_mean = []\n",
    "for x in numbers:\n",
    "    if x > mean:\n",
    "        greater_than_mean.append(x)\n",
    "print(f'Numbers greater than mean: {greater_than_mean}')"
   ]
  },
  {
   "cell_type": "code",
   "execution_count": 12,
   "id": "3bc4b128",
   "metadata": {
    "execution": {
     "iopub.execute_input": "2024-02-24T15:13:57.998388Z",
     "iopub.status.busy": "2024-02-24T15:13:57.998295Z",
     "iopub.status.idle": "2024-02-24T15:13:58.000310Z",
     "shell.execute_reply": "2024-02-24T15:13:58.000044Z"
    }
   },
   "outputs": [
    {
     "name": "stdout",
     "output_type": "stream",
     "text": [
      "Variance: 2.25, standard deviation: 1.5\n"
     ]
    }
   ],
   "source": [
    "squared_differences = [(x - mean) ** 2 for x in numbers]\n",
    "variance = sum(squared_differences) / len(numbers)\n",
    "print(f'Variance: {variance}, standard deviation: {variance ** 0.5}')"
   ]
  },
  {
   "cell_type": "code",
   "execution_count": 13,
   "id": "277d69a0",
   "metadata": {
    "execution": {
     "iopub.execute_input": "2024-02-24T15:13:58.001479Z",
     "iopub.status.busy": "2024-02-24T15:13:58.001384Z",
     "iopub.status.idle": "2024-02-24T15:13:58.002950Z",
     "shell.execute_reply": "2024-02-24T15:13:58.002734Z"
    }
   },
   "outputs": [],
   "source": [
    "variance = sum((x - mean) ** 2 for x in numbers) / len(numbers)"
   ]
  },
  {
   "cell_type": "code",
   "execution_count": 14,
   "id": "1f367013",
   "metadata": {
    "execution": {
     "iopub.execute_input": "2024-02-24T15:13:58.004102Z",
     "iopub.status.busy": "2024-02-24T15:13:58.004030Z",
     "iopub.status.idle": "2024-02-24T15:13:58.005666Z",
     "shell.execute_reply": "2024-02-24T15:13:58.005449Z"
    }
   },
   "outputs": [],
   "source": [
    "greater_than_mean = [x for x in numbers if x > mean]"
   ]
  },
  {
   "cell_type": "code",
   "execution_count": 15,
   "id": "f6af82a5",
   "metadata": {
    "execution": {
     "iopub.execute_input": "2024-02-24T15:13:58.006822Z",
     "iopub.status.busy": "2024-02-24T15:13:58.006750Z",
     "iopub.status.idle": "2024-02-24T15:13:58.015401Z",
     "shell.execute_reply": "2024-02-24T15:13:58.015163Z"
    }
   },
   "outputs": [],
   "source": [
    "import numpy as np\n",
    "numbers = list(range(1_000_000))\n",
    "numbers_np = np.arange(1_000_000)"
   ]
  },
  {
   "cell_type": "code",
   "execution_count": 16,
   "id": "7e636794",
   "metadata": {
    "execution": {
     "iopub.execute_input": "2024-02-24T15:13:58.016652Z",
     "iopub.status.busy": "2024-02-24T15:13:58.016588Z",
     "iopub.status.idle": "2024-02-24T15:13:58.080061Z",
     "shell.execute_reply": "2024-02-24T15:13:58.079839Z"
    }
   },
   "outputs": [
    {
     "name": "stdout",
     "output_type": "stream",
     "text": [
      "12.3 ms ± 400 µs per loop (mean ± std. dev. of 5 runs, 1 loop each)\n"
     ]
    }
   ],
   "source": [
    "%%timeit -n 1 -r 5\n",
    "sum_of_numbers = 0\n",
    "for x in numbers:\n",
    "    sum_of_numbers += x"
   ]
  },
  {
   "cell_type": "code",
   "execution_count": 17,
   "id": "2a784fb6",
   "metadata": {
    "execution": {
     "iopub.execute_input": "2024-02-24T15:13:58.081220Z",
     "iopub.status.busy": "2024-02-24T15:13:58.081156Z",
     "iopub.status.idle": "2024-02-24T15:13:58.098672Z",
     "shell.execute_reply": "2024-02-24T15:13:58.098436Z"
    }
   },
   "outputs": [
    {
     "name": "stdout",
     "output_type": "stream",
     "text": [
      "3.13 ms ± 104 µs per loop (mean ± std. dev. of 5 runs, 1 loop each)\n"
     ]
    }
   ],
   "source": [
    "%%timeit -n 1 -r 5\n",
    "sum_of_numbers = sum(numbers)"
   ]
  },
  {
   "cell_type": "code",
   "execution_count": 18,
   "id": "996e75a0",
   "metadata": {
    "execution": {
     "iopub.execute_input": "2024-02-24T15:13:58.099767Z",
     "iopub.status.busy": "2024-02-24T15:13:58.099707Z",
     "iopub.status.idle": "2024-02-24T15:13:58.105239Z",
     "shell.execute_reply": "2024-02-24T15:13:58.105052Z"
    }
   },
   "outputs": [
    {
     "name": "stdout",
     "output_type": "stream",
     "text": [
      "78.1 µs ± 7.06 µs per loop (mean ± std. dev. of 5 runs, 10 loops each)\n"
     ]
    }
   ],
   "source": [
    "%%timeit -n 10 -r 5\n",
    "sum_of_numbers = numbers_np.sum()"
   ]
  },
  {
   "cell_type": "code",
   "execution_count": 19,
   "id": "bb535c1c",
   "metadata": {
    "execution": {
     "iopub.execute_input": "2024-02-24T15:13:58.106359Z",
     "iopub.status.busy": "2024-02-24T15:13:58.106298Z",
     "iopub.status.idle": "2024-02-24T15:13:58.110934Z",
     "shell.execute_reply": "2024-02-24T15:13:58.110725Z"
    }
   },
   "outputs": [
    {
     "name": "stdout",
     "output_type": "stream",
     "text": [
      "[1 2 3 4 5]\n"
     ]
    }
   ],
   "source": [
    "import numpy as np\n",
    "numbers = [1, 2, 3, 4, 5]\n",
    "x = np.array(numbers)\n",
    "print(x)"
   ]
  },
  {
   "cell_type": "code",
   "execution_count": 20,
   "id": "f9c792bb",
   "metadata": {
    "execution": {
     "iopub.execute_input": "2024-02-24T15:13:58.111952Z",
     "iopub.status.busy": "2024-02-24T15:13:58.111888Z",
     "iopub.status.idle": "2024-02-24T15:13:58.114075Z",
     "shell.execute_reply": "2024-02-24T15:13:58.113884Z"
    }
   },
   "outputs": [
    {
     "name": "stdout",
     "output_type": "stream",
     "text": [
      "[ 7  9 11 13 15]\n",
      "[ 6 14 24 36 50]\n",
      "[2. 1. 0. 1. 2.]\n",
      "[False False False  True  True]\n",
      "[4 5]\n"
     ]
    }
   ],
   "source": [
    "import numpy as np\n",
    "x = np.array([1, 2, 3, 4, 5])\n",
    "y = np.array([6, 7, 8, 9, 10])\n",
    "print(x + y)\n",
    "print(x * y)\n",
    "print(np.sqrt((x - 3) ** 2))\n",
    "print(x > 3)\n",
    "print(x[x > 3])"
   ]
  },
  {
   "cell_type": "code",
   "execution_count": 21,
   "id": "18076b79",
   "metadata": {
    "execution": {
     "iopub.execute_input": "2024-02-24T15:13:58.115272Z",
     "iopub.status.busy": "2024-02-24T15:13:58.115202Z",
     "iopub.status.idle": "2024-02-24T15:13:58.116938Z",
     "shell.execute_reply": "2024-02-24T15:13:58.116721Z"
    }
   },
   "outputs": [
    {
     "name": "stdout",
     "output_type": "stream",
     "text": [
      "15\n",
      "3.0\n",
      "[ 1  3  6 10 15]\n"
     ]
    }
   ],
   "source": [
    "import numpy as np\n",
    "x = np.array([1, 2, 3, 4, 5])\n",
    "print(x.sum())\n",
    "print(x.mean())\n",
    "print(x.cumsum())"
   ]
  },
  {
   "cell_type": "code",
   "execution_count": 22,
   "id": "89445506",
   "metadata": {
    "execution": {
     "iopub.execute_input": "2024-02-24T15:13:58.117995Z",
     "iopub.status.busy": "2024-02-24T15:13:58.117921Z",
     "iopub.status.idle": "2024-02-24T15:13:58.210839Z",
     "shell.execute_reply": "2024-02-24T15:13:58.210623Z"
    }
   },
   "outputs": [
    {
     "data": {
      "text/html": [
       "<div>\n",
       "<style scoped>\n",
       "    .dataframe tbody tr th:only-of-type {\n",
       "        vertical-align: middle;\n",
       "    }\n",
       "\n",
       "    .dataframe tbody tr th {\n",
       "        vertical-align: top;\n",
       "    }\n",
       "\n",
       "    .dataframe thead th {\n",
       "        text-align: right;\n",
       "    }\n",
       "</style>\n",
       "<table border=\"1\" class=\"dataframe\">\n",
       "  <thead>\n",
       "    <tr style=\"text-align: right;\">\n",
       "      <th></th>\n",
       "      <th>Control</th>\n",
       "      <th>Treatment</th>\n",
       "    </tr>\n",
       "  </thead>\n",
       "  <tbody>\n",
       "    <tr>\n",
       "      <th>0</th>\n",
       "      <td>1</td>\n",
       "      <td>2</td>\n",
       "    </tr>\n",
       "    <tr>\n",
       "      <th>1</th>\n",
       "      <td>1</td>\n",
       "      <td>2</td>\n",
       "    </tr>\n",
       "    <tr>\n",
       "      <th>2</th>\n",
       "      <td>1</td>\n",
       "      <td>2</td>\n",
       "    </tr>\n",
       "    <tr>\n",
       "      <th>3</th>\n",
       "      <td>1</td>\n",
       "      <td>2</td>\n",
       "    </tr>\n",
       "    <tr>\n",
       "      <th>4</th>\n",
       "      <td>1</td>\n",
       "      <td>2</td>\n",
       "    </tr>\n",
       "  </tbody>\n",
       "</table>\n",
       "</div>"
      ],
      "text/plain": [
       "   Control  Treatment\n",
       "0        1          2\n",
       "1        1          2\n",
       "2        1          2\n",
       "3        1          2\n",
       "4        1          2"
      ]
     },
     "execution_count": 22,
     "metadata": {},
     "output_type": "execute_result"
    }
   ],
   "source": [
    "import pandas as pd\n",
    "df = pd.read_csv(\"hospitalerrors.csv\")\n",
    "df.head()"
   ]
  },
  {
   "cell_type": "code",
   "execution_count": 23,
   "id": "abf74a2e",
   "metadata": {
    "execution": {
     "iopub.execute_input": "2024-02-24T15:13:58.212028Z",
     "iopub.status.busy": "2024-02-24T15:13:58.211964Z",
     "iopub.status.idle": "2024-02-24T15:13:58.214173Z",
     "shell.execute_reply": "2024-02-24T15:13:58.213952Z"
    }
   },
   "outputs": [],
   "source": [
    "df.to_csv(\"data.csv\", index=False)"
   ]
  },
  {
   "cell_type": "code",
   "execution_count": 24,
   "id": "c87fe457",
   "metadata": {
    "execution": {
     "iopub.execute_input": "2024-02-24T15:13:58.215336Z",
     "iopub.status.busy": "2024-02-24T15:13:58.215261Z",
     "iopub.status.idle": "2024-02-24T15:13:58.217334Z",
     "shell.execute_reply": "2024-02-24T15:13:58.217150Z"
    }
   },
   "outputs": [],
   "source": [
    "# Accessing a column\n",
    "control = df[\"Control\"]\n",
    "control = df.Control\n",
    "# Accessing using row index and column names\n",
    "control = df.loc[:, \"Control\"]\n",
    "row = df.loc[0]  # or df.loc[0, :]\n",
    "values = df.loc[4:10, \"Treatment\"]\n",
    "value = df.loc[0, \"Control\"]\n",
    "# Accessing data using row and column numbers\n",
    "treatment = df.iloc[:, 1]\n",
    "row = df.iloc[0, :]\n",
    "value = df.iloc[10, 0]"
   ]
  },
  {
   "cell_type": "code",
   "execution_count": 25,
   "id": "b5a7b8c4",
   "metadata": {
    "execution": {
     "iopub.execute_input": "2024-02-24T15:13:58.218379Z",
     "iopub.status.busy": "2024-02-24T15:13:58.218318Z",
     "iopub.status.idle": "2024-02-24T15:13:58.221181Z",
     "shell.execute_reply": "2024-02-24T15:13:58.220989Z"
    }
   },
   "outputs": [],
   "source": [
    "# Adding or changing columns\n",
    "df[\"Constant value\"] = 1\n",
    "df[\"Sequence\"] = range(len(df))\n",
    "df[\"NewColumn\"] = df[\"Control\"] + df[\"Treatment\"]\n",
    "df[\"NewColumn\"] = df[\"NewColumn\"] * 2\n",
    "# Removing a column\n",
    "df = df.drop(columns=[\"NewColumn\"])\n",
    "# Renaming columns\n",
    "df = df.rename(columns={\"Control\": \"ControlGroup\", \"Treatment\": \"TreatmentGroup\"})\n",
    "# Sorting the data\n",
    "df = df.sort_values(by=\"ControlGroup\")"
   ]
  }
 ],
 "metadata": {
  "language_info": {
   "codemirror_mode": {
    "name": "ipython",
    "version": 3
   },
   "file_extension": ".py",
   "mimetype": "text/x-python",
   "name": "python",
   "nbconvert_exporter": "python",
   "pygments_lexer": "ipython3",
   "version": "3.11.8"
  }
 },
 "nbformat": 4,
 "nbformat_minor": 5
}
