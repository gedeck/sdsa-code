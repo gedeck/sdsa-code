{
 "cells": [
  {
   "cell_type": "markdown",
   "id": "fa69ee08",
   "metadata": {},
   "source": [
    "# Chapter 06 \n",
    " Statistics for Data Science and Analytics<br>\n",
    "by Peter C. Bruce, Peter Gedeck, Janet F. Dobbins\n",
    "\n",
    "Publisher: Wiley; 1st edition (2024) <br>\n",
    "<!-- ISBN-13: 978-3031075650 -->\n",
    "\n",
    "(c) 2024 Peter C. Bruce, Peter Gedeck, Janet F. Dobbins\n",
    "\n",
    "The code needs to be executed in sequence.\n",
    "\n",
    "Python packages and Python itself change over time. This can cause warnings or errors. \n",
    "\"Warnings\" are for information only and can usually be ignored. \n",
    "\"Errors\" will stop execution and need to be fixed in order to get results. \n",
    "\n",
    "If you come across an issue with the code, please follow these steps\n",
    "\n",
    "- Check the repository (https://gedeck.github.io/sdsa-code-solutions/) to see if the code has been upgraded. This might solve the problem.\n",
    "- Report the problem using the issue tracker at https://github.com/gedeck/sdsa-code-solutions/issues\n",
    "- Paste the error message into Google and see if someone else already found a solution"
   ]
  },
  {
   "cell_type": "markdown",
   "id": "92593089",
   "metadata": {},
   "source": [
    " Load required packages"
   ]
  },
  {
   "cell_type": "code",
   "execution_count": 2,
   "id": "0c20c207",
   "metadata": {
    "execution": {
     "iopub.execute_input": "2024-02-24T15:13:36.415839Z",
     "iopub.status.busy": "2024-02-24T15:13:36.415680Z",
     "iopub.status.idle": "2024-02-24T15:13:36.738916Z",
     "shell.execute_reply": "2024-02-24T15:13:36.738562Z"
    }
   },
   "outputs": [],
   "source": [
    "import matplotlib.pyplot as plt\n",
    "import pandas as pd"
   ]
  },
  {
   "cell_type": "markdown",
   "id": "d59c4196",
   "metadata": {},
   "source": [
    "# Example: College admissions data"
   ]
  },
  {
   "cell_type": "markdown",
   "id": "8401c8fd",
   "metadata": {},
   "source": [
    " Load and preprocess the data"
   ]
  },
  {
   "cell_type": "code",
   "execution_count": 3,
   "id": "95f6ce8b",
   "metadata": {
    "execution": {
     "iopub.execute_input": "2024-02-24T15:13:36.740532Z",
     "iopub.status.busy": "2024-02-24T15:13:36.740401Z",
     "iopub.status.idle": "2024-02-24T15:13:36.743363Z",
     "shell.execute_reply": "2024-02-24T15:13:36.743163Z"
    }
   },
   "outputs": [],
   "source": [
    "df = pd.read_csv(\"microUCBAdmissions.csv\")"
   ]
  },
  {
   "cell_type": "markdown",
   "id": "f93efe4b",
   "metadata": {},
   "source": [
    " Create a 2 x 2 table"
   ]
  },
  {
   "cell_type": "code",
   "execution_count": 4,
   "id": "6428fca9",
   "metadata": {
    "execution": {
     "iopub.execute_input": "2024-02-24T15:13:36.744533Z",
     "iopub.status.busy": "2024-02-24T15:13:36.744461Z",
     "iopub.status.idle": "2024-02-24T15:13:36.754672Z",
     "shell.execute_reply": "2024-02-24T15:13:36.754447Z"
    }
   },
   "outputs": [
    {
     "data": {
      "text/html": [
       "<div>\n",
       "<style scoped>\n",
       "    .dataframe tbody tr th:only-of-type {\n",
       "        vertical-align: middle;\n",
       "    }\n",
       "\n",
       "    .dataframe tbody tr th {\n",
       "        vertical-align: top;\n",
       "    }\n",
       "\n",
       "    .dataframe thead th {\n",
       "        text-align: right;\n",
       "    }\n",
       "</style>\n",
       "<table border=\"1\" class=\"dataframe\">\n",
       "  <thead>\n",
       "    <tr style=\"text-align: right;\">\n",
       "      <th>Gender</th>\n",
       "      <th>Female</th>\n",
       "      <th>Male</th>\n",
       "      <th>All</th>\n",
       "    </tr>\n",
       "    <tr>\n",
       "      <th>Admission</th>\n",
       "      <th></th>\n",
       "      <th></th>\n",
       "      <th></th>\n",
       "    </tr>\n",
       "  </thead>\n",
       "  <tbody>\n",
       "    <tr>\n",
       "      <th>Admitted</th>\n",
       "      <td>557</td>\n",
       "      <td>1198</td>\n",
       "      <td>1755</td>\n",
       "    </tr>\n",
       "    <tr>\n",
       "      <th>Rejected</th>\n",
       "      <td>1278</td>\n",
       "      <td>1493</td>\n",
       "      <td>2771</td>\n",
       "    </tr>\n",
       "    <tr>\n",
       "      <th>All</th>\n",
       "      <td>1835</td>\n",
       "      <td>2691</td>\n",
       "      <td>4526</td>\n",
       "    </tr>\n",
       "  </tbody>\n",
       "</table>\n",
       "</div>"
      ],
      "text/plain": [
       "Gender     Female  Male   All\n",
       "Admission                    \n",
       "Admitted      557  1198  1755\n",
       "Rejected     1278  1493  2771\n",
       "All          1835  2691  4526"
      ]
     },
     "execution_count": 4,
     "metadata": {},
     "output_type": "execute_result"
    }
   ],
   "source": [
    "pd.crosstab(df[\"Admission\"], df[\"Gender\"], margins=True)"
   ]
  },
  {
   "cell_type": "markdown",
   "id": "a8ee3253",
   "metadata": {},
   "source": [
    " Percent by column"
   ]
  },
  {
   "cell_type": "code",
   "execution_count": 5,
   "id": "327e8e27",
   "metadata": {
    "execution": {
     "iopub.execute_input": "2024-02-24T15:13:36.755867Z",
     "iopub.status.busy": "2024-02-24T15:13:36.755798Z",
     "iopub.status.idle": "2024-02-24T15:13:36.764616Z",
     "shell.execute_reply": "2024-02-24T15:13:36.764404Z"
    }
   },
   "outputs": [
    {
     "data": {
      "text/html": [
       "<div>\n",
       "<style scoped>\n",
       "    .dataframe tbody tr th:only-of-type {\n",
       "        vertical-align: middle;\n",
       "    }\n",
       "\n",
       "    .dataframe tbody tr th {\n",
       "        vertical-align: top;\n",
       "    }\n",
       "\n",
       "    .dataframe thead th {\n",
       "        text-align: right;\n",
       "    }\n",
       "</style>\n",
       "<table border=\"1\" class=\"dataframe\">\n",
       "  <thead>\n",
       "    <tr style=\"text-align: right;\">\n",
       "      <th>Gender</th>\n",
       "      <th>Female</th>\n",
       "      <th>Male</th>\n",
       "      <th>All</th>\n",
       "    </tr>\n",
       "    <tr>\n",
       "      <th>Admission</th>\n",
       "      <th></th>\n",
       "      <th></th>\n",
       "      <th></th>\n",
       "    </tr>\n",
       "  </thead>\n",
       "  <tbody>\n",
       "    <tr>\n",
       "      <th>Admitted</th>\n",
       "      <td>30.35</td>\n",
       "      <td>44.52</td>\n",
       "      <td>38.78</td>\n",
       "    </tr>\n",
       "    <tr>\n",
       "      <th>Rejected</th>\n",
       "      <td>69.65</td>\n",
       "      <td>55.48</td>\n",
       "      <td>61.22</td>\n",
       "    </tr>\n",
       "  </tbody>\n",
       "</table>\n",
       "</div>"
      ],
      "text/plain": [
       "Gender     Female   Male    All\n",
       "Admission                      \n",
       "Admitted    30.35  44.52  38.78\n",
       "Rejected    69.65  55.48  61.22"
      ]
     },
     "execution_count": 5,
     "metadata": {},
     "output_type": "execute_result"
    }
   ],
   "source": [
    "(pd.crosstab(df[\"Admission\"], df[\"Gender\"], margins=True, normalize=\"columns\") * 100).round(2)"
   ]
  },
  {
   "cell_type": "markdown",
   "id": "4c25405e",
   "metadata": {},
   "source": [
    "# Example: College admissions data (continued)"
   ]
  },
  {
   "cell_type": "markdown",
   "id": "2278c21b",
   "metadata": {},
   "source": [
    " Load, process the data, and create a 2x2 table"
   ]
  },
  {
   "cell_type": "code",
   "execution_count": 6,
   "id": "138abb1e",
   "metadata": {
    "execution": {
     "iopub.execute_input": "2024-02-24T15:13:36.766017Z",
     "iopub.status.busy": "2024-02-24T15:13:36.765941Z",
     "iopub.status.idle": "2024-02-24T15:13:36.774998Z",
     "shell.execute_reply": "2024-02-24T15:13:36.774782Z"
    }
   },
   "outputs": [
    {
     "data": {
      "text/html": [
       "<div>\n",
       "<style scoped>\n",
       "    .dataframe tbody tr th:only-of-type {\n",
       "        vertical-align: middle;\n",
       "    }\n",
       "\n",
       "    .dataframe tbody tr th {\n",
       "        vertical-align: top;\n",
       "    }\n",
       "\n",
       "    .dataframe thead th {\n",
       "        text-align: right;\n",
       "    }\n",
       "</style>\n",
       "<table border=\"1\" class=\"dataframe\">\n",
       "  <thead>\n",
       "    <tr style=\"text-align: right;\">\n",
       "      <th>Major</th>\n",
       "      <th>A</th>\n",
       "      <th>B</th>\n",
       "      <th>C</th>\n",
       "      <th>D</th>\n",
       "      <th>E</th>\n",
       "      <th>F</th>\n",
       "      <th>All</th>\n",
       "    </tr>\n",
       "    <tr>\n",
       "      <th>Gender</th>\n",
       "      <th></th>\n",
       "      <th></th>\n",
       "      <th></th>\n",
       "      <th></th>\n",
       "      <th></th>\n",
       "      <th></th>\n",
       "      <th></th>\n",
       "    </tr>\n",
       "  </thead>\n",
       "  <tbody>\n",
       "    <tr>\n",
       "      <th>Female</th>\n",
       "      <td>108</td>\n",
       "      <td>25</td>\n",
       "      <td>593</td>\n",
       "      <td>375</td>\n",
       "      <td>393</td>\n",
       "      <td>341</td>\n",
       "      <td>1835</td>\n",
       "    </tr>\n",
       "    <tr>\n",
       "      <th>Male</th>\n",
       "      <td>825</td>\n",
       "      <td>560</td>\n",
       "      <td>325</td>\n",
       "      <td>417</td>\n",
       "      <td>191</td>\n",
       "      <td>373</td>\n",
       "      <td>2691</td>\n",
       "    </tr>\n",
       "    <tr>\n",
       "      <th>All</th>\n",
       "      <td>933</td>\n",
       "      <td>585</td>\n",
       "      <td>918</td>\n",
       "      <td>792</td>\n",
       "      <td>584</td>\n",
       "      <td>714</td>\n",
       "      <td>4526</td>\n",
       "    </tr>\n",
       "  </tbody>\n",
       "</table>\n",
       "</div>"
      ],
      "text/plain": [
       "Major     A    B    C    D    E    F   All\n",
       "Gender                                    \n",
       "Female  108   25  593  375  393  341  1835\n",
       "Male    825  560  325  417  191  373  2691\n",
       "All     933  585  918  792  584  714  4526"
      ]
     },
     "execution_count": 6,
     "metadata": {},
     "output_type": "execute_result"
    }
   ],
   "source": [
    "df = pd.read_csv(\"microUCBAdmissions.csv\")\n",
    "admission_gender = pd.crosstab(df[\"Gender\"], df[\"Major\"], margins=True)\n",
    "admission_gender"
   ]
  },
  {
   "cell_type": "markdown",
   "id": "8799d3a7",
   "metadata": {},
   "source": [
    " Percentage of department applications by gender"
   ]
  },
  {
   "cell_type": "code",
   "execution_count": 7,
   "id": "07622042",
   "metadata": {
    "execution": {
     "iopub.execute_input": "2024-02-24T15:13:36.776223Z",
     "iopub.status.busy": "2024-02-24T15:13:36.776143Z",
     "iopub.status.idle": "2024-02-24T15:13:36.785431Z",
     "shell.execute_reply": "2024-02-24T15:13:36.785233Z"
    }
   },
   "outputs": [
    {
     "data": {
      "text/html": [
       "<div>\n",
       "<style scoped>\n",
       "    .dataframe tbody tr th:only-of-type {\n",
       "        vertical-align: middle;\n",
       "    }\n",
       "\n",
       "    .dataframe tbody tr th {\n",
       "        vertical-align: top;\n",
       "    }\n",
       "\n",
       "    .dataframe thead th {\n",
       "        text-align: right;\n",
       "    }\n",
       "</style>\n",
       "<table border=\"1\" class=\"dataframe\">\n",
       "  <thead>\n",
       "    <tr style=\"text-align: right;\">\n",
       "      <th>Major</th>\n",
       "      <th>A</th>\n",
       "      <th>B</th>\n",
       "      <th>C</th>\n",
       "      <th>D</th>\n",
       "      <th>E</th>\n",
       "      <th>F</th>\n",
       "      <th>All</th>\n",
       "    </tr>\n",
       "    <tr>\n",
       "      <th>Gender</th>\n",
       "      <th></th>\n",
       "      <th></th>\n",
       "      <th></th>\n",
       "      <th></th>\n",
       "      <th></th>\n",
       "      <th></th>\n",
       "      <th></th>\n",
       "    </tr>\n",
       "  </thead>\n",
       "  <tbody>\n",
       "    <tr>\n",
       "      <th>Female</th>\n",
       "      <td>11.58</td>\n",
       "      <td>4.27</td>\n",
       "      <td>64.6</td>\n",
       "      <td>47.35</td>\n",
       "      <td>67.29</td>\n",
       "      <td>47.76</td>\n",
       "      <td>40.54</td>\n",
       "    </tr>\n",
       "    <tr>\n",
       "      <th>Male</th>\n",
       "      <td>88.42</td>\n",
       "      <td>95.73</td>\n",
       "      <td>35.4</td>\n",
       "      <td>52.65</td>\n",
       "      <td>32.71</td>\n",
       "      <td>52.24</td>\n",
       "      <td>59.46</td>\n",
       "    </tr>\n",
       "  </tbody>\n",
       "</table>\n",
       "</div>"
      ],
      "text/plain": [
       "Major       A      B     C      D      E      F    All\n",
       "Gender                                                \n",
       "Female  11.58   4.27  64.6  47.35  67.29  47.76  40.54\n",
       "Male    88.42  95.73  35.4  52.65  32.71  52.24  59.46"
      ]
     },
     "execution_count": 7,
     "metadata": {},
     "output_type": "execute_result"
    }
   ],
   "source": [
    "100 * pd.crosstab(df[\"Gender\"], df[\"Major\"], margins=True, normalize=\"columns\").round(4)"
   ]
  },
  {
   "cell_type": "markdown",
   "id": "d2f5979a",
   "metadata": {},
   "source": [
    " Male/female applications by department"
   ]
  },
  {
   "cell_type": "code",
   "execution_count": 8,
   "id": "2b8b6b45",
   "metadata": {
    "execution": {
     "iopub.execute_input": "2024-02-24T15:13:36.786587Z",
     "iopub.status.busy": "2024-02-24T15:13:36.786524Z",
     "iopub.status.idle": "2024-02-24T15:13:36.795477Z",
     "shell.execute_reply": "2024-02-24T15:13:36.795276Z"
    }
   },
   "outputs": [
    {
     "data": {
      "text/html": [
       "<div>\n",
       "<style scoped>\n",
       "    .dataframe tbody tr th:only-of-type {\n",
       "        vertical-align: middle;\n",
       "    }\n",
       "\n",
       "    .dataframe tbody tr th {\n",
       "        vertical-align: top;\n",
       "    }\n",
       "\n",
       "    .dataframe thead th {\n",
       "        text-align: right;\n",
       "    }\n",
       "</style>\n",
       "<table border=\"1\" class=\"dataframe\">\n",
       "  <thead>\n",
       "    <tr style=\"text-align: right;\">\n",
       "      <th>Major</th>\n",
       "      <th>A</th>\n",
       "      <th>B</th>\n",
       "      <th>C</th>\n",
       "      <th>D</th>\n",
       "      <th>E</th>\n",
       "      <th>F</th>\n",
       "    </tr>\n",
       "    <tr>\n",
       "      <th>Gender</th>\n",
       "      <th></th>\n",
       "      <th></th>\n",
       "      <th></th>\n",
       "      <th></th>\n",
       "      <th></th>\n",
       "      <th></th>\n",
       "    </tr>\n",
       "  </thead>\n",
       "  <tbody>\n",
       "    <tr>\n",
       "      <th>Female</th>\n",
       "      <td>5.89</td>\n",
       "      <td>1.36</td>\n",
       "      <td>32.32</td>\n",
       "      <td>20.44</td>\n",
       "      <td>21.42</td>\n",
       "      <td>18.58</td>\n",
       "    </tr>\n",
       "    <tr>\n",
       "      <th>Male</th>\n",
       "      <td>30.66</td>\n",
       "      <td>20.81</td>\n",
       "      <td>12.08</td>\n",
       "      <td>15.50</td>\n",
       "      <td>7.10</td>\n",
       "      <td>13.86</td>\n",
       "    </tr>\n",
       "    <tr>\n",
       "      <th>All</th>\n",
       "      <td>20.61</td>\n",
       "      <td>12.93</td>\n",
       "      <td>20.28</td>\n",
       "      <td>17.50</td>\n",
       "      <td>12.90</td>\n",
       "      <td>15.78</td>\n",
       "    </tr>\n",
       "  </tbody>\n",
       "</table>\n",
       "</div>"
      ],
      "text/plain": [
       "Major       A      B      C      D      E      F\n",
       "Gender                                          \n",
       "Female   5.89   1.36  32.32  20.44  21.42  18.58\n",
       "Male    30.66  20.81  12.08  15.50   7.10  13.86\n",
       "All     20.61  12.93  20.28  17.50  12.90  15.78"
      ]
     },
     "execution_count": 8,
     "metadata": {},
     "output_type": "execute_result"
    }
   ],
   "source": [
    "100 * pd.crosstab(df[\"Gender\"], df[\"Major\"], margins=True, normalize=\"index\").round(4)"
   ]
  },
  {
   "cell_type": "code",
   "execution_count": 9,
   "id": "19fe2b86",
   "metadata": {
    "execution": {
     "iopub.execute_input": "2024-02-24T15:13:36.796642Z",
     "iopub.status.busy": "2024-02-24T15:13:36.796572Z",
     "iopub.status.idle": "2024-02-24T15:13:36.899722Z",
     "shell.execute_reply": "2024-02-24T15:13:36.899452Z"
    }
   },
   "outputs": [
    {
     "data": {
      "image/png": "[encoded data removed]",
      "text/plain": [
       "<Figure size 600x600 with 1 Axes>"
      ]
     },
     "metadata": {},
     "output_type": "display_data"
    }
   ],
   "source": [
    "import matplotlib.pyplot as plt\n",
    "from matplotlib.patches import Rectangle, Arrow\n",
    "\n",
    "x1 = 20\n",
    "x2 = 90\n",
    "y = 97\n",
    "fig, ax = plt.subplots(figsize=(6, 6))\n",
    "ax.add_patch(Rectangle((0, 0), 100, 100, ec=\"black\", color=\"white\"))\n",
    "ax.add_patch(Rectangle((0, 0), x1, y, ec=\"black\", color=\"gold\"))\n",
    "ax.add_patch(Rectangle((0, y), x2, 100-y, ec=\"black\", color=\"C3\"))\n",
    "ax.add_patch(Rectangle((x2, y), 100-x2, 100-y, ec=\"black\", color=\"white\"))\n",
    "\n",
    "ax.text(0.5*(100+x1), 0.5*y, \"96,903\", ha=\"center\", va=\"center\")\n",
    "ax.text(0.5*(x1), 0.5*y, \"2997\", ha=\"center\", va=\"center\")\n",
    "\n",
    "ax.text(0.5*(x2), 110, \"98\", ha=\"center\", va=\"center\")\n",
    "ax.text(0.5*(100+x2), 110, \"2\", ha=\"center\", va=\"center\")\n",
    "ax.add_patch(Arrow(0.5*(x2), 107, 0, -5, color=\"grey\"))\n",
    "ax.add_patch(Arrow(0.5*(100+x2), 107, 0, -5, color=\"grey\"))\n",
    "\n",
    "ax.text(-20, 0.5*(100+y), \"Disease\\n(100)\", ha=\"center\", va=\"center\")\n",
    "ax.add_patch(Arrow(-12, 0.5*(100+y), 11, 0, color=\"grey\"))\n",
    "ax.text(-15, 0.5*(y), \"No disease\\n(99,900)\", ha=\"center\", va=\"center\")\n",
    "ax.plot([-2, -3, -3, -2], [0, 0, y, y], color='grey')\n",
    "ax.plot([-4, -3], [y/2, y/2], color='grey')\n",
    "\n",
    "ax.text(50, 117, \"Test result\", ha=\"center\", va=\"center\", fontsize=16)\n",
    "ax.text(-40, 50, \"Actual\\ncondition\", ha=\"center\", va=\"center\", fontsize=16)\n",
    "\n",
    "ax.set_xlim(-10, 105)\n",
    "ax.set_ylim(-5, 110)\n",
    "ax.set_axis_off()\n",
    "plt.show()"
   ]
  },
  {
   "cell_type": "markdown",
   "id": "dac6ca27",
   "metadata": {},
   "source": [
    "# Independence"
   ]
  },
  {
   "cell_type": "markdown",
   "id": "691af879",
   "metadata": {},
   "source": [
    " Admission rates by department"
   ]
  },
  {
   "cell_type": "code",
   "execution_count": 10,
   "id": "a2dd53f2",
   "metadata": {
    "execution": {
     "iopub.execute_input": "2024-02-24T15:13:36.901112Z",
     "iopub.status.busy": "2024-02-24T15:13:36.901031Z",
     "iopub.status.idle": "2024-02-24T15:13:36.911194Z",
     "shell.execute_reply": "2024-02-24T15:13:36.910984Z"
    }
   },
   "outputs": [
    {
     "data": {
      "text/html": [
       "<div>\n",
       "<style scoped>\n",
       "    .dataframe tbody tr th:only-of-type {\n",
       "        vertical-align: middle;\n",
       "    }\n",
       "\n",
       "    .dataframe tbody tr th {\n",
       "        vertical-align: top;\n",
       "    }\n",
       "\n",
       "    .dataframe thead th {\n",
       "        text-align: right;\n",
       "    }\n",
       "</style>\n",
       "<table border=\"1\" class=\"dataframe\">\n",
       "  <thead>\n",
       "    <tr style=\"text-align: right;\">\n",
       "      <th>Major</th>\n",
       "      <th>A</th>\n",
       "      <th>B</th>\n",
       "      <th>C</th>\n",
       "      <th>D</th>\n",
       "      <th>E</th>\n",
       "      <th>F</th>\n",
       "      <th>All</th>\n",
       "    </tr>\n",
       "    <tr>\n",
       "      <th>Admission</th>\n",
       "      <th></th>\n",
       "      <th></th>\n",
       "      <th></th>\n",
       "      <th></th>\n",
       "      <th></th>\n",
       "      <th></th>\n",
       "      <th></th>\n",
       "    </tr>\n",
       "  </thead>\n",
       "  <tbody>\n",
       "    <tr>\n",
       "      <th>Admitted</th>\n",
       "      <td>64.42</td>\n",
       "      <td>63.25</td>\n",
       "      <td>35.08</td>\n",
       "      <td>33.96</td>\n",
       "      <td>25.17</td>\n",
       "      <td>6.44</td>\n",
       "      <td>38.78</td>\n",
       "    </tr>\n",
       "    <tr>\n",
       "      <th>Rejected</th>\n",
       "      <td>35.58</td>\n",
       "      <td>36.75</td>\n",
       "      <td>64.92</td>\n",
       "      <td>66.04</td>\n",
       "      <td>74.83</td>\n",
       "      <td>93.56</td>\n",
       "      <td>61.22</td>\n",
       "    </tr>\n",
       "  </tbody>\n",
       "</table>\n",
       "</div>"
      ],
      "text/plain": [
       "Major          A      B      C      D      E      F    All\n",
       "Admission                                                 \n",
       "Admitted   64.42  63.25  35.08  33.96  25.17   6.44  38.78\n",
       "Rejected   35.58  36.75  64.92  66.04  74.83  93.56  61.22"
      ]
     },
     "execution_count": 10,
     "metadata": {},
     "output_type": "execute_result"
    }
   ],
   "source": [
    "100 * pd.crosstab(df[\"Admission\"], df[\"Major\"], margins=True, normalize=\"columns\").round(4)"
   ]
  },
  {
   "cell_type": "markdown",
   "id": "f17d3771",
   "metadata": {},
   "source": [
    "## The chi-square distribution"
   ]
  },
  {
   "cell_type": "code",
   "execution_count": 11,
   "id": "7146630d",
   "metadata": {
    "execution": {
     "iopub.execute_input": "2024-02-24T15:13:36.912483Z",
     "iopub.status.busy": "2024-02-24T15:13:36.912411Z",
     "iopub.status.idle": "2024-02-24T15:13:37.417521Z",
     "shell.execute_reply": "2024-02-24T15:13:37.416577Z"
    }
   },
   "outputs": [
    {
     "data": {
      "image/png": "[encoded data removed]",
      "text/plain": [
       "<Figure size 640x480 with 1 Axes>"
      ]
     },
     "metadata": {},
     "output_type": "display_data"
    }
   ],
   "source": [
    "import numpy as np\n",
    "from scipy import stats\n",
    "x = np.linspace(0, 40, 200)\n",
    "distribution = pd.DataFrame({\n",
    "    'x': x,\n",
    "    'chi_2': stats.chi2(df=10).pdf(x),\n",
    "})\n",
    "ax = distribution.plot(x='x', y='chi_2', legend=False, color='black')\n",
    "ax.set_xlabel('$\\chi^2$ statistic')\n",
    "ax.set_ylabel('probability density')\n",
    "plt.show()"
   ]
  },
  {
   "cell_type": "markdown",
   "id": "86a5eae7",
   "metadata": {},
   "source": [
    "# Simpson's Paradox"
   ]
  },
  {
   "cell_type": "markdown",
   "id": "3c93089a",
   "metadata": {},
   "source": [
    " Berkeley admission rates"
   ]
  },
  {
   "cell_type": "code",
   "execution_count": 12,
   "id": "4cf25286",
   "metadata": {
    "execution": {
     "iopub.execute_input": "2024-02-24T15:13:37.420567Z",
     "iopub.status.busy": "2024-02-24T15:13:37.420240Z",
     "iopub.status.idle": "2024-02-24T15:13:37.445252Z",
     "shell.execute_reply": "2024-02-24T15:13:37.444820Z"
    }
   },
   "outputs": [
    {
     "data": {
      "text/html": [
       "<div>\n",
       "<style scoped>\n",
       "    .dataframe tbody tr th:only-of-type {\n",
       "        vertical-align: middle;\n",
       "    }\n",
       "\n",
       "    .dataframe tbody tr th {\n",
       "        vertical-align: top;\n",
       "    }\n",
       "\n",
       "    .dataframe thead th {\n",
       "        text-align: right;\n",
       "    }\n",
       "</style>\n",
       "<table border=\"1\" class=\"dataframe\">\n",
       "  <thead>\n",
       "    <tr style=\"text-align: right;\">\n",
       "      <th>Gender</th>\n",
       "      <th>Female</th>\n",
       "      <th>Male</th>\n",
       "      <th>All</th>\n",
       "    </tr>\n",
       "    <tr>\n",
       "      <th>Admission</th>\n",
       "      <th></th>\n",
       "      <th></th>\n",
       "      <th></th>\n",
       "    </tr>\n",
       "  </thead>\n",
       "  <tbody>\n",
       "    <tr>\n",
       "      <th>Admitted</th>\n",
       "      <td>30.35</td>\n",
       "      <td>44.52</td>\n",
       "      <td>38.78</td>\n",
       "    </tr>\n",
       "    <tr>\n",
       "      <th>Rejected</th>\n",
       "      <td>69.65</td>\n",
       "      <td>55.48</td>\n",
       "      <td>61.22</td>\n",
       "    </tr>\n",
       "  </tbody>\n",
       "</table>\n",
       "</div>"
      ],
      "text/plain": [
       "Gender     Female   Male    All\n",
       "Admission                      \n",
       "Admitted    30.35  44.52  38.78\n",
       "Rejected    69.65  55.48  61.22"
      ]
     },
     "execution_count": 12,
     "metadata": {},
     "output_type": "execute_result"
    }
   ],
   "source": [
    "100 * pd.crosstab(df[\"Admission\"], df[\"Gender\"], margins=True, normalize=\"columns\").round(4)"
   ]
  },
  {
   "cell_type": "markdown",
   "id": "80e5495b",
   "metadata": {},
   "source": [
    " Berkeley admission rates by department"
   ]
  },
  {
   "cell_type": "code",
   "execution_count": 13,
   "id": "9fbf2e49",
   "metadata": {
    "execution": {
     "iopub.execute_input": "2024-02-24T15:13:37.447764Z",
     "iopub.status.busy": "2024-02-24T15:13:37.447559Z",
     "iopub.status.idle": "2024-02-24T15:13:37.459506Z",
     "shell.execute_reply": "2024-02-24T15:13:37.459230Z"
    }
   },
   "outputs": [
    {
     "data": {
      "text/html": [
       "<div>\n",
       "<style scoped>\n",
       "    .dataframe tbody tr th:only-of-type {\n",
       "        vertical-align: middle;\n",
       "    }\n",
       "\n",
       "    .dataframe tbody tr th {\n",
       "        vertical-align: top;\n",
       "    }\n",
       "\n",
       "    .dataframe thead th {\n",
       "        text-align: right;\n",
       "    }\n",
       "</style>\n",
       "<table border=\"1\" class=\"dataframe\">\n",
       "  <thead>\n",
       "    <tr style=\"text-align: right;\">\n",
       "      <th>Major</th>\n",
       "      <th>A</th>\n",
       "      <th>B</th>\n",
       "      <th>C</th>\n",
       "      <th>D</th>\n",
       "      <th>E</th>\n",
       "      <th>F</th>\n",
       "    </tr>\n",
       "    <tr>\n",
       "      <th>Gender</th>\n",
       "      <th></th>\n",
       "      <th></th>\n",
       "      <th></th>\n",
       "      <th></th>\n",
       "      <th></th>\n",
       "      <th></th>\n",
       "    </tr>\n",
       "  </thead>\n",
       "  <tbody>\n",
       "    <tr>\n",
       "      <th>Female</th>\n",
       "      <td>82.41</td>\n",
       "      <td>68.00</td>\n",
       "      <td>34.06</td>\n",
       "      <td>34.93</td>\n",
       "      <td>23.92</td>\n",
       "      <td>7.04</td>\n",
       "    </tr>\n",
       "    <tr>\n",
       "      <th>Male</th>\n",
       "      <td>62.06</td>\n",
       "      <td>63.04</td>\n",
       "      <td>36.92</td>\n",
       "      <td>33.09</td>\n",
       "      <td>27.75</td>\n",
       "      <td>5.90</td>\n",
       "    </tr>\n",
       "  </tbody>\n",
       "</table>\n",
       "</div>"
      ],
      "text/plain": [
       "Major       A      B      C      D      E     F\n",
       "Gender                                         \n",
       "Female  82.41  68.00  34.06  34.93  23.92  7.04\n",
       "Male    62.06  63.04  36.92  33.09  27.75  5.90"
      ]
     },
     "execution_count": 13,
     "metadata": {},
     "output_type": "execute_result"
    }
   ],
   "source": [
    "admitted = df[df[\"Admission\"] == \"Admitted\"]\n",
    "100 * (pd.crosstab(admitted[\"Gender\"], admitted[\"Major\"]) /\n",
    "pd.crosstab(df[\"Gender\"], df[\"Major\"])).round(4)"
   ]
  }
 ],
 "metadata": {
  "language_info": {
   "codemirror_mode": {
    "name": "ipython",
    "version": 3
   },
   "file_extension": ".py",
   "mimetype": "text/x-python",
   "name": "python",
   "nbconvert_exporter": "python",
   "pygments_lexer": "ipython3",
   "version": "3.11.8"
  }
 },
 "nbformat": 4,
 "nbformat_minor": 5
}
