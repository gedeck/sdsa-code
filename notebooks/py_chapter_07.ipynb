{
 "cells": [
  {
   "cell_type": "markdown",
   "id": "2de56b53",
   "metadata": {},
   "source": [
    "# Chapter py_07 \n",
    " Statistics for Data Science and Analytics<br>\n",
    "by Peter C. Bruce, Peter Gedeck, Janet F. Dobbins\n",
    "\n",
    "Publisher: Wiley; 1st edition (2024) <br>\n",
    "<!-- ISBN-13: 978-3031075650 -->\n",
    "\n",
    "(c) 2024 Peter C. Bruce, Peter Gedeck, Janet F. Dobbins\n",
    "\n",
    "The code needs to be executed in sequence.\n",
    "\n",
    "Python packages and Python itself change over time. This can cause warnings or errors. \n",
    "\"Warnings\" are for information only and can usually be ignored. \n",
    "\"Errors\" will stop execution and need to be fixed in order to get results. \n",
    "\n",
    "If you come across an issue with the code, please follow these steps\n",
    "\n",
    "- Check the repository (https://gedeck.github.io/sdsa-code-solutions/) to see if the code has been upgraded. This might solve the problem.\n",
    "- Report the problem using the issue tracker at https://github.com/gedeck/sdsa-code-solutions/issues\n",
    "- Paste the error message into Google and see if someone else already found a solution"
   ]
  },
  {
   "cell_type": "markdown",
   "id": "55f40046",
   "metadata": {},
   "source": [
    "# Implement simple random sample (SRS)"
   ]
  },
  {
   "cell_type": "code",
   "execution_count": 2,
   "id": "02064652",
   "metadata": {
    "execution": {
     "iopub.execute_input": "2024-02-24T15:14:15.310382Z",
     "iopub.status.busy": "2024-02-24T15:14:15.310093Z",
     "iopub.status.idle": "2024-02-24T15:14:19.525365Z",
     "shell.execute_reply": "2024-02-24T15:14:19.525124Z"
    }
   },
   "outputs": [
    {
     "name": "stdout",
     "output_type": "stream",
     "text": [
      "Mean: 36.001\n"
     ]
    },
    {
     "data": {
      "image/png": "[encoded data removed]",
      "text/plain": [
       "<Figure size 640x480 with 1 Axes>"
      ]
     },
     "metadata": {},
     "output_type": "display_data"
    }
   ],
   "source": [
    "import random\n",
    "import matplotlib.pyplot as plt\n",
    "\n",
    "random.seed(123)\n",
    "box = [0] * 128 + [1] * 72\n",
    "# Repeated sampling\n",
    "nsamples = 1000\n",
    "proportion = []\n",
    "for _ in range(nsamples):\n",
    "    nr_ones = 0\n",
    "    for _ in range(len(box)):\n",
    "        random.shuffle(box)\n",
    "        sample = random.choice(box)\n",
    "        if sample == 1:\n",
    "            nr_ones += 1\n",
    "    proportion.append(nr_ones / len(box) * 100)\n",
    "# Visualize the results\n",
    "fig, ax = plt.subplots()\n",
    "ax.hist(proportion, bins=20)\n",
    "ax.set_xlabel(\"Proportion favorable [\\%]\")\n",
    "ax.set_ylabel(\"Frequency\")\n",
    "print(f\"Mean: {sum(proportion)/len(proportion)}\")\n",
    "plt.show()"
   ]
  },
  {
   "cell_type": "markdown",
   "id": "6bb4da8c",
   "metadata": {},
   "source": [
    " Improved version of the sampling experiment"
   ]
  },
  {
   "cell_type": "code",
   "execution_count": 3,
   "id": "4c6ae293",
   "metadata": {
    "execution": {
     "iopub.execute_input": "2024-02-24T15:14:19.526812Z",
     "iopub.status.busy": "2024-02-24T15:14:19.526715Z",
     "iopub.status.idle": "2024-02-24T15:14:19.581888Z",
     "shell.execute_reply": "2024-02-24T15:14:19.581625Z"
    }
   },
   "outputs": [
    {
     "data": {
      "image/png": "[encoded data removed]",
      "text/plain": [
       "<Figure size 640x480 with 1 Axes>"
      ]
     },
     "metadata": {},
     "output_type": "display_data"
    },
    {
     "name": "stdout",
     "output_type": "stream",
     "text": [
      "Mean: 0.35907500000000026\n"
     ]
    }
   ],
   "source": [
    "proportion = []\n",
    "for _ in range(nsamples):\n",
    "    samples = random.choices(box, k=len(box))\n",
    "    nr_ones = sum(samples)\n",
    "    proportion.append(nr_ones / len(box))\n",
    "# Visualize the results\n",
    "fig, ax = plt.subplots()\n",
    "ax.hist(proportion, bins=20)\n",
    "plt.show()\n",
    "print(f\"Mean: {sum(proportion)/len(proportion)}\")"
   ]
  },
  {
   "cell_type": "markdown",
   "id": "f381a595",
   "metadata": {},
   "source": [
    " Using weights instead of a box"
   ]
  },
  {
   "cell_type": "code",
   "execution_count": 4,
   "id": "5123bf35",
   "metadata": {
    "execution": {
     "iopub.execute_input": "2024-02-24T15:14:19.583225Z",
     "iopub.status.busy": "2024-02-24T15:14:19.583148Z",
     "iopub.status.idle": "2024-02-24T15:14:19.600279Z",
     "shell.execute_reply": "2024-02-24T15:14:19.600071Z"
    }
   },
   "outputs": [
    {
     "name": "stdout",
     "output_type": "stream",
     "text": [
      "Mean: 0.36045\n"
     ]
    }
   ],
   "source": [
    "import numpy as np\n",
    "population_size = 200\n",
    "proportion = []\n",
    "for _ in range(nsamples):\n",
    "    samples = random.choices([0, 1], weights=[128, 72], k=population_size)\n",
    "    proportion.append(sum(samples) / population_size)\n",
    "print(f\"Mean: {np.mean(proportion)}\")"
   ]
  },
  {
   "cell_type": "markdown",
   "id": "025b1d6f",
   "metadata": {},
   "source": [
    "## Determining confidence intervals"
   ]
  },
  {
   "cell_type": "code",
   "execution_count": 5,
   "id": "576d98e2",
   "metadata": {
    "execution": {
     "iopub.execute_input": "2024-02-24T15:14:19.601518Z",
     "iopub.status.busy": "2024-02-24T15:14:19.601451Z",
     "iopub.status.idle": "2024-02-24T15:14:19.603317Z",
     "shell.execute_reply": "2024-02-24T15:14:19.603092Z"
    }
   },
   "outputs": [
    {
     "name": "stdout",
     "output_type": "stream",
     "text": [
      "Confidence interval: [0.295, 0.430]\n"
     ]
    }
   ],
   "source": [
    "percentiles = [0.025, 0.975]\n",
    "sorted_proportion = sorted(proportion)\n",
    "lower = sorted_proportion[round(percentiles[0] * nsamples)]\n",
    "upper = sorted_proportion[round(percentiles[1] * nsamples)]\n",
    "print(f\"Confidence interval: [{lower:.3f}, {upper:.3f}]\")"
   ]
  },
  {
   "cell_type": "markdown",
   "id": "5a061a18",
   "metadata": {},
   "source": [
    " Using `np.percentile` to determine the confidence interval"
   ]
  },
  {
   "cell_type": "code",
   "execution_count": 6,
   "id": "f7bf6a22",
   "metadata": {
    "execution": {
     "iopub.execute_input": "2024-02-24T15:14:19.604588Z",
     "iopub.status.busy": "2024-02-24T15:14:19.604511Z",
     "iopub.status.idle": "2024-02-24T15:14:19.606577Z",
     "shell.execute_reply": "2024-02-24T15:14:19.606374Z"
    }
   },
   "outputs": [
    {
     "name": "stdout",
     "output_type": "stream",
     "text": [
      "Confidence interval: [0.295, 0.430]\n"
     ]
    }
   ],
   "source": [
    "import numpy as np\n",
    "lower, upper = np.percentile(proportion, [2.5, 97.5])\n",
    "print(f\"Confidence interval: [{lower:.3f}, {upper:.3f}]\")"
   ]
  },
  {
   "cell_type": "markdown",
   "id": "c29dec88",
   "metadata": {},
   "source": [
    " Using the normal approximation to determine the confidence interval"
   ]
  },
  {
   "cell_type": "code",
   "execution_count": 7,
   "id": "efe4698e",
   "metadata": {
    "execution": {
     "iopub.execute_input": "2024-02-24T15:14:19.607799Z",
     "iopub.status.busy": "2024-02-24T15:14:19.607722Z",
     "iopub.status.idle": "2024-02-24T15:14:19.858137Z",
     "shell.execute_reply": "2024-02-24T15:14:19.857485Z"
    }
   },
   "outputs": [
    {
     "name": "stdout",
     "output_type": "stream",
     "text": [
      "Confidence interval: [0.294, 0.427]\n"
     ]
    }
   ],
   "source": [
    "from scipy import stats\n",
    "p = np.mean(proportion)\n",
    "n = population_size\n",
    "z = stats.norm().ppf(0.975)\n",
    "lower = p - z * np.sqrt(p * (1 - p) / n)\n",
    "upper = p + z * np.sqrt(p * (1 - p) / n)\n",
    "print(f\"Confidence interval: [{lower:.3f}, {upper:.3f}]\")"
   ]
  },
  {
   "cell_type": "code",
   "execution_count": 8,
   "id": "79899fa5",
   "metadata": {
    "execution": {
     "iopub.execute_input": "2024-02-24T15:14:19.863641Z",
     "iopub.status.busy": "2024-02-24T15:14:19.861455Z",
     "iopub.status.idle": "2024-02-24T15:14:19.999850Z",
     "shell.execute_reply": "2024-02-24T15:14:19.999622Z"
    }
   },
   "outputs": [
    {
     "name": "stdout",
     "output_type": "stream",
     "text": [
      "Confidence interval (normal): [0.293, 0.427]\n",
      "Confidence interval (beta): [0.294, 0.431]\n"
     ]
    }
   ],
   "source": [
    "from statsmodels.stats.proportion import proportion_confint\n",
    "ci_interval = proportion_confint(72, 200, alpha=0.05, method=\"normal\")\n",
    "print(f\"Confidence interval (normal): [{ci_interval[0]:.3f}, {ci_interval[1]:.3f}]\")\n",
    "ci_interval = proportion_confint(72, 200, alpha=0.05, method=\"beta\")\n",
    "print(f\"Confidence interval (beta): [{ci_interval[0]:.3f}, {ci_interval[1]:.3f}]\")"
   ]
  },
  {
   "cell_type": "markdown",
   "id": "5171eb5b",
   "metadata": {},
   "source": [
    "# Bootstrap sampling to determine confidence intervals for a mean"
   ]
  },
  {
   "cell_type": "code",
   "execution_count": 9,
   "id": "84daf224",
   "metadata": {
    "execution": {
     "iopub.execute_input": "2024-02-24T15:14:20.001219Z",
     "iopub.status.busy": "2024-02-24T15:14:20.001109Z",
     "iopub.status.idle": "2024-02-24T15:14:20.055692Z",
     "shell.execute_reply": "2024-02-24T15:14:20.055474Z"
    }
   },
   "outputs": [
    {
     "name": "stdout",
     "output_type": "stream",
     "text": [
      "Confidence interval: [16242.06, 19112.62]\n"
     ]
    }
   ],
   "source": [
    "import pandas as pd\n",
    "rng = np.random.default_rng(seed=321)\n",
    "\n",
    "df = pd.read_csv(\"toyota.txt\", header=None, names=[\"price\"])\n",
    "\n",
    "nsamples = 1000\n",
    "mean_price = []\n",
    "for _ in range(nsamples):\n",
    "    sample = df.sample(frac=1.0, replace=True, random_state=rng)\n",
    "    mean_price.append(sample[\"price\"].mean())\n",
    "\n",
    "percentiles = [0.025, 0.975]\n",
    "lower, upper = np.percentile(mean_price, [2.5, 97.5])\n",
    "print(f\"Confidence interval: [{lower:.2f}, {upper:.2f}]\")"
   ]
  },
  {
   "cell_type": "code",
   "execution_count": 10,
   "id": "b8590091",
   "metadata": {
    "execution": {
     "iopub.execute_input": "2024-02-24T15:14:20.056879Z",
     "iopub.status.busy": "2024-02-24T15:14:20.056785Z",
     "iopub.status.idle": "2024-02-24T15:14:20.229724Z",
     "shell.execute_reply": "2024-02-24T15:14:20.229106Z"
    }
   },
   "outputs": [
    {
     "data": {
      "image/png": "[encoded data removed]",
      "text/plain": [
       "<Figure size 640x480 with 1 Axes>"
      ]
     },
     "metadata": {},
     "output_type": "display_data"
    }
   ],
   "source": [
    "# Visualize the results\n",
    "fig, ax = plt.subplots()\n",
    "ax.hist(mean_price, bins=20)\n",
    "ax.set_xlabel(\"Mean price\")\n",
    "ax.set_ylabel(\"Frequency\")\n",
    "ax.axvline(lower, color=\"black\", linestyle=\"--\")\n",
    "ax.axvline(upper, color=\"black\", linestyle=\"--\")\n",
    "ax.axvline(np.mean(mean_price), color=\"black\")\n",
    "plt.show()"
   ]
  },
  {
   "cell_type": "code",
   "execution_count": 11,
   "id": "70f1aad7",
   "metadata": {
    "execution": {
     "iopub.execute_input": "2024-02-24T15:14:20.233034Z",
     "iopub.status.busy": "2024-02-24T15:14:20.232097Z",
     "iopub.status.idle": "2024-02-24T15:14:20.241573Z",
     "shell.execute_reply": "2024-02-24T15:14:20.240997Z"
    }
   },
   "outputs": [
    {
     "name": "stdout",
     "output_type": "stream",
     "text": [
      "95% confidence interval: [16043.56, 19326.44]\n"
     ]
    }
   ],
   "source": [
    "from scipy import stats\n",
    "\n",
    "mean_price = np.mean(df[\"price\"])\n",
    "std_err_mean = stats.sem(df[\"price\"])\n",
    "dof = len(df[\"price\"]) - 1\n",
    "# calculate 95% confidence interval\n",
    "ci_interval = stats.t.interval(0.95, dof, loc=mean_price, scale=std_err_mean)\n",
    "\n",
    "print(f'95% confidence interval: [{ci_interval[0]:.2f}, {ci_interval[1]:.2f}]')"
   ]
  },
  {
   "cell_type": "markdown",
   "id": "ad80910b",
   "metadata": {},
   "source": [
    "# Stratified sampling"
   ]
  },
  {
   "cell_type": "code",
   "execution_count": 12,
   "id": "e700ccfb",
   "metadata": {
    "execution": {
     "iopub.execute_input": "2024-02-24T15:14:20.245829Z",
     "iopub.status.busy": "2024-02-24T15:14:20.245269Z",
     "iopub.status.idle": "2024-02-24T15:14:20.259038Z",
     "shell.execute_reply": "2024-02-24T15:14:20.258648Z"
    }
   },
   "outputs": [
    {
     "name": "stdout",
     "output_type": "stream",
     "text": [
      "451 rows sampled from 4526 rows\n"
     ]
    },
    {
     "data": {
      "text/html": [
       "<div>\n",
       "<style scoped>\n",
       "    .dataframe tbody tr th:only-of-type {\n",
       "        vertical-align: middle;\n",
       "    }\n",
       "\n",
       "    .dataframe tbody tr th {\n",
       "        vertical-align: top;\n",
       "    }\n",
       "\n",
       "    .dataframe thead th {\n",
       "        text-align: right;\n",
       "    }\n",
       "</style>\n",
       "<table border=\"1\" class=\"dataframe\">\n",
       "  <thead>\n",
       "    <tr style=\"text-align: right;\">\n",
       "      <th></th>\n",
       "      <th>Admission</th>\n",
       "      <th>Gender</th>\n",
       "      <th>Major</th>\n",
       "    </tr>\n",
       "  </thead>\n",
       "  <tbody>\n",
       "    <tr>\n",
       "      <th>3893</th>\n",
       "      <td>Admitted</td>\n",
       "      <td>Male</td>\n",
       "      <td>A</td>\n",
       "    </tr>\n",
       "    <tr>\n",
       "      <th>830</th>\n",
       "      <td>Admitted</td>\n",
       "      <td>Male</td>\n",
       "      <td>A</td>\n",
       "    </tr>\n",
       "    <tr>\n",
       "      <th>2916</th>\n",
       "      <td>Rejected</td>\n",
       "      <td>Male</td>\n",
       "      <td>A</td>\n",
       "    </tr>\n",
       "    <tr>\n",
       "      <th>925</th>\n",
       "      <td>Admitted</td>\n",
       "      <td>Male</td>\n",
       "      <td>A</td>\n",
       "    </tr>\n",
       "    <tr>\n",
       "      <th>844</th>\n",
       "      <td>Admitted</td>\n",
       "      <td>Female</td>\n",
       "      <td>A</td>\n",
       "    </tr>\n",
       "  </tbody>\n",
       "</table>\n",
       "</div>"
      ],
      "text/plain": [
       "     Admission  Gender Major\n",
       "3893  Admitted    Male     A\n",
       "830   Admitted    Male     A\n",
       "2916  Rejected    Male     A\n",
       "925   Admitted    Male     A\n",
       "844   Admitted  Female     A"
      ]
     },
     "execution_count": 12,
     "metadata": {},
     "output_type": "execute_result"
    }
   ],
   "source": [
    "rng = np.random.default_rng(seed=123)\n",
    "df = pd.read_csv(\"microUCBAdmissions.csv\")\n",
    "resample = (df.groupby(\"Major\")\n",
    "    .sample(frac=0.1, random_state=rng))\n",
    "print(f\"{len(resample)} rows sampled from {len(df)} rows\")\n",
    "resample.head()"
   ]
  },
  {
   "cell_type": "code",
   "execution_count": 13,
   "id": "50f096f3",
   "metadata": {
    "execution": {
     "iopub.execute_input": "2024-02-24T15:14:20.262051Z",
     "iopub.status.busy": "2024-02-24T15:14:20.261717Z",
     "iopub.status.idle": "2024-02-24T15:14:20.269641Z",
     "shell.execute_reply": "2024-02-24T15:14:20.268802Z"
    }
   },
   "outputs": [
    {
     "data": {
      "text/html": [
       "<div>\n",
       "<style scoped>\n",
       "    .dataframe tbody tr th:only-of-type {\n",
       "        vertical-align: middle;\n",
       "    }\n",
       "\n",
       "    .dataframe tbody tr th {\n",
       "        vertical-align: top;\n",
       "    }\n",
       "\n",
       "    .dataframe thead th {\n",
       "        text-align: right;\n",
       "    }\n",
       "</style>\n",
       "<table border=\"1\" class=\"dataframe\">\n",
       "  <thead>\n",
       "    <tr style=\"text-align: right;\">\n",
       "      <th></th>\n",
       "      <th>Original</th>\n",
       "      <th>Resampled</th>\n",
       "    </tr>\n",
       "    <tr>\n",
       "      <th>Major</th>\n",
       "      <th></th>\n",
       "      <th></th>\n",
       "    </tr>\n",
       "  </thead>\n",
       "  <tbody>\n",
       "    <tr>\n",
       "      <th>A</th>\n",
       "      <td>0.206</td>\n",
       "      <td>0.206</td>\n",
       "    </tr>\n",
       "    <tr>\n",
       "      <th>C</th>\n",
       "      <td>0.203</td>\n",
       "      <td>0.204</td>\n",
       "    </tr>\n",
       "    <tr>\n",
       "      <th>D</th>\n",
       "      <td>0.175</td>\n",
       "      <td>0.175</td>\n",
       "    </tr>\n",
       "    <tr>\n",
       "      <th>F</th>\n",
       "      <td>0.158</td>\n",
       "      <td>0.157</td>\n",
       "    </tr>\n",
       "    <tr>\n",
       "      <th>B</th>\n",
       "      <td>0.129</td>\n",
       "      <td>0.129</td>\n",
       "    </tr>\n",
       "    <tr>\n",
       "      <th>E</th>\n",
       "      <td>0.129</td>\n",
       "      <td>0.129</td>\n",
       "    </tr>\n",
       "  </tbody>\n",
       "</table>\n",
       "</div>"
      ],
      "text/plain": [
       "       Original  Resampled\n",
       "Major                     \n",
       "A         0.206      0.206\n",
       "C         0.203      0.204\n",
       "D         0.175      0.175\n",
       "F         0.158      0.157\n",
       "B         0.129      0.129\n",
       "E         0.129      0.129"
      ]
     },
     "execution_count": 13,
     "metadata": {},
     "output_type": "execute_result"
    }
   ],
   "source": [
    "pd.DataFrame({\n",
    "    \"Original\": df.value_counts(\"Major\") / len(df),\n",
    "    \"Resampled\": resample.value_counts(\"Major\") / len(resample)\n",
    "}).round(3)"
   ]
  },
  {
   "cell_type": "markdown",
   "id": "29688d63",
   "metadata": {},
   "source": [
    "# Stratified bootstrap sampling for multiple categorical variables"
   ]
  },
  {
   "cell_type": "code",
   "execution_count": 14,
   "id": "784fef91",
   "metadata": {
    "execution": {
     "iopub.execute_input": "2024-02-24T15:14:20.272036Z",
     "iopub.status.busy": "2024-02-24T15:14:20.271847Z",
     "iopub.status.idle": "2024-02-24T15:14:20.280636Z",
     "shell.execute_reply": "2024-02-24T15:14:20.280216Z"
    }
   },
   "outputs": [
    {
     "name": "stdout",
     "output_type": "stream",
     "text": [
      "4526 rows sampled from 4526 rows\n"
     ]
    },
    {
     "data": {
      "text/html": [
       "<div>\n",
       "<style scoped>\n",
       "    .dataframe tbody tr th:only-of-type {\n",
       "        vertical-align: middle;\n",
       "    }\n",
       "\n",
       "    .dataframe tbody tr th {\n",
       "        vertical-align: top;\n",
       "    }\n",
       "\n",
       "    .dataframe thead th {\n",
       "        text-align: right;\n",
       "    }\n",
       "</style>\n",
       "<table border=\"1\" class=\"dataframe\">\n",
       "  <thead>\n",
       "    <tr style=\"text-align: right;\">\n",
       "      <th></th>\n",
       "      <th>Admission</th>\n",
       "      <th>Gender</th>\n",
       "      <th>Major</th>\n",
       "    </tr>\n",
       "  </thead>\n",
       "  <tbody>\n",
       "    <tr>\n",
       "      <th>0</th>\n",
       "      <td>Admitted</td>\n",
       "      <td>Female</td>\n",
       "      <td>A</td>\n",
       "    </tr>\n",
       "    <tr>\n",
       "      <th>1</th>\n",
       "      <td>Admitted</td>\n",
       "      <td>Female</td>\n",
       "      <td>A</td>\n",
       "    </tr>\n",
       "    <tr>\n",
       "      <th>2</th>\n",
       "      <td>Admitted</td>\n",
       "      <td>Female</td>\n",
       "      <td>A</td>\n",
       "    </tr>\n",
       "    <tr>\n",
       "      <th>3</th>\n",
       "      <td>Admitted</td>\n",
       "      <td>Female</td>\n",
       "      <td>A</td>\n",
       "    </tr>\n",
       "    <tr>\n",
       "      <th>4</th>\n",
       "      <td>Admitted</td>\n",
       "      <td>Female</td>\n",
       "      <td>A</td>\n",
       "    </tr>\n",
       "  </tbody>\n",
       "</table>\n",
       "</div>"
      ],
      "text/plain": [
       "  Admission  Gender Major\n",
       "0  Admitted  Female     A\n",
       "1  Admitted  Female     A\n",
       "2  Admitted  Female     A\n",
       "3  Admitted  Female     A\n",
       "4  Admitted  Female     A"
      ]
     },
     "execution_count": 14,
     "metadata": {},
     "output_type": "execute_result"
    }
   ],
   "source": [
    "rng = np.random.default_rng(seed=123)\n",
    "resample = (df.groupby([\"Major\", \"Gender\"])\n",
    "    .sample(frac=1, replace=True, random_state=rng)\n",
    "    .reset_index(drop=True))\n",
    "print(f\"{len(resample)} rows sampled from {len(df)} rows\")\n",
    "resample.head()"
   ]
  },
  {
   "cell_type": "code",
   "execution_count": 15,
   "id": "2106cfcd",
   "metadata": {
    "execution": {
     "iopub.execute_input": "2024-02-24T15:14:20.283473Z",
     "iopub.status.busy": "2024-02-24T15:14:20.283312Z",
     "iopub.status.idle": "2024-02-24T15:14:20.290954Z",
     "shell.execute_reply": "2024-02-24T15:14:20.290537Z"
    }
   },
   "outputs": [
    {
     "name": "stdout",
     "output_type": "stream",
     "text": [
      "              Original  Resampled\n",
      "Gender Major                     \n",
      "Female A           108        108\n",
      "       B            25         25\n",
      "       C           593        593\n",
      "       D           375        375\n",
      "       E           393        393\n",
      "       F           341        341\n",
      "Male   A           825        825\n",
      "       B           560        560\n",
      "       C           325        325\n",
      "       D           417        417\n",
      "       E           191        191\n",
      "       F           373        373\n"
     ]
    }
   ],
   "source": [
    "print(pd.DataFrame({\n",
    "    \"Original\": df.value_counts([\"Gender\", \"Major\"]),\n",
    "    \"Resampled\": resample.value_counts([\"Gender\", \"Major\"]),\n",
    "}).sort_index())"
   ]
  },
  {
   "cell_type": "code",
   "execution_count": 16,
   "id": "92ee2aa1",
   "metadata": {
    "execution": {
     "iopub.execute_input": "2024-02-24T15:14:20.293102Z",
     "iopub.status.busy": "2024-02-24T15:14:20.292917Z",
     "iopub.status.idle": "2024-02-24T15:14:20.305421Z",
     "shell.execute_reply": "2024-02-24T15:14:20.305025Z"
    }
   },
   "outputs": [
    {
     "name": "stdout",
     "output_type": "stream",
     "text": [
      "26 rows sampled from 267 rows\n"
     ]
    },
    {
     "data": {
      "text/html": [
       "<div>\n",
       "<style scoped>\n",
       "    .dataframe tbody tr th:only-of-type {\n",
       "        vertical-align: middle;\n",
       "    }\n",
       "\n",
       "    .dataframe tbody tr th {\n",
       "        vertical-align: top;\n",
       "    }\n",
       "\n",
       "    .dataframe thead th {\n",
       "        text-align: right;\n",
       "    }\n",
       "</style>\n",
       "<table border=\"1\" class=\"dataframe\">\n",
       "  <thead>\n",
       "    <tr style=\"text-align: right;\">\n",
       "      <th></th>\n",
       "      <th>CRIM</th>\n",
       "      <th>RM</th>\n",
       "      <th>MEDV</th>\n",
       "    </tr>\n",
       "  </thead>\n",
       "  <tbody>\n",
       "    <tr>\n",
       "      <th>83</th>\n",
       "      <td>1.38799</td>\n",
       "      <td>5.950</td>\n",
       "      <td>13.2</td>\n",
       "    </tr>\n",
       "    <tr>\n",
       "      <th>231</th>\n",
       "      <td>3.69311</td>\n",
       "      <td>6.376</td>\n",
       "      <td>17.7</td>\n",
       "    </tr>\n",
       "    <tr>\n",
       "      <th>256</th>\n",
       "      <td>0.14866</td>\n",
       "      <td>6.727</td>\n",
       "      <td>27.5</td>\n",
       "    </tr>\n",
       "    <tr>\n",
       "      <th>44</th>\n",
       "      <td>2.73397</td>\n",
       "      <td>5.597</td>\n",
       "      <td>15.4</td>\n",
       "    </tr>\n",
       "    <tr>\n",
       "      <th>223</th>\n",
       "      <td>0.63796</td>\n",
       "      <td>6.096</td>\n",
       "      <td>18.2</td>\n",
       "    </tr>\n",
       "  </tbody>\n",
       "</table>\n",
       "</div>"
      ],
      "text/plain": [
       "        CRIM     RM  MEDV\n",
       "83   1.38799  5.950  13.2\n",
       "231  3.69311  6.376  17.7\n",
       "256  0.14866  6.727  27.5\n",
       "44   2.73397  5.597  15.4\n",
       "223  0.63796  6.096  18.2"
      ]
     },
     "execution_count": 16,
     "metadata": {},
     "output_type": "execute_result"
    }
   ],
   "source": [
    "rng = np.random.default_rng(seed=123)\n",
    "df = pd.read_csv(\"boston-housing.csv\")\n",
    "\n",
    "resample = (df.groupby(pd.cut(df[\"CRIM\"], bins=10),\n",
    "                       observed=True)\n",
    "    .sample(frac=0.1, random_state=rng))\n",
    "print(f\"{len(resample)} rows sampled from {len(df)} rows\")\n",
    "resample.head()"
   ]
  },
  {
   "cell_type": "code",
   "execution_count": 17,
   "id": "a63d6e6d",
   "metadata": {
    "execution": {
     "iopub.execute_input": "2024-02-24T15:14:20.307668Z",
     "iopub.status.busy": "2024-02-24T15:14:20.307471Z",
     "iopub.status.idle": "2024-02-24T15:14:20.560149Z",
     "shell.execute_reply": "2024-02-24T15:14:20.557862Z"
    }
   },
   "outputs": [
    {
     "data": {
      "image/png": "[encoded data removed]",
      "text/plain": [
       "<Figure size 640x480 with 1 Axes>"
      ]
     },
     "metadata": {},
     "output_type": "display_data"
    }
   ],
   "source": [
    "bw_method = 0.5\n",
    "ax = df[\"CRIM\"].plot.density(color=\"black\", bw_method=bw_method,\n",
    "                             label=\"Full dataset\")\n",
    "resample[\"CRIM\"].plot.density(linestyle=\"--\", ax=ax, bw_method=bw_method,\n",
    "                              label=\"Stratified sample\")\n",
    "df[\"CRIM\"].sample(frac=0.1, random_state=rng).plot.density(linestyle=\":\",\n",
    "                              ax=ax, bw_method=bw_method,\n",
    "                              label=\"Random sample\")\n",
    "plt.show()"
   ]
  }
 ],
 "metadata": {
  "language_info": {
   "codemirror_mode": {
    "name": "ipython",
    "version": 3
   },
   "file_extension": ".py",
   "mimetype": "text/x-python",
   "name": "python",
   "nbconvert_exporter": "python",
   "pygments_lexer": "ipython3",
   "version": "3.11.8"
  }
 },
 "nbformat": 4,
 "nbformat_minor": 5
}
