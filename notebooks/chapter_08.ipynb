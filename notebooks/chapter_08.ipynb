{
 "cells": [
  {
   "cell_type": "markdown",
   "id": "aec05a59",
   "metadata": {},
   "source": [
    "# Chapter 08 \n",
    " Statistics for Data Science and Analytics<br>\n",
    "by Peter C. Bruce, Peter Gedeck, Janet F. Dobbins\n",
    "\n",
    "Publisher: Wiley; 1st edition (2024) <br>\n",
    "<!-- ISBN-13: 978-3031075650 -->\n",
    "\n",
    "(c) 2024 Peter C. Bruce, Peter Gedeck, Janet F. Dobbins\n",
    "\n",
    "The code needs to be executed in sequence.\n",
    "\n",
    "Python packages and Python itself change over time. This can cause warnings or errors. \n",
    "\"Warnings\" are for information only and can usually be ignored. \n",
    "\"Errors\" will stop execution and need to be fixed in order to get results. \n",
    "\n",
    "If you come across an issue with the code, please follow these steps\n",
    "\n",
    "- Check the repository (https://gedeck.github.io/sdsa-code-solutions/) to see if the code has been upgraded. This might solve the problem.\n",
    "- Report the problem using the issue tracker at https://github.com/gedeck/sdsa-code-solutions/issues\n",
    "- Paste the error message into Google and see if someone else already found a solution"
   ]
  },
  {
   "cell_type": "markdown",
   "id": "66cc1f2e",
   "metadata": {},
   "source": [
    " Load required packages"
   ]
  },
  {
   "cell_type": "code",
   "execution_count": 2,
   "id": "d2a251be",
   "metadata": {
    "execution": {
     "iopub.execute_input": "2024-02-24T15:13:40.409096Z",
     "iopub.status.busy": "2024-02-24T15:13:40.408936Z",
     "iopub.status.idle": "2024-02-24T15:13:41.060979Z",
     "shell.execute_reply": "2024-02-24T15:13:41.060500Z"
    }
   },
   "outputs": [],
   "source": [
    "import random\n",
    "import matplotlib.pyplot as plt\n",
    "import pandas as pd\n",
    "import numpy as np\n",
    "from scipy import stats"
   ]
  },
  {
   "cell_type": "markdown",
   "id": "6599a980",
   "metadata": {},
   "source": [
    "# Example: Marriage therapy"
   ]
  },
  {
   "cell_type": "code",
   "execution_count": 3,
   "id": "7585dbe1",
   "metadata": {
    "execution": {
     "iopub.execute_input": "2024-02-24T15:13:41.062698Z",
     "iopub.status.busy": "2024-02-24T15:13:41.062535Z",
     "iopub.status.idle": "2024-02-24T15:13:41.068118Z",
     "shell.execute_reply": "2024-02-24T15:13:41.067874Z"
    }
   },
   "outputs": [
    {
     "name": "stdout",
     "output_type": "stream",
     "text": [
      "[[19.16949153  3.93220339  5.89830508]\n",
      " [19.83050847  4.06779661  6.10169492]]\n"
     ]
    },
    {
     "data": {
      "text/plain": [
       "20.40677966101695"
      ]
     },
     "execution_count": 3,
     "metadata": {},
     "output_type": "execute_result"
    }
   ],
   "source": [
    "observed = pd.DataFrame({\n",
    "    \"B\": {1: 15, 2: 3, 3: 11},\n",
    "    \"I\": {1: 24, 2: 5, 3: 1},\n",
    "}).transpose()\n",
    "\n",
    "# use scipy.stats.chi2_contingency to determine expected values\n",
    "result = stats.chi2_contingency(observed)\n",
    "print(result.expected_freq)\n",
    "# calculate sum of absolute differences\n",
    "np.abs(observed - result.expected_freq).sum().sum()"
   ]
  },
  {
   "cell_type": "markdown",
   "id": "2a2cf053",
   "metadata": {},
   "source": [
    " Resampling procedure"
   ]
  },
  {
   "cell_type": "code",
   "execution_count": 4,
   "id": "f25e1906",
   "metadata": {
    "execution": {
     "iopub.execute_input": "2024-02-24T15:13:41.069297Z",
     "iopub.status.busy": "2024-02-24T15:13:41.069229Z",
     "iopub.status.idle": "2024-02-24T15:13:43.195108Z",
     "shell.execute_reply": "2024-02-24T15:13:43.194846Z"
    }
   },
   "outputs": [
    {
     "name": "stdout",
     "output_type": "stream",
     "text": [
      "observed: 20.41\n",
      "count above: 65\n",
      "p-value: 0.0065\n"
     ]
    }
   ],
   "source": [
    "from collections import Counter\n",
    "random.seed(123)\n",
    "box = [1] * 39 + [2] * 8 + [3] * 12\n",
    "statistics = []\n",
    "for _ in range(10_000):\n",
    "    random.shuffle(box)\n",
    "    resample_B = box[:29]\n",
    "    resample_I = box[29:]\n",
    "    counts_B = Counter(resample_B)\n",
    "    counts_I = Counter(resample_I)\n",
    "    table = pd.DataFrame({\n",
    "        \"B\": {i: counts_B[i] for i in [1, 2, 3]},\n",
    "        \"I\": {i: counts_I[i] for i in [1, 2, 3]},\n",
    "    }).transpose()\n",
    "    statistic = np.abs(table - result.expected_freq).sum().sum()\n",
    "    statistics.append(statistic)\n",
    "\n",
    "statistics = np.array(sorted(statistics, reverse=True))\n",
    "count_above = sum(statistics > 20.42)\n",
    "p_value = count_above / len(statistics)\n",
    "\n",
    "print(f\"observed: {np.abs(observed - result.expected_freq).sum().sum():.2f}\")\n",
    "print(f\"count above: {count_above}\")\n",
    "print(f\"p-value: {p_value:.4f}\")"
   ]
  },
  {
   "cell_type": "code",
   "execution_count": 5,
   "id": "f8df5291",
   "metadata": {
    "execution": {
     "iopub.execute_input": "2024-02-24T15:13:43.196489Z",
     "iopub.status.busy": "2024-02-24T15:13:43.196413Z",
     "iopub.status.idle": "2024-02-24T15:13:43.201022Z",
     "shell.execute_reply": "2024-02-24T15:13:43.200748Z"
    }
   },
   "outputs": [
    {
     "name": "stdout",
     "output_type": "stream",
     "text": [
      "Shuffled box\n",
      "3 & 1 & 3 & 1 & 1 & 1 & 1 & 1 & 1 & 1 & 1 & 3 & 2 & 1 & 1 & 1 & 1 & 2 & 2 & 1 & 1 & 1 & 1 & 3 & 1 & 2 & 3 & 1 & 2 & 1 & 1 & 1 & 1 & 1 & 3 & 3 & 1 & 1 & 2 & 1 & 2 & 3 & 2 & 1 & 1 & 3 & 3 & 1 & 1 & 1 & 1 & 1 & 1 & 3 & 1 & 3 & 1 & 1 & 1\n",
      "    1  2  3\n",
      "B  19  5  5\n",
      "I  20  3  7\n",
      "[[19.16949153  3.93220339  5.89830508]\n",
      " [19.83050847  4.06779661  6.10169492]]\n",
      "          1         2         3\n",
      "B  0.169492  1.067797  0.898305\n",
      "I  0.169492  1.067797  0.898305\n",
      "4.271186440677969\n"
     ]
    }
   ],
   "source": [
    "random.seed(123)\n",
    "box = [1] * 39 + [2] * 8 + [3] * 12\n",
    "random.shuffle(box)\n",
    "resample_B = box[:29]\n",
    "resample_I = box[29:]\n",
    "counts_B = Counter(resample_B)\n",
    "counts_I = Counter(resample_I)\n",
    "table = pd.DataFrame({\n",
    "    \"B\": {i: counts_B[i] for i in [1, 2, 3]},\n",
    "    \"I\": {i: counts_I[i] for i in [1, 2, 3]},\n",
    "}).transpose()\n",
    "print(\"Shuffled box\")\n",
    "print(\" & \".join([str(i) for i in box]))\n",
    "print(table)\n",
    "print(result.expected_freq)\n",
    "print(np.abs(table - result.expected_freq))\n",
    "print(np.abs(table - result.expected_freq).sum().sum())"
   ]
  },
  {
   "cell_type": "markdown",
   "id": "91c331d9",
   "metadata": {},
   "source": [
    " Show a values in the vicinity of the observed value"
   ]
  },
  {
   "cell_type": "code",
   "execution_count": 6,
   "id": "b556e411",
   "metadata": {
    "execution": {
     "iopub.execute_input": "2024-02-24T15:13:43.202315Z",
     "iopub.status.busy": "2024-02-24T15:13:43.202239Z",
     "iopub.status.idle": "2024-02-24T15:13:43.203952Z",
     "shell.execute_reply": "2024-02-24T15:13:43.203759Z"
    }
   },
   "outputs": [
    {
     "name": "stdout",
     "output_type": "stream",
     "text": [
      "61 : 20.678\n",
      "62 : 20.678\n",
      "63 : 20.678\n",
      "64 : 20.678\n",
      "65 : 20.678\n",
      "66 : 20.407\n",
      "67 : 20.407\n",
      "68 : 20.407\n",
      "69 : 19.593\n",
      "70 : 19.593\n"
     ]
    }
   ],
   "source": [
    "at_threshold = np.where(statistics <= 20.42)[0][0]\n",
    "for i in range(-5, 5):\n",
    "    print(f\"{at_threshold + i + 1} : {statistics[at_threshold + i]:.3f}\")"
   ]
  },
  {
   "cell_type": "markdown",
   "id": "20450295",
   "metadata": {},
   "source": [
    "# Chi-Square Example"
   ]
  },
  {
   "cell_type": "code",
   "execution_count": 7,
   "id": "b7715576",
   "metadata": {
    "execution": {
     "iopub.execute_input": "2024-02-24T15:13:43.205095Z",
     "iopub.status.busy": "2024-02-24T15:13:43.205027Z",
     "iopub.status.idle": "2024-02-24T15:13:43.207018Z",
     "shell.execute_reply": "2024-02-24T15:13:43.206810Z"
    }
   },
   "outputs": [
    {
     "name": "stdout",
     "output_type": "stream",
     "text": [
      "chi2 = 10.896\n",
      "p-value = 0.0043\n",
      "degrees of freedom = 2\n",
      "expected\n",
      "[[19.16949153  3.93220339  5.89830508]\n",
      " [19.83050847  4.06779661  6.10169492]]\n"
     ]
    }
   ],
   "source": [
    "result = stats.chi2_contingency(observed)\n",
    "print(f\"chi2 = {result.statistic:.3f}\")\n",
    "print(f\"p-value = {result.pvalue:.4f}\")\n",
    "print(f\"degrees of freedom = {result.dof}\")\n",
    "print(\"expected\")\n",
    "print(result.expected_freq)"
   ]
  },
  {
   "cell_type": "markdown",
   "id": "0a873c1a",
   "metadata": {},
   "source": [
    "# Benford's law"
   ]
  },
  {
   "cell_type": "markdown",
   "id": "2b2c380d",
   "metadata": {},
   "source": [
    " Following the equation in the Wikipedia article, we can"
   ]
  },
  {
   "cell_type": "code",
   "execution_count": 8,
   "id": "288be5d0",
   "metadata": {
    "execution": {
     "iopub.execute_input": "2024-02-24T15:13:43.208207Z",
     "iopub.status.busy": "2024-02-24T15:13:43.208138Z",
     "iopub.status.idle": "2024-02-24T15:13:43.353764Z",
     "shell.execute_reply": "2024-02-24T15:13:43.353282Z"
    }
   },
   "outputs": [
    {
     "name": "stdout",
     "output_type": "stream",
     "text": [
      "   digit  expected\n",
      "0      1  0.301030\n",
      "1      2  0.176091\n",
      "2      3  0.124939\n",
      "3      4  0.096910\n",
      "4      5  0.079181\n",
      "5      6  0.066947\n",
      "6      7  0.057992\n",
      "7      8  0.051153\n",
      "8      9  0.045757\n"
     ]
    },
    {
     "data": {
      "image/png": "[encoded data removed]",
      "text/plain": [
       "<Figure size 800x500 with 1 Axes>"
      ]
     },
     "metadata": {},
     "output_type": "display_data"
    }
   ],
   "source": [
    "digits = np.arange(1, 10)\n",
    "benford = pd.DataFrame({\n",
    "    \"digit\": digits,\n",
    "    \"expected\": np.log10(1 + 1/digits),\n",
    "})\n",
    "print(benford)\n",
    "fig, ax = plt.subplots(figsize=(8, 5))\n",
    "ax.bar(benford[\"digit\"], benford[\"expected\"])\n",
    "ax.set_xticks(digits)\n",
    "ax.set_xlabel(\"Leading Digit\")\n",
    "ax.set_ylabel(\"Expected Probability\")\n",
    "plt.show()"
   ]
  },
  {
   "cell_type": "markdown",
   "id": "89508085",
   "metadata": {},
   "source": [
    "# Resampling distributions of interior digits"
   ]
  },
  {
   "cell_type": "markdown",
   "id": "93043903",
   "metadata": {},
   "source": [
    " Look at an example of a resampling distribution of interior digits."
   ]
  },
  {
   "cell_type": "code",
   "execution_count": 9,
   "id": "9400c473",
   "metadata": {
    "execution": {
     "iopub.execute_input": "2024-02-24T15:13:43.356251Z",
     "iopub.status.busy": "2024-02-24T15:13:43.356045Z",
     "iopub.status.idle": "2024-02-24T15:13:43.518930Z",
     "shell.execute_reply": "2024-02-24T15:13:43.518425Z"
    }
   },
   "outputs": [
    {
     "data": {
      "image/png": "[encoded data removed]",
      "text/plain": [
       "<Figure size 800x500 with 1 Axes>"
      ]
     },
     "metadata": {},
     "output_type": "display_data"
    }
   ],
   "source": [
    "from collections import Counter\n",
    "\n",
    "random.seed(123)\n",
    "box = list(range(10))\n",
    "random.shuffle(box)\n",
    "resample = random.choices(box, k=315)\n",
    "counts = Counter(resample)\n",
    "df = pd.DataFrame({\n",
    "    \"count\": [counts[i] for i in range(10)],\n",
    "}, index=range(10))\n",
    "\n",
    "fig, ax = plt.subplots(figsize=(8, 5))\n",
    "ax.bar(df.index, df[\"count\"])\n",
    "ax.axhline(31.5, color=\"black\")\n",
    "ax.set_xlabel(\"Digit\")\n",
    "ax.set_ylabel(\"Count\")\n",
    "plt.show()"
   ]
  },
  {
   "cell_type": "markdown",
   "id": "cabc0676",
   "metadata": {},
   "source": [
    " Resampling experiment"
   ]
  },
  {
   "cell_type": "code",
   "execution_count": 10,
   "id": "6c1cac7f",
   "metadata": {
    "execution": {
     "iopub.execute_input": "2024-02-24T15:13:43.521290Z",
     "iopub.status.busy": "2024-02-24T15:13:43.521126Z",
     "iopub.status.idle": "2024-02-24T15:13:44.502943Z",
     "shell.execute_reply": "2024-02-24T15:13:44.502644Z"
    }
   },
   "outputs": [
    {
     "name": "stdout",
     "output_type": "stream",
     "text": [
      "Number of resamples with sum of absolute deviations >= 216:0\n",
      "p-value = 0.0000\n"
     ]
    }
   ],
   "source": [
    "random.seed(123)\n",
    "box = list(range(10))\n",
    "differences = []\n",
    "for _ in range(10_000):\n",
    "    random.shuffle(box)\n",
    "    resample = random.choices(box, k=315)\n",
    "    counts = Counter(resample)\n",
    "    df = pd.DataFrame({\n",
    "        \"count\": [counts[i] for i in range(10)],\n",
    "    }, index=range(10))\n",
    "    differences.append(sum(abs(df[\"count\"] - 31.5)))\n",
    "differences = np.array(differences)\n",
    "above_216 = sum(differences >= 216)\n",
    "p_value = above_216 / len(differences)\n",
    "\n",
    "print(f\"Number of resamples with sum of absolute deviations >= 216:{above_216}\")\n",
    "print(f\"p-value = {p_value:.4f}\")"
   ]
  },
  {
   "cell_type": "markdown",
   "id": "41588983",
   "metadata": {},
   "source": [
    "# ANOVA of fat absorption data"
   ]
  },
  {
   "cell_type": "markdown",
   "id": "c588b324",
   "metadata": {},
   "source": [
    " Load required packages"
   ]
  },
  {
   "cell_type": "code",
   "execution_count": 11,
   "id": "112af0cc",
   "metadata": {
    "execution": {
     "iopub.execute_input": "2024-02-24T15:13:44.504307Z",
     "iopub.status.busy": "2024-02-24T15:13:44.504232Z",
     "iopub.status.idle": "2024-02-24T15:13:44.505899Z",
     "shell.execute_reply": "2024-02-24T15:13:44.505675Z"
    }
   },
   "outputs": [],
   "source": [
    "import random\n",
    "import matplotlib.pyplot as plt\n",
    "import numpy as np\n",
    "import pandas as pd\n",
    "from scipy import stats"
   ]
  },
  {
   "cell_type": "markdown",
   "id": "b1cf2222",
   "metadata": {},
   "source": [
    " Prepare dataset"
   ]
  },
  {
   "cell_type": "code",
   "execution_count": 12,
   "id": "9466ca3b",
   "metadata": {
    "execution": {
     "iopub.execute_input": "2024-02-24T15:13:44.507096Z",
     "iopub.status.busy": "2024-02-24T15:13:44.507023Z",
     "iopub.status.idle": "2024-02-24T15:13:44.509075Z",
     "shell.execute_reply": "2024-02-24T15:13:44.508873Z"
    }
   },
   "outputs": [],
   "source": [
    "fat_absorption = pd.DataFrame([\n",
    "    [1, 164, 178, 175, 155],\n",
    "    [2, 172, 191, 193, 166],\n",
    "    [3, 168,  197,  178,  149],\n",
    "    [4,  177,  182,  171,  164],\n",
    "    [5,  156,  185,  163,  170],\n",
    "    [6,  195,  177,  176, 168],\n",
    "], columns=[\"Replication\", \"Fat 1\", \"Fat 2\", \"Fat 3\", \"Fat 4\"])"
   ]
  },
  {
   "cell_type": "markdown",
   "id": "fe7a2c06",
   "metadata": {},
   "source": [
    "## Exploratory data analysis"
   ]
  },
  {
   "cell_type": "markdown",
   "id": "93e0f52f",
   "metadata": {},
   "source": [
    " Dotplot"
   ]
  },
  {
   "cell_type": "code",
   "execution_count": 13,
   "id": "8a2a98f3",
   "metadata": {
    "execution": {
     "iopub.execute_input": "2024-02-24T15:13:44.510217Z",
     "iopub.status.busy": "2024-02-24T15:13:44.510152Z",
     "iopub.status.idle": "2024-02-24T15:13:44.601574Z",
     "shell.execute_reply": "2024-02-24T15:13:44.601275Z"
    }
   },
   "outputs": [
    {
     "data": {
      "image/png": "[encoded data removed]",
      "text/plain": [
       "<Figure size 600x400 with 1 Axes>"
      ]
     },
     "metadata": {},
     "output_type": "display_data"
    }
   ],
   "source": [
    "fats = [\"Fat 1\", \"Fat 2\", \"Fat 3\", \"Fat 4\"]\n",
    "\n",
    "# convert from wide to long format for plotting\n",
    "fat_long = fat_absorption.melt(value_vars=fats)\n",
    "\n",
    "fig, ax = plt.subplots(figsize=(6, 4))\n",
    "fat_long.plot.scatter(x=\"variable\", y=\"value\", ax=ax)\n",
    "ax.set_xlabel(\"Fat type\")\n",
    "ax.set_ylabel(\"Grams of fat absorbed\")\n",
    "ax.set_xlim(-0.5, 3.5)\n",
    "plt.show()"
   ]
  },
  {
   "cell_type": "markdown",
   "id": "fd3da502",
   "metadata": {},
   "source": [
    " Boxplots"
   ]
  },
  {
   "cell_type": "code",
   "execution_count": 14,
   "id": "2d8356e0",
   "metadata": {
    "execution": {
     "iopub.execute_input": "2024-02-24T15:13:44.603032Z",
     "iopub.status.busy": "2024-02-24T15:13:44.602941Z",
     "iopub.status.idle": "2024-02-24T15:13:44.676053Z",
     "shell.execute_reply": "2024-02-24T15:13:44.675785Z"
    }
   },
   "outputs": [
    {
     "data": {
      "image/png": "[encoded data removed]",
      "text/plain": [
       "<Figure size 640x480 with 1 Axes>"
      ]
     },
     "metadata": {},
     "output_type": "display_data"
    }
   ],
   "source": [
    "ax = fat_absorption[fats].plot.box()\n",
    "ax.set_xlabel(\"Fat type\")\n",
    "ax.set_ylabel(\"Grams of fat absorbed\")\n",
    "ax.set_xlim(0.5, 4.5)\n",
    "plt.show()"
   ]
  },
  {
   "cell_type": "code",
   "execution_count": 15,
   "id": "f8fac58e",
   "metadata": {
    "execution": {
     "iopub.execute_input": "2024-02-24T15:13:44.677445Z",
     "iopub.status.busy": "2024-02-24T15:13:44.677366Z",
     "iopub.status.idle": "2024-02-24T15:13:44.680544Z",
     "shell.execute_reply": "2024-02-24T15:13:44.680318Z"
    }
   },
   "outputs": [
    {
     "name": "stdout",
     "output_type": "stream",
     "text": [
      "Fat 1    -1.75\n",
      "Fat 2    11.25\n",
      "Fat 3     2.25\n",
      "Fat 4   -11.75\n",
      "dtype: float64\n",
      "Fat 1      3.0625\n",
      "Fat 2    126.5625\n",
      "Fat 3      5.0625\n",
      "Fat 4    138.0625\n",
      "dtype: float64\n",
      "272.75\n",
      "90.91666666666667\n"
     ]
    }
   ],
   "source": [
    "fat_average = fat_absorption[fats].mean(axis=0)\n",
    "grand_average = fat_absorption[fats].to_numpy().mean()\n",
    "deviation = fat_average - grand_average\n",
    "print(deviation)\n",
    "deviation_squared = deviation ** 2\n",
    "print(deviation_squared)\n",
    "total_deviation = deviation_squared.sum()\n",
    "print(total_deviation)\n",
    "variance = total_deviation / (len(fats) - 1)\n",
    "print(variance)"
   ]
  },
  {
   "cell_type": "markdown",
   "id": "2aa64996",
   "metadata": {},
   "source": [
    "## Resampling procedure to compare means"
   ]
  },
  {
   "cell_type": "code",
   "execution_count": 16,
   "id": "ea64abe1",
   "metadata": {
    "execution": {
     "iopub.execute_input": "2024-02-24T15:13:44.681844Z",
     "iopub.status.busy": "2024-02-24T15:13:44.681768Z",
     "iopub.status.idle": "2024-02-24T15:13:44.699941Z",
     "shell.execute_reply": "2024-02-24T15:13:44.699741Z"
    }
   },
   "outputs": [
    {
     "name": "stdout",
     "output_type": "stream",
     "text": [
      "128.602\n",
      "113.639\n",
      "111.954\n",
      "104.750\n",
      "100.750\n",
      "98.157\n",
      "91.046\n",
      "90.602\n",
      "87.361\n",
      "86.491\n",
      "\n",
      "Resampled p-value: 0.0070\n"
     ]
    }
   ],
   "source": [
    "random.seed(123)\n",
    "\n",
    "# step 1\n",
    "data = fat_absorption[fats].to_numpy()\n",
    "box = list(data.flatten())\n",
    "\n",
    "shuffled_vars = []\n",
    "for _ in range(1_000):\n",
    "    # step 2\n",
    "    # shuffle the box and convert to same format as original\n",
    "    # dataset\n",
    "    shuffled = random.sample(box, k=len(box))\n",
    "    shuffled_data = np.reshape(shuffled, data.shape)\n",
    "\n",
    "    # step 3\n",
    "    # determine means of shuffled data\n",
    "    shuffled_means = shuffled_data.mean(axis=0)\n",
    "\n",
    "    # step 4\n",
    "    # calculate variance of means\n",
    "    shuffled_var = np.var(shuffled_means, ddof=1)\n",
    "    shuffled_vars.append(shuffled_var)\n",
    "shuffled_above_threshold = sum(shuffled_vars > variance)\n",
    "resampled_p_value = shuffled_above_threshold / len(shuffled_vars)\n",
    "\n",
    "for resampled_var in sorted(shuffled_vars, reverse=True)[:10]:\n",
    "    print(f\"{resampled_var:.3f}\")\n",
    "print()\n",
    "print(f\"Resampled p-value: {resampled_p_value:.4f}\")"
   ]
  },
  {
   "cell_type": "markdown",
   "id": "33666e9b",
   "metadata": {},
   "source": [
    " Visualize the resmapled variances in a histogram"
   ]
  },
  {
   "cell_type": "code",
   "execution_count": 17,
   "id": "aaf34923",
   "metadata": {
    "execution": {
     "iopub.execute_input": "2024-02-24T15:13:44.701164Z",
     "iopub.status.busy": "2024-02-24T15:13:44.701086Z",
     "iopub.status.idle": "2024-02-24T15:13:44.791630Z",
     "shell.execute_reply": "2024-02-24T15:13:44.791346Z"
    }
   },
   "outputs": [
    {
     "data": {
      "image/png": "[encoded data removed]",
      "text/plain": [
       "<Figure size 640x480 with 1 Axes>"
      ]
     },
     "metadata": {},
     "output_type": "display_data"
    }
   ],
   "source": [
    "ax = pd.Series(shuffled_vars).plot.hist(bins=30)\n",
    "ax.set_xlabel(\"Variance\")\n",
    "ax.axvline(variance, color=\"black\")\n",
    "plt.show()"
   ]
  },
  {
   "cell_type": "markdown",
   "id": "100c8284",
   "metadata": {},
   "source": [
    "## Components of variance"
   ]
  },
  {
   "cell_type": "markdown",
   "id": "ccd89aa2",
   "metadata": {},
   "source": [
    " Calculate averages for each fat and grand average"
   ]
  },
  {
   "cell_type": "code",
   "execution_count": 18,
   "id": "ceae49a9",
   "metadata": {
    "execution": {
     "iopub.execute_input": "2024-02-24T15:13:44.793204Z",
     "iopub.status.busy": "2024-02-24T15:13:44.793105Z",
     "iopub.status.idle": "2024-02-24T15:13:44.795516Z",
     "shell.execute_reply": "2024-02-24T15:13:44.795313Z"
    }
   },
   "outputs": [
    {
     "name": "stdout",
     "output_type": "stream",
     "text": [
      "Average for fats\n",
      "Fat 1    172.0\n",
      "Fat 2    185.0\n",
      "Fat 3    176.0\n",
      "Fat 4    162.0\n",
      "dtype: float64\n",
      "Grand average: 173.75\n"
     ]
    }
   ],
   "source": [
    "fat_average = fat_absorption[fats].mean(axis=0)\n",
    "grand_average = fat_absorption[fats].to_numpy().mean()\n",
    "\n",
    "print(\"Average for fats\")\n",
    "print(fat_average)\n",
    "print(f\"Grand average: {grand_average}\")"
   ]
  },
  {
   "cell_type": "markdown",
   "id": "b553f7ed",
   "metadata": {},
   "source": [
    "## Constructing the Factor Diagram"
   ]
  },
  {
   "cell_type": "code",
   "execution_count": 19,
   "id": "af4b835e",
   "metadata": {
    "execution": {
     "iopub.execute_input": "2024-02-24T15:13:44.796612Z",
     "iopub.status.busy": "2024-02-24T15:13:44.796535Z",
     "iopub.status.idle": "2024-02-24T15:13:44.802127Z",
     "shell.execute_reply": "2024-02-24T15:13:44.801880Z"
    }
   },
   "outputs": [
    {
     "name": "stderr",
     "output_type": "stream",
     "text": [
      "/var/folders/_8/ms0ft4913k3290v7f0g_yfpc0000gn/T/ipykernel_10966/1063467892.py:3: FutureWarning: Setting an item of incompatible dtype is deprecated and will raise in a future error of pandas. Value '173.75' has dtype incompatible with int64, please explicitly cast to a compatible dtype first.\n",
      "  factor_grand_average[:] = grand_average\n",
      "/var/folders/_8/ms0ft4913k3290v7f0g_yfpc0000gn/T/ipykernel_10966/1063467892.py:3: FutureWarning: Setting an item of incompatible dtype is deprecated and will raise in a future error of pandas. Value '173.75' has dtype incompatible with int64, please explicitly cast to a compatible dtype first.\n",
      "  factor_grand_average[:] = grand_average\n",
      "/var/folders/_8/ms0ft4913k3290v7f0g_yfpc0000gn/T/ipykernel_10966/1063467892.py:3: FutureWarning: Setting an item of incompatible dtype is deprecated and will raise in a future error of pandas. Value '173.75' has dtype incompatible with int64, please explicitly cast to a compatible dtype first.\n",
      "  factor_grand_average[:] = grand_average\n",
      "/var/folders/_8/ms0ft4913k3290v7f0g_yfpc0000gn/T/ipykernel_10966/1063467892.py:3: FutureWarning: Setting an item of incompatible dtype is deprecated and will raise in a future error of pandas. Value '173.75' has dtype incompatible with int64, please explicitly cast to a compatible dtype first.\n",
      "  factor_grand_average[:] = grand_average\n",
      "/var/folders/_8/ms0ft4913k3290v7f0g_yfpc0000gn/T/ipykernel_10966/1063467892.py:5: FutureWarning: Setting an item of incompatible dtype is deprecated and will raise in a future error of pandas. Value '-1.75' has dtype incompatible with int64, please explicitly cast to a compatible dtype first.\n",
      "  factor_treatment_effects[:] = fat_average - grand_average\n",
      "/var/folders/_8/ms0ft4913k3290v7f0g_yfpc0000gn/T/ipykernel_10966/1063467892.py:5: FutureWarning: Setting an item of incompatible dtype is deprecated and will raise in a future error of pandas. Value '11.25' has dtype incompatible with int64, please explicitly cast to a compatible dtype first.\n",
      "  factor_treatment_effects[:] = fat_average - grand_average\n",
      "/var/folders/_8/ms0ft4913k3290v7f0g_yfpc0000gn/T/ipykernel_10966/1063467892.py:5: FutureWarning: Setting an item of incompatible dtype is deprecated and will raise in a future error of pandas. Value '2.25' has dtype incompatible with int64, please explicitly cast to a compatible dtype first.\n",
      "  factor_treatment_effects[:] = fat_average - grand_average\n",
      "/var/folders/_8/ms0ft4913k3290v7f0g_yfpc0000gn/T/ipykernel_10966/1063467892.py:5: FutureWarning: Setting an item of incompatible dtype is deprecated and will raise in a future error of pandas. Value '-11.75' has dtype incompatible with int64, please explicitly cast to a compatible dtype first.\n",
      "  factor_treatment_effects[:] = fat_average - grand_average\n"
     ]
    },
    {
     "data": {
      "text/plain": [
       "(   Fat 1  Fat 2  Fat 3  Fat 4\n",
       " 0    164    178    175    155\n",
       " 1    172    191    193    166\n",
       " 2    168    197    178    149\n",
       " 3    177    182    171    164\n",
       " 4    156    185    163    170\n",
       " 5    195    177    176    168,\n",
       "     Fat 1   Fat 2   Fat 3   Fat 4\n",
       " 0  173.75  173.75  173.75  173.75\n",
       " 1  173.75  173.75  173.75  173.75\n",
       " 2  173.75  173.75  173.75  173.75\n",
       " 3  173.75  173.75  173.75  173.75\n",
       " 4  173.75  173.75  173.75  173.75\n",
       " 5  173.75  173.75  173.75  173.75,\n",
       "    Fat 1  Fat 2  Fat 3  Fat 4\n",
       " 0  -1.75  11.25   2.25 -11.75\n",
       " 1  -1.75  11.25   2.25 -11.75\n",
       " 2  -1.75  11.25   2.25 -11.75\n",
       " 3  -1.75  11.25   2.25 -11.75\n",
       " 4  -1.75  11.25   2.25 -11.75\n",
       " 5  -1.75  11.25   2.25 -11.75,\n",
       "    Fat 1  Fat 2  Fat 3  Fat 4\n",
       " 0   -8.0   -7.0   -1.0   -7.0\n",
       " 1    0.0    6.0   17.0    4.0\n",
       " 2   -4.0   12.0    2.0  -13.0\n",
       " 3    5.0   -3.0   -5.0    2.0\n",
       " 4  -16.0    0.0  -13.0    8.0\n",
       " 5   23.0   -8.0    0.0    6.0)"
      ]
     },
     "execution_count": 19,
     "metadata": {},
     "output_type": "execute_result"
    }
   ],
   "source": [
    "factor_observations = fat_absorption[fats]\n",
    "factor_grand_average = factor_observations.copy()\n",
    "factor_grand_average[:] = grand_average\n",
    "factor_treatment_effects = factor_observations.copy()\n",
    "factor_treatment_effects[:] = fat_average - grand_average\n",
    "\n",
    "factor_residual_error = factor_observations - factor_grand_average - factor_treatment_effects\n",
    "factor_observations, factor_grand_average, factor_treatment_effects, factor_residual_error"
   ]
  },
  {
   "cell_type": "code",
   "execution_count": 20,
   "id": "793b5ca8",
   "metadata": {
    "execution": {
     "iopub.execute_input": "2024-02-24T15:13:44.803264Z",
     "iopub.status.busy": "2024-02-24T15:13:44.803186Z",
     "iopub.status.idle": "2024-02-24T15:13:44.805700Z",
     "shell.execute_reply": "2024-02-24T15:13:44.805439Z"
    }
   },
   "outputs": [
    {
     "name": "stdout",
     "output_type": "stream",
     "text": [
      "724537.5\n",
      "1636.5\n",
      "2018.0\n"
     ]
    }
   ],
   "source": [
    "ssq_grand_average = (factor_grand_average**2).sum().sum()\n",
    "ssq_treatment_effects = (factor_treatment_effects**2).sum().sum()\n",
    "ssq_residual_error = (factor_residual_error**2).sum().sum()\n",
    "print(ssq_grand_average)\n",
    "print(ssq_treatment_effects)\n",
    "print(ssq_residual_error)"
   ]
  },
  {
   "cell_type": "code",
   "execution_count": 21,
   "id": "8d6a7bd1",
   "metadata": {
    "execution": {
     "iopub.execute_input": "2024-02-24T15:13:44.806852Z",
     "iopub.status.busy": "2024-02-24T15:13:44.806784Z",
     "iopub.status.idle": "2024-02-24T15:13:44.809004Z",
     "shell.execute_reply": "2024-02-24T15:13:44.808793Z"
    }
   },
   "outputs": [
    {
     "name": "stdout",
     "output_type": "stream",
     "text": [
      "Variance treatment 545.5\n",
      "Variance residual 100.9\n",
      "F-statistic 5.406343\n",
      "p-value 0.0069\n"
     ]
    }
   ],
   "source": [
    "df_treatment = len(fats) - 1\n",
    "df_residual = len(fats) * (len(fat_absorption) - 1)\n",
    "var_treatment_effects = ssq_treatment_effects / df_treatment\n",
    "var_residual_error = ssq_residual_error / df_residual\n",
    "F_statistic = var_treatment_effects / var_residual_error\n",
    "p_value = 1 - stats.f.cdf(F_statistic, df_treatment, df_residual)\n",
    "\n",
    "print(f\"Variance treatment {var_treatment_effects}\")\n",
    "print(f\"Variance residual {var_residual_error}\")\n",
    "print(f\"F-statistic {F_statistic:.6f}\")\n",
    "print(f\"p-value {p_value:.4f}\")"
   ]
  },
  {
   "cell_type": "markdown",
   "id": "79d67f96",
   "metadata": {},
   "source": [
    "## ANOVA using statsmodels"
   ]
  },
  {
   "cell_type": "code",
   "execution_count": 22,
   "id": "310344a1",
   "metadata": {
    "execution": {
     "iopub.execute_input": "2024-02-24T15:13:44.810262Z",
     "iopub.status.busy": "2024-02-24T15:13:44.810180Z",
     "iopub.status.idle": "2024-02-24T15:13:44.929911Z",
     "shell.execute_reply": "2024-02-24T15:13:44.929690Z"
    }
   },
   "outputs": [
    {
     "data": {
      "text/html": [
       "<div>\n",
       "<style scoped>\n",
       "    .dataframe tbody tr th:only-of-type {\n",
       "        vertical-align: middle;\n",
       "    }\n",
       "\n",
       "    .dataframe tbody tr th {\n",
       "        vertical-align: top;\n",
       "    }\n",
       "\n",
       "    .dataframe thead th {\n",
       "        text-align: right;\n",
       "    }\n",
       "</style>\n",
       "<table border=\"1\" class=\"dataframe\">\n",
       "  <thead>\n",
       "    <tr style=\"text-align: right;\">\n",
       "      <th></th>\n",
       "      <th>df</th>\n",
       "      <th>sum_sq</th>\n",
       "      <th>mean_sq</th>\n",
       "      <th>F</th>\n",
       "      <th>PR(&gt;F)</th>\n",
       "    </tr>\n",
       "  </thead>\n",
       "  <tbody>\n",
       "    <tr>\n",
       "      <th>C(variable)</th>\n",
       "      <td>3.0</td>\n",
       "      <td>1636.5</td>\n",
       "      <td>545.5</td>\n",
       "      <td>5.406343</td>\n",
       "      <td>0.006876</td>\n",
       "    </tr>\n",
       "    <tr>\n",
       "      <th>Residual</th>\n",
       "      <td>20.0</td>\n",
       "      <td>2018.0</td>\n",
       "      <td>100.9</td>\n",
       "      <td>NaN</td>\n",
       "      <td>NaN</td>\n",
       "    </tr>\n",
       "  </tbody>\n",
       "</table>\n",
       "</div>"
      ],
      "text/plain": [
       "               df  sum_sq  mean_sq         F    PR(>F)\n",
       "C(variable)   3.0  1636.5    545.5  5.406343  0.006876\n",
       "Residual     20.0  2018.0    100.9       NaN       NaN"
      ]
     },
     "execution_count": 22,
     "metadata": {},
     "output_type": "execute_result"
    }
   ],
   "source": [
    "import statsmodels.api as sm\n",
    "from statsmodels.formula.api import ols\n",
    "ols_model = ols(\"value ~ C(variable)\", data=fat_long).fit()\n",
    "sm.stats.anova_lm(ols_model)"
   ]
  },
  {
   "cell_type": "markdown",
   "id": "9cf116f7",
   "metadata": {},
   "source": [
    "## ANOVA using scipy"
   ]
  },
  {
   "cell_type": "code",
   "execution_count": 23,
   "id": "168c3f40",
   "metadata": {
    "execution": {
     "iopub.execute_input": "2024-02-24T15:13:44.931290Z",
     "iopub.status.busy": "2024-02-24T15:13:44.931168Z",
     "iopub.status.idle": "2024-02-24T15:13:44.933769Z",
     "shell.execute_reply": "2024-02-24T15:13:44.933556Z"
    }
   },
   "outputs": [
    {
     "data": {
      "text/plain": [
       "F_onewayResult(statistic=5.406342913776015, pvalue=0.0068759477547351)"
      ]
     },
     "execution_count": 23,
     "metadata": {},
     "output_type": "execute_result"
    }
   ],
   "source": [
    "stats.f_oneway(fat_absorption[\"Fat 1\"], fat_absorption[\"Fat 2\"], fat_absorption[\"Fat 3\"], fat_absorption[\"Fat 4\"])\n",
    "stats.f_oneway(*[fat_absorption[fat] for fat in fats])"
   ]
  },
  {
   "cell_type": "markdown",
   "id": "df79f17c",
   "metadata": {},
   "source": [
    "# F-distribution"
   ]
  },
  {
   "cell_type": "code",
   "execution_count": 24,
   "id": "6ec3d34d",
   "metadata": {
    "execution": {
     "iopub.execute_input": "2024-02-24T15:13:44.935127Z",
     "iopub.status.busy": "2024-02-24T15:13:44.935051Z",
     "iopub.status.idle": "2024-02-24T15:13:44.937016Z",
     "shell.execute_reply": "2024-02-24T15:13:44.936825Z"
    }
   },
   "outputs": [
    {
     "name": "stdout",
     "output_type": "stream",
     "text": [
      "p-value 0.0069\n",
      "p-value 0.0069\n"
     ]
    }
   ],
   "source": [
    "from scipy import stats\n",
    "x = 5.406\n",
    "print(f\"p-value {1 - stats.f.cdf(x, 3, 20):.4f}\")\n",
    "print(f\"p-value {stats.f.sf(x, 3, 20):.4f}\")"
   ]
  },
  {
   "cell_type": "code",
   "execution_count": 25,
   "id": "ba76681c",
   "metadata": {
    "execution": {
     "iopub.execute_input": "2024-02-24T15:13:44.938185Z",
     "iopub.status.busy": "2024-02-24T15:13:44.938102Z",
     "iopub.status.idle": "2024-02-24T15:13:45.074210Z",
     "shell.execute_reply": "2024-02-24T15:13:45.073945Z"
    }
   },
   "outputs": [
    {
     "data": {
      "image/png": "[encoded data removed]",
      "text/plain": [
       "<Figure size 640x480 with 1 Axes>"
      ]
     },
     "metadata": {},
     "output_type": "display_data"
    }
   ],
   "source": [
    "x = np.linspace(0, 5, 100)\n",
    "df = pd.DataFrame({\n",
    "    \"x\": x,\n",
    "    \"f-pdf\": stats.f.pdf(x, 3, 20),\n",
    "    \"1-cdf\": 1 - stats.f.cdf(x, 3, 20),\n",
    "})\n",
    "ax = df.plot(x=\"x\", y=\"f-pdf\", legend=False)\n",
    "ax.axvline(x=F_statistic, color=\"grey\")\n",
    "ax.set_ylabel(\"Density\")\n",
    "ax.set_ylim(0, 1)\n",
    "ax.set_xlim(0, 6)\n",
    "ax.set_title(\"Probability density of $F(3, 20)$\")\n",
    "plt.show()"
   ]
  },
  {
   "cell_type": "code",
   "execution_count": 26,
   "id": "d09763b3",
   "metadata": {
    "execution": {
     "iopub.execute_input": "2024-02-24T15:13:45.075506Z",
     "iopub.status.busy": "2024-02-24T15:13:45.075425Z",
     "iopub.status.idle": "2024-02-24T15:13:45.171426Z",
     "shell.execute_reply": "2024-02-24T15:13:45.171210Z"
    }
   },
   "outputs": [
    {
     "data": {
      "image/png": "[encoded data removed]",
      "text/plain": [
       "<Figure size 640x480 with 1 Axes>"
      ]
     },
     "metadata": {},
     "output_type": "display_data"
    }
   ],
   "source": [
    "ax = df.plot(x=\"x\", y=\"1-cdf\", legend=False)\n",
    "ax.axvline(x=F_statistic, color=\"grey\")\n",
    "ax.axhline(y=p_value, color=\"grey\")\n",
    "ax.set_ylabel(\"Density\")\n",
    "ax.set_ylim(0, 1)\n",
    "ax.set_xlim(0, 6)\n",
    "ax.set_title(\"Inverse cumulative distribution density of $F(3, 20)$\")\n",
    "plt.show()"
   ]
  }
 ],
 "metadata": {
  "language_info": {
   "codemirror_mode": {
    "name": "ipython",
    "version": 3
   },
   "file_extension": ".py",
   "mimetype": "text/x-python",
   "name": "python",
   "nbconvert_exporter": "python",
   "pygments_lexer": "ipython3",
   "version": "3.11.8"
  }
 },
 "nbformat": 4,
 "nbformat_minor": 5
}
