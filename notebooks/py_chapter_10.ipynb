{
 "cells": [
  {
   "cell_type": "markdown",
   "id": "c7201ca2",
   "metadata": {},
   "source": [
    "# Chapter py_10 \n",
    " Statistics for Data Science and Analytics<br>\n",
    "by Peter C. Bruce, Peter Gedeck, Janet F. Dobbins\n",
    "\n",
    "Publisher: Wiley; 1st edition (2024) <br>\n",
    "<!-- ISBN-13: 978-3031075650 -->\n",
    "\n",
    "(c) 2024 Peter C. Bruce, Peter Gedeck, Janet F. Dobbins\n",
    "\n",
    "The code needs to be executed in sequence.\n",
    "\n",
    "Python packages and Python itself change over time. This can cause warnings or errors. \n",
    "\"Warnings\" are for information only and can usually be ignored. \n",
    "\"Errors\" will stop execution and need to be fixed in order to get results. \n",
    "\n",
    "If you come across an issue with the code, please follow these steps\n",
    "\n",
    "- Check the repository (https://gedeck.github.io/sdsa-code-solutions/) to see if the code has been upgraded. This might solve the problem.\n",
    "- Report the problem using the issue tracker at https://github.com/gedeck/sdsa-code-solutions/issues\n",
    "- Paste the error message into Google and see if someone else already found a solution"
   ]
  },
  {
   "cell_type": "code",
   "execution_count": 2,
   "id": "a8c24139",
   "metadata": {
    "execution": {
     "iopub.execute_input": "2024-02-24T15:14:44.571428Z",
     "iopub.status.busy": "2024-02-24T15:14:44.571139Z",
     "iopub.status.idle": "2024-02-24T15:14:45.009499Z",
     "shell.execute_reply": "2024-02-24T15:14:45.009114Z"
    }
   },
   "outputs": [],
   "source": [
    "import statsmodels.api as sm\n",
    "import statsmodels.formula.api as smf"
   ]
  },
  {
   "cell_type": "code",
   "execution_count": 3,
   "id": "70ab7793",
   "metadata": {
    "execution": {
     "iopub.execute_input": "2024-02-24T15:14:45.011114Z",
     "iopub.status.busy": "2024-02-24T15:14:45.010981Z",
     "iopub.status.idle": "2024-02-24T15:14:45.015630Z",
     "shell.execute_reply": "2024-02-24T15:14:45.015384Z"
    }
   },
   "outputs": [],
   "source": [
    "import pandas as pd\n",
    "delta_wire = pd.read_csv(\"delta-wire.csv\")\n",
    "formula = \"productivity ~ training\"\n",
    "model_definition = smf.ols(formula, data=delta_wire)\n",
    "model = model_definition.fit()"
   ]
  },
  {
   "cell_type": "code",
   "execution_count": 4,
   "id": "4d936e7b",
   "metadata": {
    "execution": {
     "iopub.execute_input": "2024-02-24T15:14:45.016791Z",
     "iopub.status.busy": "2024-02-24T15:14:45.016725Z",
     "iopub.status.idle": "2024-02-24T15:14:45.022258Z",
     "shell.execute_reply": "2024-02-24T15:14:45.022024Z"
    }
   },
   "outputs": [
    {
     "name": "stdout",
     "output_type": "stream",
     "text": [
      "                            OLS Regression Results                            \n",
      "==============================================================================\n",
      "Dep. Variable:           productivity   R-squared:                       0.976\n",
      "Model:                            OLS   Adj. R-squared:                  0.975\n",
      "Method:                 Least Squares   F-statistic:                     662.3\n",
      "Date:                Sat, 24 Feb 2024   Prob (F-statistic):           1.90e-14\n",
      "Time:                        10:14:45   Log-Likelihood:                -148.92\n",
      "No. Observations:                  18   AIC:                             301.8\n",
      "Df Residuals:                      16   BIC:                             303.6\n",
      "Df Model:                           1                                         \n",
      "Covariance Type:            nonrobust                                         \n",
      "==============================================================================\n",
      "                 coef    std err          t      P>|t|      [0.025      0.975]\n",
      "------------------------------------------------------------------------------\n",
      "Intercept   7.088e+04    394.546    179.650      0.000       7e+04    7.17e+04\n",
      "training       5.0934      0.198     25.735      0.000       4.674       5.513\n",
      "==============================================================================\n",
      "Omnibus:                        0.348   Durbin-Watson:                   0.812\n",
      "Prob(Omnibus):                  0.840   Jarque-Bera (JB):                0.495\n",
      "Skew:                           0.207   Prob(JB):                        0.781\n",
      "Kurtosis:                       2.301   Cond. No.                     3.32e+03\n",
      "==============================================================================\n",
      "\n",
      "Notes:\n",
      "[1] Standard Errors assume that the covariance matrix of the errors is correctly specified.\n",
      "[2] The condition number is large, 3.32e+03. This might indicate that there are\n",
      "strong multicollinearity or other numerical problems.\n"
     ]
    },
    {
     "name": "stderr",
     "output_type": "stream",
     "text": [
      "/Users/petergedeck/git/Wiley-Statistics-for-Data-Science-and-Analytics/.venv/lib/python3.11/site-packages/scipy/stats/_stats_py.py:1971: UserWarning: kurtosistest only valid for n>=20 ... continuing anyway, n=18\n",
      "  k, _ = kurtosistest(a, axis)\n"
     ]
    }
   ],
   "source": [
    "print(model.summary())"
   ]
  },
  {
   "cell_type": "code",
   "execution_count": 5,
   "id": "ca8af8ea",
   "metadata": {
    "execution": {
     "iopub.execute_input": "2024-02-24T15:14:45.023414Z",
     "iopub.status.busy": "2024-02-24T15:14:45.023344Z",
     "iopub.status.idle": "2024-02-24T15:14:45.199386Z",
     "shell.execute_reply": "2024-02-24T15:14:45.198340Z"
    }
   },
   "outputs": [
    {
     "data": {
      "image/png": "[encoded data removed]",
      "text/plain": [
       "<Figure size 640x480 with 1 Axes>"
      ]
     },
     "metadata": {},
     "output_type": "display_data"
    }
   ],
   "source": [
    "df = pd.DataFrame({\"predicted\": model.fittedvalues, \"residuals\": model.resid})\n",
    "ax = df.plot.scatter(x=\"predicted\", y=\"residuals\")\n",
    "\n",
    "ax.set_xlabel(\"Predicted productivity\")\n",
    "ax.set_ylabel(\"Residuals\")\n",
    "ax.axhline(0, color=\"black\")\n",
    "plt.show()"
   ]
  },
  {
   "cell_type": "code",
   "execution_count": 6,
   "id": "67f49a23",
   "metadata": {
    "execution": {
     "iopub.execute_input": "2024-02-24T15:14:45.202181Z",
     "iopub.status.busy": "2024-02-24T15:14:45.201814Z",
     "iopub.status.idle": "2024-02-24T15:14:45.206962Z",
     "shell.execute_reply": "2024-02-24T15:14:45.206427Z"
    }
   },
   "outputs": [
    {
     "name": "stdout",
     "output_type": "stream",
     "text": [
      "0    77145.189207\n",
      "1    83053.584830\n",
      "dtype: float64\n"
     ]
    }
   ],
   "source": [
    "prediction = model.predict({\"training\": [1230, 2390]})\n",
    "print(prediction)"
   ]
  },
  {
   "cell_type": "code",
   "execution_count": 7,
   "id": "b918f2f4",
   "metadata": {
    "execution": {
     "iopub.execute_input": "2024-02-24T15:14:45.210192Z",
     "iopub.status.busy": "2024-02-24T15:14:45.209998Z",
     "iopub.status.idle": "2024-02-24T15:14:45.222568Z",
     "shell.execute_reply": "2024-02-24T15:14:45.221769Z"
    }
   },
   "outputs": [
    {
     "name": "stderr",
     "output_type": "stream",
     "text": [
      "/Users/petergedeck/git/Wiley-Statistics-for-Data-Science-and-Analytics/.venv/lib/python3.11/site-packages/scipy/stats/_stats_py.py:1971: UserWarning: kurtosistest only valid for n>=20 ... continuing anyway, n=18\n",
      "  k, _ = kurtosistest(a, axis)\n"
     ]
    },
    {
     "name": "stdout",
     "output_type": "stream",
     "text": [
      "                                 OLS Regression Results                                \n",
      "=======================================================================================\n",
      "Dep. Variable:           productivity   R-squared (uncentered):                   0.711\n",
      "Model:                            OLS   Adj. R-squared (uncentered):              0.694\n",
      "Method:                 Least Squares   F-statistic:                              41.83\n",
      "Date:                Sat, 24 Feb 2024   Prob (F-statistic):                    5.79e-06\n",
      "Time:                        10:14:45   Log-Likelihood:                         -217.41\n",
      "No. Observations:                  18   AIC:                                      436.8\n",
      "Df Residuals:                      17   BIC:                                      437.7\n",
      "Df Model:                           1                                                  \n",
      "Covariance Type:            nonrobust                                                  \n",
      "==============================================================================\n",
      "                 coef    std err          t      P>|t|      [0.025      0.975]\n",
      "------------------------------------------------------------------------------\n",
      "training      33.5179      5.182      6.468      0.000      22.584      44.451\n",
      "==============================================================================\n",
      "Omnibus:                        1.835   Durbin-Watson:                   0.029\n",
      "Prob(Omnibus):                  0.399   Jarque-Bera (JB):                1.377\n",
      "Skew:                          -0.490   Prob(JB):                        0.502\n",
      "Kurtosis:                       2.065   Cond. No.                         1.00\n",
      "==============================================================================\n",
      "\n",
      "Notes:\n",
      "[1] R² is computed without centering (uncentered) since the model does not contain a constant.\n",
      "[2] Standard Errors assume that the covariance matrix of the errors is correctly specified.\n"
     ]
    }
   ],
   "source": [
    "import statsmodels.api as sm\n",
    "import pandas as pd\n",
    "delta_wire = pd.read_csv(\"delta-wire.csv\")\n",
    "X = delta_wire[\"training\"]\n",
    "y = delta_wire[\"productivity\"]\n",
    "model = sm.OLS(y, X)\n",
    "results = model.fit()\n",
    "print(results.summary())"
   ]
  },
  {
   "cell_type": "code",
   "execution_count": 8,
   "id": "4f32ce22",
   "metadata": {
    "execution": {
     "iopub.execute_input": "2024-02-24T15:14:45.224966Z",
     "iopub.status.busy": "2024-02-24T15:14:45.224780Z",
     "iopub.status.idle": "2024-02-24T15:14:45.241133Z",
     "shell.execute_reply": "2024-02-24T15:14:45.240036Z"
    }
   },
   "outputs": [
    {
     "name": "stdout",
     "output_type": "stream",
     "text": [
      "                            OLS Regression Results                            \n",
      "==============================================================================\n",
      "Dep. Variable:           productivity   R-squared:                       0.976\n",
      "Model:                            OLS   Adj. R-squared:                  0.975\n",
      "Method:                 Least Squares   F-statistic:                     662.3\n",
      "Date:                Sat, 24 Feb 2024   Prob (F-statistic):           1.90e-14\n",
      "Time:                        10:14:45   Log-Likelihood:                -148.92\n",
      "No. Observations:                  18   AIC:                             301.8\n",
      "Df Residuals:                      16   BIC:                             303.6\n",
      "Df Model:                           1                                         \n",
      "Covariance Type:            nonrobust                                         \n",
      "==============================================================================\n",
      "                 coef    std err          t      P>|t|      [0.025      0.975]\n",
      "------------------------------------------------------------------------------\n",
      "const       7.088e+04    394.546    179.650      0.000       7e+04    7.17e+04\n",
      "training       5.0934      0.198     25.735      0.000       4.674       5.513\n",
      "==============================================================================\n",
      "Omnibus:                        0.348   Durbin-Watson:                   0.812\n",
      "Prob(Omnibus):                  0.840   Jarque-Bera (JB):                0.495\n",
      "Skew:                           0.207   Prob(JB):                        0.781\n",
      "Kurtosis:                       2.301   Cond. No.                     3.32e+03\n",
      "==============================================================================\n",
      "\n",
      "Notes:\n",
      "[1] Standard Errors assume that the covariance matrix of the errors is correctly specified.\n",
      "[2] The condition number is large, 3.32e+03. This might indicate that there are\n",
      "strong multicollinearity or other numerical problems.\n"
     ]
    },
    {
     "name": "stderr",
     "output_type": "stream",
     "text": [
      "/Users/petergedeck/git/Wiley-Statistics-for-Data-Science-and-Analytics/.venv/lib/python3.11/site-packages/scipy/stats/_stats_py.py:1971: UserWarning: kurtosistest only valid for n>=20 ... continuing anyway, n=18\n",
      "  k, _ = kurtosistest(a, axis)\n"
     ]
    }
   ],
   "source": [
    "X = delta_wire[\"training\"]\n",
    "y = delta_wire[\"productivity\"]\n",
    "X = sm.add_constant(X)\n",
    "model = sm.OLS(y, X)\n",
    "results = model.fit()\n",
    "print(results.summary())"
   ]
  },
  {
   "cell_type": "code",
   "execution_count": 9,
   "id": "82468aa6",
   "metadata": {
    "execution": {
     "iopub.execute_input": "2024-02-24T15:14:45.243483Z",
     "iopub.status.busy": "2024-02-24T15:14:45.243331Z",
     "iopub.status.idle": "2024-02-24T15:14:45.246837Z",
     "shell.execute_reply": "2024-02-24T15:14:45.246026Z"
    }
   },
   "outputs": [],
   "source": [
    "formula = \"productivity ~ training - 1\"\n",
    "formula = \"productivity ~ training + 0\""
   ]
  },
  {
   "cell_type": "code",
   "execution_count": 10,
   "id": "1324338d",
   "metadata": {
    "execution": {
     "iopub.execute_input": "2024-02-24T15:14:45.249691Z",
     "iopub.status.busy": "2024-02-24T15:14:45.249536Z",
     "iopub.status.idle": "2024-02-24T15:14:45.330786Z",
     "shell.execute_reply": "2024-02-24T15:14:45.330550Z"
    }
   },
   "outputs": [
    {
     "name": "stdout",
     "output_type": "stream",
     "text": [
      "Model intercept: 70880.25246964331\n",
      "Model coefficients: [5.0934445]\n"
     ]
    }
   ],
   "source": [
    "import pandas as pd\n",
    "from sklearn.linear_model import LinearRegression\n",
    "delta_wire = pd.read_csv(\"delta-wire.csv\")\n",
    "X = delta_wire[[\"training\"]]\n",
    "y = delta_wire[\"productivity\"]\n",
    "model = LinearRegression()\n",
    "model.fit(X, y)\n",
    "print(f\"Model intercept: {model.intercept_}\")\n",
    "print(f\"Model coefficients: {model.coef_}\")"
   ]
  },
  {
   "cell_type": "code",
   "execution_count": 11,
   "id": "89bedf5d",
   "metadata": {
    "execution": {
     "iopub.execute_input": "2024-02-24T15:14:45.332080Z",
     "iopub.status.busy": "2024-02-24T15:14:45.332004Z",
     "iopub.status.idle": "2024-02-24T15:14:45.334252Z",
     "shell.execute_reply": "2024-02-24T15:14:45.334007Z"
    }
   },
   "outputs": [
    {
     "name": "stdout",
     "output_type": "stream",
     "text": [
      "[77145.18920738 83053.58482997]\n"
     ]
    }
   ],
   "source": [
    "new_data = pd.DataFrame({'training': [1230, 2390]})\n",
    "prediction = model.predict(new_data)\n",
    "print(prediction)"
   ]
  },
  {
   "cell_type": "code",
   "execution_count": 12,
   "id": "837fde9a",
   "metadata": {
    "execution": {
     "iopub.execute_input": "2024-02-24T15:14:45.335535Z",
     "iopub.status.busy": "2024-02-24T15:14:45.335461Z",
     "iopub.status.idle": "2024-02-24T15:14:45.337882Z",
     "shell.execute_reply": "2024-02-24T15:14:45.337665Z"
    }
   },
   "outputs": [
    {
     "name": "stdout",
     "output_type": "stream",
     "text": [
      "0.0\n",
      "[33.51789232]\n"
     ]
    }
   ],
   "source": [
    "model = LinearRegression(fit_intercept=False)\n",
    "model.fit(X, y)\n",
    "print(model.intercept_)\n",
    "print(model.coef_)"
   ]
  },
  {
   "cell_type": "code",
   "execution_count": 13,
   "id": "2cc28673",
   "metadata": {
    "execution": {
     "iopub.execute_input": "2024-02-24T15:14:45.339065Z",
     "iopub.status.busy": "2024-02-24T15:14:45.338991Z",
     "iopub.status.idle": "2024-02-24T15:14:45.343796Z",
     "shell.execute_reply": "2024-02-24T15:14:45.343526Z"
    }
   },
   "outputs": [
    {
     "name": "stdout",
     "output_type": "stream",
     "text": [
      "Full model intercept: 207.47931041732843\n",
      "Full model coefficients: [0.3904698]\n",
      "Model intercept: 213.31899006194885\n",
      "Model coefficients: [0.32644877]\n"
     ]
    }
   ],
   "source": [
    "from sklearn.model_selection import train_test_split\n",
    "\n",
    "baseball = pd.read_csv(\"baseball_payroll.csv\")\n",
    "X = baseball[[\"Average Payroll (Million)\"]]\n",
    "y = baseball[\"Total Wins\"]\n",
    "\n",
    "X_train, X_holdout, y_train, y_holdout = train_test_split(X, y,\n",
    "test_size=0.2,\n",
    "random_state=123)\n",
    "\n",
    "model_full = LinearRegression()\n",
    "model_full.fit(X, y)\n",
    "model_train = LinearRegression()\n",
    "model_train.fit(X_train, y_train)\n",
    "\n",
    "print(f\"Full model intercept: {model_full.intercept_}\")\n",
    "print(f\"Full model coefficients: {model_full.coef_}\")\n",
    "print(f\"Model intercept: {model_train.intercept_}\")\n",
    "print(f\"Model coefficients: {model_train.coef_}\")"
   ]
  },
  {
   "cell_type": "code",
   "execution_count": 14,
   "id": "9c221de4",
   "metadata": {
    "execution": {
     "iopub.execute_input": "2024-02-24T15:14:45.345028Z",
     "iopub.status.busy": "2024-02-24T15:14:45.344932Z",
     "iopub.status.idle": "2024-02-24T15:14:45.426135Z",
     "shell.execute_reply": "2024-02-24T15:14:45.425909Z"
    }
   },
   "outputs": [
    {
     "data": {
      "image/png": "[encoded data removed]",
      "text/plain": [
       "<Figure size 600x400 with 1 Axes>"
      ]
     },
     "metadata": {},
     "output_type": "display_data"
    }
   ],
   "source": [
    "x_range = pd.DataFrame({'Average Payroll (Million)': [0, 250]})\n",
    "fig, ax = plt.subplots(figsize=[6, 4])\n",
    "ax.plot(x_range, model_full.predict(x_range), color='grey')\n",
    "ax.scatter(X_train, y_train, color='grey')\n",
    "ax.plot(x_range, model_train.predict(x_range), color='black', linestyle='dashed')\n",
    "ax.scatter(X_holdout, y_holdout, color='black', marker='x')\n",
    "ax.set_xlabel(\"Average Payroll (Million)\")\n",
    "ax.set_ylabel(\"Total Wins\")\n",
    "plt.show()"
   ]
  },
  {
   "cell_type": "code",
   "execution_count": 15,
   "id": "fc715b9a",
   "metadata": {
    "execution": {
     "iopub.execute_input": "2024-02-24T15:14:45.427522Z",
     "iopub.status.busy": "2024-02-24T15:14:45.427449Z",
     "iopub.status.idle": "2024-02-24T15:14:45.431561Z",
     "shell.execute_reply": "2024-02-24T15:14:45.431339Z"
    }
   },
   "outputs": [
    {
     "name": "stdout",
     "output_type": "stream",
     "text": [
      "Full RMSE: 16.904\n",
      "Training RMSE: 15.701\n",
      "Holdout RMSE: 21.643\n"
     ]
    },
    {
     "name": "stderr",
     "output_type": "stream",
     "text": [
      "/Users/petergedeck/git/Wiley-Statistics-for-Data-Science-and-Analytics/.venv/lib/python3.11/site-packages/sklearn/metrics/_regression.py:483: FutureWarning: 'squared' is deprecated in version 1.4 and will be removed in 1.6. To calculate the root mean squared error, use the function'root_mean_squared_error'.\n",
      "  warnings.warn(\n",
      "/Users/petergedeck/git/Wiley-Statistics-for-Data-Science-and-Analytics/.venv/lib/python3.11/site-packages/sklearn/metrics/_regression.py:483: FutureWarning: 'squared' is deprecated in version 1.4 and will be removed in 1.6. To calculate the root mean squared error, use the function'root_mean_squared_error'.\n",
      "  warnings.warn(\n",
      "/Users/petergedeck/git/Wiley-Statistics-for-Data-Science-and-Analytics/.venv/lib/python3.11/site-packages/sklearn/metrics/_regression.py:483: FutureWarning: 'squared' is deprecated in version 1.4 and will be removed in 1.6. To calculate the root mean squared error, use the function'root_mean_squared_error'.\n",
      "  warnings.warn(\n"
     ]
    }
   ],
   "source": [
    "from sklearn.metrics import mean_squared_error\n",
    "rmse_full = mean_squared_error(y, model_full.predict(X), squared=False)\n",
    "rmse_train = mean_squared_error(y_train, model_train.predict(X_train), squared=False)\n",
    "rmse_holdout = mean_squared_error(y_holdout, model_train.predict(X_holdout), squared=False)\n",
    "print(f\"Full RMSE: {rmse_full:.3f}\")\n",
    "print(f\"Training RMSE: {rmse_train:.3f}\")\n",
    "print(f\"Holdout RMSE: {rmse_holdout:.3f}\")"
   ]
  }
 ],
 "metadata": {
  "language_info": {
   "codemirror_mode": {
    "name": "ipython",
    "version": 3
   },
   "file_extension": ".py",
   "mimetype": "text/x-python",
   "name": "python",
   "nbconvert_exporter": "python",
   "pygments_lexer": "ipython3",
   "version": "3.11.8"
  }
 },
 "nbformat": 4,
 "nbformat_minor": 5
}
