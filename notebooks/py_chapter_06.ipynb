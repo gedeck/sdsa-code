{
 "cells": [
  {
   "cell_type": "markdown",
   "id": "996febbd",
   "metadata": {},
   "source": [
    "# Chapter py_06 \n",
    " Statistics for Data Science and Analytics<br>\n",
    "by Peter C. Bruce, Peter Gedeck, Janet F. Dobbins\n",
    "\n",
    "Publisher: Wiley; 1st edition (2024) <br>\n",
    "<!-- ISBN-13: 978-3031075650 -->\n",
    "\n",
    "(c) 2024 Peter C. Bruce, Peter Gedeck, Janet F. Dobbins\n",
    "\n",
    "The code needs to be executed in sequence.\n",
    "\n",
    "Python packages and Python itself change over time. This can cause warnings or errors. \n",
    "\"Warnings\" are for information only and can usually be ignored. \n",
    "\"Errors\" will stop execution and need to be fixed in order to get results. \n",
    "\n",
    "If you come across an issue with the code, please follow these steps\n",
    "\n",
    "- Check the repository (https://gedeck.github.io/sdsa-code-solutions/) to see if the code has been upgraded. This might solve the problem.\n",
    "- Report the problem using the issue tracker at https://github.com/gedeck/sdsa-code-solutions/issues\n",
    "- Paste the error message into Google and see if someone else already found a solution"
   ]
  },
  {
   "cell_type": "markdown",
   "id": "1596cf86",
   "metadata": {},
   "source": [
    "# Counting"
   ]
  },
  {
   "cell_type": "markdown",
   "id": "9fef304a",
   "metadata": {},
   "source": [
    "## Counting in Python"
   ]
  },
  {
   "cell_type": "code",
   "execution_count": 2,
   "id": "a254a9a2",
   "metadata": {
    "execution": {
     "iopub.execute_input": "2024-02-24T15:14:08.542423Z",
     "iopub.status.busy": "2024-02-24T15:14:08.542176Z",
     "iopub.status.idle": "2024-02-24T15:14:08.546343Z",
     "shell.execute_reply": "2024-02-24T15:14:08.545856Z"
    }
   },
   "outputs": [
    {
     "name": "stdout",
     "output_type": "stream",
     "text": [
      "55\n"
     ]
    }
   ],
   "source": [
    "# create a list of 100 coin flips\n",
    "import random\n",
    "random.seed(1234)\n",
    "coin_flips = [random.choice([\"H\", \"T\"]) for i in range(100)]\n",
    "\n",
    "count = 0\n",
    "for coin_flip in coin_flips:\n",
    "    if coin_flip == \"H\":\n",
    "        count += 1\n",
    "print(count)"
   ]
  },
  {
   "cell_type": "code",
   "execution_count": 3,
   "id": "28abf806",
   "metadata": {
    "execution": {
     "iopub.execute_input": "2024-02-24T15:14:08.548674Z",
     "iopub.status.busy": "2024-02-24T15:14:08.548525Z",
     "iopub.status.idle": "2024-02-24T15:14:08.554308Z",
     "shell.execute_reply": "2024-02-24T15:14:08.553471Z"
    }
   },
   "outputs": [
    {
     "data": {
      "text/plain": [
       "55"
      ]
     },
     "execution_count": 3,
     "metadata": {},
     "output_type": "execute_result"
    }
   ],
   "source": [
    "sum(coin_flip == \"H\" for coin_flip in coin_flips)"
   ]
  },
  {
   "cell_type": "code",
   "execution_count": 4,
   "id": "1f888629",
   "metadata": {
    "execution": {
     "iopub.execute_input": "2024-02-24T15:14:08.556617Z",
     "iopub.status.busy": "2024-02-24T15:14:08.556424Z",
     "iopub.status.idle": "2024-02-24T15:14:08.560164Z",
     "shell.execute_reply": "2024-02-24T15:14:08.559686Z"
    }
   },
   "outputs": [
    {
     "data": {
      "text/plain": [
       "55"
      ]
     },
     "execution_count": 4,
     "metadata": {},
     "output_type": "execute_result"
    }
   ],
   "source": [
    "coin_flips.count(\"H\")"
   ]
  },
  {
   "cell_type": "code",
   "execution_count": 5,
   "id": "59204995",
   "metadata": {
    "execution": {
     "iopub.execute_input": "2024-02-24T15:14:08.562527Z",
     "iopub.status.busy": "2024-02-24T15:14:08.562334Z",
     "iopub.status.idle": "2024-02-24T15:14:08.565717Z",
     "shell.execute_reply": "2024-02-24T15:14:08.565003Z"
    }
   },
   "outputs": [
    {
     "name": "stdout",
     "output_type": "stream",
     "text": [
      "{'H': 55, 'T': 45}\n"
     ]
    }
   ],
   "source": [
    "counts = {\"H\": 0, \"T\": 0}\n",
    "for coin_flip in coin_flips:\n",
    "    counts[coin_flip] += 1\n",
    "print(counts)  # prints: {'H': 55, 'T': 45}"
   ]
  },
  {
   "cell_type": "code",
   "execution_count": 6,
   "id": "a9e720dd",
   "metadata": {
    "execution": {
     "iopub.execute_input": "2024-02-24T15:14:08.568205Z",
     "iopub.status.busy": "2024-02-24T15:14:08.567658Z",
     "iopub.status.idle": "2024-02-24T15:14:08.571854Z",
     "shell.execute_reply": "2024-02-24T15:14:08.571454Z"
    }
   },
   "outputs": [
    {
     "name": "stdout",
     "output_type": "stream",
     "text": [
      "Counter({'H': 55, 'T': 45})\n",
      "Number of heads: 55\n"
     ]
    }
   ],
   "source": [
    "from collections import Counter\n",
    "counts = Counter(coin_flips)\n",
    "print(counts)  # prints: Counter({'H': 55, 'T': 45})\n",
    "print(f'Number of heads: {counts[\"H\"]}')  # prints: Number of heads: 55"
   ]
  },
  {
   "cell_type": "code",
   "execution_count": 7,
   "id": "45e3b3a6",
   "metadata": {
    "execution": {
     "iopub.execute_input": "2024-02-24T15:14:08.574371Z",
     "iopub.status.busy": "2024-02-24T15:14:08.574173Z",
     "iopub.status.idle": "2024-02-24T15:14:08.578167Z",
     "shell.execute_reply": "2024-02-24T15:14:08.577414Z"
    }
   },
   "outputs": [
    {
     "name": "stdout",
     "output_type": "stream",
     "text": [
      "Counter({'H': 55, 'T': 45})\n",
      "Counter({'H': 101, 'T': 99})\n"
     ]
    }
   ],
   "source": [
    "counts = Counter(coin_flips)\n",
    "print(counts)  # prints: Counter({'H': 55, 'T': 45})\n",
    "counts.update(random.choice([\"H\", \"T\"]) for i in range(100))\n",
    "print(counts)  # prints: Counter({'H': 101, 'T': 99})"
   ]
  },
  {
   "cell_type": "markdown",
   "id": "f1cbd56c",
   "metadata": {},
   "source": [
    "## Counting in Pandas"
   ]
  },
  {
   "cell_type": "code",
   "execution_count": 8,
   "id": "cfff92e1",
   "metadata": {
    "execution": {
     "iopub.execute_input": "2024-02-24T15:14:08.580462Z",
     "iopub.status.busy": "2024-02-24T15:14:08.580228Z",
     "iopub.status.idle": "2024-02-24T15:14:08.684918Z",
     "shell.execute_reply": "2024-02-24T15:14:08.684667Z"
    }
   },
   "outputs": [
    {
     "name": "stdout",
     "output_type": "stream",
     "text": [
      "Number of admitted students: 1755\n"
     ]
    },
    {
     "data": {
      "text/plain": [
       "Admission\n",
       "Rejected    2771\n",
       "Admitted    1755\n",
       "Name: count, dtype: int64"
      ]
     },
     "execution_count": 8,
     "metadata": {},
     "output_type": "execute_result"
    }
   ],
   "source": [
    "import pandas as pd\n",
    "df = pd.read_csv(\"microUCBAdmissions.csv\")\n",
    "counts = df[\"Admission\"].value_counts()\n",
    "print(f\"Number of admitted students: {counts['Admitted']}\")\n",
    "counts"
   ]
  },
  {
   "cell_type": "code",
   "execution_count": 9,
   "id": "bb28fc56",
   "metadata": {
    "execution": {
     "iopub.execute_input": "2024-02-24T15:14:08.686181Z",
     "iopub.status.busy": "2024-02-24T15:14:08.686089Z",
     "iopub.status.idle": "2024-02-24T15:14:08.689566Z",
     "shell.execute_reply": "2024-02-24T15:14:08.689319Z"
    }
   },
   "outputs": [
    {
     "data": {
      "text/plain": [
       "Admission  Gender\n",
       "Rejected   Male      1493\n",
       "           Female    1278\n",
       "Admitted   Male      1198\n",
       "           Female     557\n",
       "Name: count, dtype: int64"
      ]
     },
     "execution_count": 9,
     "metadata": {},
     "output_type": "execute_result"
    }
   ],
   "source": [
    "counts = df[[\"Admission\", \"Gender\"]].value_counts()\n",
    "counts"
   ]
  },
  {
   "cell_type": "code",
   "execution_count": 10,
   "id": "f7194b90",
   "metadata": {
    "execution": {
     "iopub.execute_input": "2024-02-24T15:14:08.690704Z",
     "iopub.status.busy": "2024-02-24T15:14:08.690638Z",
     "iopub.status.idle": "2024-02-24T15:14:08.692680Z",
     "shell.execute_reply": "2024-02-24T15:14:08.692455Z"
    }
   },
   "outputs": [
    {
     "name": "stdout",
     "output_type": "stream",
     "text": [
      "Number of admitted male students: 1198\n",
      "Gender\n",
      "Male      1198\n",
      "Female     557\n",
      "Name: count, dtype: int64\n",
      "Admission\n",
      "Rejected    1278\n",
      "Admitted     557\n",
      "Name: count, dtype: int64\n"
     ]
    }
   ],
   "source": [
    "print(f'Number of admitted male students: {counts[\"Admitted\", \"Male\"]}')\n",
    "print(counts[\"Admitted\"])\n",
    "print(counts[:, \"Female\"])"
   ]
  },
  {
   "cell_type": "code",
   "execution_count": 11,
   "id": "1d49de38",
   "metadata": {
    "execution": {
     "iopub.execute_input": "2024-02-24T15:14:08.693854Z",
     "iopub.status.busy": "2024-02-24T15:14:08.693793Z",
     "iopub.status.idle": "2024-02-24T15:14:08.697048Z",
     "shell.execute_reply": "2024-02-24T15:14:08.696846Z"
    }
   },
   "outputs": [
    {
     "data": {
      "text/plain": [
       "Admission  Gender\n",
       "Rejected   Male      0.329872\n",
       "           Female    0.282369\n",
       "Admitted   Male      0.264693\n",
       "           Female    0.123067\n",
       "Name: proportion, dtype: float64"
      ]
     },
     "execution_count": 11,
     "metadata": {},
     "output_type": "execute_result"
    }
   ],
   "source": [
    "counts = df[[\"Admission\", \"Gender\"]].value_counts(normalize=True)\n",
    "counts"
   ]
  },
  {
   "cell_type": "code",
   "execution_count": 12,
   "id": "93378ce1",
   "metadata": {
    "execution": {
     "iopub.execute_input": "2024-02-24T15:14:08.698223Z",
     "iopub.status.busy": "2024-02-24T15:14:08.698159Z",
     "iopub.status.idle": "2024-02-24T15:14:08.701596Z",
     "shell.execute_reply": "2024-02-24T15:14:08.701380Z"
    }
   },
   "outputs": [
    {
     "data": {
      "text/html": [
       "<div>\n",
       "<style scoped>\n",
       "    .dataframe tbody tr th:only-of-type {\n",
       "        vertical-align: middle;\n",
       "    }\n",
       "\n",
       "    .dataframe tbody tr th {\n",
       "        vertical-align: top;\n",
       "    }\n",
       "\n",
       "    .dataframe thead th {\n",
       "        text-align: right;\n",
       "    }\n",
       "</style>\n",
       "<table border=\"1\" class=\"dataframe\">\n",
       "  <thead>\n",
       "    <tr style=\"text-align: right;\">\n",
       "      <th></th>\n",
       "      <th>Admission</th>\n",
       "      <th>Gender</th>\n",
       "      <th>proportion</th>\n",
       "    </tr>\n",
       "  </thead>\n",
       "  <tbody>\n",
       "    <tr>\n",
       "      <th>0</th>\n",
       "      <td>Rejected</td>\n",
       "      <td>Male</td>\n",
       "      <td>0.329872</td>\n",
       "    </tr>\n",
       "    <tr>\n",
       "      <th>1</th>\n",
       "      <td>Rejected</td>\n",
       "      <td>Female</td>\n",
       "      <td>0.282369</td>\n",
       "    </tr>\n",
       "    <tr>\n",
       "      <th>2</th>\n",
       "      <td>Admitted</td>\n",
       "      <td>Male</td>\n",
       "      <td>0.264693</td>\n",
       "    </tr>\n",
       "    <tr>\n",
       "      <th>3</th>\n",
       "      <td>Admitted</td>\n",
       "      <td>Female</td>\n",
       "      <td>0.123067</td>\n",
       "    </tr>\n",
       "  </tbody>\n",
       "</table>\n",
       "</div>"
      ],
      "text/plain": [
       "  Admission  Gender  proportion\n",
       "0  Rejected    Male    0.329872\n",
       "1  Rejected  Female    0.282369\n",
       "2  Admitted    Male    0.264693\n",
       "3  Admitted  Female    0.123067"
      ]
     },
     "execution_count": 12,
     "metadata": {},
     "output_type": "execute_result"
    }
   ],
   "source": [
    "counts.reset_index()"
   ]
  },
  {
   "cell_type": "markdown",
   "id": "4f3acabe",
   "metadata": {},
   "source": [
    "## Two-way tables"
   ]
  },
  {
   "cell_type": "code",
   "execution_count": 13,
   "id": "cc9c661c",
   "metadata": {
    "execution": {
     "iopub.execute_input": "2024-02-24T15:14:08.702726Z",
     "iopub.status.busy": "2024-02-24T15:14:08.702664Z",
     "iopub.status.idle": "2024-02-24T15:14:08.707889Z",
     "shell.execute_reply": "2024-02-24T15:14:08.707697Z"
    }
   },
   "outputs": [
    {
     "data": {
      "text/html": [
       "<div>\n",
       "<style scoped>\n",
       "    .dataframe tbody tr th:only-of-type {\n",
       "        vertical-align: middle;\n",
       "    }\n",
       "\n",
       "    .dataframe tbody tr th {\n",
       "        vertical-align: top;\n",
       "    }\n",
       "\n",
       "    .dataframe thead th {\n",
       "        text-align: right;\n",
       "    }\n",
       "</style>\n",
       "<table border=\"1\" class=\"dataframe\">\n",
       "  <thead>\n",
       "    <tr style=\"text-align: right;\">\n",
       "      <th>Gender</th>\n",
       "      <th>Female</th>\n",
       "      <th>Male</th>\n",
       "    </tr>\n",
       "    <tr>\n",
       "      <th>Admission</th>\n",
       "      <th></th>\n",
       "      <th></th>\n",
       "    </tr>\n",
       "  </thead>\n",
       "  <tbody>\n",
       "    <tr>\n",
       "      <th>Admitted</th>\n",
       "      <td>557</td>\n",
       "      <td>1198</td>\n",
       "    </tr>\n",
       "    <tr>\n",
       "      <th>Rejected</th>\n",
       "      <td>1278</td>\n",
       "      <td>1493</td>\n",
       "    </tr>\n",
       "  </tbody>\n",
       "</table>\n",
       "</div>"
      ],
      "text/plain": [
       "Gender     Female  Male\n",
       "Admission              \n",
       "Admitted      557  1198\n",
       "Rejected     1278  1493"
      ]
     },
     "execution_count": 13,
     "metadata": {},
     "output_type": "execute_result"
    }
   ],
   "source": [
    "df = pd.read_csv(\"microUCBAdmissions.csv\")\n",
    "pd.crosstab(df[\"Admission\"], df[\"Gender\"])"
   ]
  },
  {
   "cell_type": "code",
   "execution_count": 14,
   "id": "7ae9618f",
   "metadata": {
    "execution": {
     "iopub.execute_input": "2024-02-24T15:14:08.709138Z",
     "iopub.status.busy": "2024-02-24T15:14:08.709068Z",
     "iopub.status.idle": "2024-02-24T15:14:08.717062Z",
     "shell.execute_reply": "2024-02-24T15:14:08.716837Z"
    }
   },
   "outputs": [
    {
     "data": {
      "text/html": [
       "<div>\n",
       "<style scoped>\n",
       "    .dataframe tbody tr th:only-of-type {\n",
       "        vertical-align: middle;\n",
       "    }\n",
       "\n",
       "    .dataframe tbody tr th {\n",
       "        vertical-align: top;\n",
       "    }\n",
       "\n",
       "    .dataframe thead th {\n",
       "        text-align: right;\n",
       "    }\n",
       "</style>\n",
       "<table border=\"1\" class=\"dataframe\">\n",
       "  <thead>\n",
       "    <tr style=\"text-align: right;\">\n",
       "      <th>Gender</th>\n",
       "      <th>Female</th>\n",
       "      <th>Male</th>\n",
       "      <th>All</th>\n",
       "    </tr>\n",
       "    <tr>\n",
       "      <th>Admission</th>\n",
       "      <th></th>\n",
       "      <th></th>\n",
       "      <th></th>\n",
       "    </tr>\n",
       "  </thead>\n",
       "  <tbody>\n",
       "    <tr>\n",
       "      <th>Admitted</th>\n",
       "      <td>557</td>\n",
       "      <td>1198</td>\n",
       "      <td>1755</td>\n",
       "    </tr>\n",
       "    <tr>\n",
       "      <th>Rejected</th>\n",
       "      <td>1278</td>\n",
       "      <td>1493</td>\n",
       "      <td>2771</td>\n",
       "    </tr>\n",
       "    <tr>\n",
       "      <th>All</th>\n",
       "      <td>1835</td>\n",
       "      <td>2691</td>\n",
       "      <td>4526</td>\n",
       "    </tr>\n",
       "  </tbody>\n",
       "</table>\n",
       "</div>"
      ],
      "text/plain": [
       "Gender     Female  Male   All\n",
       "Admission                    \n",
       "Admitted      557  1198  1755\n",
       "Rejected     1278  1493  2771\n",
       "All          1835  2691  4526"
      ]
     },
     "execution_count": 14,
     "metadata": {},
     "output_type": "execute_result"
    }
   ],
   "source": [
    "pd.crosstab(df[\"Admission\"], df[\"Gender\"], margins=True)"
   ]
  },
  {
   "cell_type": "code",
   "execution_count": 15,
   "id": "7f40601f",
   "metadata": {
    "execution": {
     "iopub.execute_input": "2024-02-24T15:14:08.718206Z",
     "iopub.status.busy": "2024-02-24T15:14:08.718140Z",
     "iopub.status.idle": "2024-02-24T15:14:08.726557Z",
     "shell.execute_reply": "2024-02-24T15:14:08.726334Z"
    }
   },
   "outputs": [
    {
     "data": {
      "text/html": [
       "<div>\n",
       "<style scoped>\n",
       "    .dataframe tbody tr th:only-of-type {\n",
       "        vertical-align: middle;\n",
       "    }\n",
       "\n",
       "    .dataframe tbody tr th {\n",
       "        vertical-align: top;\n",
       "    }\n",
       "\n",
       "    .dataframe thead th {\n",
       "        text-align: right;\n",
       "    }\n",
       "</style>\n",
       "<table border=\"1\" class=\"dataframe\">\n",
       "  <thead>\n",
       "    <tr style=\"text-align: right;\">\n",
       "      <th>Gender</th>\n",
       "      <th>Female</th>\n",
       "      <th>Male</th>\n",
       "      <th>All</th>\n",
       "    </tr>\n",
       "    <tr>\n",
       "      <th>Admission</th>\n",
       "      <th></th>\n",
       "      <th></th>\n",
       "      <th></th>\n",
       "    </tr>\n",
       "  </thead>\n",
       "  <tbody>\n",
       "    <tr>\n",
       "      <th>Admitted</th>\n",
       "      <td>0.123067</td>\n",
       "      <td>0.264693</td>\n",
       "      <td>0.38776</td>\n",
       "    </tr>\n",
       "    <tr>\n",
       "      <th>Rejected</th>\n",
       "      <td>0.282369</td>\n",
       "      <td>0.329872</td>\n",
       "      <td>0.61224</td>\n",
       "    </tr>\n",
       "    <tr>\n",
       "      <th>All</th>\n",
       "      <td>0.405435</td>\n",
       "      <td>0.594565</td>\n",
       "      <td>1.00000</td>\n",
       "    </tr>\n",
       "  </tbody>\n",
       "</table>\n",
       "</div>"
      ],
      "text/plain": [
       "Gender       Female      Male      All\n",
       "Admission                             \n",
       "Admitted   0.123067  0.264693  0.38776\n",
       "Rejected   0.282369  0.329872  0.61224\n",
       "All        0.405435  0.594565  1.00000"
      ]
     },
     "execution_count": 15,
     "metadata": {},
     "output_type": "execute_result"
    }
   ],
   "source": [
    "pd.crosstab(df[\"Admission\"], df[\"Gender\"], normalize=\"all\", margins=True)"
   ]
  },
  {
   "cell_type": "code",
   "execution_count": 16,
   "id": "24597200",
   "metadata": {
    "execution": {
     "iopub.execute_input": "2024-02-24T15:14:08.727683Z",
     "iopub.status.busy": "2024-02-24T15:14:08.727625Z",
     "iopub.status.idle": "2024-02-24T15:14:08.735427Z",
     "shell.execute_reply": "2024-02-24T15:14:08.735224Z"
    }
   },
   "outputs": [
    {
     "data": {
      "text/html": [
       "<div>\n",
       "<style scoped>\n",
       "    .dataframe tbody tr th:only-of-type {\n",
       "        vertical-align: middle;\n",
       "    }\n",
       "\n",
       "    .dataframe tbody tr th {\n",
       "        vertical-align: top;\n",
       "    }\n",
       "\n",
       "    .dataframe thead th {\n",
       "        text-align: right;\n",
       "    }\n",
       "</style>\n",
       "<table border=\"1\" class=\"dataframe\">\n",
       "  <thead>\n",
       "    <tr style=\"text-align: right;\">\n",
       "      <th>Gender</th>\n",
       "      <th>Female</th>\n",
       "      <th>Male</th>\n",
       "    </tr>\n",
       "    <tr>\n",
       "      <th>Admission</th>\n",
       "      <th></th>\n",
       "      <th></th>\n",
       "    </tr>\n",
       "  </thead>\n",
       "  <tbody>\n",
       "    <tr>\n",
       "      <th>Admitted</th>\n",
       "      <td>0.317379</td>\n",
       "      <td>0.682621</td>\n",
       "    </tr>\n",
       "    <tr>\n",
       "      <th>Rejected</th>\n",
       "      <td>0.461205</td>\n",
       "      <td>0.538795</td>\n",
       "    </tr>\n",
       "    <tr>\n",
       "      <th>All</th>\n",
       "      <td>0.405435</td>\n",
       "      <td>0.594565</td>\n",
       "    </tr>\n",
       "  </tbody>\n",
       "</table>\n",
       "</div>"
      ],
      "text/plain": [
       "Gender       Female      Male\n",
       "Admission                    \n",
       "Admitted   0.317379  0.682621\n",
       "Rejected   0.461205  0.538795\n",
       "All        0.405435  0.594565"
      ]
     },
     "execution_count": 16,
     "metadata": {},
     "output_type": "execute_result"
    }
   ],
   "source": [
    "pd.crosstab(df[\"Admission\"], df[\"Gender\"], normalize=\"index\", margins=True)"
   ]
  },
  {
   "cell_type": "code",
   "execution_count": 17,
   "id": "aef8d30c",
   "metadata": {
    "execution": {
     "iopub.execute_input": "2024-02-24T15:14:08.736538Z",
     "iopub.status.busy": "2024-02-24T15:14:08.736478Z",
     "iopub.status.idle": "2024-02-24T15:14:08.744369Z",
     "shell.execute_reply": "2024-02-24T15:14:08.744180Z"
    }
   },
   "outputs": [
    {
     "data": {
      "text/html": [
       "<div>\n",
       "<style scoped>\n",
       "    .dataframe tbody tr th:only-of-type {\n",
       "        vertical-align: middle;\n",
       "    }\n",
       "\n",
       "    .dataframe tbody tr th {\n",
       "        vertical-align: top;\n",
       "    }\n",
       "\n",
       "    .dataframe thead th {\n",
       "        text-align: right;\n",
       "    }\n",
       "</style>\n",
       "<table border=\"1\" class=\"dataframe\">\n",
       "  <thead>\n",
       "    <tr style=\"text-align: right;\">\n",
       "      <th>Gender</th>\n",
       "      <th>Female</th>\n",
       "      <th>Male</th>\n",
       "      <th>All</th>\n",
       "    </tr>\n",
       "    <tr>\n",
       "      <th>Admission</th>\n",
       "      <th></th>\n",
       "      <th></th>\n",
       "      <th></th>\n",
       "    </tr>\n",
       "  </thead>\n",
       "  <tbody>\n",
       "    <tr>\n",
       "      <th>Admitted</th>\n",
       "      <td>0.303542</td>\n",
       "      <td>0.445188</td>\n",
       "      <td>0.38776</td>\n",
       "    </tr>\n",
       "    <tr>\n",
       "      <th>Rejected</th>\n",
       "      <td>0.696458</td>\n",
       "      <td>0.554812</td>\n",
       "      <td>0.61224</td>\n",
       "    </tr>\n",
       "  </tbody>\n",
       "</table>\n",
       "</div>"
      ],
      "text/plain": [
       "Gender       Female      Male      All\n",
       "Admission                             \n",
       "Admitted   0.303542  0.445188  0.38776\n",
       "Rejected   0.696458  0.554812  0.61224"
      ]
     },
     "execution_count": 17,
     "metadata": {},
     "output_type": "execute_result"
    }
   ],
   "source": [
    "pd.crosstab(df[\"Admission\"], df[\"Gender\"], margins=True, normalize=\"columns\")"
   ]
  },
  {
   "cell_type": "markdown",
   "id": "da02801f",
   "metadata": {},
   "source": [
    "## Chi-square test"
   ]
  },
  {
   "cell_type": "code",
   "execution_count": 18,
   "id": "c305d5d2",
   "metadata": {
    "execution": {
     "iopub.execute_input": "2024-02-24T15:14:08.745542Z",
     "iopub.status.busy": "2024-02-24T15:14:08.745477Z",
     "iopub.status.idle": "2024-02-24T15:14:08.749434Z",
     "shell.execute_reply": "2024-02-24T15:14:08.749243Z"
    }
   },
   "outputs": [
    {
     "name": "stdout",
     "output_type": "stream",
     "text": [
      "The observed difference is 16.0\n"
     ]
    }
   ],
   "source": [
    "data = pd.DataFrame({\n",
    "    \"states\": [\"Texas\"] * 200 + [\"California\"] * 200,\n",
    "    \"votes\": [\"yes\"] * 25 + [\"no\"] * 175 + [\"yes\"] * 17 + [\"no\"] * 183\n",
    "})\n",
    "observed = pd.crosstab(data[\"states\"], data[\"votes\"])\n",
    "common_rate = observed.sum(axis=0) / 2\n",
    "observed_difference = abs(observed - common_rate).sum().sum()\n",
    "print(f'The observed difference is {observed_difference}')"
   ]
  },
  {
   "cell_type": "code",
   "execution_count": 19,
   "id": "ecb493ce",
   "metadata": {
    "execution": {
     "iopub.execute_input": "2024-02-24T15:14:08.750503Z",
     "iopub.status.busy": "2024-02-24T15:14:08.750440Z",
     "iopub.status.idle": "2024-02-24T15:14:14.090321Z",
     "shell.execute_reply": "2024-02-24T15:14:14.090060Z"
    }
   },
   "outputs": [
    {
     "name": "stdout",
     "output_type": "stream",
     "text": [
      "Observed difference of at least 16.0: 25.9%\n"
     ]
    }
   ],
   "source": [
    "import random\n",
    "import numpy as np\n",
    "random.seed(1234)\n",
    "differences = []\n",
    "votes = list(data[\"votes\"])\n",
    "for _ in range(5_000):\n",
    "    random.shuffle(votes)\n",
    "    distribution = pd.crosstab(data[\"states\"], votes)\n",
    "    differences.append(abs(distribution - common_rate).sum().sum())\n",
    "at_least_observed = sum(np.array(differences) >= observed_difference) / len(differences)\n",
    "print(f'Observed difference of at least {observed_difference}: {at_least_observed:.1%}')"
   ]
  },
  {
   "cell_type": "code",
   "execution_count": 20,
   "id": "db065ded",
   "metadata": {
    "execution": {
     "iopub.execute_input": "2024-02-24T15:14:14.091686Z",
     "iopub.status.busy": "2024-02-24T15:14:14.091588Z",
     "iopub.status.idle": "2024-02-24T15:14:14.313905Z",
     "shell.execute_reply": "2024-02-24T15:14:14.313045Z"
    }
   },
   "outputs": [
    {
     "name": "stdout",
     "output_type": "stream",
     "text": [
      "chi2 = 1.304\n",
      "p-value = 0.2536\n",
      "degrees of freedom = 1\n",
      "expected\n",
      "[[179.  21.]\n",
      " [179.  21.]]\n"
     ]
    }
   ],
   "source": [
    "from scipy import stats\n",
    "result = stats.chi2_contingency(observed)\n",
    "print(f\"chi2 = {result.statistic:.3f}\")\n",
    "print(f\"p-value = {result.pvalue:.4f}\")\n",
    "print(f\"degrees of freedom = {result.dof}\")\n",
    "print(\"expected\")\n",
    "print(result.expected_freq)"
   ]
  }
 ],
 "metadata": {
  "language_info": {
   "codemirror_mode": {
    "name": "ipython",
    "version": 3
   },
   "file_extension": ".py",
   "mimetype": "text/x-python",
   "name": "python",
   "nbconvert_exporter": "python",
   "pygments_lexer": "ipython3",
   "version": "3.11.8"
  }
 },
 "nbformat": 4,
 "nbformat_minor": 5
}
