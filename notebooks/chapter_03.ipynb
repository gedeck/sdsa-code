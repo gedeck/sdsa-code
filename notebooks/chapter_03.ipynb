{
 "cells": [
  {
   "cell_type": "markdown",
   "id": "86ae3355",
   "metadata": {},
   "source": [
    "# Chapter 03 \n",
    " Statistics for Data Science and Analytics<br>\n",
    "by Peter C. Bruce, Peter Gedeck, Janet F. Dobbins\n",
    "\n",
    "Publisher: Wiley; 1st edition (2024) <br>\n",
    "<!-- ISBN-13: 978-3031075650 -->\n",
    "\n",
    "(c) 2024 Peter C. Bruce, Peter Gedeck, Janet F. Dobbins\n",
    "\n",
    "The code needs to be executed in sequence.\n",
    "\n",
    "Python packages and Python itself change over time. This can cause warnings or errors. \n",
    "\"Warnings\" are for information only and can usually be ignored. \n",
    "\"Errors\" will stop execution and need to be fixed in order to get results. \n",
    "\n",
    "If you come across an issue with the code, please follow these steps\n",
    "\n",
    "- Check the repository (https://gedeck.github.io/sdsa-code-solutions/) to see if the code has been upgraded. This might solve the problem.\n",
    "- Report the problem using the issue tracker at https://github.com/gedeck/sdsa-code-solutions/issues\n",
    "- Paste the error message into Google and see if someone else already found a solution"
   ]
  },
  {
   "cell_type": "markdown",
   "id": "ed1f92eb",
   "metadata": {},
   "source": [
    " Load required packages"
   ]
  },
  {
   "cell_type": "code",
   "execution_count": 2,
   "id": "764cd429",
   "metadata": {
    "execution": {
     "iopub.execute_input": "2024-02-24T15:30:10.531440Z",
     "iopub.status.busy": "2024-02-24T15:30:10.531242Z",
     "iopub.status.idle": "2024-02-24T15:30:10.849479Z",
     "shell.execute_reply": "2024-02-24T15:30:10.849101Z"
    }
   },
   "outputs": [],
   "source": [
    "import matplotlib.pyplot as plt\n",
    "import pandas as pd"
   ]
  },
  {
   "cell_type": "markdown",
   "id": "b6967a28",
   "metadata": {},
   "source": [
    "# Example: Hospital error reduction"
   ]
  },
  {
   "cell_type": "markdown",
   "id": "e9508140",
   "metadata": {},
   "source": [
    " Load the data"
   ]
  },
  {
   "cell_type": "code",
   "execution_count": 3,
   "id": "6485a70f",
   "metadata": {
    "execution": {
     "iopub.execute_input": "2024-02-24T15:30:10.851075Z",
     "iopub.status.busy": "2024-02-24T15:30:10.850973Z",
     "iopub.status.idle": "2024-02-24T15:30:10.855415Z",
     "shell.execute_reply": "2024-02-24T15:30:10.855206Z"
    }
   },
   "outputs": [
    {
     "data": {
      "text/html": [
       "<div>\n",
       "<style scoped>\n",
       "    .dataframe tbody tr th:only-of-type {\n",
       "        vertical-align: middle;\n",
       "    }\n",
       "\n",
       "    .dataframe tbody tr th {\n",
       "        vertical-align: top;\n",
       "    }\n",
       "\n",
       "    .dataframe thead th {\n",
       "        text-align: right;\n",
       "    }\n",
       "</style>\n",
       "<table border=\"1\" class=\"dataframe\">\n",
       "  <thead>\n",
       "    <tr style=\"text-align: right;\">\n",
       "      <th></th>\n",
       "      <th>Control</th>\n",
       "      <th>Treatment</th>\n",
       "    </tr>\n",
       "  </thead>\n",
       "  <tbody>\n",
       "    <tr>\n",
       "      <th>0</th>\n",
       "      <td>1</td>\n",
       "      <td>2</td>\n",
       "    </tr>\n",
       "    <tr>\n",
       "      <th>1</th>\n",
       "      <td>1</td>\n",
       "      <td>2</td>\n",
       "    </tr>\n",
       "    <tr>\n",
       "      <th>2</th>\n",
       "      <td>1</td>\n",
       "      <td>2</td>\n",
       "    </tr>\n",
       "    <tr>\n",
       "      <th>3</th>\n",
       "      <td>1</td>\n",
       "      <td>2</td>\n",
       "    </tr>\n",
       "    <tr>\n",
       "      <th>4</th>\n",
       "      <td>1</td>\n",
       "      <td>2</td>\n",
       "    </tr>\n",
       "  </tbody>\n",
       "</table>\n",
       "</div>"
      ],
      "text/plain": [
       "   Control  Treatment\n",
       "0        1          2\n",
       "1        1          2\n",
       "2        1          2\n",
       "3        1          2\n",
       "4        1          2"
      ]
     },
     "execution_count": 3,
     "metadata": {},
     "output_type": "execute_result"
    }
   ],
   "source": [
    "data = pd.read_csv(\"hospitalerrors.csv\")\n",
    "data.head()"
   ]
  },
  {
   "cell_type": "markdown",
   "id": "109c1af0",
   "metadata": {},
   "source": [
    "## Central location"
   ]
  },
  {
   "cell_type": "markdown",
   "id": "c1ee74c5",
   "metadata": {},
   "source": [
    " Calculate the mean"
   ]
  },
  {
   "cell_type": "code",
   "execution_count": 4,
   "id": "b505f01a",
   "metadata": {
    "execution": {
     "iopub.execute_input": "2024-02-24T15:30:10.856715Z",
     "iopub.status.busy": "2024-02-24T15:30:10.856633Z",
     "iopub.status.idle": "2024-02-24T15:30:10.858971Z",
     "shell.execute_reply": "2024-02-24T15:30:10.858767Z"
    }
   },
   "outputs": [
    {
     "data": {
      "text/plain": [
       "Control      1.88\n",
       "Treatment    2.80\n",
       "dtype: float64"
      ]
     },
     "execution_count": 4,
     "metadata": {},
     "output_type": "execute_result"
    }
   ],
   "source": [
    "data.mean()"
   ]
  },
  {
   "cell_type": "markdown",
   "id": "a9eb47a5",
   "metadata": {},
   "source": [
    " Calculate the median"
   ]
  },
  {
   "cell_type": "code",
   "execution_count": 5,
   "id": "da392c6c",
   "metadata": {
    "execution": {
     "iopub.execute_input": "2024-02-24T15:30:10.860130Z",
     "iopub.status.busy": "2024-02-24T15:30:10.860056Z",
     "iopub.status.idle": "2024-02-24T15:30:10.862620Z",
     "shell.execute_reply": "2024-02-24T15:30:10.862405Z"
    }
   },
   "outputs": [
    {
     "data": {
      "text/plain": [
       "Control      2.0\n",
       "Treatment    2.0\n",
       "dtype: float64"
      ]
     },
     "execution_count": 5,
     "metadata": {},
     "output_type": "execute_result"
    }
   ],
   "source": [
    "data.median()"
   ]
  },
  {
   "cell_type": "markdown",
   "id": "6fe194b1",
   "metadata": {},
   "source": [
    "## Variation"
   ]
  },
  {
   "cell_type": "markdown",
   "id": "fdfc097c",
   "metadata": {},
   "source": [
    " Calculate the range"
   ]
  },
  {
   "cell_type": "code",
   "execution_count": 6,
   "id": "39b853bd",
   "metadata": {
    "execution": {
     "iopub.execute_input": "2024-02-24T15:30:10.863936Z",
     "iopub.status.busy": "2024-02-24T15:30:10.863867Z",
     "iopub.status.idle": "2024-02-24T15:30:10.866110Z",
     "shell.execute_reply": "2024-02-24T15:30:10.865887Z"
    }
   },
   "outputs": [
    {
     "data": {
      "text/plain": [
       "Control      4\n",
       "Treatment    7\n",
       "dtype: int64"
      ]
     },
     "execution_count": 6,
     "metadata": {},
     "output_type": "execute_result"
    }
   ],
   "source": [
    "data.max() - data.min()"
   ]
  },
  {
   "cell_type": "markdown",
   "id": "223024fb",
   "metadata": {},
   "source": [
    " Calculate percentiles"
   ]
  },
  {
   "cell_type": "code",
   "execution_count": 7,
   "id": "fe4e49e9",
   "metadata": {
    "execution": {
     "iopub.execute_input": "2024-02-24T15:30:10.867254Z",
     "iopub.status.busy": "2024-02-24T15:30:10.867191Z",
     "iopub.status.idle": "2024-02-24T15:30:10.870208Z",
     "shell.execute_reply": "2024-02-24T15:30:10.869998Z"
    }
   },
   "outputs": [
    {
     "data": {
      "text/html": [
       "<div>\n",
       "<style scoped>\n",
       "    .dataframe tbody tr th:only-of-type {\n",
       "        vertical-align: middle;\n",
       "    }\n",
       "\n",
       "    .dataframe tbody tr th {\n",
       "        vertical-align: top;\n",
       "    }\n",
       "\n",
       "    .dataframe thead th {\n",
       "        text-align: right;\n",
       "    }\n",
       "</style>\n",
       "<table border=\"1\" class=\"dataframe\">\n",
       "  <thead>\n",
       "    <tr style=\"text-align: right;\">\n",
       "      <th></th>\n",
       "      <th>Control</th>\n",
       "      <th>Treatment</th>\n",
       "    </tr>\n",
       "  </thead>\n",
       "  <tbody>\n",
       "    <tr>\n",
       "      <th>0.25</th>\n",
       "      <td>1.0</td>\n",
       "      <td>2.0</td>\n",
       "    </tr>\n",
       "    <tr>\n",
       "      <th>0.50</th>\n",
       "      <td>2.0</td>\n",
       "      <td>2.0</td>\n",
       "    </tr>\n",
       "    <tr>\n",
       "      <th>0.75</th>\n",
       "      <td>2.0</td>\n",
       "      <td>3.0</td>\n",
       "    </tr>\n",
       "  </tbody>\n",
       "</table>\n",
       "</div>"
      ],
      "text/plain": [
       "      Control  Treatment\n",
       "0.25      1.0        2.0\n",
       "0.50      2.0        2.0\n",
       "0.75      2.0        3.0"
      ]
     },
     "execution_count": 7,
     "metadata": {},
     "output_type": "execute_result"
    }
   ],
   "source": [
    "data.quantile([0.25, 0.5, 0.75])"
   ]
  },
  {
   "cell_type": "markdown",
   "id": "1facf52c",
   "metadata": {},
   "source": [
    " Calculate the interquartile range"
   ]
  },
  {
   "cell_type": "code",
   "execution_count": 8,
   "id": "44b1d785",
   "metadata": {
    "execution": {
     "iopub.execute_input": "2024-02-24T15:30:10.871381Z",
     "iopub.status.busy": "2024-02-24T15:30:10.871317Z",
     "iopub.status.idle": "2024-02-24T15:30:10.873773Z",
     "shell.execute_reply": "2024-02-24T15:30:10.873542Z"
    }
   },
   "outputs": [
    {
     "data": {
      "text/plain": [
       "Control      1.0\n",
       "Treatment    1.0\n",
       "dtype: float64"
      ]
     },
     "execution_count": 8,
     "metadata": {},
     "output_type": "execute_result"
    }
   ],
   "source": [
    "data.quantile(0.75) - data.quantile(0.25)"
   ]
  },
  {
   "cell_type": "markdown",
   "id": "92296ae8",
   "metadata": {},
   "source": [
    " Calculate the mean absolute deviation (pandas used to have a function to calculate this, but it was removed)"
   ]
  },
  {
   "cell_type": "code",
   "execution_count": 9,
   "id": "358b3a9b",
   "metadata": {
    "execution": {
     "iopub.execute_input": "2024-02-24T15:30:10.874929Z",
     "iopub.status.busy": "2024-02-24T15:30:10.874865Z",
     "iopub.status.idle": "2024-02-24T15:30:10.876989Z",
     "shell.execute_reply": "2024-02-24T15:30:10.876805Z"
    }
   },
   "outputs": [
    {
     "data": {
      "text/plain": [
       "Control      0.8448\n",
       "Treatment    1.1520\n",
       "dtype: float64"
      ]
     },
     "execution_count": 9,
     "metadata": {},
     "output_type": "execute_result"
    }
   ],
   "source": [
    "abs(data - data.mean()).mean()"
   ]
  },
  {
   "cell_type": "markdown",
   "id": "065bec8f",
   "metadata": {},
   "source": [
    " Calculate the variance"
   ]
  },
  {
   "cell_type": "code",
   "execution_count": 10,
   "id": "ba437ca1",
   "metadata": {
    "execution": {
     "iopub.execute_input": "2024-02-24T15:30:10.878094Z",
     "iopub.status.busy": "2024-02-24T15:30:10.878035Z",
     "iopub.status.idle": "2024-02-24T15:30:10.880071Z",
     "shell.execute_reply": "2024-02-24T15:30:10.879879Z"
    }
   },
   "outputs": [
    {
     "data": {
      "text/plain": [
       "Control      1.276667\n",
       "Treatment    2.833333\n",
       "dtype: float64"
      ]
     },
     "execution_count": 10,
     "metadata": {},
     "output_type": "execute_result"
    }
   ],
   "source": [
    "data.var()"
   ]
  },
  {
   "cell_type": "markdown",
   "id": "2c7dd2a6",
   "metadata": {},
   "source": [
    " Calculate the population variance; divide by $n$"
   ]
  },
  {
   "cell_type": "code",
   "execution_count": 11,
   "id": "6d1a8c60",
   "metadata": {
    "execution": {
     "iopub.execute_input": "2024-02-24T15:30:10.881131Z",
     "iopub.status.busy": "2024-02-24T15:30:10.881071Z",
     "iopub.status.idle": "2024-02-24T15:30:10.883192Z",
     "shell.execute_reply": "2024-02-24T15:30:10.882966Z"
    }
   },
   "outputs": [
    {
     "data": {
      "text/plain": [
       "Control      1.2256\n",
       "Treatment    2.7200\n",
       "dtype: float64"
      ]
     },
     "execution_count": 11,
     "metadata": {},
     "output_type": "execute_result"
    }
   ],
   "source": [
    "data.var(ddof=0)"
   ]
  },
  {
   "cell_type": "markdown",
   "id": "b4b8c752",
   "metadata": {},
   "source": [
    "# Example: Musical genre preferences"
   ]
  },
  {
   "cell_type": "markdown",
   "id": "dff9b54d",
   "metadata": {},
   "source": [
    " Create a data frame with the data"
   ]
  },
  {
   "cell_type": "code",
   "execution_count": 12,
   "id": "f16f9d90",
   "metadata": {
    "execution": {
     "iopub.execute_input": "2024-02-24T15:30:10.884367Z",
     "iopub.status.busy": "2024-02-24T15:30:10.884306Z",
     "iopub.status.idle": "2024-02-24T15:30:10.887208Z",
     "shell.execute_reply": "2024-02-24T15:30:10.887002Z"
    }
   },
   "outputs": [
    {
     "data": {
      "text/html": [
       "<div>\n",
       "<style scoped>\n",
       "    .dataframe tbody tr th:only-of-type {\n",
       "        vertical-align: middle;\n",
       "    }\n",
       "\n",
       "    .dataframe tbody tr th {\n",
       "        vertical-align: top;\n",
       "    }\n",
       "\n",
       "    .dataframe thead th {\n",
       "        text-align: right;\n",
       "    }\n",
       "</style>\n",
       "<table border=\"1\" class=\"dataframe\">\n",
       "  <thead>\n",
       "    <tr style=\"text-align: right;\">\n",
       "      <th></th>\n",
       "      <th>Rock</th>\n",
       "      <th>Hip-Hop</th>\n",
       "      <th>Country</th>\n",
       "      <th>Jazz</th>\n",
       "      <th>New Age</th>\n",
       "    </tr>\n",
       "  </thead>\n",
       "  <tbody>\n",
       "    <tr>\n",
       "      <th>A</th>\n",
       "      <td>7</td>\n",
       "      <td>1</td>\n",
       "      <td>9</td>\n",
       "      <td>1</td>\n",
       "      <td>3</td>\n",
       "    </tr>\n",
       "    <tr>\n",
       "      <th>B</th>\n",
       "      <td>4</td>\n",
       "      <td>9</td>\n",
       "      <td>1</td>\n",
       "      <td>3</td>\n",
       "      <td>1</td>\n",
       "    </tr>\n",
       "    <tr>\n",
       "      <th>C</th>\n",
       "      <td>9</td>\n",
       "      <td>1</td>\n",
       "      <td>7</td>\n",
       "      <td>2</td>\n",
       "      <td>2</td>\n",
       "    </tr>\n",
       "  </tbody>\n",
       "</table>\n",
       "</div>"
      ],
      "text/plain": [
       "   Rock  Hip-Hop  Country  Jazz  New Age\n",
       "A     7        1        9     1        3\n",
       "B     4        9        1     3        1\n",
       "C     9        1        7     2        2"
      ]
     },
     "execution_count": 12,
     "metadata": {},
     "output_type": "execute_result"
    }
   ],
   "source": [
    "data = pd.DataFrame({\n",
    "    \"Rock\": [7, 4, 9],\n",
    "    \"Hip-Hop\": [1, 9, 1],\n",
    "    \"Country\": [9, 1, 7],\n",
    "    \"Jazz\": [1, 3, 2],\n",
    "    \"New Age\": [3, 1, 2],\n",
    "}, index=[\"A\", \"B\", \"C\"])\n",
    "data"
   ]
  },
  {
   "cell_type": "markdown",
   "id": "0a98a74a",
   "metadata": {},
   "source": [
    " Calculate the Euclidean distance between A and C"
   ]
  },
  {
   "cell_type": "code",
   "execution_count": 13,
   "id": "9debeaab",
   "metadata": {
    "execution": {
     "iopub.execute_input": "2024-02-24T15:30:10.888380Z",
     "iopub.status.busy": "2024-02-24T15:30:10.888316Z",
     "iopub.status.idle": "2024-02-24T15:30:10.890361Z",
     "shell.execute_reply": "2024-02-24T15:30:10.890165Z"
    }
   },
   "outputs": [
    {
     "data": {
      "text/plain": [
       "3.1622776601683795"
      ]
     },
     "execution_count": 13,
     "metadata": {},
     "output_type": "execute_result"
    }
   ],
   "source": [
    "import numpy as np\n",
    "np.sqrt(np.sum((data.loc[\"A\"] - data.loc[\"C\"])**2))"
   ]
  },
  {
   "cell_type": "markdown",
   "id": "c304378d",
   "metadata": {},
   "source": [
    " and between B and C"
   ]
  },
  {
   "cell_type": "code",
   "execution_count": 14,
   "id": "6f3f74d0",
   "metadata": {
    "execution": {
     "iopub.execute_input": "2024-02-24T15:30:10.891431Z",
     "iopub.status.busy": "2024-02-24T15:30:10.891373Z",
     "iopub.status.idle": "2024-02-24T15:30:10.893397Z",
     "shell.execute_reply": "2024-02-24T15:30:10.893183Z"
    }
   },
   "outputs": [
    {
     "data": {
      "text/plain": [
       "11.269427669584644"
      ]
     },
     "execution_count": 14,
     "metadata": {},
     "output_type": "execute_result"
    }
   ],
   "source": [
    "np.sqrt(np.sum((data.loc[\"B\"] - data.loc[\"C\"])**2))"
   ]
  },
  {
   "cell_type": "markdown",
   "id": "035689b8",
   "metadata": {},
   "source": [
    " The distance between A and C is less than the distance between B and C, so A and C are more similar."
   ]
  },
  {
   "cell_type": "markdown",
   "id": "97ff1dad",
   "metadata": {},
   "source": [
    "# Example: Reduction in major errors in hospitals} "
   ]
  },
  {
   "cell_type": "code",
   "execution_count": 15,
   "id": "84ca5a4f",
   "metadata": {
    "execution": {
     "iopub.execute_input": "2024-02-24T15:30:10.894623Z",
     "iopub.status.busy": "2024-02-24T15:30:10.894561Z",
     "iopub.status.idle": "2024-02-24T15:30:10.896520Z",
     "shell.execute_reply": "2024-02-24T15:30:10.896271Z"
    }
   },
   "outputs": [],
   "source": [
    "data = pd.read_csv(\"hospitalerrors_2.csv\")"
   ]
  },
  {
   "cell_type": "markdown",
   "id": "04aa9b00",
   "metadata": {},
   "source": [
    " Calculate the mean reduction in errors for the treatment and control groups"
   ]
  },
  {
   "cell_type": "code",
   "execution_count": 16,
   "id": "bf5cf1df",
   "metadata": {
    "execution": {
     "iopub.execute_input": "2024-02-24T15:30:10.897703Z",
     "iopub.status.busy": "2024-02-24T15:30:10.897643Z",
     "iopub.status.idle": "2024-02-24T15:30:10.899942Z",
     "shell.execute_reply": "2024-02-24T15:30:10.899748Z"
    }
   },
   "outputs": [
    {
     "data": {
      "text/plain": [
       "Treatment\n",
       "0    1.88\n",
       "1    2.80\n",
       "Name: Reduction, dtype: float64"
      ]
     },
     "execution_count": 16,
     "metadata": {},
     "output_type": "execute_result"
    }
   ],
   "source": [
    "mean_reduction = data.groupby(\"Treatment\")[\"Reduction\"].mean()\n",
    "mean_reduction"
   ]
  },
  {
   "cell_type": "markdown",
   "id": "083065ca",
   "metadata": {},
   "source": [
    " The difference between the two means is the test statistic"
   ]
  },
  {
   "cell_type": "code",
   "execution_count": 17,
   "id": "fb9a7095",
   "metadata": {
    "execution": {
     "iopub.execute_input": "2024-02-24T15:30:10.901016Z",
     "iopub.status.busy": "2024-02-24T15:30:10.900957Z",
     "iopub.status.idle": "2024-02-24T15:30:10.902487Z",
     "shell.execute_reply": "2024-02-24T15:30:10.902297Z"
    }
   },
   "outputs": [
    {
     "name": "stdout",
     "output_type": "stream",
     "text": [
      "Difference between the two means: 0.92\n"
     ]
    }
   ],
   "source": [
    "print(f\"Difference between the two means: {mean_reduction[1] - mean_reduction[0]:.2f}\")"
   ]
  },
  {
   "cell_type": "markdown",
   "id": "3ddfdacd",
   "metadata": {},
   "source": [
    "# Frequency Tables"
   ]
  },
  {
   "cell_type": "code",
   "execution_count": 18,
   "id": "9112fd22",
   "metadata": {
    "execution": {
     "iopub.execute_input": "2024-02-24T15:30:10.903513Z",
     "iopub.status.busy": "2024-02-24T15:30:10.903452Z",
     "iopub.status.idle": "2024-02-24T15:30:10.908844Z",
     "shell.execute_reply": "2024-02-24T15:30:10.908645Z"
    }
   },
   "outputs": [
    {
     "data": {
      "text/html": [
       "<div>\n",
       "<style scoped>\n",
       "    .dataframe tbody tr th:only-of-type {\n",
       "        vertical-align: middle;\n",
       "    }\n",
       "\n",
       "    .dataframe tbody tr th {\n",
       "        vertical-align: top;\n",
       "    }\n",
       "\n",
       "    .dataframe thead th {\n",
       "        text-align: right;\n",
       "    }\n",
       "</style>\n",
       "<table border=\"1\" class=\"dataframe\">\n",
       "  <thead>\n",
       "    <tr style=\"text-align: right;\">\n",
       "      <th></th>\n",
       "      <th>Control</th>\n",
       "      <th>Treatment</th>\n",
       "      <th>Total</th>\n",
       "    </tr>\n",
       "    <tr>\n",
       "      <th>Reduction</th>\n",
       "      <th></th>\n",
       "      <th></th>\n",
       "      <th></th>\n",
       "    </tr>\n",
       "  </thead>\n",
       "  <tbody>\n",
       "    <tr>\n",
       "      <th>1</th>\n",
       "      <td>12.0</td>\n",
       "      <td>0.0</td>\n",
       "      <td>12.0</td>\n",
       "    </tr>\n",
       "    <tr>\n",
       "      <th>2</th>\n",
       "      <td>8.0</td>\n",
       "      <td>18.0</td>\n",
       "      <td>26.0</td>\n",
       "    </tr>\n",
       "    <tr>\n",
       "      <th>3</th>\n",
       "      <td>2.0</td>\n",
       "      <td>2.0</td>\n",
       "      <td>4.0</td>\n",
       "    </tr>\n",
       "    <tr>\n",
       "      <th>4</th>\n",
       "      <td>2.0</td>\n",
       "      <td>2.0</td>\n",
       "      <td>4.0</td>\n",
       "    </tr>\n",
       "    <tr>\n",
       "      <th>5</th>\n",
       "      <td>1.0</td>\n",
       "      <td>1.0</td>\n",
       "      <td>2.0</td>\n",
       "    </tr>\n",
       "    <tr>\n",
       "      <th>6</th>\n",
       "      <td>0.0</td>\n",
       "      <td>1.0</td>\n",
       "      <td>1.0</td>\n",
       "    </tr>\n",
       "    <tr>\n",
       "      <th>9</th>\n",
       "      <td>0.0</td>\n",
       "      <td>1.0</td>\n",
       "      <td>1.0</td>\n",
       "    </tr>\n",
       "    <tr>\n",
       "      <th>All</th>\n",
       "      <td>25.0</td>\n",
       "      <td>25.0</td>\n",
       "      <td>50.0</td>\n",
       "    </tr>\n",
       "  </tbody>\n",
       "</table>\n",
       "</div>"
      ],
      "text/plain": [
       "           Control  Treatment  Total\n",
       "Reduction                           \n",
       "1             12.0        0.0   12.0\n",
       "2              8.0       18.0   26.0\n",
       "3              2.0        2.0    4.0\n",
       "4              2.0        2.0    4.0\n",
       "5              1.0        1.0    2.0\n",
       "6              0.0        1.0    1.0\n",
       "9              0.0        1.0    1.0\n",
       "All           25.0       25.0   50.0"
      ]
     },
     "execution_count": 18,
     "metadata": {},
     "output_type": "execute_result"
    }
   ],
   "source": [
    "counts = data.groupby(\"Treatment\")[\"Reduction\"].value_counts()\n",
    "frequency = pd.DataFrame({\n",
    "    \"Control\": counts.loc[0],\n",
    "    \"Treatment\": counts.loc[1],\n",
    "}).fillna(0)\n",
    "frequency[\"Total\"] = frequency[\"Control\"] + frequency[\"Treatment\"]\n",
    "frequency.loc[\"All\"] = frequency.sum()\n",
    "frequency"
   ]
  },
  {
   "cell_type": "markdown",
   "id": "df312fa6",
   "metadata": {},
   "source": [
    "## Cumulative frequency table"
   ]
  },
  {
   "cell_type": "code",
   "execution_count": 19,
   "id": "61449399",
   "metadata": {
    "execution": {
     "iopub.execute_input": "2024-02-24T15:30:10.909939Z",
     "iopub.status.busy": "2024-02-24T15:30:10.909876Z",
     "iopub.status.idle": "2024-02-24T15:30:10.913845Z",
     "shell.execute_reply": "2024-02-24T15:30:10.913652Z"
    }
   },
   "outputs": [
    {
     "data": {
      "text/html": [
       "<div>\n",
       "<style scoped>\n",
       "    .dataframe tbody tr th:only-of-type {\n",
       "        vertical-align: middle;\n",
       "    }\n",
       "\n",
       "    .dataframe tbody tr th {\n",
       "        vertical-align: top;\n",
       "    }\n",
       "\n",
       "    .dataframe thead th {\n",
       "        text-align: right;\n",
       "    }\n",
       "</style>\n",
       "<table border=\"1\" class=\"dataframe\">\n",
       "  <thead>\n",
       "    <tr style=\"text-align: right;\">\n",
       "      <th></th>\n",
       "      <th>Frequency</th>\n",
       "      <th>Cumulative Frequency</th>\n",
       "      <th>Relative Frequency</th>\n",
       "      <th>Cumulative Relative Frequency</th>\n",
       "    </tr>\n",
       "    <tr>\n",
       "      <th>Reduction</th>\n",
       "      <th></th>\n",
       "      <th></th>\n",
       "      <th></th>\n",
       "      <th></th>\n",
       "    </tr>\n",
       "  </thead>\n",
       "  <tbody>\n",
       "    <tr>\n",
       "      <th>1</th>\n",
       "      <td>12.0</td>\n",
       "      <td>12.0</td>\n",
       "      <td>0.48</td>\n",
       "      <td>0.48</td>\n",
       "    </tr>\n",
       "    <tr>\n",
       "      <th>2</th>\n",
       "      <td>8.0</td>\n",
       "      <td>20.0</td>\n",
       "      <td>0.32</td>\n",
       "      <td>0.32</td>\n",
       "    </tr>\n",
       "    <tr>\n",
       "      <th>3</th>\n",
       "      <td>2.0</td>\n",
       "      <td>22.0</td>\n",
       "      <td>0.08</td>\n",
       "      <td>0.08</td>\n",
       "    </tr>\n",
       "    <tr>\n",
       "      <th>4</th>\n",
       "      <td>2.0</td>\n",
       "      <td>24.0</td>\n",
       "      <td>0.08</td>\n",
       "      <td>0.08</td>\n",
       "    </tr>\n",
       "    <tr>\n",
       "      <th>5</th>\n",
       "      <td>1.0</td>\n",
       "      <td>25.0</td>\n",
       "      <td>0.04</td>\n",
       "      <td>0.04</td>\n",
       "    </tr>\n",
       "    <tr>\n",
       "      <th>6</th>\n",
       "      <td>0.0</td>\n",
       "      <td>25.0</td>\n",
       "      <td>0.00</td>\n",
       "      <td>0.00</td>\n",
       "    </tr>\n",
       "    <tr>\n",
       "      <th>9</th>\n",
       "      <td>0.0</td>\n",
       "      <td>25.0</td>\n",
       "      <td>0.00</td>\n",
       "      <td>0.00</td>\n",
       "    </tr>\n",
       "  </tbody>\n",
       "</table>\n",
       "</div>"
      ],
      "text/plain": [
       "           Frequency  Cumulative Frequency  Relative Frequency  \\\n",
       "Reduction                                                        \n",
       "1               12.0                  12.0                0.48   \n",
       "2                8.0                  20.0                0.32   \n",
       "3                2.0                  22.0                0.08   \n",
       "4                2.0                  24.0                0.08   \n",
       "5                1.0                  25.0                0.04   \n",
       "6                0.0                  25.0                0.00   \n",
       "9                0.0                  25.0                0.00   \n",
       "\n",
       "           Cumulative Relative Frequency  \n",
       "Reduction                                 \n",
       "1                                   0.48  \n",
       "2                                   0.32  \n",
       "3                                   0.08  \n",
       "4                                   0.08  \n",
       "5                                   0.04  \n",
       "6                                   0.00  \n",
       "9                                   0.00  "
      ]
     },
     "execution_count": 19,
     "metadata": {},
     "output_type": "execute_result"
    }
   ],
   "source": [
    "cum_frequency = pd.DataFrame({\n",
    "    \"Frequency\": frequency.loc[1:9, \"Control\"],\n",
    "})\n",
    "cum_frequency[\"Cumulative Frequency\"] = cum_frequency[\"Frequency\"].cumsum()\n",
    "cum_frequency[\"Relative Frequency\"] = cum_frequency[\"Frequency\"] / cum_frequency[\"Frequency\"].sum()\n",
    "cum_frequency[\"Cumulative Relative Frequency\"] = cum_frequency[\"Relative Frequency\"] / cum_frequency[\"Relative Frequency\"].sum()\n",
    "cum_frequency"
   ]
  },
  {
   "cell_type": "markdown",
   "id": "2b366e04",
   "metadata": {},
   "source": [
    "# Data Visualization"
   ]
  },
  {
   "cell_type": "markdown",
   "id": "55273b5d",
   "metadata": {},
   "source": [
    "## Histogram"
   ]
  },
  {
   "cell_type": "code",
   "execution_count": 20,
   "id": "bcd27a6c",
   "metadata": {
    "execution": {
     "iopub.execute_input": "2024-02-24T15:30:10.914966Z",
     "iopub.status.busy": "2024-02-24T15:30:10.914906Z",
     "iopub.status.idle": "2024-02-24T15:30:10.917282Z",
     "shell.execute_reply": "2024-02-24T15:30:10.917084Z"
    }
   },
   "outputs": [],
   "source": [
    "# determine counts data\n",
    "counts = data[data[\"Treatment\"] == 1][\"Reduction\"].value_counts()\n",
    "# add zero values for error reductions of 7 and 8\n",
    "counts.loc[7] = 0\n",
    "counts.loc[8] = 0\n",
    "counts = counts.sort_index()"
   ]
  },
  {
   "cell_type": "code",
   "execution_count": 21,
   "id": "94b9c776",
   "metadata": {
    "execution": {
     "iopub.execute_input": "2024-02-24T15:30:10.918349Z",
     "iopub.status.busy": "2024-02-24T15:30:10.918289Z",
     "iopub.status.idle": "2024-02-24T15:30:11.052497Z",
     "shell.execute_reply": "2024-02-24T15:30:11.052296Z"
    }
   },
   "outputs": [
    {
     "data": {
      "image/png": "[encoded data removed]",
      "text/plain": [
       "<Figure size 600x300 with 1 Axes>"
      ]
     },
     "metadata": {},
     "output_type": "display_data"
    }
   ],
   "source": [
    "# we want bins to be centered on integers and therefore need to specify the bin edges\n",
    "bins = [b + 1.5 for b in range(10)]\n",
    "fig, ax = plt.subplots(figsize=(6, 3))\n",
    "data[data[\"Treatment\"] == 1][\"Reduction\"].plot.hist(bins=bins, ax=ax, edgecolor=\"black\")\n",
    "ax.set_xlabel(\"Error reduction\")\n",
    "ax.set_ylabel(\"Number of hospitals\")\n",
    "plt.show()"
   ]
  },
  {
   "cell_type": "markdown",
   "id": "dbb98eb5",
   "metadata": {},
   "source": [
    " We can also plot the frequency table using a bar chart."
   ]
  },
  {
   "cell_type": "code",
   "execution_count": 22,
   "id": "f08e5571",
   "metadata": {
    "execution": {
     "iopub.execute_input": "2024-02-24T15:30:11.053742Z",
     "iopub.status.busy": "2024-02-24T15:30:11.053668Z",
     "iopub.status.idle": "2024-02-24T15:30:11.096252Z",
     "shell.execute_reply": "2024-02-24T15:30:11.096043Z"
    }
   },
   "outputs": [
    {
     "data": {
      "image/png": "[encoded data removed]",
      "text/plain": [
       "<Figure size 600x300 with 1 Axes>"
      ]
     },
     "metadata": {},
     "output_type": "display_data"
    }
   ],
   "source": [
    "# we want bins to be centered on integers and therefore need to specify the bin edges\n",
    "fig, ax = plt.subplots(figsize=(6, 3))\n",
    "counts.plot.bar(edgecolor=\"black\", width=1, ax=ax)\n",
    "ax.set_xlabel(\"Error reduction\")\n",
    "ax.set_ylabel(\"Number of hospitals\")\n",
    "plt.show()"
   ]
  },
  {
   "cell_type": "markdown",
   "id": "85189be4",
   "metadata": {},
   "source": [
    "## Boxplots"
   ]
  },
  {
   "cell_type": "code",
   "execution_count": 23,
   "id": "d028ddfa",
   "metadata": {
    "execution": {
     "iopub.execute_input": "2024-02-24T15:30:11.097495Z",
     "iopub.status.busy": "2024-02-24T15:30:11.097419Z",
     "iopub.status.idle": "2024-02-24T15:30:11.183458Z",
     "shell.execute_reply": "2024-02-24T15:30:11.183239Z"
    }
   },
   "outputs": [
    {
     "data": {
      "image/png": "[encoded data removed]",
      "text/plain": [
       "<Figure size 640x480 with 1 Axes>"
      ]
     },
     "metadata": {},
     "output_type": "display_data"
    }
   ],
   "source": [
    "axes = data[[\"Reduction\", \"Treatment\"]].plot.box(\"Treatment\")\n",
    "axes[\"Reduction\"].set_xlabel(\"Treatment\")\n",
    "axes[\"Reduction\"].set_ylabel(\"Error reduction\")\n",
    "plt.show()"
   ]
  },
  {
   "cell_type": "markdown",
   "id": "32ffe012",
   "metadata": {},
   "source": [
    "# Histograms"
   ]
  },
  {
   "cell_type": "markdown",
   "id": "c0875a90",
   "metadata": {},
   "source": [
    "## Histograms for lists of values"
   ]
  },
  {
   "cell_type": "code",
   "execution_count": 24,
   "id": "b5d587fe",
   "metadata": {
    "execution": {
     "iopub.execute_input": "2024-02-24T15:30:11.184884Z",
     "iopub.status.busy": "2024-02-24T15:30:11.184810Z",
     "iopub.status.idle": "2024-02-24T15:30:11.261395Z",
     "shell.execute_reply": "2024-02-24T15:30:11.261193Z"
    }
   },
   "outputs": [
    {
     "data": {
      "image/png": "[encoded data removed]",
      "text/plain": [
       "<Figure size 640x480 with 1 Axes>"
      ]
     },
     "metadata": {},
     "output_type": "display_data"
    }
   ],
   "source": [
    "hospital_sizes = pd.read_csv('hospitalsizes.csv')\n",
    "bins = [i * 100 for i  in range(12)]\n",
    "ax = hospital_sizes['size'].plot.hist(bottom=0, bins=bins, edgecolor='black')\n",
    "ax.set_xlim(0, 1150)\n",
    "plt.show()"
   ]
  },
  {
   "cell_type": "markdown",
   "id": "eecb64d5",
   "metadata": {},
   "source": [
    "## Histograms for frequency tables"
   ]
  },
  {
   "cell_type": "markdown",
   "id": "d28462c9",
   "metadata": {},
   "source": [
    " If you already have a frequency table, you can use the `DataFrame.plot.bar` method. While this method is normally used to create a bar chart with categories on the $x$ axis, we can change its appearance to look like a histogram by setting the bar width to 1. In order to get a correct axis, you need to make sure that all bins have values in the frequency table. Here, this applies to the bar at a hospital size of 950."
   ]
  },
  {
   "cell_type": "code",
   "execution_count": 25,
   "id": "1e1f9688",
   "metadata": {
    "execution": {
     "iopub.execute_input": "2024-02-24T15:30:11.262706Z",
     "iopub.status.busy": "2024-02-24T15:30:11.262633Z",
     "iopub.status.idle": "2024-02-24T15:30:11.348336Z",
     "shell.execute_reply": "2024-02-24T15:30:11.348128Z"
    }
   },
   "outputs": [
    {
     "data": {
      "image/png": "[encoded data removed]",
      "text/plain": [
       "<Figure size 640x480 with 1 Axes>"
      ]
     },
     "metadata": {},
     "output_type": "display_data"
    }
   ],
   "source": [
    "hospital_sizes_ft = pd.read_csv('hospitalsizes_frequencytable.csv')\n",
    "ax = hospital_sizes_ft.plot.bar(x='size', y='frequency', width=1, edgecolor=\"black\", legend=False)\n",
    "ax.set_xlabel(\"Hospital size\")\n",
    "ax.set_ylabel(\"Number of hospitals\")\n",
    "plt.show()"
   ]
  },
  {
   "cell_type": "markdown",
   "id": "6579b544",
   "metadata": {},
   "source": [
    "# Bar charts"
   ]
  },
  {
   "cell_type": "code",
   "execution_count": 26,
   "id": "a0f1734a",
   "metadata": {
    "execution": {
     "iopub.execute_input": "2024-02-24T15:30:11.349524Z",
     "iopub.status.busy": "2024-02-24T15:30:11.349454Z",
     "iopub.status.idle": "2024-02-24T15:30:11.420545Z",
     "shell.execute_reply": "2024-02-24T15:30:11.420343Z"
    }
   },
   "outputs": [
    {
     "data": {
      "image/png": "[encoded data removed]",
      "text/plain": [
       "<Figure size 640x480 with 1 Axes>"
      ]
     },
     "metadata": {},
     "output_type": "display_data"
    }
   ],
   "source": [
    "df = pd.read_csv(\"microUCBAdmissions.csv\")\n",
    "admission_gender = pd.crosstab(df[\"Gender\"], df[\"Major\"], margins=True)\n",
    "ax = admission_gender.loc[\"All\",\"A\":\"F\"].plot.bar()\n",
    "ax.set_xlabel(\"Department\")\n",
    "ax.set_ylabel(\"Applicants\")\n",
    "plt.show()"
   ]
  },
  {
   "cell_type": "markdown",
   "id": "866d0360",
   "metadata": {},
   "source": [
    " Sort the bars by number of applicants"
   ]
  },
  {
   "cell_type": "code",
   "execution_count": 27,
   "id": "05db0f7a",
   "metadata": {
    "execution": {
     "iopub.execute_input": "2024-02-24T15:30:11.421731Z",
     "iopub.status.busy": "2024-02-24T15:30:11.421653Z",
     "iopub.status.idle": "2024-02-24T15:30:11.459802Z",
     "shell.execute_reply": "2024-02-24T15:30:11.459603Z"
    }
   },
   "outputs": [
    {
     "data": {
      "image/png": "[encoded data removed]",
      "text/plain": [
       "<Figure size 640x480 with 1 Axes>"
      ]
     },
     "metadata": {},
     "output_type": "display_data"
    }
   ],
   "source": [
    "admission_gender = admission_gender.sort_values('All', axis=1, ascending=False)\n",
    "ax = admission_gender.iloc[-1, 1:].plot.bar()\n",
    "ax.set_xlabel(\"Department\")\n",
    "ax.set_ylabel(\"Applicants\")\n",
    "plt.show()"
   ]
  },
  {
   "cell_type": "markdown",
   "id": "36d0c4eb",
   "metadata": {},
   "source": [
    "# Box Plots"
   ]
  },
  {
   "cell_type": "code",
   "execution_count": 28,
   "id": "a82a3240",
   "metadata": {
    "execution": {
     "iopub.execute_input": "2024-02-24T15:30:11.461042Z",
     "iopub.status.busy": "2024-02-24T15:30:11.460965Z",
     "iopub.status.idle": "2024-02-24T15:30:11.518081Z",
     "shell.execute_reply": "2024-02-24T15:30:11.517850Z"
    }
   },
   "outputs": [
    {
     "data": {
      "image/png": "[encoded data removed]",
      "text/plain": [
       "<Figure size 640x480 with 1 Axes>"
      ]
     },
     "metadata": {},
     "output_type": "display_data"
    }
   ],
   "source": [
    "hospital_sizes = pd.read_csv('hospitalsizes.csv')\n",
    "ax = hospital_sizes['size'].plot.box()\n",
    "ax.set_ylabel('Hospital size')\n",
    "plt.show()"
   ]
  },
  {
   "cell_type": "code",
   "execution_count": 29,
   "id": "4f0330c1",
   "metadata": {
    "execution": {
     "iopub.execute_input": "2024-02-24T15:30:11.519452Z",
     "iopub.status.busy": "2024-02-24T15:30:11.519374Z",
     "iopub.status.idle": "2024-02-24T15:30:11.522173Z",
     "shell.execute_reply": "2024-02-24T15:30:11.521980Z"
    }
   },
   "outputs": [
    {
     "name": "stdout",
     "output_type": "stream",
     "text": [
      "25-75: [99.0 351.5]\n",
      "IQR: 252.5\n",
      "Median: 189.0\n",
      "Whiskers: 50  604\n"
     ]
    }
   ],
   "source": [
    "q = np.quantile(hospital_sizes[\"size\"], q=[0.25, 0.5, 0.75])\n",
    "iqr = q[2] - q[0]\n",
    "print(f\"25-75: [{q[0]} {q[2]}]\")\n",
    "print(f\"IQR: {iqr}\")\n",
    "print(f\"Median: {q[1]}\")\n",
    "sizes = hospital_sizes[\"size\"]\n",
    "whisker_min = sizes[sizes > q[0] - 1.5*iqr].min()\n",
    "whisker_max = sizes[sizes < q[2] + 1.5*iqr].max()\n",
    "print(f\"Whiskers: {whisker_min}  {whisker_max}\")"
   ]
  }
 ],
 "metadata": {
  "language_info": {
   "codemirror_mode": {
    "name": "ipython",
    "version": 3
   },
   "file_extension": ".py",
   "mimetype": "text/x-python",
   "name": "python",
   "nbconvert_exporter": "python",
   "pygments_lexer": "ipython3",
   "version": "3.11.8"
  }
 },
 "nbformat": 4,
 "nbformat_minor": 5
}
