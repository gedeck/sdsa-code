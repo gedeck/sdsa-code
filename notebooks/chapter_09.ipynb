{
 "cells": [
  {
   "cell_type": "markdown",
   "id": "085dccd1",
   "metadata": {},
   "source": [
    "# Chapter 09 \n",
    " Statistics for Data Science and Analytics<br>\n",
    "by Peter C. Bruce, Peter Gedeck, Janet F. Dobbins\n",
    "\n",
    "Publisher: Wiley; 1st edition (2024) <br>\n",
    "<!-- ISBN-13: 978-3031075650 -->\n",
    "\n",
    "(c) 2024 Peter C. Bruce, Peter Gedeck, Janet F. Dobbins\n",
    "\n",
    "The code needs to be executed in sequence.\n",
    "\n",
    "Python packages and Python itself change over time. This can cause warnings or errors. \n",
    "\"Warnings\" are for information only and can usually be ignored. \n",
    "\"Errors\" will stop execution and need to be fixed in order to get results. \n",
    "\n",
    "If you come across an issue with the code, please follow these steps\n",
    "\n",
    "- Check the repository (https://gedeck.github.io/sdsa-code-solutions/) to see if the code has been upgraded. This might solve the problem.\n",
    "- Report the problem using the issue tracker at https://github.com/gedeck/sdsa-code-solutions/issues\n",
    "- Paste the error message into Google and see if someone else already found a solution"
   ]
  },
  {
   "cell_type": "markdown",
   "id": "ca6f0681",
   "metadata": {},
   "source": [
    " Load required packages"
   ]
  },
  {
   "cell_type": "code",
   "execution_count": 2,
   "id": "bbbff143",
   "metadata": {
    "execution": {
     "iopub.execute_input": "2024-02-24T15:13:45.934822Z",
     "iopub.status.busy": "2024-02-24T15:13:45.934679Z",
     "iopub.status.idle": "2024-02-24T15:13:46.577630Z",
     "shell.execute_reply": "2024-02-24T15:13:46.576896Z"
    }
   },
   "outputs": [],
   "source": [
    "import random\n",
    "import matplotlib.pyplot as plt\n",
    "import pandas as pd\n",
    "import numpy as np\n",
    "from scipy import stats"
   ]
  },
  {
   "cell_type": "markdown",
   "id": "2fadcd62",
   "metadata": {},
   "source": [
    " Example: Delta Wire"
   ]
  },
  {
   "cell_type": "markdown",
   "id": "ccc8b9d4",
   "metadata": {},
   "source": [
    " Prepare data"
   ]
  },
  {
   "cell_type": "code",
   "execution_count": 3,
   "id": "bceda111",
   "metadata": {
    "execution": {
     "iopub.execute_input": "2024-02-24T15:13:46.579454Z",
     "iopub.status.busy": "2024-02-24T15:13:46.579277Z",
     "iopub.status.idle": "2024-02-24T15:13:46.585063Z",
     "shell.execute_reply": "2024-02-24T15:13:46.584855Z"
    }
   },
   "outputs": [
    {
     "data": {
      "text/html": [
       "<div>\n",
       "<style scoped>\n",
       "    .dataframe tbody tr th:only-of-type {\n",
       "        vertical-align: middle;\n",
       "    }\n",
       "\n",
       "    .dataframe tbody tr th {\n",
       "        vertical-align: top;\n",
       "    }\n",
       "\n",
       "    .dataframe thead th {\n",
       "        text-align: right;\n",
       "    }\n",
       "</style>\n",
       "<table border=\"1\" class=\"dataframe\">\n",
       "  <thead>\n",
       "    <tr style=\"text-align: right;\">\n",
       "      <th></th>\n",
       "      <th>training</th>\n",
       "      <th>productivity</th>\n",
       "    </tr>\n",
       "  </thead>\n",
       "  <tbody>\n",
       "    <tr>\n",
       "      <th>0</th>\n",
       "      <td>0</td>\n",
       "      <td>70000</td>\n",
       "    </tr>\n",
       "    <tr>\n",
       "      <th>1</th>\n",
       "      <td>100</td>\n",
       "      <td>70350</td>\n",
       "    </tr>\n",
       "    <tr>\n",
       "      <th>2</th>\n",
       "      <td>250</td>\n",
       "      <td>70500</td>\n",
       "    </tr>\n",
       "    <tr>\n",
       "      <th>3</th>\n",
       "      <td>375</td>\n",
       "      <td>72600</td>\n",
       "    </tr>\n",
       "    <tr>\n",
       "      <th>4</th>\n",
       "      <td>525</td>\n",
       "      <td>74000</td>\n",
       "    </tr>\n",
       "    <tr>\n",
       "      <th>5</th>\n",
       "      <td>750</td>\n",
       "      <td>76500</td>\n",
       "    </tr>\n",
       "    <tr>\n",
       "      <th>6</th>\n",
       "      <td>875</td>\n",
       "      <td>77000</td>\n",
       "    </tr>\n",
       "    <tr>\n",
       "      <th>7</th>\n",
       "      <td>1100</td>\n",
       "      <td>77400</td>\n",
       "    </tr>\n",
       "    <tr>\n",
       "      <th>8</th>\n",
       "      <td>1300</td>\n",
       "      <td>77900</td>\n",
       "    </tr>\n",
       "    <tr>\n",
       "      <th>9</th>\n",
       "      <td>1450</td>\n",
       "      <td>77200</td>\n",
       "    </tr>\n",
       "    <tr>\n",
       "      <th>10</th>\n",
       "      <td>1660</td>\n",
       "      <td>78900</td>\n",
       "    </tr>\n",
       "    <tr>\n",
       "      <th>11</th>\n",
       "      <td>1900</td>\n",
       "      <td>81000</td>\n",
       "    </tr>\n",
       "    <tr>\n",
       "      <th>12</th>\n",
       "      <td>2300</td>\n",
       "      <td>82500</td>\n",
       "    </tr>\n",
       "    <tr>\n",
       "      <th>13</th>\n",
       "      <td>2600</td>\n",
       "      <td>84000</td>\n",
       "    </tr>\n",
       "    <tr>\n",
       "      <th>14</th>\n",
       "      <td>2850</td>\n",
       "      <td>86500</td>\n",
       "    </tr>\n",
       "    <tr>\n",
       "      <th>15</th>\n",
       "      <td>3150</td>\n",
       "      <td>87000</td>\n",
       "    </tr>\n",
       "    <tr>\n",
       "      <th>16</th>\n",
       "      <td>3500</td>\n",
       "      <td>88600</td>\n",
       "    </tr>\n",
       "    <tr>\n",
       "      <th>17</th>\n",
       "      <td>4000</td>\n",
       "      <td>90000</td>\n",
       "    </tr>\n",
       "  </tbody>\n",
       "</table>\n",
       "</div>"
      ],
      "text/plain": [
       "    training  productivity\n",
       "0          0         70000\n",
       "1        100         70350\n",
       "2        250         70500\n",
       "3        375         72600\n",
       "4        525         74000\n",
       "5        750         76500\n",
       "6        875         77000\n",
       "7       1100         77400\n",
       "8       1300         77900\n",
       "9       1450         77200\n",
       "10      1660         78900\n",
       "11      1900         81000\n",
       "12      2300         82500\n",
       "13      2600         84000\n",
       "14      2850         86500\n",
       "15      3150         87000\n",
       "16      3500         88600\n",
       "17      4000         90000"
      ]
     },
     "execution_count": 3,
     "metadata": {},
     "output_type": "execute_result"
    }
   ],
   "source": [
    "delta_wire = pd.DataFrame({\n",
    "    \"training\": [0, 100, 250, 375, 525, 750, 875, 1100, 1300, 1450, 1660, 1900, 2300, 2600,\n",
    "                 2850, 3150, 3500, 4000],\n",
    "    \"productivity\": [70_000, 70_350, 70_500, 72_600, 74_000, 76_500, 77_000, 77_400, 77_900,\n",
    "                     77_200, 78_900, 81_000, 82_500, 84_000, 86_500, 87_000, 88_600, 90_000],\n",
    "})\n",
    "delta_wire"
   ]
  },
  {
   "cell_type": "code",
   "execution_count": 4,
   "id": "d7e81639",
   "metadata": {
    "execution": {
     "iopub.execute_input": "2024-02-24T15:13:46.586210Z",
     "iopub.status.busy": "2024-02-24T15:13:46.586136Z",
     "iopub.status.idle": "2024-02-24T15:13:46.799320Z",
     "shell.execute_reply": "2024-02-24T15:13:46.796893Z"
    }
   },
   "outputs": [
    {
     "data": {
      "image/png": "[encoded data removed]",
      "text/plain": [
       "<Figure size 600x400 with 1 Axes>"
      ]
     },
     "metadata": {},
     "output_type": "display_data"
    }
   ],
   "source": [
    "fig, ax = plt.subplots(figsize=(6,4))\n",
    "delta_wire.plot.scatter(x=\"training\", y=\"productivity\", ax=ax)\n",
    "ax.set_xlabel(\"Training (hours)\")\n",
    "ax.set_ylabel(\"Productivity (pounds per week)\")\n",
    "plt.show()"
   ]
  },
  {
   "cell_type": "markdown",
   "id": "412640d0",
   "metadata": {},
   "source": [
    "# Example: PEFR vs cotton dust"
   ]
  },
  {
   "cell_type": "markdown",
   "id": "a1ff76ed",
   "metadata": {},
   "source": [
    " Load data"
   ]
  },
  {
   "cell_type": "code",
   "execution_count": 5,
   "id": "60be0c89",
   "metadata": {
    "execution": {
     "iopub.execute_input": "2024-02-24T15:13:46.802556Z",
     "iopub.status.busy": "2024-02-24T15:13:46.802333Z",
     "iopub.status.idle": "2024-02-24T15:13:46.811861Z",
     "shell.execute_reply": "2024-02-24T15:13:46.811362Z"
    }
   },
   "outputs": [
    {
     "data": {
      "text/html": [
       "<div>\n",
       "<style scoped>\n",
       "    .dataframe tbody tr th:only-of-type {\n",
       "        vertical-align: middle;\n",
       "    }\n",
       "\n",
       "    .dataframe tbody tr th {\n",
       "        vertical-align: top;\n",
       "    }\n",
       "\n",
       "    .dataframe thead th {\n",
       "        text-align: right;\n",
       "    }\n",
       "</style>\n",
       "<table border=\"1\" class=\"dataframe\">\n",
       "  <thead>\n",
       "    <tr style=\"text-align: right;\">\n",
       "      <th></th>\n",
       "      <th>exposure</th>\n",
       "      <th>pefr</th>\n",
       "    </tr>\n",
       "  </thead>\n",
       "  <tbody>\n",
       "    <tr>\n",
       "      <th>0</th>\n",
       "      <td>0</td>\n",
       "      <td>390</td>\n",
       "    </tr>\n",
       "    <tr>\n",
       "      <th>1</th>\n",
       "      <td>0</td>\n",
       "      <td>410</td>\n",
       "    </tr>\n",
       "    <tr>\n",
       "      <th>2</th>\n",
       "      <td>0</td>\n",
       "      <td>430</td>\n",
       "    </tr>\n",
       "    <tr>\n",
       "      <th>3</th>\n",
       "      <td>0</td>\n",
       "      <td>460</td>\n",
       "    </tr>\n",
       "    <tr>\n",
       "      <th>4</th>\n",
       "      <td>1</td>\n",
       "      <td>420</td>\n",
       "    </tr>\n",
       "    <tr>\n",
       "      <th>...</th>\n",
       "      <td>...</td>\n",
       "      <td>...</td>\n",
       "    </tr>\n",
       "    <tr>\n",
       "      <th>117</th>\n",
       "      <td>22</td>\n",
       "      <td>450</td>\n",
       "    </tr>\n",
       "    <tr>\n",
       "      <th>118</th>\n",
       "      <td>22</td>\n",
       "      <td>490</td>\n",
       "    </tr>\n",
       "    <tr>\n",
       "      <th>119</th>\n",
       "      <td>22</td>\n",
       "      <td>500</td>\n",
       "    </tr>\n",
       "    <tr>\n",
       "      <th>120</th>\n",
       "      <td>23</td>\n",
       "      <td>370</td>\n",
       "    </tr>\n",
       "    <tr>\n",
       "      <th>121</th>\n",
       "      <td>23</td>\n",
       "      <td>390</td>\n",
       "    </tr>\n",
       "  </tbody>\n",
       "</table>\n",
       "<p>122 rows × 2 columns</p>\n",
       "</div>"
      ],
      "text/plain": [
       "     exposure  pefr\n",
       "0           0   390\n",
       "1           0   410\n",
       "2           0   430\n",
       "3           0   460\n",
       "4           1   420\n",
       "..        ...   ...\n",
       "117        22   450\n",
       "118        22   490\n",
       "119        22   500\n",
       "120        23   370\n",
       "121        23   390\n",
       "\n",
       "[122 rows x 2 columns]"
      ]
     },
     "execution_count": 5,
     "metadata": {},
     "output_type": "execute_result"
    }
   ],
   "source": [
    "pefr = pd.read_csv(\"pefr.txt\", sep=\"\\t\")\n",
    "pefr"
   ]
  },
  {
   "cell_type": "code",
   "execution_count": 6,
   "id": "38389201",
   "metadata": {
    "execution": {
     "iopub.execute_input": "2024-02-24T15:13:46.814621Z",
     "iopub.status.busy": "2024-02-24T15:13:46.814431Z",
     "iopub.status.idle": "2024-02-24T15:13:46.914959Z",
     "shell.execute_reply": "2024-02-24T15:13:46.914684Z"
    }
   },
   "outputs": [
    {
     "data": {
      "image/png": "[encoded data removed]",
      "text/plain": [
       "<Figure size 600x400 with 1 Axes>"
      ]
     },
     "metadata": {},
     "output_type": "display_data"
    }
   ],
   "source": [
    "fig, ax = plt.subplots(figsize=(6,4))\n",
    "pefr.plot.scatter(x=\"exposure\", y=\"pefr\", ax=ax)\n",
    "ax.set_xlabel(\"Exposure\")\n",
    "ax.set_ylabel(\"PEFR\")\n",
    "plt.show()"
   ]
  },
  {
   "cell_type": "markdown",
   "id": "a7965c7b",
   "metadata": {},
   "source": [
    "# Example: Baseball payroll"
   ]
  },
  {
   "cell_type": "code",
   "execution_count": 7,
   "id": "66a66366",
   "metadata": {
    "execution": {
     "iopub.execute_input": "2024-02-24T15:13:46.916265Z",
     "iopub.status.busy": "2024-02-24T15:13:46.916187Z",
     "iopub.status.idle": "2024-02-24T15:13:46.919798Z",
     "shell.execute_reply": "2024-02-24T15:13:46.919575Z"
    }
   },
   "outputs": [
    {
     "data": {
      "text/html": [
       "<div>\n",
       "<style scoped>\n",
       "    .dataframe tbody tr th:only-of-type {\n",
       "        vertical-align: middle;\n",
       "    }\n",
       "\n",
       "    .dataframe tbody tr th {\n",
       "        vertical-align: top;\n",
       "    }\n",
       "\n",
       "    .dataframe thead th {\n",
       "        text-align: right;\n",
       "    }\n",
       "</style>\n",
       "<table border=\"1\" class=\"dataframe\">\n",
       "  <thead>\n",
       "    <tr style=\"text-align: right;\">\n",
       "      <th></th>\n",
       "      <th>Team Name</th>\n",
       "      <th>Average Payroll (Million)</th>\n",
       "      <th>Total Wins</th>\n",
       "    </tr>\n",
       "  </thead>\n",
       "  <tbody>\n",
       "    <tr>\n",
       "      <th>0</th>\n",
       "      <td>Yankees</td>\n",
       "      <td>216.10</td>\n",
       "      <td>279</td>\n",
       "    </tr>\n",
       "    <tr>\n",
       "      <th>1</th>\n",
       "      <td>Red Sox</td>\n",
       "      <td>146.66</td>\n",
       "      <td>276</td>\n",
       "    </tr>\n",
       "    <tr>\n",
       "      <th>2</th>\n",
       "      <td>Mets</td>\n",
       "      <td>127.40</td>\n",
       "      <td>273</td>\n",
       "    </tr>\n",
       "    <tr>\n",
       "      <th>3</th>\n",
       "      <td>Dodgers</td>\n",
       "      <td>119.57</td>\n",
       "      <td>254</td>\n",
       "    </tr>\n",
       "    <tr>\n",
       "      <th>4</th>\n",
       "      <td>Cubs</td>\n",
       "      <td>115.16</td>\n",
       "      <td>248</td>\n",
       "    </tr>\n",
       "  </tbody>\n",
       "</table>\n",
       "</div>"
      ],
      "text/plain": [
       "  Team Name  Average Payroll (Million)  Total Wins\n",
       "0   Yankees                     216.10         279\n",
       "1   Red Sox                     146.66         276\n",
       "2      Mets                     127.40         273\n",
       "3   Dodgers                     119.57         254\n",
       "4      Cubs                     115.16         248"
      ]
     },
     "execution_count": 7,
     "metadata": {},
     "output_type": "execute_result"
    }
   ],
   "source": [
    "baseball = pd.read_csv(\"baseball_payroll.csv\")\n",
    "baseball.head()"
   ]
  },
  {
   "cell_type": "markdown",
   "id": "ef4c7e33",
   "metadata": {},
   "source": [
    " Visualize using a scatterplot"
   ]
  },
  {
   "cell_type": "code",
   "execution_count": 8,
   "id": "b5a78800",
   "metadata": {
    "execution": {
     "iopub.execute_input": "2024-02-24T15:13:46.920965Z",
     "iopub.status.busy": "2024-02-24T15:13:46.920884Z",
     "iopub.status.idle": "2024-02-24T15:13:47.033866Z",
     "shell.execute_reply": "2024-02-24T15:13:47.033629Z"
    }
   },
   "outputs": [
    {
     "data": {
      "image/png": "[encoded data removed]",
      "text/plain": [
       "<Figure size 600x400 with 1 Axes>"
      ]
     },
     "metadata": {},
     "output_type": "display_data"
    }
   ],
   "source": [
    "fig, ax = plt.subplots(figsize=(6, 4))\n",
    "baseball.plot.scatter(x=\"Average Payroll (Million)\", y=\"Total Wins\", ax=ax)\n",
    "ax.set_xlabel(\"Average Payroll (Million)\")\n",
    "ax.set_ylabel(\"Total Wins\")\n",
    "plt.show()"
   ]
  },
  {
   "cell_type": "markdown",
   "id": "4b91f81c",
   "metadata": {},
   "source": [
    " Calculate the vector product sum"
   ]
  },
  {
   "cell_type": "code",
   "execution_count": 9,
   "id": "ba0787f6",
   "metadata": {
    "execution": {
     "iopub.execute_input": "2024-02-24T15:13:47.035242Z",
     "iopub.status.busy": "2024-02-24T15:13:47.035163Z",
     "iopub.status.idle": "2024-02-24T15:13:47.037256Z",
     "shell.execute_reply": "2024-02-24T15:13:47.037024Z"
    }
   },
   "outputs": [
    {
     "name": "stdout",
     "output_type": "stream",
     "text": [
      "668620.0\n"
     ]
    }
   ],
   "source": [
    "product_sum = np.sum(baseball[\"Average Payroll (Million)\"] * baseball[\"Total Wins\"])\n",
    "print(product_sum.round(0))"
   ]
  },
  {
   "cell_type": "markdown",
   "id": "34c561b3",
   "metadata": {},
   "source": [
    " Implement resampling procedure"
   ]
  },
  {
   "cell_type": "code",
   "execution_count": 10,
   "id": "86e4a75a",
   "metadata": {
    "execution": {
     "iopub.execute_input": "2024-02-24T15:13:47.038484Z",
     "iopub.status.busy": "2024-02-24T15:13:47.038412Z",
     "iopub.status.idle": "2024-02-24T15:13:47.047407Z",
     "shell.execute_reply": "2024-02-24T15:13:47.047180Z"
    }
   },
   "outputs": [
    {
     "name": "stdout",
     "output_type": "stream",
     "text": [
      "count above = 0\n",
      "p-value = 0.0\n",
      "95% CI = [645987.156 662111.056]\n"
     ]
    }
   ],
   "source": [
    "rng = np.random.default_rng(seed=123)\n",
    "vector_1 = list(baseball[\"Average Payroll (Million)\"])\n",
    "vector_2 = list(baseball[\"Total Wins\"])\n",
    "product_sums = []\n",
    "for _ in range(1000):\n",
    "    rng.shuffle(vector_2)\n",
    "    product_sums.append(np.sum(np.array(vector_1) * np.array(vector_2)))\n",
    "product_sums = np.array(product_sums)\n",
    "count_above = np.sum(product_sums >= product_sum)\n",
    "p_value = count_above / len(product_sums)\n",
    "ci_interval = np.percentile(product_sums, [2.5, 97.5])\n",
    "print(\"count above =\", count_above)\n",
    "print(\"p-value =\", p_value)\n",
    "print(\"95% CI =\", ci_interval)"
   ]
  },
  {
   "cell_type": "markdown",
   "id": "cf9b8e52",
   "metadata": {},
   "source": [
    " Create histogram of shuffled product sums"
   ]
  },
  {
   "cell_type": "code",
   "execution_count": 11,
   "id": "ab176f5d",
   "metadata": {
    "execution": {
     "iopub.execute_input": "2024-02-24T15:13:47.048890Z",
     "iopub.status.busy": "2024-02-24T15:13:47.048805Z",
     "iopub.status.idle": "2024-02-24T15:13:47.125807Z",
     "shell.execute_reply": "2024-02-24T15:13:47.125595Z"
    }
   },
   "outputs": [
    {
     "data": {
      "image/png": "[encoded data removed]",
      "text/plain": [
       "<Figure size 800x400 with 1 Axes>"
      ]
     },
     "metadata": {},
     "output_type": "display_data"
    }
   ],
   "source": [
    "fig, ax = plt.subplots(figsize=(8, 4))\n",
    "ax.hist(product_sums / 1000, bins=20)\n",
    "ax.axvline(product_sum / 1000, color=\"grey\", linestyle=\"--\")\n",
    "ax.set_xlabel(\"Product sum (000)\")\n",
    "ax.set_ylabel(\"Frequency\")\n",
    "plt.show()"
   ]
  },
  {
   "cell_type": "markdown",
   "id": "e4540981",
   "metadata": {},
   "source": [
    "# Example: dating site"
   ]
  },
  {
   "cell_type": "markdown",
   "id": "08def8a1",
   "metadata": {},
   "source": [
    " Prepare data"
   ]
  },
  {
   "cell_type": "code",
   "execution_count": 12,
   "id": "71c3cd32",
   "metadata": {
    "execution": {
     "iopub.execute_input": "2024-02-24T15:13:47.127096Z",
     "iopub.status.busy": "2024-02-24T15:13:47.127016Z",
     "iopub.status.idle": "2024-02-24T15:13:47.130376Z",
     "shell.execute_reply": "2024-02-24T15:13:47.130174Z"
    }
   },
   "outputs": [
    {
     "data": {
      "text/html": [
       "<div>\n",
       "<style scoped>\n",
       "    .dataframe tbody tr th:only-of-type {\n",
       "        vertical-align: middle;\n",
       "    }\n",
       "\n",
       "    .dataframe tbody tr th {\n",
       "        vertical-align: top;\n",
       "    }\n",
       "\n",
       "    .dataframe thead th {\n",
       "        text-align: right;\n",
       "    }\n",
       "</style>\n",
       "<table border=\"1\" class=\"dataframe\">\n",
       "  <thead>\n",
       "    <tr style=\"text-align: right;\">\n",
       "      <th></th>\n",
       "      <th>time spent</th>\n",
       "      <th>satisfaction</th>\n",
       "    </tr>\n",
       "  </thead>\n",
       "  <tbody>\n",
       "    <tr>\n",
       "      <th>0</th>\n",
       "      <td>10.1</td>\n",
       "      <td>2</td>\n",
       "    </tr>\n",
       "    <tr>\n",
       "      <th>1</th>\n",
       "      <td>67.3</td>\n",
       "      <td>7</td>\n",
       "    </tr>\n",
       "    <tr>\n",
       "      <th>2</th>\n",
       "      <td>34.0</td>\n",
       "      <td>2</td>\n",
       "    </tr>\n",
       "    <tr>\n",
       "      <th>3</th>\n",
       "      <td>2.9</td>\n",
       "      <td>1</td>\n",
       "    </tr>\n",
       "    <tr>\n",
       "      <th>4</th>\n",
       "      <td>126.3</td>\n",
       "      <td>9</td>\n",
       "    </tr>\n",
       "    <tr>\n",
       "      <th>5</th>\n",
       "      <td>39.0</td>\n",
       "      <td>8</td>\n",
       "    </tr>\n",
       "    <tr>\n",
       "      <th>6</th>\n",
       "      <td>4.6</td>\n",
       "      <td>1</td>\n",
       "    </tr>\n",
       "    <tr>\n",
       "      <th>7</th>\n",
       "      <td>211.3</td>\n",
       "      <td>6</td>\n",
       "    </tr>\n",
       "  </tbody>\n",
       "</table>\n",
       "</div>"
      ],
      "text/plain": [
       "   time spent  satisfaction\n",
       "0        10.1             2\n",
       "1        67.3             7\n",
       "2        34.0             2\n",
       "3         2.9             1\n",
       "4       126.3             9\n",
       "5        39.0             8\n",
       "6         4.6             1\n",
       "7       211.3             6"
      ]
     },
     "execution_count": 12,
     "metadata": {},
     "output_type": "execute_result"
    }
   ],
   "source": [
    "time_spent = [10.1, 67.3, 34.0, 2.9, 126.3, 39.0, 4.6, 211.3]\n",
    "satisfaction = [2, 7, 2, 1, 9, 8, 1, 6]\n",
    "data = pd.DataFrame({\n",
    "    \"time spent\": time_spent,\n",
    "    \"satisfaction\": satisfaction,\n",
    "})\n",
    "data"
   ]
  },
  {
   "cell_type": "markdown",
   "id": "19de9a29",
   "metadata": {},
   "source": [
    " Resampling procedure for vector sums"
   ]
  },
  {
   "cell_type": "code",
   "execution_count": 13,
   "id": "37ddf16e",
   "metadata": {
    "execution": {
     "iopub.execute_input": "2024-02-24T15:13:47.131891Z",
     "iopub.status.busy": "2024-02-24T15:13:47.131807Z",
     "iopub.status.idle": "2024-02-24T15:13:47.140299Z",
     "shell.execute_reply": "2024-02-24T15:13:47.140101Z"
    }
   },
   "outputs": [
    {
     "name": "stdout",
     "output_type": "stream",
     "text": [
      "count above = 59\n",
      "p-value = 0.059\n",
      "95% CI = [1115.46 3399.8 ]\n"
     ]
    }
   ],
   "source": [
    "random.seed(123)\n",
    "\n",
    "def vector_sum(x, y):\n",
    "    return np.sum(np.array(x) * np.array(y))\n",
    "observed = vector_sum(time_spent, satisfaction)\n",
    "resampled = []\n",
    "for _ in range(1000):\n",
    "    random.shuffle(satisfaction)\n",
    "    resampled.append(vector_sum(time_spent, satisfaction))\n",
    "resampled = np.array(resampled)\n",
    "count_above = np.sum(resampled >= observed)\n",
    "p_value = count_above / len(resampled)\n",
    "ci_interval = np.percentile(resampled, [2.5, 97.5])\n",
    "print(\"count above =\", count_above)\n",
    "print(\"p-value =\", p_value)\n",
    "print(\"95% CI =\", ci_interval)"
   ]
  },
  {
   "cell_type": "markdown",
   "id": "c09f465b",
   "metadata": {},
   "source": [
    " Create histogram of shuffled product sums"
   ]
  },
  {
   "cell_type": "code",
   "execution_count": 14,
   "id": "b19c649b",
   "metadata": {
    "execution": {
     "iopub.execute_input": "2024-02-24T15:13:47.141553Z",
     "iopub.status.busy": "2024-02-24T15:13:47.141483Z",
     "iopub.status.idle": "2024-02-24T15:13:47.188239Z",
     "shell.execute_reply": "2024-02-24T15:13:47.188029Z"
    }
   },
   "outputs": [
    {
     "data": {
      "image/png": "[encoded data removed]",
      "text/plain": [
       "<Figure size 800x400 with 1 Axes>"
      ]
     },
     "metadata": {},
     "output_type": "display_data"
    }
   ],
   "source": [
    "fig, ax = plt.subplots(figsize=(8, 4))\n",
    "ax.hist(resampled, bins=20)\n",
    "ax.axvline(observed, color=\"grey\", linestyle=\"--\")\n",
    "ax.set_xlabel(\"Product sum\")\n",
    "ax.set_ylabel(\"Frequency\")\n",
    "plt.show()"
   ]
  },
  {
   "cell_type": "markdown",
   "id": "30cd8303",
   "metadata": {},
   "source": [
    "# Correlation Coefficient"
   ]
  },
  {
   "cell_type": "markdown",
   "id": "88c14b9f",
   "metadata": {},
   "source": [
    " Calculate correlation coefficient (custom function)"
   ]
  },
  {
   "cell_type": "code",
   "execution_count": 15,
   "id": "d020880d",
   "metadata": {
    "execution": {
     "iopub.execute_input": "2024-02-24T15:13:47.189685Z",
     "iopub.status.busy": "2024-02-24T15:13:47.189614Z",
     "iopub.status.idle": "2024-02-24T15:13:47.192629Z",
     "shell.execute_reply": "2024-02-24T15:13:47.192434Z"
    }
   },
   "outputs": [
    {
     "name": "stdout",
     "output_type": "stream",
     "text": [
      "0.6334573297712216\n",
      "-0.2770217010684071\n",
      "0.9881351391810904\n"
     ]
    }
   ],
   "source": [
    "def correlation_coefficient(x, y):\n",
    "    x_bar = np.mean(x)\n",
    "    y_bar = np.mean(y)\n",
    "    x_sd = np.std(x, ddof=1)\n",
    "    y_sd = np.std(y, ddof=1)\n",
    "    return np.sum((x - x_bar) * (y - y_bar)) / ((len(x) - 1) * x_sd * y_sd)\n",
    "print(correlation_coefficient(baseball[\"Average Payroll (Million)\"], baseball[\"Total Wins\"]))\n",
    "print(correlation_coefficient(pefr[\"pefr\"], pefr[\"exposure\"]))\n",
    "print(correlation_coefficient(delta_wire[\"training\"], delta_wire[\"productivity\"]))"
   ]
  },
  {
   "cell_type": "markdown",
   "id": "50727ada",
   "metadata": {},
   "source": [
    " Calculate using pandas"
   ]
  },
  {
   "cell_type": "code",
   "execution_count": 16,
   "id": "587c9cae",
   "metadata": {
    "execution": {
     "iopub.execute_input": "2024-02-24T15:13:47.193915Z",
     "iopub.status.busy": "2024-02-24T15:13:47.193845Z",
     "iopub.status.idle": "2024-02-24T15:13:47.196106Z",
     "shell.execute_reply": "2024-02-24T15:13:47.195926Z"
    }
   },
   "outputs": [
    {
     "name": "stdout",
     "output_type": "stream",
     "text": [
      "0.6334573297712215\n",
      "-0.2770217010684072\n",
      "0.9881351391810905\n"
     ]
    }
   ],
   "source": [
    "print(baseball[\"Average Payroll (Million)\"].corr(baseball[\"Total Wins\"]))\n",
    "print(pefr[\"pefr\"].corr(pefr[\"exposure\"]))\n",
    "print(delta_wire[\"training\"].corr(delta_wire[\"productivity\"]))"
   ]
  },
  {
   "cell_type": "markdown",
   "id": "6de82a47",
   "metadata": {},
   "source": [
    " Calculate using numpy; numpy creates a matrix of correlation coefficients"
   ]
  },
  {
   "cell_type": "code",
   "execution_count": 17,
   "id": "30e09cd1",
   "metadata": {
    "execution": {
     "iopub.execute_input": "2024-02-24T15:13:47.197273Z",
     "iopub.status.busy": "2024-02-24T15:13:47.197176Z",
     "iopub.status.idle": "2024-02-24T15:13:47.199348Z",
     "shell.execute_reply": "2024-02-24T15:13:47.199173Z"
    }
   },
   "outputs": [
    {
     "name": "stdout",
     "output_type": "stream",
     "text": [
      "0.6334573297712215\n",
      "-0.2770217010684072\n",
      "0.9881351391810905\n"
     ]
    }
   ],
   "source": [
    "print(np.corrcoef(baseball[\"Average Payroll (Million)\"], baseball[\"Total Wins\"])[0, 1])\n",
    "print(np.corrcoef(pefr[\"pefr\"], pefr[\"exposure\"])[0, 1])\n",
    "print(np.corrcoef(delta_wire[\"training\"], delta_wire[\"productivity\"])[0, 1])"
   ]
  },
  {
   "cell_type": "markdown",
   "id": "49758377",
   "metadata": {},
   "source": [
    " Calculate using scipy; scipy returns a tuple of correlation coefficient and p-value"
   ]
  },
  {
   "cell_type": "code",
   "execution_count": 18,
   "id": "f3d07c02",
   "metadata": {
    "execution": {
     "iopub.execute_input": "2024-02-24T15:13:47.200489Z",
     "iopub.status.busy": "2024-02-24T15:13:47.200407Z",
     "iopub.status.idle": "2024-02-24T15:13:47.203321Z",
     "shell.execute_reply": "2024-02-24T15:13:47.203130Z"
    }
   },
   "outputs": [
    {
     "name": "stdout",
     "output_type": "stream",
     "text": [
      "0.6334573297712216\n",
      "-0.2770217010684074\n",
      "0.9881351391810904\n"
     ]
    }
   ],
   "source": [
    "print(stats.pearsonr(baseball[\"Average Payroll (Million)\"], baseball[\"Total Wins\"])[0])\n",
    "print(stats.pearsonr(pefr[\"pefr\"], pefr[\"exposure\"])[0])\n",
    "print(stats.pearsonr(delta_wire[\"training\"], delta_wire[\"productivity\"])[0])"
   ]
  },
  {
   "cell_type": "markdown",
   "id": "29a08429",
   "metadata": {},
   "source": [
    "# Resampling using correlation coefficient"
   ]
  },
  {
   "cell_type": "markdown",
   "id": "38d9f48c",
   "metadata": {},
   "source": [
    " Implement resampling procedure"
   ]
  },
  {
   "cell_type": "code",
   "execution_count": 19,
   "id": "410a2ce7",
   "metadata": {
    "execution": {
     "iopub.execute_input": "2024-02-24T15:13:47.204518Z",
     "iopub.status.busy": "2024-02-24T15:13:47.204432Z",
     "iopub.status.idle": "2024-02-24T15:13:47.229124Z",
     "shell.execute_reply": "2024-02-24T15:13:47.228911Z"
    }
   },
   "outputs": [
    {
     "name": "stdout",
     "output_type": "stream",
     "text": [
      "Observed correlation coefficient:0.63\n",
      "95% confidence interval: [-0.37  0.36]\n",
      "p-value: 0.000\n"
     ]
    }
   ],
   "source": [
    "random.seed(123)\n",
    "vector_1 = list(baseball[\"Average Payroll (Million)\"])\n",
    "vector_2 = list(baseball[\"Total Wins\"])\n",
    "observed = np.corrcoef(vector_1, vector_2)[0, 1]\n",
    "resamples = []\n",
    "for _ in range(1000):\n",
    "    random.shuffle(vector_1)\n",
    "    resamples.append(np.corrcoef(vector_1, vector_2)[0, 1])\n",
    "resamples = np.array(resamples)\n",
    "ci_interval = np.percentile(resamples, [2.5, 97.5])\n",
    "p_value = np.mean(resamples >= observed)\n",
    "print(f\"Observed correlation coefficient:{observed:.2f}\")\n",
    "print(f\"95% confidence interval: {ci_interval.round(2)}\")\n",
    "print(f\"p-value: {p_value:.3f}\")"
   ]
  },
  {
   "cell_type": "markdown",
   "id": "fff079cc",
   "metadata": {},
   "source": [
    " Visualize the resampling distribution"
   ]
  },
  {
   "cell_type": "code",
   "execution_count": 20,
   "id": "cebd21d3",
   "metadata": {
    "execution": {
     "iopub.execute_input": "2024-02-24T15:13:47.230348Z",
     "iopub.status.busy": "2024-02-24T15:13:47.230274Z",
     "iopub.status.idle": "2024-02-24T15:13:47.311358Z",
     "shell.execute_reply": "2024-02-24T15:13:47.311137Z"
    }
   },
   "outputs": [
    {
     "data": {
      "image/png": "[encoded data removed]",
      "text/plain": [
       "<Figure size 800x400 with 1 Axes>"
      ]
     },
     "metadata": {},
     "output_type": "display_data"
    }
   ],
   "source": [
    "fig, ax = plt.subplots(figsize=(8, 4))\n",
    "ax.hist(resamples, bins=20)\n",
    "ax.axvline(observed, color=\"black\", linestyle=\"dashed\")\n",
    "ax.set_xlabel(\"Correlation coefficient\")\n",
    "ax.set_ylabel(\"Frequency\")\n",
    "plt.show()"
   ]
  },
  {
   "cell_type": "markdown",
   "id": "d3f28b6a",
   "metadata": {},
   "source": [
    "# Coincidence"
   ]
  },
  {
   "cell_type": "markdown",
   "id": "9a6c3aca",
   "metadata": {},
   "source": [
    " Prepare the data for 2021; source of data: "
   ]
  },
  {
   "cell_type": "code",
   "execution_count": 21,
   "id": "2e31f311",
   "metadata": {
    "execution": {
     "iopub.execute_input": "2024-02-24T15:13:47.312657Z",
     "iopub.status.busy": "2024-02-24T15:13:47.312562Z",
     "iopub.status.idle": "2024-02-24T15:13:47.315471Z",
     "shell.execute_reply": "2024-02-24T15:13:47.315267Z"
    }
   },
   "outputs": [],
   "source": [
    "data = pd.read_csv(\"state-murder-rate.csv\")\n",
    "subset = data[data[\"YEAR\"] == 2021]\n",
    "subset = subset.sort_values(\"STATE\", ignore_index=True)"
   ]
  },
  {
   "cell_type": "markdown",
   "id": "3e52bca7",
   "metadata": {},
   "source": [
    " Visualize using scatterplot adding trendline"
   ]
  },
  {
   "cell_type": "code",
   "execution_count": 22,
   "id": "bee14045",
   "metadata": {
    "execution": {
     "iopub.execute_input": "2024-02-24T15:13:47.316708Z",
     "iopub.status.busy": "2024-02-24T15:13:47.316639Z",
     "iopub.status.idle": "2024-02-24T15:13:47.391141Z",
     "shell.execute_reply": "2024-02-24T15:13:47.390937Z"
    }
   },
   "outputs": [
    {
     "name": "stdout",
     "output_type": "stream",
     "text": [
      "Correlation coefficient: -0.21\n"
     ]
    },
    {
     "data": {
      "image/png": "[encoded data removed]",
      "text/plain": [
       "<Figure size 600x400 with 1 Axes>"
      ]
     },
     "metadata": {},
     "output_type": "display_data"
    }
   ],
   "source": [
    "# use numpy to calculate a linear fit\n",
    "z = np.polyfit(subset.index, subset[\"RATE\"], 1)\n",
    "p = np.poly1d(z)\n",
    "corrcoef = np.corrcoef(subset.index, subset[\"RATE\"])[0][1]\n",
    "\n",
    "fig, ax = plt.subplots(figsize=(6, 4))\n",
    "ax.scatter(subset.index, subset[\"RATE\"])\n",
    "ax.plot(subset.index, p(subset.index), color=\"black\", linestyle=\"--\")\n",
    "ax.set_xlabel(\"State alphabetical rank\")\n",
    "ax.set_ylabel(\"State murder rate (per 100,000)\")\n",
    "print(f\"Correlation coefficient: {corrcoef:.2f}\")\n",
    "plt.show()"
   ]
  },
  {
   "cell_type": "markdown",
   "id": "a2c07c9d",
   "metadata": {},
   "source": [
    "# Example: Tax rates and revenue (hypothetical)"
   ]
  },
  {
   "cell_type": "markdown",
   "id": "3028b27e",
   "metadata": {},
   "source": [
    " Prepare and visualize data"
   ]
  },
  {
   "cell_type": "code",
   "execution_count": 23,
   "id": "675ccdac",
   "metadata": {
    "execution": {
     "iopub.execute_input": "2024-02-24T15:13:47.392457Z",
     "iopub.status.busy": "2024-02-24T15:13:47.392379Z",
     "iopub.status.idle": "2024-02-24T15:13:47.485134Z",
     "shell.execute_reply": "2024-02-24T15:13:47.484913Z"
    }
   },
   "outputs": [
    {
     "data": {
      "image/png": "[encoded data removed]",
      "text/plain": [
       "<Figure size 600x400 with 1 Axes>"
      ]
     },
     "metadata": {},
     "output_type": "display_data"
    }
   ],
   "source": [
    "data = pd.DataFrame({\n",
    "    \"tax rate\": [0, 10, 20, 30, 40, 50, 60, 70, 80, 90, 100],\n",
    "    \"revenue\": [0, 1.5, 2.75, 3.9, 4, 3.5, 3.4, 3.3, 2.5, 1, 0.5],\n",
    "})\n",
    "fig, ax = plt.subplots(figsize=(6, 4))\n",
    "data.plot(x=\"tax rate\", y=\"revenue\", ax=ax, linestyle=\":\", color=\"grey\")\n",
    "data.plot.scatter(x=\"tax rate\", y=\"revenue\", ax=ax,\n",
    "                  s=40, color=\"black\", legend=False)\n",
    "ax.set_xlabel(\"Tax rate (%)\")\n",
    "ax.set_ylabel(\"Revenue (trillions of dollars)\")\n",
    "plt.show()"
   ]
  }
 ],
 "metadata": {
  "language_info": {
   "codemirror_mode": {
    "name": "ipython",
    "version": 3
   },
   "file_extension": ".py",
   "mimetype": "text/x-python",
   "name": "python",
   "nbconvert_exporter": "python",
   "pygments_lexer": "ipython3",
   "version": "3.11.8"
  }
 },
 "nbformat": 4,
 "nbformat_minor": 5
}
