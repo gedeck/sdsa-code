{
 "cells": [
  {
   "cell_type": "markdown",
   "id": "b50218c7",
   "metadata": {},
   "source": [
    "# Chapter 04 \n",
    " Statistics for Data Science and Analytics<br>\n",
    "by Peter C. Bruce, Peter Gedeck, Janet F. Dobbins\n",
    "\n",
    "Publisher: Wiley; 1st edition (2024) <br>\n",
    "<!-- ISBN-13: 978-3031075650 -->\n",
    "\n",
    "(c) 2024 Peter C. Bruce, Peter Gedeck, Janet F. Dobbins\n",
    "\n",
    "The code needs to be executed in sequence.\n",
    "\n",
    "Python packages and Python itself change over time. This can cause warnings or errors. We\n",
    "\"Warnings\" are for information only and can usually be ignored. \n",
    "\"Errors\" will stop execution and need to be fixed in order to get results. \n",
    "\n",
    "If you come across an issue with the code, please follow these steps\n",
    "\n",
    "- Check the repository (https://gedeck.github.io/sdsa-code-solutions/) to see if the code has been upgraded. This might solve the problem.\n",
    "- Report the problem using the issue tracker at https://github.com/gedeck/sdsa-code-solutions/issues\n",
    "- Paste the error message into Google and see if someone else already found a solution"
   ]
  },
  {
   "cell_type": "markdown",
   "id": "697de6ab",
   "metadata": {},
   "source": [
    " Load required packages"
   ]
  },
  {
   "cell_type": "code",
   "execution_count": 2,
   "id": "da86b550",
   "metadata": {
    "execution": {
     "iopub.execute_input": "2023-07-18T20:37:46.530567Z",
     "iopub.status.busy": "2023-07-18T20:37:46.530012Z",
     "iopub.status.idle": "2023-07-18T20:37:47.094896Z",
     "shell.execute_reply": "2023-07-18T20:37:47.094481Z"
    }
   },
   "outputs": [],
   "source": [
    "import random\n",
    "import matplotlib.pyplot as plt\n",
    "import numpy as np\n",
    "import pandas as pd"
   ]
  },
  {
   "cell_type": "markdown",
   "id": "c157c829",
   "metadata": {},
   "source": [
    "# Permutation Test"
   ]
  },
  {
   "cell_type": "code",
   "execution_count": 3,
   "id": "199250a1",
   "metadata": {
    "execution": {
     "iopub.execute_input": "2023-07-18T20:37:47.098789Z",
     "iopub.status.busy": "2023-07-18T20:37:47.098228Z",
     "iopub.status.idle": "2023-07-18T20:37:47.108421Z",
     "shell.execute_reply": "2023-07-18T20:37:47.108891Z"
    }
   },
   "outputs": [
    {
     "data": {
      "text/html": [
       "<div>\n",
       "<style scoped>\n",
       "    .dataframe tbody tr th:only-of-type {\n",
       "        vertical-align: middle;\n",
       "    }\n",
       "\n",
       "    .dataframe tbody tr th {\n",
       "        vertical-align: top;\n",
       "    }\n",
       "\n",
       "    .dataframe thead th {\n",
       "        text-align: right;\n",
       "    }\n",
       "</style>\n",
       "<table border=\"1\" class=\"dataframe\">\n",
       "  <thead>\n",
       "    <tr style=\"text-align: right;\">\n",
       "      <th></th>\n",
       "      <th>Row</th>\n",
       "      <th>Hospital</th>\n",
       "      <th>Treatment</th>\n",
       "      <th>Reduction</th>\n",
       "    </tr>\n",
       "  </thead>\n",
       "  <tbody>\n",
       "    <tr>\n",
       "      <th>0</th>\n",
       "      <td>1</td>\n",
       "      <td>239</td>\n",
       "      <td>0</td>\n",
       "      <td>3</td>\n",
       "    </tr>\n",
       "    <tr>\n",
       "      <th>1</th>\n",
       "      <td>2</td>\n",
       "      <td>1126</td>\n",
       "      <td>0</td>\n",
       "      <td>1</td>\n",
       "    </tr>\n",
       "    <tr>\n",
       "      <th>2</th>\n",
       "      <td>3</td>\n",
       "      <td>1161</td>\n",
       "      <td>0</td>\n",
       "      <td>2</td>\n",
       "    </tr>\n",
       "    <tr>\n",
       "      <th>3</th>\n",
       "      <td>4</td>\n",
       "      <td>1293</td>\n",
       "      <td>1</td>\n",
       "      <td>2</td>\n",
       "    </tr>\n",
       "    <tr>\n",
       "      <th>4</th>\n",
       "      <td>5</td>\n",
       "      <td>1462</td>\n",
       "      <td>1</td>\n",
       "      <td>2</td>\n",
       "    </tr>\n",
       "  </tbody>\n",
       "</table>\n",
       "</div>"
      ],
      "text/plain": [
       "   Row  Hospital  Treatment  Reduction\n",
       "0    1       239          0          3\n",
       "1    2      1126          0          1\n",
       "2    3      1161          0          2\n",
       "3    4      1293          1          2\n",
       "4    5      1462          1          2"
      ]
     },
     "execution_count": 1,
     "metadata": {},
     "output_type": "execute_result"
    }
   ],
   "source": [
    "data = pd.read_csv(\"hospitalerrors_2.csv\")\n",
    "data.head()"
   ]
  },
  {
   "cell_type": "markdown",
   "id": "ae020ffd",
   "metadata": {},
   "source": [
    " Calculate difference of means for a permuation of the data"
   ]
  },
  {
   "cell_type": "code",
   "execution_count": 4,
   "id": "0344a94a",
   "metadata": {
    "execution": {
     "iopub.execute_input": "2023-07-18T20:37:47.115181Z",
     "iopub.status.busy": "2023-07-18T20:37:47.114616Z",
     "iopub.status.idle": "2023-07-18T20:37:47.117284Z",
     "shell.execute_reply": "2023-07-18T20:37:47.117689Z"
    }
   },
   "outputs": [
    {
     "name": "stdout",
     "output_type": "stream",
     "text": [
      "Difference after reshuffling -0.28\n"
     ]
    }
   ],
   "source": [
    "# set seed for reproducibility\n",
    "random.seed(123)\n",
    "\n",
    "data[\"shuffled\"] = random.sample(list(data[\"Reduction\"]), k=len(data))\n",
    "randomized_means = data.groupby(\"Treatment\")[\"shuffled\"].mean()\n",
    "difference = randomized_means[1] - randomized_means[0]\n",
    "print(f\"Difference after reshuffling {difference:.2f}\")"
   ]
  },
  {
   "cell_type": "markdown",
   "id": "61b10c72",
   "metadata": {},
   "source": [
    " Repeat reshuffling 1000 times."
   ]
  },
  {
   "cell_type": "code",
   "execution_count": 5,
   "id": "d9dcc6ba",
   "metadata": {
    "execution": {
     "iopub.execute_input": "2023-07-18T20:37:47.347326Z",
     "iopub.status.busy": "2023-07-18T20:37:47.168903Z",
     "iopub.status.idle": "2023-07-18T20:37:47.543783Z",
     "shell.execute_reply": "2023-07-18T20:37:47.544206Z"
    }
   },
   "outputs": [
    {
     "name": "stdout",
     "output_type": "stream",
     "text": [
      "Mean difference after reshuffling 0.01\n",
      "Minimum difference -1.08\n",
      "Maximum difference 1.08\n"
     ]
    }
   ],
   "source": [
    "# set seed for reproducibility\n",
    "random.seed(123)\n",
    "\n",
    "# define a function for the resampling experiment\n",
    "def resample_experiment(observation, treatment, repeats):\n",
    "    differences = []\n",
    "    observation = list(observation)\n",
    "    for _ in range(repeats):\n",
    "        # sample from the list without replacement to shuffle the data\n",
    "        shuffled = pd.Series(random.sample(observation, k=len(observation)))\n",
    "        randomized_means = shuffled.groupby(treatment).mean()\n",
    "        difference = randomized_means[1] - randomized_means[0]\n",
    "        differences.append(difference)\n",
    "    return pd.Series(differences)\n",
    "\n",
    "differences = resample_experiment(data[\"Reduction\"], data[\"Treatment\"], 1000)\n",
    "print(f\"Mean difference after reshuffling {np.mean(differences):.2f}\")\n",
    "print(f\"Minimum difference {np.min(differences):.2f}\")\n",
    "print(f\"Maximum difference {np.max(differences):.2f}\")\n",
    "\n",
    "# keep the result of the resampling experiment\n",
    "resamples = {\"repeat 1\": differences}"
   ]
  },
  {
   "cell_type": "markdown",
   "id": "79f88f2c",
   "metadata": {},
   "source": [
    " Plot the distribution of differences"
   ]
  },
  {
   "cell_type": "code",
   "execution_count": 6,
   "id": "e4903afc",
   "metadata": {
    "execution": {
     "iopub.execute_input": "2023-07-18T20:37:47.548931Z",
     "iopub.status.busy": "2023-07-18T20:37:47.548348Z",
     "iopub.status.idle": "2023-07-18T20:37:47.942762Z",
     "shell.execute_reply": "2023-07-18T20:37:47.943122Z"
    }
   },
   "outputs": [
    {
     "data": {
      "image/png": "[encoded data removed]",
      "text/plain": [
       "<Figure size 800x400 with 1 Axes>"
      ]
     },
     "metadata": {},
     "output_type": "display_data"
    }
   ],
   "source": [
    "fig, ax = plt.subplots(figsize=(8, 4))\n",
    "pd.Series(differences).plot.hist(bins=25, ax=ax)\n",
    "ax.set_xlabel(\"Difference in means\")\n",
    "ax.set_ylabel(\"Frequency\")\n",
    "ax.axvline(x=0.92, color=\"grey\")\n",
    "plt.show()"
   ]
  },
  {
   "cell_type": "markdown",
   "id": "60db5c5f",
   "metadata": {},
   "source": [
    " Calculate the probability of getting a difference of 0.92 or more"
   ]
  },
  {
   "cell_type": "code",
   "execution_count": 7,
   "id": "d4f68736",
   "metadata": {
    "execution": {
     "iopub.execute_input": "2023-07-18T20:37:47.948530Z",
     "iopub.status.busy": "2023-07-18T20:37:47.947854Z",
     "iopub.status.idle": "2023-07-18T20:37:47.950717Z",
     "shell.execute_reply": "2023-07-18T20:37:47.951083Z"
    }
   },
   "outputs": [
    {
     "name": "stdout",
     "output_type": "stream",
     "text": [
      "1.08  1.00  0.92  0.92  0.92  0.92  0.92  0.92  0.84  0.84  0.84  0.84  0.84  0.84  0.84  0.84  0.84  0.84  0.84  0.84  0.84  0.76  0.76  0.76  0.76\n"
     ]
    },
    {
     "data": {
      "text/plain": [
       "(8, 0.008)"
      ]
     },
     "execution_count": 1,
     "metadata": {},
     "output_type": "execute_result"
    }
   ],
   "source": [
    "print(\"  \".join([f\"{v:.2f}\" for v in sorted(differences, reverse=True)[:25]]))\n",
    "# we round here to compensate for small differences in floating point numbers\n",
    "sum(differences.round(2) >= 0.92), sum(differences.round(2) >= 0.92) / len(differences)"
   ]
  },
  {
   "cell_type": "markdown",
   "id": "2df43a6c",
   "metadata": {},
   "source": [
    " Repeat permuation experiment with a different random seed"
   ]
  },
  {
   "cell_type": "code",
   "execution_count": 8,
   "id": "15648e58",
   "metadata": {
    "execution": {
     "iopub.execute_input": "2023-07-18T20:37:47.969224Z",
     "iopub.status.busy": "2023-07-18T20:37:47.964297Z",
     "iopub.status.idle": "2023-07-18T20:37:48.393794Z",
     "shell.execute_reply": "2023-07-18T20:37:48.394280Z"
    }
   },
   "outputs": [
    {
     "name": "stdout",
     "output_type": "stream",
     "text": [
      "1.08  1.08  1.08  1.00  1.00  1.00  1.00  1.00  0.92  0.92  0.92  0.92  0.92  0.92  0.92  0.84  0.84  0.84  0.84  0.84  0.84  0.84  0.84  0.84  0.84\n"
     ]
    },
    {
     "data": {
      "text/plain": [
       "(15, 0.015)"
      ]
     },
     "execution_count": 1,
     "metadata": {},
     "output_type": "execute_result"
    }
   ],
   "source": [
    "random.seed(456)\n",
    "differences = resample_experiment(data[\"Reduction\"], data[\"Treatment\"], 1000)\n",
    "resamples[\"repeat 2\"] = differences\n",
    "print(\"  \".join([f\"{v:.2f}\" for v in sorted(differences, reverse=True)[:25]]))\n",
    "sum(differences.round(2) >= 0.92), sum(differences.round(2) >= 0.92) / len(differences)"
   ]
  },
  {
   "cell_type": "markdown",
   "id": "e82177ae",
   "metadata": {},
   "source": [
    " Repeat three more times and display the results"
   ]
  },
  {
   "cell_type": "code",
   "execution_count": 9,
   "id": "0bf00694",
   "metadata": {
    "execution": {
     "iopub.execute_input": "2023-07-18T20:37:48.404684Z",
     "iopub.status.busy": "2023-07-18T20:37:48.404081Z",
     "iopub.status.idle": "2023-07-18T20:37:50.620810Z",
     "shell.execute_reply": "2023-07-18T20:37:50.621238Z"
    }
   },
   "outputs": [
    {
     "data": {
      "image/png": "[encoded data removed]",
      "text/plain": [
       "<Figure size 640x480 with 1 Axes>"
      ]
     },
     "metadata": {},
     "output_type": "display_data"
    }
   ],
   "source": [
    "resamples[\"repeat 3\"] = resample_experiment(data[\"Reduction\"], data[\"Treatment\"], 1000)\n",
    "resamples[\"repeat 4\"] = resample_experiment(data[\"Reduction\"], data[\"Treatment\"], 1000)\n",
    "resamples[\"repeat 5\"] = resample_experiment(data[\"Reduction\"], data[\"Treatment\"], 1000)\n",
    "\n",
    "import seaborn as sns\n",
    "\n",
    "df = pd.DataFrame(resamples)\n",
    "ax = sns.boxplot(data=df, palette=\"colorblind\", notch=True, width=0.5)\n",
    "ax.axhline(0.92, color=\"grey\")\n",
    "plt.show()"
   ]
  },
  {
   "cell_type": "markdown",
   "id": "ef68b256",
   "metadata": {},
   "source": [
    " Calculate the probability of getting a difference of 0.92 or more"
   ]
  },
  {
   "cell_type": "code",
   "execution_count": 10,
   "id": "5b7629f2",
   "metadata": {
    "execution": {
     "iopub.execute_input": "2023-07-18T20:37:50.627052Z",
     "iopub.status.busy": "2023-07-18T20:37:50.626479Z",
     "iopub.status.idle": "2023-07-18T20:37:50.630613Z",
     "shell.execute_reply": "2023-07-18T20:37:50.631131Z"
    }
   },
   "outputs": [
    {
     "data": {
      "text/plain": [
       "0.0136"
      ]
     },
     "execution_count": 1,
     "metadata": {},
     "output_type": "execute_result"
    }
   ],
   "source": [
    "np.sum(np.sum(df.round(2) >= 0.92)) / (1000 * 5)"
   ]
  },
  {
   "cell_type": "markdown",
   "id": "cc72265f",
   "metadata": {},
   "source": [
    "## Increase the number of repeats to estimate the p-value"
   ]
  },
  {
   "cell_type": "code",
   "execution_count": 11,
   "id": "140a514f",
   "metadata": {
    "execution": {
     "iopub.execute_input": "2023-07-18T20:37:50.795816Z",
     "iopub.status.busy": "2023-07-18T20:37:50.679601Z",
     "iopub.status.idle": "2023-07-18T20:37:59.122853Z",
     "shell.execute_reply": "2023-07-18T20:37:59.123193Z"
    }
   },
   "outputs": [
    {
     "name": "stdout",
     "output_type": "stream",
     "text": [
      "p-value: 0.0124\n",
      "Number of permuations greater or equal 0.92: 248\n"
     ]
    }
   ],
   "source": [
    "random.seed(123)\n",
    "differences = resample_experiment(data[\"Reduction\"], data[\"Treatment\"], 20_000)\n",
    "above_threshold = np.sum(differences.round(2) >= 0.92)\n",
    "p_value = above_threshold / len(differences)\n",
    "print(f\"p-value: {p_value:.4f}\")\n",
    "print(f\"Number of permuations greater or equal 0.92: {above_threshold}\")"
   ]
  }
 ],
 "metadata": {
  "language_info": {
   "codemirror_mode": {
    "name": "ipython",
    "version": 3
   },
   "file_extension": ".py",
   "mimetype": "text/x-python",
   "name": "python",
   "nbconvert_exporter": "python",
   "pygments_lexer": "ipython3",
   "version": "3.8.2"
  }
 },
 "nbformat": 4,
 "nbformat_minor": 5
}
