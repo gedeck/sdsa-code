{
 "cells": [
  {
   "cell_type": "markdown",
   "id": "bf2a34cc",
   "metadata": {},
   "source": [
    "# Chapter 06 \n",
    " Statistics for Data Science and Analytics<br>\n",
    "by Peter C. Bruce, Peter Gedeck, Janet F. Dobbins\n",
    "\n",
    "Publisher: Wiley; 1st edition (2024) <br>\n",
    "<!-- ISBN-13: 978-3031075650 -->\n",
    "\n",
    "(c) 2024 Peter C. Bruce, Peter Gedeck, Janet F. Dobbins\n",
    "\n",
    "The code needs to be executed in sequence.\n",
    "\n",
    "Python packages and Python itself change over time. This can cause warnings or errors. We\n",
    "\"Warnings\" are for information only and can usually be ignored. \n",
    "\"Errors\" will stop execution and need to be fixed in order to get results. \n",
    "\n",
    "If you come across an issue with the code, please follow these steps\n",
    "\n",
    "- Check the repository (https://gedeck.github.io/sdsa-code-solutions/) to see if the code has been upgraded. This might solve the problem.\n",
    "- Report the problem using the issue tracker at https://github.com/gedeck/sdsa-code-solutions/issues\n",
    "- Paste the error message into Google and see if someone else already found a solution"
   ]
  },
  {
   "cell_type": "markdown",
   "id": "2f692014",
   "metadata": {},
   "source": [
    " Load required packages"
   ]
  },
  {
   "cell_type": "code",
   "execution_count": 2,
   "id": "b5950e18",
   "metadata": {
    "execution": {
     "iopub.execute_input": "2023-09-03T15:03:54.197949Z",
     "iopub.status.busy": "2023-09-03T15:03:54.197393Z",
     "iopub.status.idle": "2023-09-03T15:03:54.769180Z",
     "shell.execute_reply": "2023-09-03T15:03:54.769592Z"
    }
   },
   "outputs": [],
   "source": [
    "import matplotlib.pyplot as plt\n",
    "import pandas as pd"
   ]
  },
  {
   "cell_type": "markdown",
   "id": "4c7971bd",
   "metadata": {},
   "source": [
    "# Example: College admissions data"
   ]
  },
  {
   "cell_type": "markdown",
   "id": "00e170b9",
   "metadata": {},
   "source": [
    " Load and preprocess the data"
   ]
  },
  {
   "cell_type": "code",
   "execution_count": 3,
   "id": "ca5a1fd7",
   "metadata": {
    "execution": {
     "iopub.execute_input": "2023-09-03T15:03:54.773841Z",
     "iopub.status.busy": "2023-09-03T15:03:54.773173Z",
     "iopub.status.idle": "2023-09-03T15:03:54.783511Z",
     "shell.execute_reply": "2023-09-03T15:03:54.783973Z"
    }
   },
   "outputs": [],
   "source": [
    "df = pd.read_csv(\"berkeley.csv\")\n",
    "df = df[df[\"Major\"] != \"Other\"]"
   ]
  },
  {
   "cell_type": "markdown",
   "id": "7652d2c5",
   "metadata": {},
   "source": [
    " Create a 2 x 2 table"
   ]
  },
  {
   "cell_type": "code",
   "execution_count": 4,
   "id": "cb45ee73",
   "metadata": {
    "execution": {
     "iopub.execute_input": "2023-09-03T15:03:54.789413Z",
     "iopub.status.busy": "2023-09-03T15:03:54.788782Z",
     "iopub.status.idle": "2023-09-03T15:03:54.817538Z",
     "shell.execute_reply": "2023-09-03T15:03:54.818005Z"
    }
   },
   "outputs": [
    {
     "data": {
      "text/html": [
       "<div>\n",
       "<style scoped>\n",
       "    .dataframe tbody tr th:only-of-type {\n",
       "        vertical-align: middle;\n",
       "    }\n",
       "\n",
       "    .dataframe tbody tr th {\n",
       "        vertical-align: top;\n",
       "    }\n",
       "\n",
       "    .dataframe thead th {\n",
       "        text-align: right;\n",
       "    }\n",
       "</style>\n",
       "<table border=\"1\" class=\"dataframe\">\n",
       "  <thead>\n",
       "    <tr style=\"text-align: right;\">\n",
       "      <th>Gender</th>\n",
       "      <th>F</th>\n",
       "      <th>M</th>\n",
       "      <th>All</th>\n",
       "    </tr>\n",
       "    <tr>\n",
       "      <th>Admission</th>\n",
       "      <th></th>\n",
       "      <th></th>\n",
       "      <th></th>\n",
       "    </tr>\n",
       "  </thead>\n",
       "  <tbody>\n",
       "    <tr>\n",
       "      <th>Accepted</th>\n",
       "      <td>557</td>\n",
       "      <td>1511</td>\n",
       "      <td>2068</td>\n",
       "    </tr>\n",
       "    <tr>\n",
       "      <th>Rejected</th>\n",
       "      <td>1278</td>\n",
       "      <td>1493</td>\n",
       "      <td>2771</td>\n",
       "    </tr>\n",
       "    <tr>\n",
       "      <th>All</th>\n",
       "      <td>1835</td>\n",
       "      <td>3004</td>\n",
       "      <td>4839</td>\n",
       "    </tr>\n",
       "  </tbody>\n",
       "</table>\n",
       "</div>"
      ],
      "text/plain": [
       "Gender        F     M   All\n",
       "Admission                  \n",
       "Accepted    557  1511  2068\n",
       "Rejected   1278  1493  2771\n",
       "All        1835  3004  4839"
      ]
     },
     "execution_count": 1,
     "metadata": {},
     "output_type": "execute_result"
    }
   ],
   "source": [
    "pd.crosstab(df[\"Admission\"], df[\"Gender\"], margins=True)"
   ]
  },
  {
   "cell_type": "markdown",
   "id": "3d77eadc",
   "metadata": {},
   "source": [
    " Percent by column"
   ]
  },
  {
   "cell_type": "code",
   "execution_count": 5,
   "id": "b870b857",
   "metadata": {
    "execution": {
     "iopub.execute_input": "2023-09-03T15:03:54.822931Z",
     "iopub.status.busy": "2023-09-03T15:03:54.822336Z",
     "iopub.status.idle": "2023-09-03T15:03:54.849599Z",
     "shell.execute_reply": "2023-09-03T15:03:54.850006Z"
    }
   },
   "outputs": [
    {
     "data": {
      "text/html": [
       "<div>\n",
       "<style scoped>\n",
       "    .dataframe tbody tr th:only-of-type {\n",
       "        vertical-align: middle;\n",
       "    }\n",
       "\n",
       "    .dataframe tbody tr th {\n",
       "        vertical-align: top;\n",
       "    }\n",
       "\n",
       "    .dataframe thead th {\n",
       "        text-align: right;\n",
       "    }\n",
       "</style>\n",
       "<table border=\"1\" class=\"dataframe\">\n",
       "  <thead>\n",
       "    <tr style=\"text-align: right;\">\n",
       "      <th>Gender</th>\n",
       "      <th>F</th>\n",
       "      <th>M</th>\n",
       "      <th>All</th>\n",
       "    </tr>\n",
       "    <tr>\n",
       "      <th>Admission</th>\n",
       "      <th></th>\n",
       "      <th></th>\n",
       "      <th></th>\n",
       "    </tr>\n",
       "  </thead>\n",
       "  <tbody>\n",
       "    <tr>\n",
       "      <th>Accepted</th>\n",
       "      <td>30.35</td>\n",
       "      <td>50.3</td>\n",
       "      <td>42.74</td>\n",
       "    </tr>\n",
       "    <tr>\n",
       "      <th>Rejected</th>\n",
       "      <td>69.65</td>\n",
       "      <td>49.7</td>\n",
       "      <td>57.26</td>\n",
       "    </tr>\n",
       "  </tbody>\n",
       "</table>\n",
       "</div>"
      ],
      "text/plain": [
       "Gender         F     M    All\n",
       "Admission                    \n",
       "Accepted   30.35  50.3  42.74\n",
       "Rejected   69.65  49.7  57.26"
      ]
     },
     "execution_count": 1,
     "metadata": {},
     "output_type": "execute_result"
    }
   ],
   "source": [
    "(pd.crosstab(df[\"Admission\"], df[\"Gender\"], margins=True, normalize=\"columns\") * 100).round(2)"
   ]
  },
  {
   "cell_type": "markdown",
   "id": "cac9d4f4",
   "metadata": {},
   "source": [
    "# Example: College admissions data (continued)"
   ]
  },
  {
   "cell_type": "markdown",
   "id": "76761bdc",
   "metadata": {},
   "source": [
    " Load, process the data, and create a 2x2 table"
   ]
  },
  {
   "cell_type": "code",
   "execution_count": 6,
   "id": "66884f6c",
   "metadata": {
    "execution": {
     "iopub.execute_input": "2023-09-03T15:03:54.853990Z",
     "iopub.status.busy": "2023-09-03T15:03:54.853424Z",
     "iopub.status.idle": "2023-09-03T15:03:54.887372Z",
     "shell.execute_reply": "2023-09-03T15:03:54.886939Z"
    }
   },
   "outputs": [
    {
     "data": {
      "text/html": [
       "<div>\n",
       "<style scoped>\n",
       "    .dataframe tbody tr th:only-of-type {\n",
       "        vertical-align: middle;\n",
       "    }\n",
       "\n",
       "    .dataframe tbody tr th {\n",
       "        vertical-align: top;\n",
       "    }\n",
       "\n",
       "    .dataframe thead th {\n",
       "        text-align: right;\n",
       "    }\n",
       "</style>\n",
       "<table border=\"1\" class=\"dataframe\">\n",
       "  <thead>\n",
       "    <tr style=\"text-align: right;\">\n",
       "      <th>Major</th>\n",
       "      <th>A</th>\n",
       "      <th>B</th>\n",
       "      <th>C</th>\n",
       "      <th>D</th>\n",
       "      <th>E</th>\n",
       "      <th>F</th>\n",
       "      <th>All</th>\n",
       "    </tr>\n",
       "    <tr>\n",
       "      <th>Gender</th>\n",
       "      <th></th>\n",
       "      <th></th>\n",
       "      <th></th>\n",
       "      <th></th>\n",
       "      <th></th>\n",
       "      <th></th>\n",
       "      <th></th>\n",
       "    </tr>\n",
       "  </thead>\n",
       "  <tbody>\n",
       "    <tr>\n",
       "      <th>F</th>\n",
       "      <td>108</td>\n",
       "      <td>25</td>\n",
       "      <td>593</td>\n",
       "      <td>375</td>\n",
       "      <td>393</td>\n",
       "      <td>341</td>\n",
       "      <td>1835</td>\n",
       "    </tr>\n",
       "    <tr>\n",
       "      <th>M</th>\n",
       "      <td>1138</td>\n",
       "      <td>560</td>\n",
       "      <td>325</td>\n",
       "      <td>417</td>\n",
       "      <td>191</td>\n",
       "      <td>373</td>\n",
       "      <td>3004</td>\n",
       "    </tr>\n",
       "    <tr>\n",
       "      <th>All</th>\n",
       "      <td>1246</td>\n",
       "      <td>585</td>\n",
       "      <td>918</td>\n",
       "      <td>792</td>\n",
       "      <td>584</td>\n",
       "      <td>714</td>\n",
       "      <td>4839</td>\n",
       "    </tr>\n",
       "  </tbody>\n",
       "</table>\n",
       "</div>"
      ],
      "text/plain": [
       "Major      A    B    C    D    E    F   All\n",
       "Gender                                     \n",
       "F        108   25  593  375  393  341  1835\n",
       "M       1138  560  325  417  191  373  3004\n",
       "All     1246  585  918  792  584  714  4839"
      ]
     },
     "execution_count": 1,
     "metadata": {},
     "output_type": "execute_result"
    }
   ],
   "source": [
    "df = pd.read_csv(\"berkeley.csv\")\n",
    "df = df[df[\"Major\"] != \"Other\"]\n",
    "admission_gender = pd.crosstab(df[\"Gender\"], df[\"Major\"], margins=True)\n",
    "admission_gender"
   ]
  },
  {
   "cell_type": "markdown",
   "id": "cf383824",
   "metadata": {},
   "source": [
    " Percentage of department applications by gender"
   ]
  },
  {
   "cell_type": "code",
   "execution_count": 7,
   "id": "df7df039",
   "metadata": {
    "execution": {
     "iopub.execute_input": "2023-09-03T15:03:54.892321Z",
     "iopub.status.busy": "2023-09-03T15:03:54.891669Z",
     "iopub.status.idle": "2023-09-03T15:03:54.923289Z",
     "shell.execute_reply": "2023-09-03T15:03:54.922868Z"
    }
   },
   "outputs": [
    {
     "data": {
      "text/html": [
       "<div>\n",
       "<style scoped>\n",
       "    .dataframe tbody tr th:only-of-type {\n",
       "        vertical-align: middle;\n",
       "    }\n",
       "\n",
       "    .dataframe tbody tr th {\n",
       "        vertical-align: top;\n",
       "    }\n",
       "\n",
       "    .dataframe thead th {\n",
       "        text-align: right;\n",
       "    }\n",
       "</style>\n",
       "<table border=\"1\" class=\"dataframe\">\n",
       "  <thead>\n",
       "    <tr style=\"text-align: right;\">\n",
       "      <th>Major</th>\n",
       "      <th>A</th>\n",
       "      <th>B</th>\n",
       "      <th>C</th>\n",
       "      <th>D</th>\n",
       "      <th>E</th>\n",
       "      <th>F</th>\n",
       "      <th>All</th>\n",
       "    </tr>\n",
       "    <tr>\n",
       "      <th>Gender</th>\n",
       "      <th></th>\n",
       "      <th></th>\n",
       "      <th></th>\n",
       "      <th></th>\n",
       "      <th></th>\n",
       "      <th></th>\n",
       "      <th></th>\n",
       "    </tr>\n",
       "  </thead>\n",
       "  <tbody>\n",
       "    <tr>\n",
       "      <th>F</th>\n",
       "      <td>8.67</td>\n",
       "      <td>4.27</td>\n",
       "      <td>64.6</td>\n",
       "      <td>47.35</td>\n",
       "      <td>67.29</td>\n",
       "      <td>47.76</td>\n",
       "      <td>37.92</td>\n",
       "    </tr>\n",
       "    <tr>\n",
       "      <th>M</th>\n",
       "      <td>91.33</td>\n",
       "      <td>95.73</td>\n",
       "      <td>35.4</td>\n",
       "      <td>52.65</td>\n",
       "      <td>32.71</td>\n",
       "      <td>52.24</td>\n",
       "      <td>62.08</td>\n",
       "    </tr>\n",
       "  </tbody>\n",
       "</table>\n",
       "</div>"
      ],
      "text/plain": [
       "Major       A      B     C      D      E      F    All\n",
       "Gender                                                \n",
       "F        8.67   4.27  64.6  47.35  67.29  47.76  37.92\n",
       "M       91.33  95.73  35.4  52.65  32.71  52.24  62.08"
      ]
     },
     "execution_count": 1,
     "metadata": {},
     "output_type": "execute_result"
    }
   ],
   "source": [
    "100 * pd.crosstab(df[\"Gender\"], df[\"Major\"], margins=True, normalize=\"columns\").round(4)"
   ]
  },
  {
   "cell_type": "markdown",
   "id": "0710f844",
   "metadata": {},
   "source": [
    " Male/female applications by department"
   ]
  },
  {
   "cell_type": "code",
   "execution_count": 8,
   "id": "6ad9d076",
   "metadata": {
    "execution": {
     "iopub.execute_input": "2023-09-03T15:03:54.928652Z",
     "iopub.status.busy": "2023-09-03T15:03:54.928091Z",
     "iopub.status.idle": "2023-09-03T15:03:54.957113Z",
     "shell.execute_reply": "2023-09-03T15:03:54.957516Z"
    }
   },
   "outputs": [
    {
     "data": {
      "text/html": [
       "<div>\n",
       "<style scoped>\n",
       "    .dataframe tbody tr th:only-of-type {\n",
       "        vertical-align: middle;\n",
       "    }\n",
       "\n",
       "    .dataframe tbody tr th {\n",
       "        vertical-align: top;\n",
       "    }\n",
       "\n",
       "    .dataframe thead th {\n",
       "        text-align: right;\n",
       "    }\n",
       "</style>\n",
       "<table border=\"1\" class=\"dataframe\">\n",
       "  <thead>\n",
       "    <tr style=\"text-align: right;\">\n",
       "      <th>Major</th>\n",
       "      <th>A</th>\n",
       "      <th>B</th>\n",
       "      <th>C</th>\n",
       "      <th>D</th>\n",
       "      <th>E</th>\n",
       "      <th>F</th>\n",
       "    </tr>\n",
       "    <tr>\n",
       "      <th>Gender</th>\n",
       "      <th></th>\n",
       "      <th></th>\n",
       "      <th></th>\n",
       "      <th></th>\n",
       "      <th></th>\n",
       "      <th></th>\n",
       "    </tr>\n",
       "  </thead>\n",
       "  <tbody>\n",
       "    <tr>\n",
       "      <th>F</th>\n",
       "      <td>5.89</td>\n",
       "      <td>1.36</td>\n",
       "      <td>32.32</td>\n",
       "      <td>20.44</td>\n",
       "      <td>21.42</td>\n",
       "      <td>18.58</td>\n",
       "    </tr>\n",
       "    <tr>\n",
       "      <th>M</th>\n",
       "      <td>37.88</td>\n",
       "      <td>18.64</td>\n",
       "      <td>10.82</td>\n",
       "      <td>13.88</td>\n",
       "      <td>6.36</td>\n",
       "      <td>12.42</td>\n",
       "    </tr>\n",
       "    <tr>\n",
       "      <th>All</th>\n",
       "      <td>25.75</td>\n",
       "      <td>12.09</td>\n",
       "      <td>18.97</td>\n",
       "      <td>16.37</td>\n",
       "      <td>12.07</td>\n",
       "      <td>14.76</td>\n",
       "    </tr>\n",
       "  </tbody>\n",
       "</table>\n",
       "</div>"
      ],
      "text/plain": [
       "Major       A      B      C      D      E      F\n",
       "Gender                                          \n",
       "F        5.89   1.36  32.32  20.44  21.42  18.58\n",
       "M       37.88  18.64  10.82  13.88   6.36  12.42\n",
       "All     25.75  12.09  18.97  16.37  12.07  14.76"
      ]
     },
     "execution_count": 1,
     "metadata": {},
     "output_type": "execute_result"
    }
   ],
   "source": [
    "100 * pd.crosstab(df[\"Gender\"], df[\"Major\"], margins=True, normalize=\"index\").round(4)"
   ]
  },
  {
   "cell_type": "code",
   "execution_count": 9,
   "id": "bee1c847",
   "metadata": {
    "execution": {
     "iopub.execute_input": "2023-09-03T15:03:54.966089Z",
     "iopub.status.busy": "2023-09-03T15:03:54.965575Z",
     "iopub.status.idle": "2023-09-03T15:03:55.177991Z",
     "shell.execute_reply": "2023-09-03T15:03:55.178469Z"
    }
   },
   "outputs": [
    {
     "data": {
      "image/png": "[encoded data removed]",
      "text/plain": [
       "<Figure size 600x600 with 1 Axes>"
      ]
     },
     "metadata": {},
     "output_type": "display_data"
    }
   ],
   "source": [
    "import matplotlib.pyplot as plt\n",
    "from matplotlib.patches import Rectangle, Arrow\n",
    "\n",
    "x1 = 20\n",
    "x2 = 90\n",
    "y = 97\n",
    "fig, ax = plt.subplots(figsize=(6, 6))\n",
    "ax.add_patch(Rectangle((0, 0), 100, 100, ec=\"black\", color=\"white\"))\n",
    "ax.add_patch(Rectangle((0, 0), x1, y, ec=\"black\", color=\"gold\"))\n",
    "ax.add_patch(Rectangle((0, y), x2, 100-y, ec=\"black\", color=\"C3\"))\n",
    "ax.add_patch(Rectangle((x2, y), 100-x2, 100-y, ec=\"black\", color=\"white\"))\n",
    "\n",
    "ax.text(0.5*(100+x1), 0.5*y, \"96,903\", ha=\"center\", va=\"center\")\n",
    "ax.text(0.5*(x1), 0.5*y, \"2997\", ha=\"center\", va=\"center\")\n",
    "\n",
    "ax.text(0.5*(x2), 110, \"98\", ha=\"center\", va=\"center\")\n",
    "ax.text(0.5*(100+x2), 110, \"2\", ha=\"center\", va=\"center\")\n",
    "ax.add_patch(Arrow(0.5*(x2), 107, 0, -5, color=\"grey\"))\n",
    "ax.add_patch(Arrow(0.5*(100+x2), 107, 0, -5, color=\"grey\"))\n",
    "\n",
    "ax.text(-20, 0.5*(100+y), \"Disease\\n(100)\", ha=\"center\", va=\"center\")\n",
    "ax.add_patch(Arrow(-12, 0.5*(100+y), 11, 0, color=\"grey\"))\n",
    "ax.text(-15, 0.5*(y), \"No disease\\n(99,900)\", ha=\"center\", va=\"center\")\n",
    "ax.plot([-2, -3, -3, -2], [0, 0, y, y], color='grey')\n",
    "ax.plot([-4, -3], [y/2, y/2], color='grey')\n",
    "\n",
    "ax.text(50, 117, \"Test result\", ha=\"center\", va=\"center\", fontsize=16)\n",
    "ax.text(-40, 50, \"Actual\\ncondition\", ha=\"center\", va=\"center\", fontsize=16)\n",
    "\n",
    "ax.set_xlim(-10, 105)\n",
    "ax.set_ylim(-5, 110)\n",
    "ax.set_axis_off()\n",
    "plt.show()"
   ]
  },
  {
   "cell_type": "markdown",
   "id": "bb7111b7",
   "metadata": {},
   "source": [
    "# Independence"
   ]
  },
  {
   "cell_type": "markdown",
   "id": "cdd14722",
   "metadata": {},
   "source": [
    " Admission rates by department"
   ]
  },
  {
   "cell_type": "code",
   "execution_count": 10,
   "id": "e94caa85",
   "metadata": {
    "execution": {
     "iopub.execute_input": "2023-09-03T15:03:55.183120Z",
     "iopub.status.busy": "2023-09-03T15:03:55.182383Z",
     "iopub.status.idle": "2023-09-03T15:03:55.211475Z",
     "shell.execute_reply": "2023-09-03T15:03:55.211995Z"
    }
   },
   "outputs": [
    {
     "data": {
      "text/html": [
       "<div>\n",
       "<style scoped>\n",
       "    .dataframe tbody tr th:only-of-type {\n",
       "        vertical-align: middle;\n",
       "    }\n",
       "\n",
       "    .dataframe tbody tr th {\n",
       "        vertical-align: top;\n",
       "    }\n",
       "\n",
       "    .dataframe thead th {\n",
       "        text-align: right;\n",
       "    }\n",
       "</style>\n",
       "<table border=\"1\" class=\"dataframe\">\n",
       "  <thead>\n",
       "    <tr style=\"text-align: right;\">\n",
       "      <th>Major</th>\n",
       "      <th>A</th>\n",
       "      <th>B</th>\n",
       "      <th>C</th>\n",
       "      <th>D</th>\n",
       "      <th>E</th>\n",
       "      <th>F</th>\n",
       "      <th>All</th>\n",
       "    </tr>\n",
       "    <tr>\n",
       "      <th>Admission</th>\n",
       "      <th></th>\n",
       "      <th></th>\n",
       "      <th></th>\n",
       "      <th></th>\n",
       "      <th></th>\n",
       "      <th></th>\n",
       "      <th></th>\n",
       "    </tr>\n",
       "  </thead>\n",
       "  <tbody>\n",
       "    <tr>\n",
       "      <th>Accepted</th>\n",
       "      <td>73.35</td>\n",
       "      <td>63.25</td>\n",
       "      <td>34.97</td>\n",
       "      <td>33.96</td>\n",
       "      <td>25.17</td>\n",
       "      <td>6.58</td>\n",
       "      <td>42.74</td>\n",
       "    </tr>\n",
       "    <tr>\n",
       "      <th>Rejected</th>\n",
       "      <td>26.65</td>\n",
       "      <td>36.75</td>\n",
       "      <td>65.03</td>\n",
       "      <td>66.04</td>\n",
       "      <td>74.83</td>\n",
       "      <td>93.42</td>\n",
       "      <td>57.26</td>\n",
       "    </tr>\n",
       "  </tbody>\n",
       "</table>\n",
       "</div>"
      ],
      "text/plain": [
       "Major          A      B      C      D      E      F    All\n",
       "Admission                                                 \n",
       "Accepted   73.35  63.25  34.97  33.96  25.17   6.58  42.74\n",
       "Rejected   26.65  36.75  65.03  66.04  74.83  93.42  57.26"
      ]
     },
     "execution_count": 1,
     "metadata": {},
     "output_type": "execute_result"
    }
   ],
   "source": [
    "100 * pd.crosstab(df[\"Admission\"], df[\"Major\"], margins=True, normalize=\"columns\").round(4)"
   ]
  },
  {
   "cell_type": "markdown",
   "id": "9e416ef7",
   "metadata": {},
   "source": [
    "## The chi-square distribution"
   ]
  },
  {
   "cell_type": "code",
   "execution_count": 11,
   "id": "dbb00204",
   "metadata": {
    "execution": {
     "iopub.execute_input": "2023-09-03T15:03:55.216619Z",
     "iopub.status.busy": "2023-09-03T15:03:55.216066Z",
     "iopub.status.idle": "2023-09-03T15:03:55.990359Z",
     "shell.execute_reply": "2023-09-03T15:03:55.990712Z"
    }
   },
   "outputs": [
    {
     "data": {
      "image/png": "[encoded data removed]",
      "text/plain": [
       "<Figure size 640x480 with 1 Axes>"
      ]
     },
     "metadata": {},
     "output_type": "display_data"
    }
   ],
   "source": [
    "import numpy as np\n",
    "from scipy import stats\n",
    "x = np.linspace(0, 40, 200)\n",
    "distribution = pd.DataFrame({\n",
    "    'x': x,\n",
    "    'chi_2': stats.chi2(df=10).pdf(x),\n",
    "})\n",
    "ax = distribution.plot(x='x', y='chi_2', legend=False, color='black')\n",
    "ax.set_xlabel('$x$')\n",
    "ax.set_ylabel('$\\chi^2$')\n",
    "plt.show()"
   ]
  },
  {
   "cell_type": "markdown",
   "id": "8f705cd2",
   "metadata": {},
   "source": [
    "# Simpson's Paradox"
   ]
  },
  {
   "cell_type": "markdown",
   "id": "afcf0ad3",
   "metadata": {},
   "source": [
    " Berkeley admission rates"
   ]
  },
  {
   "cell_type": "code",
   "execution_count": 12,
   "id": "1a8932c4",
   "metadata": {
    "execution": {
     "iopub.execute_input": "2023-09-03T15:03:55.995491Z",
     "iopub.status.busy": "2023-09-03T15:03:55.994815Z",
     "iopub.status.idle": "2023-09-03T15:03:56.019614Z",
     "shell.execute_reply": "2023-09-03T15:03:56.020347Z"
    }
   },
   "outputs": [
    {
     "data": {
      "text/html": [
       "<div>\n",
       "<style scoped>\n",
       "    .dataframe tbody tr th:only-of-type {\n",
       "        vertical-align: middle;\n",
       "    }\n",
       "\n",
       "    .dataframe tbody tr th {\n",
       "        vertical-align: top;\n",
       "    }\n",
       "\n",
       "    .dataframe thead th {\n",
       "        text-align: right;\n",
       "    }\n",
       "</style>\n",
       "<table border=\"1\" class=\"dataframe\">\n",
       "  <thead>\n",
       "    <tr style=\"text-align: right;\">\n",
       "      <th>Gender</th>\n",
       "      <th>F</th>\n",
       "      <th>M</th>\n",
       "      <th>All</th>\n",
       "    </tr>\n",
       "    <tr>\n",
       "      <th>Admission</th>\n",
       "      <th></th>\n",
       "      <th></th>\n",
       "      <th></th>\n",
       "    </tr>\n",
       "  </thead>\n",
       "  <tbody>\n",
       "    <tr>\n",
       "      <th>Accepted</th>\n",
       "      <td>30.35</td>\n",
       "      <td>50.3</td>\n",
       "      <td>42.74</td>\n",
       "    </tr>\n",
       "    <tr>\n",
       "      <th>Rejected</th>\n",
       "      <td>69.65</td>\n",
       "      <td>49.7</td>\n",
       "      <td>57.26</td>\n",
       "    </tr>\n",
       "  </tbody>\n",
       "</table>\n",
       "</div>"
      ],
      "text/plain": [
       "Gender         F     M    All\n",
       "Admission                    \n",
       "Accepted   30.35  50.3  42.74\n",
       "Rejected   69.65  49.7  57.26"
      ]
     },
     "execution_count": 1,
     "metadata": {},
     "output_type": "execute_result"
    }
   ],
   "source": [
    "100 * pd.crosstab(df[\"Admission\"], df[\"Gender\"], margins=True, normalize=\"columns\").round(4)"
   ]
  },
  {
   "cell_type": "markdown",
   "id": "76127432",
   "metadata": {},
   "source": [
    " Berkeley admission rates by department"
   ]
  },
  {
   "cell_type": "code",
   "execution_count": 13,
   "id": "9467807f",
   "metadata": {
    "execution": {
     "iopub.execute_input": "2023-09-03T15:03:56.026440Z",
     "iopub.status.busy": "2023-09-03T15:03:56.024943Z",
     "iopub.status.idle": "2023-09-03T15:03:56.043769Z",
     "shell.execute_reply": "2023-09-03T15:03:56.044227Z"
    }
   },
   "outputs": [
    {
     "data": {
      "text/html": [
       "<div>\n",
       "<style scoped>\n",
       "    .dataframe tbody tr th:only-of-type {\n",
       "        vertical-align: middle;\n",
       "    }\n",
       "\n",
       "    .dataframe tbody tr th {\n",
       "        vertical-align: top;\n",
       "    }\n",
       "\n",
       "    .dataframe thead th {\n",
       "        text-align: right;\n",
       "    }\n",
       "</style>\n",
       "<table border=\"1\" class=\"dataframe\">\n",
       "  <thead>\n",
       "    <tr style=\"text-align: right;\">\n",
       "      <th>Major</th>\n",
       "      <th>A</th>\n",
       "      <th>B</th>\n",
       "      <th>C</th>\n",
       "      <th>D</th>\n",
       "      <th>E</th>\n",
       "      <th>F</th>\n",
       "    </tr>\n",
       "    <tr>\n",
       "      <th>Gender</th>\n",
       "      <th></th>\n",
       "      <th></th>\n",
       "      <th></th>\n",
       "      <th></th>\n",
       "      <th></th>\n",
       "      <th></th>\n",
       "    </tr>\n",
       "  </thead>\n",
       "  <tbody>\n",
       "    <tr>\n",
       "      <th>F</th>\n",
       "      <td>0.824074</td>\n",
       "      <td>0.680000</td>\n",
       "      <td>0.338954</td>\n",
       "      <td>0.349333</td>\n",
       "      <td>0.239186</td>\n",
       "      <td>0.073314</td>\n",
       "    </tr>\n",
       "    <tr>\n",
       "      <th>M</th>\n",
       "      <td>0.724956</td>\n",
       "      <td>0.630357</td>\n",
       "      <td>0.369231</td>\n",
       "      <td>0.330935</td>\n",
       "      <td>0.277487</td>\n",
       "      <td>0.058981</td>\n",
       "    </tr>\n",
       "  </tbody>\n",
       "</table>\n",
       "</div>"
      ],
      "text/plain": [
       "Major          A         B         C         D         E         F\n",
       "Gender                                                            \n",
       "F       0.824074  0.680000  0.338954  0.349333  0.239186  0.073314\n",
       "M       0.724956  0.630357  0.369231  0.330935  0.277487  0.058981"
      ]
     },
     "execution_count": 1,
     "metadata": {},
     "output_type": "execute_result"
    }
   ],
   "source": [
    "admitted = df[df[\"Admission\"] == \"Accepted\"]\n",
    "(pd.crosstab(admitted[\"Gender\"], admitted[\"Major\"]) /\n",
    "pd.crosstab(df[\"Gender\"], df[\"Major\"]))"
   ]
  }
 ],
 "metadata": {
  "language_info": {
   "codemirror_mode": {
    "name": "ipython",
    "version": 3
   },
   "file_extension": ".py",
   "mimetype": "text/x-python",
   "name": "python",
   "nbconvert_exporter": "python",
   "pygments_lexer": "ipython3",
   "version": "3.8.2"
  }
 },
 "nbformat": 4,
 "nbformat_minor": 5
}
