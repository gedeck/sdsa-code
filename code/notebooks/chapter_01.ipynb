{
 "cells": [
  {
   "cell_type": "markdown",
   "id": "71c68a4a",
   "metadata": {},
   "source": [
    "# Chapter 01 \n",
    " Statistics for Data Science and Analytics<br>\n",
    "by Peter C. Bruce, Peter Gedeck, Janet F. Dobbins\n",
    "\n",
    "Publisher: Wiley; 1st edition (2024) <br>\n",
    "<!-- ISBN-13: 978-3031075650 -->\n",
    "\n",
    "(c) 2024 Peter C. Bruce, Peter Gedeck, Janet F. Dobbins\n",
    "\n",
    "The code needs to be executed in sequence.\n",
    "\n",
    "Python packages and Python itself change over time. This can cause warnings or errors. We\n",
    "\"Warnings\" are for information only and can usually be ignored. \n",
    "\"Errors\" will stop execution and need to be fixed in order to get results. \n",
    "\n",
    "If you come across an issue with the code, please follow these steps\n",
    "\n",
    "- Check the repository (https://gedeck.github.io/sdsa-code-solutions/) to see if the code has been upgraded. This might solve the problem.\n",
    "- Report the problem using the issue tracker at https://github.com/gedeck/sdsa-code-solutions/issues\n",
    "- Paste the error message into Google and see if someone else already found a solution"
   ]
  },
  {
   "cell_type": "markdown",
   "id": "79da2939",
   "metadata": {},
   "source": [
    "# Coin toss experiment"
   ]
  },
  {
   "cell_type": "code",
   "execution_count": 2,
   "id": "169107d9",
   "metadata": {
    "execution": {
     "iopub.execute_input": "2023-07-18T20:41:51.301361Z",
     "iopub.status.busy": "2023-07-18T20:41:51.300767Z",
     "iopub.status.idle": "2023-07-18T20:41:51.303038Z",
     "shell.execute_reply": "2023-07-18T20:41:51.303473Z"
    }
   },
   "outputs": [
    {
     "name": "stdout",
     "output_type": "stream",
     "text": [
      "Counter({'H': 7, 'T': 3})\n"
     ]
    }
   ],
   "source": [
    "import random\n",
    "from collections import Counter\n",
    "\n",
    "# set random seed for reproducibility (you can use any number)\n",
    "random.seed(123)\n",
    "\n",
    "coin = [\"H\", \"T\"]\n",
    "\n",
    "# one trial: simulate 10 coin tosses and count number of heads and tails\n",
    "trial = random.choices(coin, k=10)\n",
    "counts = Counter(trial)\n",
    "print(counts)\n",
    "\n",
    "# keep track of numbers of heads\n",
    "nr_heads = [counts[\"H\"]]"
   ]
  },
  {
   "cell_type": "code",
   "execution_count": 3,
   "id": "fcc45b2a",
   "metadata": {
    "execution": {
     "iopub.execute_input": "2023-07-18T20:41:51.307545Z",
     "iopub.status.busy": "2023-07-18T20:41:51.306882Z",
     "iopub.status.idle": "2023-07-18T20:41:51.308981Z",
     "shell.execute_reply": "2023-07-18T20:41:51.309381Z"
    }
   },
   "outputs": [
    {
     "name": "stdout",
     "output_type": "stream",
     "text": [
      "Counter({'H': 9, 'T': 1})\n",
      "Counter({'T': 6, 'H': 4})\n",
      "Counter({'T': 6, 'H': 4})\n",
      "Counter({'T': 6, 'H': 4})\n",
      "Counter({'H': 6, 'T': 4})\n",
      "Counter({'H': 5, 'T': 5})\n",
      "Counter({'T': 5, 'H': 5})\n",
      "Counter({'H': 10})\n",
      "Counter({'H': 7, 'T': 3})\n",
      "Counter({'T': 6, 'H': 4})\n",
      "Counter({'T': 6, 'H': 4})\n"
     ]
    }
   ],
   "source": [
    "# repeat trial 11 more times\n",
    "for _ in range(11):\n",
    "    trial = random.choices(coin, k=10)\n",
    "    counts = Counter(trial)\n",
    "    print(counts)\n",
    "    nr_heads.append(counts[\"H\"])"
   ]
  },
  {
   "cell_type": "code",
   "execution_count": 4,
   "id": "c604baf4",
   "metadata": {
    "execution": {
     "iopub.execute_input": "2023-07-18T20:41:51.314163Z",
     "iopub.status.busy": "2023-07-18T20:41:51.313584Z",
     "iopub.status.idle": "2023-07-18T20:41:51.315746Z",
     "shell.execute_reply": "2023-07-18T20:41:51.316155Z"
    }
   },
   "outputs": [
    {
     "name": "stdout",
     "output_type": "stream",
     "text": [
      "Seven or more heads occurred in 24 trials\n"
     ]
    }
   ],
   "source": [
    "# repeat trial 100 more times\n",
    "for _ in range(100):\n",
    "    trial = random.choices(coin, k=10)\n",
    "    counts = Counter(trial)\n",
    "    nr_heads.append(counts[\"H\"])\n",
    "seven_or_more = sum(n >= 7 for n in nr_heads)\n",
    "print(f\"Seven or more heads occurred in {seven_or_more} trials\")"
   ]
  },
  {
   "cell_type": "markdown",
   "id": "3da6d62c",
   "metadata": {},
   "source": [
    "# Proportion of heads as a function of coin tosses"
   ]
  },
  {
   "cell_type": "code",
   "execution_count": 5,
   "id": "fe3c72fd",
   "metadata": {
    "execution": {
     "iopub.execute_input": "2023-07-18T20:41:51.321177Z",
     "iopub.status.busy": "2023-07-18T20:41:51.320602Z",
     "iopub.status.idle": "2023-07-18T20:41:51.615670Z",
     "shell.execute_reply": "2023-07-18T20:41:51.616076Z"
    }
   },
   "outputs": [
    {
     "data": {
      "text/html": [
       "<div>\n",
       "<style scoped>\n",
       "    .dataframe tbody tr th:only-of-type {\n",
       "        vertical-align: middle;\n",
       "    }\n",
       "\n",
       "    .dataframe tbody tr th {\n",
       "        vertical-align: top;\n",
       "    }\n",
       "\n",
       "    .dataframe thead th {\n",
       "        text-align: right;\n",
       "    }\n",
       "</style>\n",
       "<table border=\"1\" class=\"dataframe\">\n",
       "  <thead>\n",
       "    <tr style=\"text-align: right;\">\n",
       "      <th></th>\n",
       "      <th>tosses</th>\n",
       "      <th>heads</th>\n",
       "      <th>proportion</th>\n",
       "    </tr>\n",
       "  </thead>\n",
       "  <tbody>\n",
       "    <tr>\n",
       "      <th>0</th>\n",
       "      <td>10</td>\n",
       "      <td>5</td>\n",
       "      <td>0.500000</td>\n",
       "    </tr>\n",
       "    <tr>\n",
       "      <th>1</th>\n",
       "      <td>20</td>\n",
       "      <td>8</td>\n",
       "      <td>0.400000</td>\n",
       "    </tr>\n",
       "    <tr>\n",
       "      <th>2</th>\n",
       "      <td>30</td>\n",
       "      <td>14</td>\n",
       "      <td>0.466667</td>\n",
       "    </tr>\n",
       "    <tr>\n",
       "      <th>3</th>\n",
       "      <td>40</td>\n",
       "      <td>17</td>\n",
       "      <td>0.425000</td>\n",
       "    </tr>\n",
       "    <tr>\n",
       "      <th>4</th>\n",
       "      <td>50</td>\n",
       "      <td>21</td>\n",
       "      <td>0.420000</td>\n",
       "    </tr>\n",
       "    <tr>\n",
       "      <th>5</th>\n",
       "      <td>60</td>\n",
       "      <td>26</td>\n",
       "      <td>0.433333</td>\n",
       "    </tr>\n",
       "    <tr>\n",
       "      <th>6</th>\n",
       "      <td>70</td>\n",
       "      <td>31</td>\n",
       "      <td>0.442857</td>\n",
       "    </tr>\n",
       "    <tr>\n",
       "      <th>7</th>\n",
       "      <td>80</td>\n",
       "      <td>37</td>\n",
       "      <td>0.462500</td>\n",
       "    </tr>\n",
       "    <tr>\n",
       "      <th>8</th>\n",
       "      <td>90</td>\n",
       "      <td>43</td>\n",
       "      <td>0.477778</td>\n",
       "    </tr>\n",
       "    <tr>\n",
       "      <th>9</th>\n",
       "      <td>100</td>\n",
       "      <td>47</td>\n",
       "      <td>0.470000</td>\n",
       "    </tr>\n",
       "    <tr>\n",
       "      <th>10</th>\n",
       "      <td>200</td>\n",
       "      <td>89</td>\n",
       "      <td>0.445000</td>\n",
       "    </tr>\n",
       "    <tr>\n",
       "      <th>11</th>\n",
       "      <td>300</td>\n",
       "      <td>134</td>\n",
       "      <td>0.446667</td>\n",
       "    </tr>\n",
       "    <tr>\n",
       "      <th>12</th>\n",
       "      <td>400</td>\n",
       "      <td>192</td>\n",
       "      <td>0.480000</td>\n",
       "    </tr>\n",
       "    <tr>\n",
       "      <th>13</th>\n",
       "      <td>500</td>\n",
       "      <td>246</td>\n",
       "      <td>0.492000</td>\n",
       "    </tr>\n",
       "    <tr>\n",
       "      <th>14</th>\n",
       "      <td>600</td>\n",
       "      <td>293</td>\n",
       "      <td>0.488333</td>\n",
       "    </tr>\n",
       "    <tr>\n",
       "      <th>15</th>\n",
       "      <td>700</td>\n",
       "      <td>353</td>\n",
       "      <td>0.504286</td>\n",
       "    </tr>\n",
       "    <tr>\n",
       "      <th>16</th>\n",
       "      <td>800</td>\n",
       "      <td>411</td>\n",
       "      <td>0.513750</td>\n",
       "    </tr>\n",
       "    <tr>\n",
       "      <th>17</th>\n",
       "      <td>900</td>\n",
       "      <td>451</td>\n",
       "      <td>0.501111</td>\n",
       "    </tr>\n",
       "    <tr>\n",
       "      <th>18</th>\n",
       "      <td>1000</td>\n",
       "      <td>499</td>\n",
       "      <td>0.499000</td>\n",
       "    </tr>\n",
       "    <tr>\n",
       "      <th>19</th>\n",
       "      <td>2000</td>\n",
       "      <td>1020</td>\n",
       "      <td>0.510000</td>\n",
       "    </tr>\n",
       "    <tr>\n",
       "      <th>20</th>\n",
       "      <td>3000</td>\n",
       "      <td>1500</td>\n",
       "      <td>0.500000</td>\n",
       "    </tr>\n",
       "    <tr>\n",
       "      <th>21</th>\n",
       "      <td>4000</td>\n",
       "      <td>1965</td>\n",
       "      <td>0.491250</td>\n",
       "    </tr>\n",
       "    <tr>\n",
       "      <th>22</th>\n",
       "      <td>5000</td>\n",
       "      <td>2445</td>\n",
       "      <td>0.489000</td>\n",
       "    </tr>\n",
       "    <tr>\n",
       "      <th>23</th>\n",
       "      <td>6000</td>\n",
       "      <td>2926</td>\n",
       "      <td>0.487667</td>\n",
       "    </tr>\n",
       "    <tr>\n",
       "      <th>24</th>\n",
       "      <td>7000</td>\n",
       "      <td>3411</td>\n",
       "      <td>0.487286</td>\n",
       "    </tr>\n",
       "    <tr>\n",
       "      <th>25</th>\n",
       "      <td>8000</td>\n",
       "      <td>3945</td>\n",
       "      <td>0.493125</td>\n",
       "    </tr>\n",
       "    <tr>\n",
       "      <th>26</th>\n",
       "      <td>9000</td>\n",
       "      <td>4452</td>\n",
       "      <td>0.494667</td>\n",
       "    </tr>\n",
       "    <tr>\n",
       "      <th>27</th>\n",
       "      <td>10000</td>\n",
       "      <td>4972</td>\n",
       "      <td>0.497200</td>\n",
       "    </tr>\n",
       "  </tbody>\n",
       "</table>\n",
       "</div>"
      ],
      "text/plain": [
       "    tosses  heads  proportion\n",
       "0       10      5    0.500000\n",
       "1       20      8    0.400000\n",
       "2       30     14    0.466667\n",
       "3       40     17    0.425000\n",
       "4       50     21    0.420000\n",
       "5       60     26    0.433333\n",
       "6       70     31    0.442857\n",
       "7       80     37    0.462500\n",
       "8       90     43    0.477778\n",
       "9      100     47    0.470000\n",
       "10     200     89    0.445000\n",
       "11     300    134    0.446667\n",
       "12     400    192    0.480000\n",
       "13     500    246    0.492000\n",
       "14     600    293    0.488333\n",
       "15     700    353    0.504286\n",
       "16     800    411    0.513750\n",
       "17     900    451    0.501111\n",
       "18    1000    499    0.499000\n",
       "19    2000   1020    0.510000\n",
       "20    3000   1500    0.500000\n",
       "21    4000   1965    0.491250\n",
       "22    5000   2445    0.489000\n",
       "23    6000   2926    0.487667\n",
       "24    7000   3411    0.487286\n",
       "25    8000   3945    0.493125\n",
       "26    9000   4452    0.494667\n",
       "27   10000   4972    0.497200"
      ]
     },
     "execution_count": 1,
     "metadata": {},
     "output_type": "execute_result"
    }
   ],
   "source": [
    "import pandas as pd\n",
    "nr_of_tosses = 0\n",
    "nr_of_heads = 0\n",
    "results = []\n",
    "for increment in [10, 100, 1000]:\n",
    "    for _ in range(10 if increment == 10 else 9):\n",
    "        tosses = random.choices(coin, k=increment)\n",
    "        nr_of_tosses += len(tosses)\n",
    "        nr_of_heads += sum(toss == \"H\" for toss in tosses)\n",
    "        results.append({\"tosses\": nr_of_tosses, \"heads\": nr_of_heads})\n",
    "df = pd.DataFrame(results)\n",
    "df[\"proportion\"] = df[\"heads\"] / df[\"tosses\"]\n",
    "df"
   ]
  },
  {
   "cell_type": "markdown",
   "id": "aeed5273",
   "metadata": {},
   "source": [
    " Visualize the results"
   ]
  },
  {
   "cell_type": "code",
   "execution_count": 6,
   "id": "e66a336e",
   "metadata": {
    "execution": {
     "iopub.execute_input": "2023-07-18T20:41:51.621060Z",
     "iopub.status.busy": "2023-07-18T20:41:51.620504Z",
     "iopub.status.idle": "2023-07-18T20:41:52.671800Z",
     "shell.execute_reply": "2023-07-18T20:41:52.672209Z"
    }
   },
   "outputs": [
    {
     "data": {
      "image/png": "[encoded data removed]",
      "text/plain": [
       "<Figure size 640x480 with 1 Axes>"
      ]
     },
     "metadata": {},
     "output_type": "display_data"
    }
   ],
   "source": [
    "import matplotlib.pyplot as plt\n",
    "\n",
    "fig, ax = plt.subplots()\n",
    "df.plot(x=\"tosses\", y=\"proportion\", legend=False, ax=ax)\n",
    "ax.set_xscale(\"log\")\n",
    "ax.set_ylim(0.25, 0.75)\n",
    "ax.axhline(0.5, color=\"grey\")\n",
    "ax.axvline(100, linestyle=\":\")\n",
    "ax.axvline(1000, linestyle=\":\")\n",
    "ax.set_xlabel(\"Number of coin tosses\")\n",
    "ax.set_ylabel(\"Proportion of heads\")\n",
    "plt.show()"
   ]
  },
  {
   "cell_type": "markdown",
   "id": "4e25e808",
   "metadata": {},
   "source": [
    "# Example: Hospital error reduction"
   ]
  },
  {
   "cell_type": "markdown",
   "id": "3edb6a96",
   "metadata": {},
   "source": [
    " Load the data"
   ]
  },
  {
   "cell_type": "code",
   "execution_count": 7,
   "id": "a47b9c32",
   "metadata": {
    "execution": {
     "iopub.execute_input": "2023-07-18T20:41:52.675935Z",
     "iopub.status.busy": "2023-07-18T20:41:52.675429Z",
     "iopub.status.idle": "2023-07-18T20:41:52.681957Z",
     "shell.execute_reply": "2023-07-18T20:41:52.682484Z"
    }
   },
   "outputs": [
    {
     "data": {
      "text/html": [
       "<div>\n",
       "<style scoped>\n",
       "    .dataframe tbody tr th:only-of-type {\n",
       "        vertical-align: middle;\n",
       "    }\n",
       "\n",
       "    .dataframe tbody tr th {\n",
       "        vertical-align: top;\n",
       "    }\n",
       "\n",
       "    .dataframe thead th {\n",
       "        text-align: right;\n",
       "    }\n",
       "</style>\n",
       "<table border=\"1\" class=\"dataframe\">\n",
       "  <thead>\n",
       "    <tr style=\"text-align: right;\">\n",
       "      <th></th>\n",
       "      <th>Control</th>\n",
       "      <th>Treatment</th>\n",
       "    </tr>\n",
       "  </thead>\n",
       "  <tbody>\n",
       "    <tr>\n",
       "      <th>0</th>\n",
       "      <td>1</td>\n",
       "      <td>2</td>\n",
       "    </tr>\n",
       "    <tr>\n",
       "      <th>1</th>\n",
       "      <td>1</td>\n",
       "      <td>2</td>\n",
       "    </tr>\n",
       "    <tr>\n",
       "      <th>2</th>\n",
       "      <td>1</td>\n",
       "      <td>2</td>\n",
       "    </tr>\n",
       "    <tr>\n",
       "      <th>3</th>\n",
       "      <td>1</td>\n",
       "      <td>2</td>\n",
       "    </tr>\n",
       "    <tr>\n",
       "      <th>4</th>\n",
       "      <td>1</td>\n",
       "      <td>2</td>\n",
       "    </tr>\n",
       "  </tbody>\n",
       "</table>\n",
       "</div>"
      ],
      "text/plain": [
       "   Control  Treatment\n",
       "0        1          2\n",
       "1        1          2\n",
       "2        1          2\n",
       "3        1          2\n",
       "4        1          2"
      ]
     },
     "execution_count": 1,
     "metadata": {},
     "output_type": "execute_result"
    }
   ],
   "source": [
    "data = pd.read_csv(\"hospitalerrors.csv\")\n",
    "data.head()"
   ]
  },
  {
   "cell_type": "markdown",
   "id": "460b57bd",
   "metadata": {},
   "source": [
    "## Central location"
   ]
  },
  {
   "cell_type": "markdown",
   "id": "7112b64c",
   "metadata": {},
   "source": [
    " Calculate the mean"
   ]
  },
  {
   "cell_type": "code",
   "execution_count": 8,
   "id": "8d82b002",
   "metadata": {
    "execution": {
     "iopub.execute_input": "2023-07-18T20:41:52.689067Z",
     "iopub.status.busy": "2023-07-18T20:41:52.687998Z",
     "iopub.status.idle": "2023-07-18T20:41:52.690957Z",
     "shell.execute_reply": "2023-07-18T20:41:52.691318Z"
    }
   },
   "outputs": [
    {
     "data": {
      "text/plain": [
       "Control      1.88\n",
       "Treatment    2.80\n",
       "dtype: float64"
      ]
     },
     "execution_count": 1,
     "metadata": {},
     "output_type": "execute_result"
    }
   ],
   "source": [
    "data.mean()"
   ]
  },
  {
   "cell_type": "markdown",
   "id": "5938e84e",
   "metadata": {},
   "source": [
    " Calculate the median"
   ]
  },
  {
   "cell_type": "code",
   "execution_count": 9,
   "id": "130d6528",
   "metadata": {
    "execution": {
     "iopub.execute_input": "2023-07-18T20:41:52.695867Z",
     "iopub.status.busy": "2023-07-18T20:41:52.694704Z",
     "iopub.status.idle": "2023-07-18T20:41:52.698496Z",
     "shell.execute_reply": "2023-07-18T20:41:52.698915Z"
    }
   },
   "outputs": [
    {
     "data": {
      "text/plain": [
       "Control      2.0\n",
       "Treatment    2.0\n",
       "dtype: float64"
      ]
     },
     "execution_count": 1,
     "metadata": {},
     "output_type": "execute_result"
    }
   ],
   "source": [
    "data.median()"
   ]
  },
  {
   "cell_type": "markdown",
   "id": "141e36fe",
   "metadata": {},
   "source": [
    "## Variation"
   ]
  },
  {
   "cell_type": "markdown",
   "id": "19b2683b",
   "metadata": {},
   "source": [
    " Calculate the range"
   ]
  },
  {
   "cell_type": "code",
   "execution_count": 10,
   "id": "087e4690",
   "metadata": {
    "execution": {
     "iopub.execute_input": "2023-07-18T20:41:52.704353Z",
     "iopub.status.busy": "2023-07-18T20:41:52.703741Z",
     "iopub.status.idle": "2023-07-18T20:41:52.706056Z",
     "shell.execute_reply": "2023-07-18T20:41:52.706461Z"
    }
   },
   "outputs": [
    {
     "data": {
      "text/plain": [
       "Control      4\n",
       "Treatment    7\n",
       "dtype: int64"
      ]
     },
     "execution_count": 1,
     "metadata": {},
     "output_type": "execute_result"
    }
   ],
   "source": [
    "data.max() - data.min()"
   ]
  },
  {
   "cell_type": "markdown",
   "id": "024fa989",
   "metadata": {},
   "source": [
    " Calculate percentiles"
   ]
  },
  {
   "cell_type": "code",
   "execution_count": 11,
   "id": "160f9da7",
   "metadata": {
    "execution": {
     "iopub.execute_input": "2023-07-18T20:41:52.710304Z",
     "iopub.status.busy": "2023-07-18T20:41:52.709753Z",
     "iopub.status.idle": "2023-07-18T20:41:52.715522Z",
     "shell.execute_reply": "2023-07-18T20:41:52.715976Z"
    }
   },
   "outputs": [
    {
     "data": {
      "text/html": [
       "<div>\n",
       "<style scoped>\n",
       "    .dataframe tbody tr th:only-of-type {\n",
       "        vertical-align: middle;\n",
       "    }\n",
       "\n",
       "    .dataframe tbody tr th {\n",
       "        vertical-align: top;\n",
       "    }\n",
       "\n",
       "    .dataframe thead th {\n",
       "        text-align: right;\n",
       "    }\n",
       "</style>\n",
       "<table border=\"1\" class=\"dataframe\">\n",
       "  <thead>\n",
       "    <tr style=\"text-align: right;\">\n",
       "      <th></th>\n",
       "      <th>Control</th>\n",
       "      <th>Treatment</th>\n",
       "    </tr>\n",
       "  </thead>\n",
       "  <tbody>\n",
       "    <tr>\n",
       "      <th>0.25</th>\n",
       "      <td>1.0</td>\n",
       "      <td>2.0</td>\n",
       "    </tr>\n",
       "    <tr>\n",
       "      <th>0.50</th>\n",
       "      <td>2.0</td>\n",
       "      <td>2.0</td>\n",
       "    </tr>\n",
       "    <tr>\n",
       "      <th>0.75</th>\n",
       "      <td>2.0</td>\n",
       "      <td>3.0</td>\n",
       "    </tr>\n",
       "  </tbody>\n",
       "</table>\n",
       "</div>"
      ],
      "text/plain": [
       "      Control  Treatment\n",
       "0.25      1.0        2.0\n",
       "0.50      2.0        2.0\n",
       "0.75      2.0        3.0"
      ]
     },
     "execution_count": 1,
     "metadata": {},
     "output_type": "execute_result"
    }
   ],
   "source": [
    "data.quantile([0.25, 0.5, 0.75])"
   ]
  },
  {
   "cell_type": "markdown",
   "id": "d7d250da",
   "metadata": {},
   "source": [
    " Calculate the interquartile range"
   ]
  },
  {
   "cell_type": "code",
   "execution_count": 12,
   "id": "f2323662",
   "metadata": {
    "execution": {
     "iopub.execute_input": "2023-07-18T20:41:52.721170Z",
     "iopub.status.busy": "2023-07-18T20:41:52.719923Z",
     "iopub.status.idle": "2023-07-18T20:41:52.723537Z",
     "shell.execute_reply": "2023-07-18T20:41:52.723981Z"
    }
   },
   "outputs": [
    {
     "data": {
      "text/plain": [
       "Control      1.0\n",
       "Treatment    1.0\n",
       "dtype: float64"
      ]
     },
     "execution_count": 1,
     "metadata": {},
     "output_type": "execute_result"
    }
   ],
   "source": [
    "data.quantile(0.75) - data.quantile(0.25)"
   ]
  },
  {
   "cell_type": "markdown",
   "id": "f540b87a",
   "metadata": {},
   "source": [
    " Calculate the mean absolute deviation"
   ]
  },
  {
   "cell_type": "code",
   "execution_count": 13,
   "id": "53cbef3e",
   "metadata": {
    "execution": {
     "iopub.execute_input": "2023-07-18T20:41:52.729229Z",
     "iopub.status.busy": "2023-07-18T20:41:52.728668Z",
     "iopub.status.idle": "2023-07-18T20:41:52.730988Z",
     "shell.execute_reply": "2023-07-18T20:41:52.731389Z"
    }
   },
   "outputs": [
    {
     "data": {
      "text/plain": [
       "Control      0.8448\n",
       "Treatment    1.1520\n",
       "dtype: float64"
      ]
     },
     "execution_count": 1,
     "metadata": {},
     "output_type": "execute_result"
    }
   ],
   "source": [
    "data.mad()"
   ]
  },
  {
   "cell_type": "markdown",
   "id": "157ab5ec",
   "metadata": {},
   "source": [
    " Calculate the variance"
   ]
  },
  {
   "cell_type": "code",
   "execution_count": 14,
   "id": "c80e4fa5",
   "metadata": {
    "execution": {
     "iopub.execute_input": "2023-07-18T20:41:52.736530Z",
     "iopub.status.busy": "2023-07-18T20:41:52.735883Z",
     "iopub.status.idle": "2023-07-18T20:41:52.738585Z",
     "shell.execute_reply": "2023-07-18T20:41:52.739041Z"
    }
   },
   "outputs": [
    {
     "data": {
      "text/plain": [
       "Control      1.276667\n",
       "Treatment    2.833333\n",
       "dtype: float64"
      ]
     },
     "execution_count": 1,
     "metadata": {},
     "output_type": "execute_result"
    }
   ],
   "source": [
    "data.var()"
   ]
  },
  {
   "cell_type": "markdown",
   "id": "28f12f99",
   "metadata": {},
   "source": [
    " Calculate the population variance; divide by $N-1$"
   ]
  },
  {
   "cell_type": "code",
   "execution_count": 15,
   "id": "3b62f55a",
   "metadata": {
    "execution": {
     "iopub.execute_input": "2023-07-18T20:41:52.743878Z",
     "iopub.status.busy": "2023-07-18T20:41:52.743271Z",
     "iopub.status.idle": "2023-07-18T20:41:52.745836Z",
     "shell.execute_reply": "2023-07-18T20:41:52.746278Z"
    }
   },
   "outputs": [
    {
     "data": {
      "text/plain": [
       "Control      1.2256\n",
       "Treatment    2.7200\n",
       "dtype: float64"
      ]
     },
     "execution_count": 1,
     "metadata": {},
     "output_type": "execute_result"
    }
   ],
   "source": [
    "data.var(ddof=0)"
   ]
  },
  {
   "cell_type": "markdown",
   "id": "87ba4499",
   "metadata": {},
   "source": [
    "# Example: Musical genre preferences"
   ]
  },
  {
   "cell_type": "markdown",
   "id": "4276f8b8",
   "metadata": {},
   "source": [
    " Create a data frame with the data"
   ]
  },
  {
   "cell_type": "code",
   "execution_count": 16,
   "id": "b332ecde",
   "metadata": {
    "execution": {
     "iopub.execute_input": "2023-07-18T20:41:52.754203Z",
     "iopub.status.busy": "2023-07-18T20:41:52.753517Z",
     "iopub.status.idle": "2023-07-18T20:41:52.755884Z",
     "shell.execute_reply": "2023-07-18T20:41:52.756324Z"
    }
   },
   "outputs": [
    {
     "data": {
      "text/html": [
       "<div>\n",
       "<style scoped>\n",
       "    .dataframe tbody tr th:only-of-type {\n",
       "        vertical-align: middle;\n",
       "    }\n",
       "\n",
       "    .dataframe tbody tr th {\n",
       "        vertical-align: top;\n",
       "    }\n",
       "\n",
       "    .dataframe thead th {\n",
       "        text-align: right;\n",
       "    }\n",
       "</style>\n",
       "<table border=\"1\" class=\"dataframe\">\n",
       "  <thead>\n",
       "    <tr style=\"text-align: right;\">\n",
       "      <th></th>\n",
       "      <th>Rock</th>\n",
       "      <th>Hip-Hop</th>\n",
       "      <th>Country</th>\n",
       "      <th>Jazz</th>\n",
       "      <th>New Age</th>\n",
       "    </tr>\n",
       "  </thead>\n",
       "  <tbody>\n",
       "    <tr>\n",
       "      <th>A</th>\n",
       "      <td>7</td>\n",
       "      <td>1</td>\n",
       "      <td>9</td>\n",
       "      <td>1</td>\n",
       "      <td>3</td>\n",
       "    </tr>\n",
       "    <tr>\n",
       "      <th>B</th>\n",
       "      <td>4</td>\n",
       "      <td>9</td>\n",
       "      <td>1</td>\n",
       "      <td>3</td>\n",
       "      <td>1</td>\n",
       "    </tr>\n",
       "    <tr>\n",
       "      <th>C</th>\n",
       "      <td>9</td>\n",
       "      <td>1</td>\n",
       "      <td>7</td>\n",
       "      <td>2</td>\n",
       "      <td>2</td>\n",
       "    </tr>\n",
       "  </tbody>\n",
       "</table>\n",
       "</div>"
      ],
      "text/plain": [
       "   Rock  Hip-Hop  Country  Jazz  New Age\n",
       "A     7        1        9     1        3\n",
       "B     4        9        1     3        1\n",
       "C     9        1        7     2        2"
      ]
     },
     "execution_count": 1,
     "metadata": {},
     "output_type": "execute_result"
    }
   ],
   "source": [
    "data = pd.DataFrame({\n",
    "    \"Rock\": [7, 4, 9],\n",
    "    \"Hip-Hop\": [1, 9, 1],\n",
    "    \"Country\": [9, 1, 7],\n",
    "    \"Jazz\": [1, 3, 2],\n",
    "    \"New Age\": [3, 1, 2],\n",
    "}, index=[\"A\", \"B\", \"C\"])\n",
    "data"
   ]
  },
  {
   "cell_type": "markdown",
   "id": "f9c5954e",
   "metadata": {},
   "source": [
    " Calculate the Euclidean distance between A and C"
   ]
  },
  {
   "cell_type": "code",
   "execution_count": 17,
   "id": "e41fb984",
   "metadata": {
    "execution": {
     "iopub.execute_input": "2023-07-18T20:41:52.761095Z",
     "iopub.status.busy": "2023-07-18T20:41:52.760477Z",
     "iopub.status.idle": "2023-07-18T20:41:52.762840Z",
     "shell.execute_reply": "2023-07-18T20:41:52.763291Z"
    }
   },
   "outputs": [
    {
     "data": {
      "text/plain": [
       "3.1622776601683795"
      ]
     },
     "execution_count": 1,
     "metadata": {},
     "output_type": "execute_result"
    }
   ],
   "source": [
    "import numpy as np\n",
    "np.sqrt(np.sum((data.loc[\"A\"] - data.loc[\"C\"])**2))"
   ]
  },
  {
   "cell_type": "markdown",
   "id": "d797b3f2",
   "metadata": {},
   "source": [
    " and between B and C"
   ]
  },
  {
   "cell_type": "code",
   "execution_count": 18,
   "id": "0e0201e3",
   "metadata": {
    "execution": {
     "iopub.execute_input": "2023-07-18T20:41:52.767977Z",
     "iopub.status.busy": "2023-07-18T20:41:52.767412Z",
     "iopub.status.idle": "2023-07-18T20:41:52.769668Z",
     "shell.execute_reply": "2023-07-18T20:41:52.770119Z"
    }
   },
   "outputs": [
    {
     "data": {
      "text/plain": [
       "11.269427669584644"
      ]
     },
     "execution_count": 1,
     "metadata": {},
     "output_type": "execute_result"
    }
   ],
   "source": [
    "np.sqrt(np.sum((data.loc[\"B\"] - data.loc[\"C\"])**2))"
   ]
  },
  {
   "cell_type": "markdown",
   "id": "001c4742",
   "metadata": {},
   "source": [
    " The distance between A and C is less than the distance between B and C, so A and C are more similar."
   ]
  },
  {
   "cell_type": "markdown",
   "id": "bcb5fa86",
   "metadata": {},
   "source": [
    "# Example: Reduction in major errors in hospitals} "
   ]
  },
  {
   "cell_type": "code",
   "execution_count": 19,
   "id": "416c7c60",
   "metadata": {
    "execution": {
     "iopub.execute_input": "2023-07-18T20:41:52.773918Z",
     "iopub.status.busy": "2023-07-18T20:41:52.773317Z",
     "iopub.status.idle": "2023-07-18T20:41:52.776921Z",
     "shell.execute_reply": "2023-07-18T20:41:52.777349Z"
    }
   },
   "outputs": [],
   "source": [
    "data = pd.read_csv(\"hospitalerrors_2.csv\")"
   ]
  },
  {
   "cell_type": "markdown",
   "id": "e066830a",
   "metadata": {},
   "source": [
    " Calculate the mean reduction in errors for the treatment and control groups"
   ]
  },
  {
   "cell_type": "code",
   "execution_count": 20,
   "id": "50e77fe4",
   "metadata": {
    "execution": {
     "iopub.execute_input": "2023-07-18T20:41:52.782666Z",
     "iopub.status.busy": "2023-07-18T20:41:52.782086Z",
     "iopub.status.idle": "2023-07-18T20:41:52.784468Z",
     "shell.execute_reply": "2023-07-18T20:41:52.784863Z"
    }
   },
   "outputs": [
    {
     "data": {
      "text/plain": [
       "Treatment\n",
       "0    1.88\n",
       "1    2.80\n",
       "Name: Reduction, dtype: float64"
      ]
     },
     "execution_count": 1,
     "metadata": {},
     "output_type": "execute_result"
    }
   ],
   "source": [
    "mean_reduction = data.groupby(\"Treatment\")[\"Reduction\"].mean()\n",
    "mean_reduction"
   ]
  },
  {
   "cell_type": "markdown",
   "id": "ef8c5c0b",
   "metadata": {},
   "source": [
    " The difference between the two means is the test statistic"
   ]
  },
  {
   "cell_type": "code",
   "execution_count": 21,
   "id": "abd8ed97",
   "metadata": {
    "execution": {
     "iopub.execute_input": "2023-07-18T20:41:52.788521Z",
     "iopub.status.busy": "2023-07-18T20:41:52.787944Z",
     "iopub.status.idle": "2023-07-18T20:41:52.789947Z",
     "shell.execute_reply": "2023-07-18T20:41:52.790418Z"
    }
   },
   "outputs": [
    {
     "name": "stdout",
     "output_type": "stream",
     "text": [
      "Difference between the two means: 0.92\n"
     ]
    }
   ],
   "source": [
    "print(f\"Difference between the two means: {mean_reduction[1] - mean_reduction[0]:.2f}\")"
   ]
  },
  {
   "cell_type": "markdown",
   "id": "da09f1a1",
   "metadata": {},
   "source": [
    "## Frequency tables"
   ]
  },
  {
   "cell_type": "code",
   "execution_count": 22,
   "id": "d40b6bdc",
   "metadata": {
    "execution": {
     "iopub.execute_input": "2023-07-18T20:41:52.803690Z",
     "iopub.status.busy": "2023-07-18T20:41:52.795012Z",
     "iopub.status.idle": "2023-07-18T20:41:52.806025Z",
     "shell.execute_reply": "2023-07-18T20:41:52.806434Z"
    }
   },
   "outputs": [
    {
     "data": {
      "text/html": [
       "<div>\n",
       "<style scoped>\n",
       "    .dataframe tbody tr th:only-of-type {\n",
       "        vertical-align: middle;\n",
       "    }\n",
       "\n",
       "    .dataframe tbody tr th {\n",
       "        vertical-align: top;\n",
       "    }\n",
       "\n",
       "    .dataframe thead th {\n",
       "        text-align: right;\n",
       "    }\n",
       "</style>\n",
       "<table border=\"1\" class=\"dataframe\">\n",
       "  <thead>\n",
       "    <tr style=\"text-align: right;\">\n",
       "      <th></th>\n",
       "      <th>Control</th>\n",
       "      <th>Treatment</th>\n",
       "      <th>Total</th>\n",
       "    </tr>\n",
       "    <tr>\n",
       "      <th>Reduction</th>\n",
       "      <th></th>\n",
       "      <th></th>\n",
       "      <th></th>\n",
       "    </tr>\n",
       "  </thead>\n",
       "  <tbody>\n",
       "    <tr>\n",
       "      <th>1</th>\n",
       "      <td>12.0</td>\n",
       "      <td>0.0</td>\n",
       "      <td>12.0</td>\n",
       "    </tr>\n",
       "    <tr>\n",
       "      <th>2</th>\n",
       "      <td>8.0</td>\n",
       "      <td>18.0</td>\n",
       "      <td>26.0</td>\n",
       "    </tr>\n",
       "    <tr>\n",
       "      <th>3</th>\n",
       "      <td>2.0</td>\n",
       "      <td>2.0</td>\n",
       "      <td>4.0</td>\n",
       "    </tr>\n",
       "    <tr>\n",
       "      <th>4</th>\n",
       "      <td>2.0</td>\n",
       "      <td>2.0</td>\n",
       "      <td>4.0</td>\n",
       "    </tr>\n",
       "    <tr>\n",
       "      <th>5</th>\n",
       "      <td>1.0</td>\n",
       "      <td>1.0</td>\n",
       "      <td>2.0</td>\n",
       "    </tr>\n",
       "    <tr>\n",
       "      <th>6</th>\n",
       "      <td>0.0</td>\n",
       "      <td>1.0</td>\n",
       "      <td>1.0</td>\n",
       "    </tr>\n",
       "    <tr>\n",
       "      <th>9</th>\n",
       "      <td>0.0</td>\n",
       "      <td>1.0</td>\n",
       "      <td>1.0</td>\n",
       "    </tr>\n",
       "    <tr>\n",
       "      <th>All</th>\n",
       "      <td>25.0</td>\n",
       "      <td>25.0</td>\n",
       "      <td>50.0</td>\n",
       "    </tr>\n",
       "  </tbody>\n",
       "</table>\n",
       "</div>"
      ],
      "text/plain": [
       "           Control  Treatment  Total\n",
       "Reduction                           \n",
       "1             12.0        0.0   12.0\n",
       "2              8.0       18.0   26.0\n",
       "3              2.0        2.0    4.0\n",
       "4              2.0        2.0    4.0\n",
       "5              1.0        1.0    2.0\n",
       "6              0.0        1.0    1.0\n",
       "9              0.0        1.0    1.0\n",
       "All           25.0       25.0   50.0"
      ]
     },
     "execution_count": 1,
     "metadata": {},
     "output_type": "execute_result"
    }
   ],
   "source": [
    "counts = data.groupby(\"Treatment\")[\"Reduction\"].value_counts()\n",
    "frequency = pd.DataFrame({\n",
    "    \"Control\": counts.loc[0],\n",
    "    \"Treatment\": counts.loc[1],\n",
    "}).fillna(0)\n",
    "frequency[\"Total\"] = frequency[\"Control\"] + frequency[\"Treatment\"]\n",
    "frequency.loc[\"All\"] = frequency.sum()\n",
    "frequency"
   ]
  },
  {
   "cell_type": "markdown",
   "id": "04289a4e",
   "metadata": {},
   "source": [
    "## Cumulative frequency table"
   ]
  },
  {
   "cell_type": "code",
   "execution_count": 23,
   "id": "e1d80189",
   "metadata": {
    "execution": {
     "iopub.execute_input": "2023-07-18T20:41:52.816492Z",
     "iopub.status.busy": "2023-07-18T20:41:52.815710Z",
     "iopub.status.idle": "2023-07-18T20:41:52.818266Z",
     "shell.execute_reply": "2023-07-18T20:41:52.818720Z"
    }
   },
   "outputs": [
    {
     "data": {
      "text/html": [
       "<div>\n",
       "<style scoped>\n",
       "    .dataframe tbody tr th:only-of-type {\n",
       "        vertical-align: middle;\n",
       "    }\n",
       "\n",
       "    .dataframe tbody tr th {\n",
       "        vertical-align: top;\n",
       "    }\n",
       "\n",
       "    .dataframe thead th {\n",
       "        text-align: right;\n",
       "    }\n",
       "</style>\n",
       "<table border=\"1\" class=\"dataframe\">\n",
       "  <thead>\n",
       "    <tr style=\"text-align: right;\">\n",
       "      <th></th>\n",
       "      <th>Frequency</th>\n",
       "      <th>Cumulative Frequency</th>\n",
       "      <th>Relative Frequency</th>\n",
       "    </tr>\n",
       "    <tr>\n",
       "      <th>Reduction</th>\n",
       "      <th></th>\n",
       "      <th></th>\n",
       "      <th></th>\n",
       "    </tr>\n",
       "  </thead>\n",
       "  <tbody>\n",
       "    <tr>\n",
       "      <th>1</th>\n",
       "      <td>12.0</td>\n",
       "      <td>12.0</td>\n",
       "      <td>0.48</td>\n",
       "    </tr>\n",
       "    <tr>\n",
       "      <th>2</th>\n",
       "      <td>8.0</td>\n",
       "      <td>20.0</td>\n",
       "      <td>0.32</td>\n",
       "    </tr>\n",
       "    <tr>\n",
       "      <th>3</th>\n",
       "      <td>2.0</td>\n",
       "      <td>22.0</td>\n",
       "      <td>0.08</td>\n",
       "    </tr>\n",
       "    <tr>\n",
       "      <th>4</th>\n",
       "      <td>2.0</td>\n",
       "      <td>24.0</td>\n",
       "      <td>0.08</td>\n",
       "    </tr>\n",
       "    <tr>\n",
       "      <th>5</th>\n",
       "      <td>1.0</td>\n",
       "      <td>25.0</td>\n",
       "      <td>0.04</td>\n",
       "    </tr>\n",
       "    <tr>\n",
       "      <th>6</th>\n",
       "      <td>0.0</td>\n",
       "      <td>25.0</td>\n",
       "      <td>0.00</td>\n",
       "    </tr>\n",
       "    <tr>\n",
       "      <th>9</th>\n",
       "      <td>0.0</td>\n",
       "      <td>25.0</td>\n",
       "      <td>0.00</td>\n",
       "    </tr>\n",
       "  </tbody>\n",
       "</table>\n",
       "</div>"
      ],
      "text/plain": [
       "           Frequency  Cumulative Frequency  Relative Frequency\n",
       "Reduction                                                     \n",
       "1               12.0                  12.0                0.48\n",
       "2                8.0                  20.0                0.32\n",
       "3                2.0                  22.0                0.08\n",
       "4                2.0                  24.0                0.08\n",
       "5                1.0                  25.0                0.04\n",
       "6                0.0                  25.0                0.00\n",
       "9                0.0                  25.0                0.00"
      ]
     },
     "execution_count": 1,
     "metadata": {},
     "output_type": "execute_result"
    }
   ],
   "source": [
    "cum_frequency = pd.DataFrame({\n",
    "    \"Frequency\": frequency.loc[1:9, \"Control\"],\n",
    "})\n",
    "cum_frequency[\"Cumulative Frequency\"] = cum_frequency[\"Frequency\"].cumsum()\n",
    "cum_frequency[\"Relative Frequency\"] = cum_frequency[\"Frequency\"] / cum_frequency[\"Frequency\"].sum()\n",
    "cum_frequency"
   ]
  },
  {
   "cell_type": "markdown",
   "id": "32adba35",
   "metadata": {},
   "source": [
    "# Data Visualization"
   ]
  },
  {
   "cell_type": "markdown",
   "id": "d8c2ea09",
   "metadata": {},
   "source": [
    "## Histogram"
   ]
  },
  {
   "cell_type": "code",
   "execution_count": 24,
   "id": "164fc887",
   "metadata": {
    "execution": {
     "iopub.execute_input": "2023-07-18T20:41:52.863434Z",
     "iopub.status.busy": "2023-07-18T20:41:52.849308Z",
     "iopub.status.idle": "2023-07-18T20:41:53.137806Z",
     "shell.execute_reply": "2023-07-18T20:41:53.138260Z"
    }
   },
   "outputs": [
    {
     "data": {
      "image/png": "[encoded data removed]",
      "text/plain": [
       "<Figure size 600x300 with 1 Axes>"
      ]
     },
     "metadata": {},
     "output_type": "display_data"
    }
   ],
   "source": [
    "# determine counts data\n",
    "counts = data[data[\"Treatment\"] == 1][\"Reduction\"].value_counts()\n",
    "# add zero values for error reductions of 7 and 8\n",
    "counts.loc[7] = 0\n",
    "counts.loc[8] = 0\n",
    "counts = counts.sort_index()\n",
    "\n",
    "fig, ax = plt.subplots(figsize=(6, 3))\n",
    "counts.plot.bar(ax=ax)\n",
    "ax.set_xlabel(\"Error reduction\")\n",
    "ax.set_ylabel(\"Number of hospitals\")\n",
    "plt.show()"
   ]
  },
  {
   "cell_type": "code",
   "execution_count": 25,
   "id": "aaa900b4",
   "metadata": {
    "execution": {
     "iopub.execute_input": "2023-07-18T20:41:53.185653Z",
     "iopub.status.busy": "2023-07-18T20:41:53.184030Z",
     "iopub.status.idle": "2023-07-18T20:41:53.462662Z",
     "shell.execute_reply": "2023-07-18T20:41:53.463035Z"
    }
   },
   "outputs": [
    {
     "data": {
      "image/png": "[encoded data removed]",
      "text/plain": [
       "<Figure size 600x300 with 1 Axes>"
      ]
     },
     "metadata": {},
     "output_type": "display_data"
    }
   ],
   "source": [
    "fig, ax = plt.subplots(figsize=(6, 3))\n",
    "data[data[\"Treatment\"] == 1][\"Reduction\"].plot.hist(bins=20, ax=ax)\n",
    "ax.set_xlabel(\"Error reduction\")\n",
    "ax.set_ylabel(\"Number of hospitals\")\n",
    "plt.show()"
   ]
  },
  {
   "cell_type": "markdown",
   "id": "b0d8488c",
   "metadata": {},
   "source": [
    "## Boxplots"
   ]
  },
  {
   "cell_type": "code",
   "execution_count": 26,
   "id": "2204ec1a",
   "metadata": {
    "execution": {
     "iopub.execute_input": "2023-07-18T20:41:53.499505Z",
     "iopub.status.busy": "2023-07-18T20:41:53.498647Z",
     "iopub.status.idle": "2023-07-18T20:41:53.726833Z",
     "shell.execute_reply": "2023-07-18T20:41:53.727239Z"
    }
   },
   "outputs": [
    {
     "data": {
      "image/png": "[encoded data removed]",
      "text/plain": [
       "<Figure size 500x500 with 1 Axes>"
      ]
     },
     "metadata": {},
     "output_type": "display_data"
    }
   ],
   "source": [
    "fig, ax = plt.subplots(figsize=(5, 5))\n",
    "data.groupby(\"Treatment\").boxplot(subplots=False, column=\"Reduction\", ax=ax)\n",
    "ax.set_xlabel(\"Treatment\")\n",
    "ax.set_ylabel(\"Error reduction\")\n",
    "plt.show()"
   ]
  },
  {
   "cell_type": "markdown",
   "id": "9a7d087c",
   "metadata": {},
   "source": [
    " a. Prepare the dataset and count the number of `H` in each run"
   ]
  },
  {
   "cell_type": "code",
   "execution_count": 27,
   "id": "4a874c26",
   "metadata": {
    "execution": {
     "iopub.execute_input": "2023-07-18T20:41:53.731580Z",
     "iopub.status.busy": "2023-07-18T20:41:53.730734Z",
     "iopub.status.idle": "2023-07-18T20:41:53.732816Z",
     "shell.execute_reply": "2023-07-18T20:41:53.733191Z"
    }
   },
   "outputs": [],
   "source": [
    "runs = [\n",
    "    'HHHTTHTTHH', 'TTHHHTTTHH', 'TTHHTHHTTT', 'HTTHTHHTTT', 'HTHTHTHTTT',\n",
    "    'TTHTTTTHHH', 'HHHTHTHHHH', 'HHTHHHTTTH', 'HHTTTTHTTT', 'THHTTTHTTH',\n",
    "    'TTHHHTTHHT', 'TTTHHHHTHT', 'TTHTHTTTTT', 'THTHHHTTTT', 'THTHHHTTTT',\n",
    "    'HHTTHTHHHH', 'HTTHTHTHTH', 'THHTHHHHHT', 'THHHTTHTTT', 'THTHHHTHTH'\n",
    "]\n",
    "counts = [run.count('H') for run in runs]"
   ]
  },
  {
   "cell_type": "markdown",
   "id": "bb359708",
   "metadata": {},
   "source": [
    " b. Prepare the frequency table"
   ]
  },
  {
   "cell_type": "code",
   "execution_count": 28,
   "id": "3bc9c8b8",
   "metadata": {
    "execution": {
     "iopub.execute_input": "2023-07-18T20:41:53.737842Z",
     "iopub.status.busy": "2023-07-18T20:41:53.737247Z",
     "iopub.status.idle": "2023-07-18T20:41:53.739276Z",
     "shell.execute_reply": "2023-07-18T20:41:53.739631Z"
    }
   },
   "outputs": [
    {
     "data": {
      "text/plain": [
       "Number of H\n",
       "2    1\n",
       "3    1\n",
       "4    8\n",
       "5    4\n",
       "6    3\n",
       "7    2\n",
       "8    1\n",
       "Name: Frequency, dtype: int64"
      ]
     },
     "execution_count": 1,
     "metadata": {},
     "output_type": "execute_result"
    }
   ],
   "source": [
    "freq_table = pd.Series(counts).value_counts().sort_index()\n",
    "freq_table.index.name = 'Number of H'\n",
    "freq_table.name = 'Frequency'\n",
    "freq_table"
   ]
  },
  {
   "cell_type": "markdown",
   "id": "f7f268e2",
   "metadata": {},
   "source": [
    " c."
   ]
  },
  {
   "cell_type": "code",
   "execution_count": 29,
   "id": "7c34da54",
   "metadata": {
    "execution": {
     "iopub.execute_input": "2023-07-18T20:41:53.742947Z",
     "iopub.status.busy": "2023-07-18T20:41:53.742410Z",
     "iopub.status.idle": "2023-07-18T20:41:53.744349Z",
     "shell.execute_reply": "2023-07-18T20:41:53.744930Z"
    }
   },
   "outputs": [
    {
     "name": "stdout",
     "output_type": "stream",
     "text": [
      "0.050\n",
      "0.000\n"
     ]
    }
   ],
   "source": [
    "# solution 1\n",
    "print(f'{sum(count > 7 for count in counts) / len(counts):.3f}')\n",
    "# solution 2\n",
    "print(f'{freq_table[7:].sum() / freq_table.sum():.3f}')"
   ]
  },
  {
   "cell_type": "markdown",
   "id": "54bb9c76",
   "metadata": {},
   "source": [
    " d. "
   ]
  }
 ],
 "metadata": {
  "language_info": {
   "codemirror_mode": {
    "name": "ipython",
    "version": 3
   },
   "file_extension": ".py",
   "mimetype": "text/x-python",
   "name": "python",
   "nbconvert_exporter": "python",
   "pygments_lexer": "ipython3",
   "version": "3.8.2"
  }
 },
 "nbformat": 4,
 "nbformat_minor": 5
}
